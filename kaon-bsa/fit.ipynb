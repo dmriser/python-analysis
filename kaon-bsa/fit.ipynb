{
 "cells": [
  {
   "cell_type": "markdown",
   "metadata": {},
   "source": [
    "# Fitting Notebook\n",
    "Here we fit the phi-distributions from the analysis notebook.\n",
    "- Model selection - Cross validation score is used to demonstrate that fitting with the simple model is probably best.\n",
    "- Fits of $\\phi$ - Two methods of fitting the phi distributions are used, one single fit, and the bootstrap replica technique.\n",
    "- MC study of fitting procedure - This has to wait, but I am going to use MC to throw a distribution in phi that follows the error bars of our measurement.\n",
    "- Visualization\n",
    "    - fit phi distributions \n",
    "    - bootstrap histograms\n",
    "    - bootstrap score histograms\n",
    "    - integrated fit results with errors"
   ]
  },
  {
   "cell_type": "code",
   "execution_count": 1,
   "metadata": {
    "collapsed": true
   },
   "outputs": [],
   "source": [
    "import numpy as np \n",
    "import pandas as pd \n",
    "import matplotlib.pyplot as plt\n",
    "\n",
    "%matplotlib inline\n",
    "\n",
    "plt.rc('font', family='serif')\n",
    "plt.rc('font', size=18)"
   ]
  },
  {
   "cell_type": "markdown",
   "metadata": {},
   "source": [
    "### Load Data\n",
    "Here the data is loaded from the previous notebook called `analysis.ipynb`.  "
   ]
  },
  {
   "cell_type": "code",
   "execution_count": 2,
   "metadata": {
    "collapsed": true
   },
   "outputs": [],
   "source": [
    "data = pd.read_csv('results/phi-dist.csv')"
   ]
  },
  {
   "cell_type": "code",
   "execution_count": 3,
   "metadata": {},
   "outputs": [
    {
     "data": {
      "text/plain": [
       "Index([u'axis', u'axis_bin', u'axis_max', u'axis_min', u'counts_neg',\n",
       "       u'counts_pos', u'phi', u'phi_bin', u'stat', u'sys_0', u'value',\n",
       "       u'global_index', u'sys_1', u'sys_10', u'sys_11', u'sys_2', u'sys_3',\n",
       "       u'sys_4', u'sys_5', u'sys_6', u'sys_7', u'sys_8', u'sys_9',\n",
       "       u'sys_total'],\n",
       "      dtype='object')"
      ]
     },
     "execution_count": 3,
     "metadata": {},
     "output_type": "execute_result"
    }
   ],
   "source": [
    "data.columns"
   ]
  },
  {
   "cell_type": "markdown",
   "metadata": {},
   "source": [
    "### Setup Fitting \n",
    "Our model is defined below, it can be one of several different functions.  Fitting is done by minimizing the $\\chi^2$.  Errors are estimated with the covariance matrix, or the bootstrap replica method.  Cross validation is defined, and the different models are evaluated.  "
   ]
  },
  {
   "cell_type": "code",
   "execution_count": 4,
   "metadata": {
    "collapsed": true
   },
   "outputs": [],
   "source": [
    "def chi2(y_true, y_pred, y_err):\n",
    "    return np.sum((y_true-y_pred)**2/y_err**2)"
   ]
  },
  {
   "cell_type": "code",
   "execution_count": 5,
   "metadata": {
    "collapsed": true
   },
   "outputs": [],
   "source": [
    "class Model(object):\n",
    "\n",
    "    def __init__(self):\n",
    "        self.n_pars = 1\n",
    "        self.pars   = np.zeros(shape=(self.n_pars, 1))\n",
    "        self.bounds = np.array([[-1, 1],], dtype=np.float32)\n",
    "        \n",
    "    def get_initial_parameters(self):\n",
    "        self.pars = np.random.uniform(-1.0, 1.0, size=(self.n_pars, 1))\n",
    "\n",
    "    def evaluate(self, x):\n",
    "        return 1.0\n",
    "\n",
    "class SineModel(Model):\n",
    "\n",
    "    def __init__(self):\n",
    "        Model.__init__(self)\n",
    "        self.n_pars = 1\n",
    "        self.pars = np.zeros(shape=(self.n_pars, 1), dtype=np.float32)\n",
    "        \n",
    "    def evaluate(self, x):\n",
    "        return self.pars[0]*np.sin( x*np.pi/180.0 )\n",
    "\n",
    "class FullModel(Model):\n",
    "\n",
    "    def __init__(self):\n",
    "        Model.__init__(self)\n",
    "        self.n_pars = 3\n",
    "        self.pars = np.zeros(shape=(self.n_pars, 1), dtype=np.float32)\n",
    "        self.bounds = np.array([[-1,1],\n",
    "                                [-1,1],\n",
    "                                [-1,1]],dtype=np.float32)\n",
    "    def evaluate(self, x):\n",
    "        return self.pars[0]*np.sin( x*np.pi/180.0 ) / (1 + self.pars[1]*np.cos(x*np.pi/180.0) + self.pars[2]*np.cos(2*x*np.pi/180.0))\n",
    "\n",
    "def update_model(model, pars, x):\n",
    "    model.pars = pars\n",
    "    return model.evaluate(x)"
   ]
  },
  {
   "cell_type": "code",
   "execution_count": 6,
   "metadata": {
    "collapsed": true
   },
   "outputs": [],
   "source": [
    "from scipy.optimize import minimize"
   ]
  },
  {
   "cell_type": "code",
   "execution_count": 7,
   "metadata": {
    "collapsed": true
   },
   "outputs": [],
   "source": [
    "model = FullModel()\n",
    "model.get_initial_parameters()"
   ]
  },
  {
   "cell_type": "code",
   "execution_count": 8,
   "metadata": {
    "collapsed": true
   },
   "outputs": [],
   "source": [
    "test_data = data.query('axis == \"z\" and axis_bin == 2')"
   ]
  },
  {
   "cell_type": "code",
   "execution_count": 9,
   "metadata": {
    "collapsed": true
   },
   "outputs": [],
   "source": [
    "from sklearn.utils import shuffle\n",
    "\n",
    "def setup_dataframe(n_folds, x, y, y_err, shuf=False):\n",
    "    \n",
    "    if len(y) % n_folds != 0:\n",
    "        print('Data (%d) is not divisible into %d folds.' % (len(y), n_folds))\n",
    "        return \n",
    "    \n",
    "    x = x.transpose()\n",
    "    y = y.transpose()\n",
    "    y_err = y_err.transpose()\n",
    "    \n",
    "    d  = {'x':x, 'y':y, 'y_err':y_err}\n",
    "    df = pd.DataFrame(data=d)\n",
    "    \n",
    "    if shuf is True:\n",
    "        df = shuffle(df)\n",
    "\n",
    "    chunk_size = int(len(y)/n_folds) \n",
    "    \n",
    "    a = np.arange(0,n_folds)\n",
    "    df['chunk'] = np.repeat(a,chunk_size)\n",
    "    return df\n",
    "\n",
    "def cross_validate(n_folds, model, df):\n",
    "\n",
    "    validation_scores = []\n",
    "    parameters = []\n",
    "    for i in range(n_folds):\n",
    "        res = minimize(fun=lambda p: np.average((df.query('chunk != %d' % i).y - update_model(model, p, df.query('chunk != %d' % i).x))**2/df.query('chunk != %d' % i).y_err**2), \n",
    "                    x0=model.pars, bounds=model.bounds)\n",
    "                                \n",
    "        y_pred = update_model(model, res.x, df.query('chunk == %d' % i).x)\n",
    "        validation_scores.append(np.average((df.query('chunk == %d' % i).y-y_pred)**2/df.query('chunk == %d' % i).y_err**2))\n",
    "        parameters.append(res.x)\n",
    "        \n",
    "    return np.array(validation_scores), parameters"
   ]
  },
  {
   "cell_type": "code",
   "execution_count": 10,
   "metadata": {
    "collapsed": true
   },
   "outputs": [],
   "source": [
    "models = {}\n",
    "\n",
    "models['basic'] = SineModel()\n",
    "models['full'] = FullModel()\n",
    "models['half'] = FullModel()\n",
    "models['half'].bounds = np.array([[-1,1],[-1,1],[-0.0001,0.0001]], dtype=np.float32)\n",
    "\n",
    "models['full_bounded'] = FullModel()\n",
    "models['full_bounded'].bounds = np.array([[-1,1],[-0.1,0.1],[-0.1,0.1]], dtype=np.float32)\n",
    "                                          \n",
    "for m in models.values():\n",
    "    m.get_initial_parameters()"
   ]
  },
  {
   "cell_type": "markdown",
   "metadata": {},
   "source": [
    "### Cross Validation\n",
    "Compare different models."
   ]
  },
  {
   "cell_type": "code",
   "execution_count": 11,
   "metadata": {
    "collapsed": true
   },
   "outputs": [],
   "source": [
    "CHUNKS = 12\n",
    "df_chunked = setup_dataframe(CHUNKS, test_data.phi, test_data.value, np.sqrt(test_data.sys_total**2 + test_data.stat**2), shuf=False)"
   ]
  },
  {
   "cell_type": "code",
   "execution_count": 12,
   "metadata": {},
   "outputs": [
    {
     "name": "stdout",
     "output_type": "stream",
     "text": [
      "Fitting full_bounded\n",
      "Fitting half\n",
      "Fitting full\n",
      "Fitting basic\n"
     ]
    }
   ],
   "source": [
    "cv_scores = {}\n",
    "cv_pars = {}\n",
    "\n",
    "for name, m in models.iteritems():\n",
    "    print('Fitting %s' % name)\n",
    "    cv_scores[name], cv_pars[name] = cross_validate(CHUNKS, m, df_chunked)"
   ]
  },
  {
   "cell_type": "code",
   "execution_count": 13,
   "metadata": {},
   "outputs": [
    {
     "name": "stdout",
     "output_type": "stream",
     "text": [
      "Model basic, Score 1.44\n",
      "Model full_bounded, Score 1.58\n",
      "Model full, Score 5.11\n",
      "Model half, Score 1.75\n"
     ]
    }
   ],
   "source": [
    "for k,v in cv_scores.iteritems():\n",
    "    print('Model %s, Score %.2f' % (k, np.average(v)))"
   ]
  },
  {
   "cell_type": "code",
   "execution_count": 60,
   "metadata": {},
   "outputs": [
    {
     "data": {
      "image/png": "[encoded data removed]",
      "text/plain": [
       "<matplotlib.figure.Figure at 0x114e7a610>"
      ]
     },
     "metadata": {},
     "output_type": "display_data"
    }
   ],
   "source": [
    "h = [np.average(xx) for xx in cv_scores.values()]\n",
    "e = [np.std(xx) for xx in cv_scores.values()]\n",
    "plt.figure(figsize=(8,6))\n",
    "plt.bar(np.arange(len(cv_scores.keys())), height=h)\n",
    "plt.xticks(np.arange(len(cv_scores.keys())), cv_scores.keys())\n",
    "plt.ylabel('Average $\\chi^2$')\n",
    "plt.savefig('image/cv-score-models.pdf', bbox_inches='tight')"
   ]
  },
  {
   "cell_type": "code",
   "execution_count": 58,
   "metadata": {},
   "outputs": [
    {
     "data": {
      "text/plain": [
       "([<matplotlib.axis.XTick at 0x1145418d0>,\n",
       "  <matplotlib.axis.XTick at 0x114541e90>,\n",
       "  <matplotlib.axis.XTick at 0x1145ee6d0>,\n",
       "  <matplotlib.axis.XTick at 0x1145eebd0>],\n",
       " <a list of 4 Text xticklabel objects>)"
      ]
     },
     "execution_count": 58,
     "metadata": {},
     "output_type": "execute_result"
    },
    {
     "data": {
      "image/png": "[encoded data removed]",
      "text/plain": [
       "<matplotlib.figure.Figure at 0x114539690>"
      ]
     },
     "metadata": {},
     "output_type": "display_data"
    }
   ],
   "source": [
    "plt.figure(figsize=(8,6))\n",
    "plt.errorbar(x=np.arange(len(cv_scores.keys())), y=h, yerr=e,\n",
    "            linestyle='', marker='o')\n",
    "plt.xticks(np.arange(len(cv_scores.keys())), cv_scores.keys())"
   ]
  },
  {
   "cell_type": "code",
   "execution_count": 55,
   "metadata": {},
   "outputs": [
    {
     "data": {
      "image/png": "[encoded data removed]",
      "text/plain": [
       "<matplotlib.figure.Figure at 0x114d4e950>"
      ]
     },
     "metadata": {},
     "output_type": "display_data"
    }
   ],
   "source": [
    "n_col = 3\n",
    "n_row = np.ceil((len(cv_pars.keys())-1)/n_col)+1\n",
    "plt.figure(figsize=(n_col*4, n_row*3))\n",
    "\n",
    "train = df_chunked.query('chunk != 1')\n",
    "test  = df_chunked.query('chunk == 1')\n",
    "\n",
    "index = 1\n",
    "x = np.linspace(-180,180,100)\n",
    "for name, model in models.iteritems():\n",
    "    plt.subplot(n_row, n_col, index)\n",
    "    plt.errorbar(train.x, train.y, train.y_err, linestyle='', marker='o', color='black')\n",
    "    plt.errorbar(test.x, test.y, test.y_err, linestyle='', marker='o', color='red')\n",
    "    plt.ylim([-0.06, 0.06])\n",
    "    \n",
    "    y = [update_model(model, cv_pars[name][1], xi) for xi in x]\n",
    "    plt.plot(x, y, color='red')\n",
    "    index += 1\n",
    "    \n",
    "    plt.title(name)\n",
    "    \n",
    "plt.tight_layout()\n",
    "plt.savefig('image/cv-demo-models.pdf', bbox_inches='tight')"
   ]
  },
  {
   "cell_type": "markdown",
   "metadata": {},
   "source": [
    "### Toy Dataset Testing \n",
    "This toy dataset is used to study what we can actually extract.  The section should be moved to another part of the notebook."
   ]
  },
  {
   "cell_type": "code",
   "execution_count": 16,
   "metadata": {
    "collapsed": true
   },
   "outputs": [],
   "source": [
    "def generate_toy_data(df, model):\n",
    "    d = df.copy(deep=True)\n",
    "    d.value = model.evaluate(d.phi) + np.random.normal(loc=0.0, scale=np.sqrt(d.stat**2 + d.sys_total**2))\n",
    "    return d"
   ]
  },
  {
   "cell_type": "code",
   "execution_count": 17,
   "metadata": {
    "collapsed": true
   },
   "outputs": [],
   "source": [
    "#models['full'].pars = [0.05, 0.02, -0.02]\n",
    "models['basic'].pars = [0.05]\n",
    "mc = generate_toy_data(test_data, models['basic'])"
   ]
  },
  {
   "cell_type": "code",
   "execution_count": 18,
   "metadata": {},
   "outputs": [
    {
     "data": {
      "text/plain": [
       "Text(0.5,1,u'Toy Monte Carlo Data')"
      ]
     },
     "execution_count": 18,
     "metadata": {},
     "output_type": "execute_result"
    },
    {
     "data": {
      "image/png": "[encoded data removed]",
      "text/plain": [
       "<matplotlib.figure.Figure at 0x11367c0d0>"
      ]
     },
     "metadata": {},
     "output_type": "display_data"
    }
   ],
   "source": [
    "plt.errorbar(x=mc.phi, y=mc.value, yerr=mc.stat, color='black', \n",
    "            linestyle='', marker='o')\n",
    "plt.xlabel('$\\phi_h$')\n",
    "plt.title('Toy Monte Carlo Data')"
   ]
  },
  {
   "cell_type": "code",
   "execution_count": 19,
   "metadata": {
    "collapsed": true
   },
   "outputs": [],
   "source": [
    "rmc = minimize(fun=lambda x: chi2(mc.value, update_model(models['full'], x, mc.phi), np.sqrt(mc.stat**2 + mc.sys_total**2)), \n",
    "             x0=models['full'].pars,\n",
    "            bounds=models['full'].bounds)"
   ]
  },
  {
   "cell_type": "code",
   "execution_count": 20,
   "metadata": {},
   "outputs": [
    {
     "data": {
      "text/plain": [
       "      fun: 107.29593942451218\n",
       " hess_inv: <3x3 LbfgsInvHessProduct with dtype=float64>\n",
       "      jac: array([ -6.11066753e-04,  -8.52651283e-06,   1.99287896e+01])\n",
       "  message: 'CONVERGENCE: REL_REDUCTION_OF_F_<=_FACTR*EPSMCH'\n",
       "     nfev: 60\n",
       "      nit: 12\n",
       "   status: 0\n",
       "  success: True\n",
       "        x: array([ 0.03014525,  0.75195688, -1.        ])"
      ]
     },
     "execution_count": 20,
     "metadata": {},
     "output_type": "execute_result"
    }
   ],
   "source": [
    "rmc"
   ]
  },
  {
   "cell_type": "code",
   "execution_count": 21,
   "metadata": {
    "collapsed": true
   },
   "outputs": [],
   "source": [
    "def single_fit(model, data):\n",
    "    model.get_initial_parameters()\n",
    "    res = minimize(fun=lambda x: chi2(data.value, update_model(model, x, data.phi), np.sqrt(data.stat**2 + data.sys_total**2)), \n",
    "             x0=model.pars, bounds=model.bounds)\n",
    "\n",
    "    identity = np.identity(len(model.pars))\n",
    "    err = np.sqrt(np.array(np.matrix(res.hess_inv * identity).diagonal()))\n",
    "    #err.reshape(model.n_pars,1)\n",
    "    \n",
    "    return res.x, err"
   ]
  },
  {
   "cell_type": "code",
   "execution_count": 22,
   "metadata": {
    "collapsed": true
   },
   "outputs": [],
   "source": [
    "def create_replica(y, y_err):\n",
    "    y_rep = [np.random.normal(yp,np.fabs(yp_err)) for yp,yp_err in zip(y,y_err)]\n",
    "    return np.array(y_rep)"
   ]
  },
  {
   "cell_type": "code",
   "execution_count": 23,
   "metadata": {
    "collapsed": true
   },
   "outputs": [],
   "source": [
    "import sys\n",
    "\n",
    "def bootstrap_fit(model, data, n_replicas=100):\n",
    "\n",
    "    results = []\n",
    "    scores = []\n",
    "    \n",
    "    for irep in range(n_replicas):\n",
    "        d = data.copy(deep=True)\n",
    "        rep = create_replica(d.value, np.sqrt(d.stat**2 + d.sys_total**2)) \n",
    "        d['value'] = rep   \n",
    "        pars,errs = single_fit(model, d)\n",
    "        results.append(pars)\n",
    "        scores.append(chi2(d.value, update_model(model, pars, d.phi), np.sqrt(d.stat**2 + d.sys_total**2)))\n",
    "        \n",
    "        if irep%10 is 0:\n",
    "            sys.stdout.write('\\rProcessing replica (%d/%d)' % (irep, n_replicas))\n",
    "            sys.stdout.flush()\n",
    "            \n",
    "    return np.array(results), np.array(scores)"
   ]
  },
  {
   "cell_type": "code",
   "execution_count": 24,
   "metadata": {},
   "outputs": [
    {
     "name": "stdout",
     "output_type": "stream",
     "text": [
      "Processing replica (390/400)"
     ]
    }
   ],
   "source": [
    "boot,boot_score = bootstrap_fit(models['half'], test_data, 400)"
   ]
  },
  {
   "cell_type": "code",
   "execution_count": 25,
   "metadata": {},
   "outputs": [
    {
     "data": {
      "image/png": "[encoded data removed]",
      "text/plain": [
       "<matplotlib.figure.Figure at 0x1137457d0>"
      ]
     },
     "metadata": {},
     "output_type": "display_data"
    }
   ],
   "source": [
    "hb = np.linspace(-0.1, 0.1, 80)\n",
    "plt.hist(boot[:,0], bins=hb, normed=True, histtype='stepfilled',\n",
    "        color='yellow', edgecolor='red', alpha=0.7, hatch='///');"
   ]
  },
  {
   "cell_type": "code",
   "execution_count": 26,
   "metadata": {},
   "outputs": [
    {
     "data": {
      "text/plain": [
       "(0.027454660023794507, 0.0036207789014904264)"
      ]
     },
     "execution_count": 26,
     "metadata": {},
     "output_type": "execute_result"
    }
   ],
   "source": [
    "np.average(boot[:,0]), np.std(boot[:,0])"
   ]
  },
  {
   "cell_type": "code",
   "execution_count": 27,
   "metadata": {},
   "outputs": [
    {
     "data": {
      "text/plain": [
       "(-0.10284881543183953, 0.24568848147443137)"
      ]
     },
     "execution_count": 27,
     "metadata": {},
     "output_type": "execute_result"
    }
   ],
   "source": [
    "np.average(boot[:,1]), np.std(boot[:,1])"
   ]
  },
  {
   "cell_type": "code",
   "execution_count": 28,
   "metadata": {
    "collapsed": true
   },
   "outputs": [],
   "source": [
    "def fit_dataset(data, model, fit_type='single'):\n",
    "    '''\n",
    "    inputs\n",
    "    ------\n",
    "    \n",
    "    data: a dataframe which contains the output of the analysis notebook, phi-distributions \n",
    "    \n",
    "    model: a model object\n",
    "    \n",
    "    '''\n",
    "    \n",
    "    result = {}\n",
    "    result['axis'] = []\n",
    "    result['axis_bin'] = []\n",
    "    \n",
    "    for p in range(model.n_pars):\n",
    "        result['par_%d' % p] = []\n",
    "        result['err_%d' % p] = []\n",
    "        \n",
    "    for axis in np.unique(data.axis):\n",
    "        dsub = data.query('axis == \"%s\"' % axis)\n",
    "        \n",
    "        for bin in np.unique(dsub.axis_bin):\n",
    "            d = dsub.query('axis_bin == %d' % bin)\n",
    "            \n",
    "            print(' Fitting %s,%d' % (axis, bin))\n",
    "            \n",
    "            # get fit to data\n",
    "            #pars,errs = single_fit(model, dsub)\n",
    "            boot, boots = bootstrap_fit(model, d, n_replicas=80)\n",
    "            \n",
    "            pars = []\n",
    "            errs = []\n",
    "            for ipar in range(model.n_pars):\n",
    "                pars.append(np.average(boot[:,ipar]))\n",
    "                errs.append(np.std(boot[:,ipar]))\n",
    "            \n",
    "            result['axis'].append(axis)\n",
    "            result['axis_bin'].append(bin)\n",
    "            \n",
    "            for p in range(model.n_pars):\n",
    "                result['par_%d' % p].append(pars[p])\n",
    "                result['err_%d' % p].append(errs[p])\n",
    "            \n",
    "    return pd.DataFrame(result)"
   ]
  },
  {
   "cell_type": "code",
   "execution_count": 29,
   "metadata": {},
   "outputs": [
    {
     "name": "stdout",
     "output_type": "stream",
     "text": [
      " Fitting pt,0\n",
      "Processing replica (70/80) Fitting pt,1\n",
      "Processing replica (70/80) Fitting pt,2\n",
      "Processing replica (70/80) Fitting pt,3\n",
      "Processing replica (70/80) Fitting pt,4\n",
      "Processing replica (70/80) Fitting pt,5\n",
      "Processing replica (70/80) Fitting q2,0\n",
      "Processing replica (70/80) Fitting q2,1\n",
      "Processing replica (70/80) Fitting q2,2\n",
      "Processing replica (70/80) Fitting q2,3\n",
      "Processing replica (70/80) Fitting q2,4\n",
      "Processing replica (70/80) Fitting q2,5\n",
      "Processing replica (70/80) Fitting x,0\n",
      "Processing replica (70/80) Fitting x,1\n",
      "Processing replica (70/80) Fitting x,2\n",
      "Processing replica (70/80) Fitting x,3\n",
      "Processing replica (70/80) Fitting x,4\n",
      "Processing replica (70/80) Fitting x,5\n",
      "Processing replica (70/80) Fitting z,0\n",
      "Processing replica (70/80) Fitting z,1\n",
      "Processing replica (70/80) Fitting z,2\n",
      "Processing replica (70/80) Fitting z,3\n",
      "Processing replica (70/80) Fitting z,4\n",
      "Processing replica (70/80) Fitting z,5\n",
      "Processing replica (70/80)"
     ]
    }
   ],
   "source": [
    "fitres = fit_dataset(data, models['basic'])"
   ]
  },
  {
   "cell_type": "code",
   "execution_count": 46,
   "metadata": {},
   "outputs": [
    {
     "data": {
      "text/plain": [
       "<matplotlib.lines.Line2D at 0x113e07850>"
      ]
     },
     "execution_count": 46,
     "metadata": {},
     "output_type": "execute_result"
    },
    {
     "data": {
      "image/png": "[encoded data removed]",
      "text/plain": [
       "<matplotlib.figure.Figure at 0x114a38d10>"
      ]
     },
     "metadata": {},
     "output_type": "display_data"
    }
   ],
   "source": [
    "plt.errorbar(x=fitres.query('axis == \"z\"').axis_bin, \n",
    "             y=fitres.query('axis == \"z\"').par_0, \n",
    "             yerr=fitres.query('axis == \"z\"').err_0,\n",
    "            linestyle='', marker='o', color='black')\n",
    "\n",
    "plt.ylim([-0.02, 0.1])\n",
    "plt.axhline(0.0, linestyle='--', color='black', alpha=0.8, linewidth=1)\n",
    "#plt.grid(color='black', alpha=0.2)"
   ]
  },
  {
   "cell_type": "code",
   "execution_count": 31,
   "metadata": {
    "collapsed": true
   },
   "outputs": [],
   "source": [
    "import scipy.stats as stats"
   ]
  },
  {
   "cell_type": "code",
   "execution_count": 44,
   "metadata": {},
   "outputs": [
    {
     "data": {
      "text/plain": [
       "Text(0.5,1,u'Scores from Bootstraps')"
      ]
     },
     "execution_count": 44,
     "metadata": {},
     "output_type": "execute_result"
    },
    {
     "data": {
      "image/png": "[encoded data removed]",
      "text/plain": [
       "<matplotlib.figure.Figure at 0x114955d90>"
      ]
     },
     "metadata": {},
     "output_type": "display_data"
    }
   ],
   "source": [
    "plt.hist(boot_score, bins=50, normed=True, histtype='stepfilled',\n",
    "        color='red', edgecolor='black', hatch='//', alpha=0.7);\n",
    "\n",
    "x = np.linspace(0, 60, 100)\n",
    "plt.plot(x, stats.chi2.pdf(x,24), linestyle='-.', color='black', linewidth=2.0)\n",
    "\n",
    "plt.xlabel('$\\chi^2$')\n",
    "plt.title('Scores from Bootstraps')"
   ]
  },
  {
   "cell_type": "code",
   "execution_count": 33,
   "metadata": {
    "collapsed": true
   },
   "outputs": [],
   "source": [
    "def plot_results(results, axis):\n",
    "    \n",
    "    d      = results.query('axis == \"%s\"' % axis)\n",
    "    n_bins = len(np.unique(d.axis_bin))\n",
    "    n_col  = 3\n",
    "    n_row  = np.ceil(n_bins/n_col)+1\n",
    "\n",
    "    # these are uniform width\n",
    "    phi_width = np.repeat(float(360.0/len(np.unique(d.phi_bin))), len(np.unique(d.phi_bin)))\n",
    "    phi_edges = np.linspace(-180,180,len(np.unique(d.phi_bin)))\n",
    "    plt.figure(figsize=(4*n_col, 3*n_row))\n",
    "    \n",
    "    for index in range(n_bins):\n",
    "        dsub = d.query('axis_bin == %d' % index)\n",
    "        plt.subplot(n_row, n_col, index+1)\n",
    "        plt.errorbar(x=dsub.phi, y=dsub.value, yerr=dsub.stat, \n",
    "                    linestyle='', marker='o', color='black')\n",
    "        \n",
    "        if 'sys_total' in dsub.columns:\n",
    "            plt.bar(phi_edges, height=dsub.sys_total, width=phi_width, bottom=0.0, \n",
    "                    edgecolor='red', color='yellow', alpha=0.65, hatch='///', \n",
    "                    label='systematic error', align='edge')\n",
    "            \n",
    "        plt.axhline(0.0, linestyle='--',\n",
    "                    linewidth=1, color='black', alpha=0.7)\n",
    "        \n",
    "        plt.xlim([-180,180])\n",
    "        plt.ylim([-0.15, 0.15])\n",
    "        \n",
    "    plt.tight_layout()"
   ]
  },
  {
   "cell_type": "code",
   "execution_count": 34,
   "metadata": {},
   "outputs": [
    {
     "data": {
      "image/png": "[encoded data removed]",
      "text/plain": [
       "<matplotlib.figure.Figure at 0x11430c890>"
      ]
     },
     "metadata": {},
     "output_type": "display_data"
    }
   ],
   "source": [
    "plot_results(data, axis='z')"
   ]
  },
  {
   "cell_type": "code",
   "execution_count": 35,
   "metadata": {},
   "outputs": [
    {
     "data": {
      "text/html": [
       "<div>\n",
       "<style>\n",
       "    .dataframe thead tr:only-child th {\n",
       "        text-align: right;\n",
       "    }\n",
       "\n",
       "    .dataframe thead th {\n",
       "        text-align: left;\n",
       "    }\n",
       "\n",
       "    .dataframe tbody tr th {\n",
       "        vertical-align: top;\n",
       "    }\n",
       "</style>\n",
       "<table border=\"1\" class=\"dataframe\">\n",
       "  <thead>\n",
       "    <tr style=\"text-align: right;\">\n",
       "      <th></th>\n",
       "      <th>axis</th>\n",
       "      <th>axis_bin</th>\n",
       "      <th>err_0</th>\n",
       "      <th>par_0</th>\n",
       "    </tr>\n",
       "  </thead>\n",
       "  <tbody>\n",
       "    <tr>\n",
       "      <th>0</th>\n",
       "      <td>pt</td>\n",
       "      <td>0</td>\n",
       "      <td>0.004532</td>\n",
       "      <td>0.024494</td>\n",
       "    </tr>\n",
       "    <tr>\n",
       "      <th>1</th>\n",
       "      <td>pt</td>\n",
       "      <td>1</td>\n",
       "      <td>0.004488</td>\n",
       "      <td>0.036496</td>\n",
       "    </tr>\n",
       "    <tr>\n",
       "      <th>2</th>\n",
       "      <td>pt</td>\n",
       "      <td>2</td>\n",
       "      <td>0.004261</td>\n",
       "      <td>0.029824</td>\n",
       "    </tr>\n",
       "    <tr>\n",
       "      <th>3</th>\n",
       "      <td>pt</td>\n",
       "      <td>3</td>\n",
       "      <td>0.004148</td>\n",
       "      <td>0.036685</td>\n",
       "    </tr>\n",
       "    <tr>\n",
       "      <th>4</th>\n",
       "      <td>pt</td>\n",
       "      <td>4</td>\n",
       "      <td>0.004057</td>\n",
       "      <td>0.027468</td>\n",
       "    </tr>\n",
       "    <tr>\n",
       "      <th>5</th>\n",
       "      <td>pt</td>\n",
       "      <td>5</td>\n",
       "      <td>0.003688</td>\n",
       "      <td>0.022904</td>\n",
       "    </tr>\n",
       "    <tr>\n",
       "      <th>6</th>\n",
       "      <td>q2</td>\n",
       "      <td>0</td>\n",
       "      <td>0.004827</td>\n",
       "      <td>0.017198</td>\n",
       "    </tr>\n",
       "    <tr>\n",
       "      <th>7</th>\n",
       "      <td>q2</td>\n",
       "      <td>1</td>\n",
       "      <td>0.004030</td>\n",
       "      <td>0.034722</td>\n",
       "    </tr>\n",
       "    <tr>\n",
       "      <th>8</th>\n",
       "      <td>q2</td>\n",
       "      <td>2</td>\n",
       "      <td>0.003881</td>\n",
       "      <td>0.037488</td>\n",
       "    </tr>\n",
       "    <tr>\n",
       "      <th>9</th>\n",
       "      <td>q2</td>\n",
       "      <td>3</td>\n",
       "      <td>0.003775</td>\n",
       "      <td>0.032913</td>\n",
       "    </tr>\n",
       "    <tr>\n",
       "      <th>10</th>\n",
       "      <td>q2</td>\n",
       "      <td>4</td>\n",
       "      <td>0.003983</td>\n",
       "      <td>0.030862</td>\n",
       "    </tr>\n",
       "    <tr>\n",
       "      <th>11</th>\n",
       "      <td>q2</td>\n",
       "      <td>5</td>\n",
       "      <td>0.003691</td>\n",
       "      <td>0.025381</td>\n",
       "    </tr>\n",
       "    <tr>\n",
       "      <th>12</th>\n",
       "      <td>x</td>\n",
       "      <td>0</td>\n",
       "      <td>0.004478</td>\n",
       "      <td>0.015554</td>\n",
       "    </tr>\n",
       "    <tr>\n",
       "      <th>13</th>\n",
       "      <td>x</td>\n",
       "      <td>1</td>\n",
       "      <td>0.004157</td>\n",
       "      <td>0.026224</td>\n",
       "    </tr>\n",
       "    <tr>\n",
       "      <th>14</th>\n",
       "      <td>x</td>\n",
       "      <td>2</td>\n",
       "      <td>0.003842</td>\n",
       "      <td>0.034808</td>\n",
       "    </tr>\n",
       "    <tr>\n",
       "      <th>15</th>\n",
       "      <td>x</td>\n",
       "      <td>3</td>\n",
       "      <td>0.004550</td>\n",
       "      <td>0.036910</td>\n",
       "    </tr>\n",
       "    <tr>\n",
       "      <th>16</th>\n",
       "      <td>x</td>\n",
       "      <td>4</td>\n",
       "      <td>0.003843</td>\n",
       "      <td>0.033820</td>\n",
       "    </tr>\n",
       "    <tr>\n",
       "      <th>17</th>\n",
       "      <td>x</td>\n",
       "      <td>5</td>\n",
       "      <td>0.003878</td>\n",
       "      <td>0.029864</td>\n",
       "    </tr>\n",
       "    <tr>\n",
       "      <th>18</th>\n",
       "      <td>z</td>\n",
       "      <td>0</td>\n",
       "      <td>0.003936</td>\n",
       "      <td>0.017275</td>\n",
       "    </tr>\n",
       "    <tr>\n",
       "      <th>19</th>\n",
       "      <td>z</td>\n",
       "      <td>1</td>\n",
       "      <td>0.003373</td>\n",
       "      <td>0.019228</td>\n",
       "    </tr>\n",
       "    <tr>\n",
       "      <th>20</th>\n",
       "      <td>z</td>\n",
       "      <td>2</td>\n",
       "      <td>0.003714</td>\n",
       "      <td>0.026704</td>\n",
       "    </tr>\n",
       "    <tr>\n",
       "      <th>21</th>\n",
       "      <td>z</td>\n",
       "      <td>3</td>\n",
       "      <td>0.004268</td>\n",
       "      <td>0.043776</td>\n",
       "    </tr>\n",
       "    <tr>\n",
       "      <th>22</th>\n",
       "      <td>z</td>\n",
       "      <td>4</td>\n",
       "      <td>0.003446</td>\n",
       "      <td>0.036621</td>\n",
       "    </tr>\n",
       "    <tr>\n",
       "      <th>23</th>\n",
       "      <td>z</td>\n",
       "      <td>5</td>\n",
       "      <td>0.005386</td>\n",
       "      <td>0.038769</td>\n",
       "    </tr>\n",
       "  </tbody>\n",
       "</table>\n",
       "</div>"
      ],
      "text/plain": [
       "   axis  axis_bin     err_0     par_0\n",
       "0    pt         0  0.004532  0.024494\n",
       "1    pt         1  0.004488  0.036496\n",
       "2    pt         2  0.004261  0.029824\n",
       "3    pt         3  0.004148  0.036685\n",
       "4    pt         4  0.004057  0.027468\n",
       "5    pt         5  0.003688  0.022904\n",
       "6    q2         0  0.004827  0.017198\n",
       "7    q2         1  0.004030  0.034722\n",
       "8    q2         2  0.003881  0.037488\n",
       "9    q2         3  0.003775  0.032913\n",
       "10   q2         4  0.003983  0.030862\n",
       "11   q2         5  0.003691  0.025381\n",
       "12    x         0  0.004478  0.015554\n",
       "13    x         1  0.004157  0.026224\n",
       "14    x         2  0.003842  0.034808\n",
       "15    x         3  0.004550  0.036910\n",
       "16    x         4  0.003843  0.033820\n",
       "17    x         5  0.003878  0.029864\n",
       "18    z         0  0.003936  0.017275\n",
       "19    z         1  0.003373  0.019228\n",
       "20    z         2  0.003714  0.026704\n",
       "21    z         3  0.004268  0.043776\n",
       "22    z         4  0.003446  0.036621\n",
       "23    z         5  0.005386  0.038769"
      ]
     },
     "execution_count": 35,
     "metadata": {},
     "output_type": "execute_result"
    }
   ],
   "source": [
    "fitres"
   ]
  },
  {
   "cell_type": "code",
   "execution_count": 36,
   "metadata": {
    "collapsed": true
   },
   "outputs": [],
   "source": [
    "results = pd.merge(data, fitres, on=['axis', 'axis_bin'])"
   ]
  },
  {
   "cell_type": "code",
   "execution_count": 37,
   "metadata": {
    "collapsed": true
   },
   "outputs": [],
   "source": [
    "results.to_csv('results/phi-dist-fit.csv', index=False)"
   ]
  },
  {
   "cell_type": "markdown",
   "metadata": {},
   "source": [
    "### Comparing Statistics of Replicas\n",
    "There is some discussion that the chi-2 distribution should peak at $2 \\nu$"
   ]
  },
  {
   "cell_type": "code",
   "execution_count": 38,
   "metadata": {
    "collapsed": true
   },
   "outputs": [],
   "source": [
    "replicas = []\n",
    "\n",
    "for i in range(1000):\n",
    "    replicas.append(create_replica(y=test_data.value, y_err=test_data.stat))"
   ]
  },
  {
   "cell_type": "code",
   "execution_count": 39,
   "metadata": {
    "collapsed": true
   },
   "outputs": [],
   "source": [
    "replicas = np.array(replicas)"
   ]
  },
  {
   "cell_type": "code",
   "execution_count": 40,
   "metadata": {},
   "outputs": [
    {
     "name": "stdout",
     "output_type": "stream",
     "text": [
      "(0, 0.0037760647609432025, 0.0038341563195000003, 0.0054233988697644517, 0.0053060646168900001)\n",
      "(1, -0.015534161906244712, -0.0155035275966, 0.0078412044774131707, 0.0076766344718599997)\n",
      "(2, -0.028050907153369074, -0.027596341446000001, 0.0068184134439449439, 0.00683581177145)\n",
      "(3, -0.025960220347486618, -0.026467181742199999, 0.0080005816414187806, 0.0077362162992399997)\n",
      "(4, -0.038793499221823922, -0.038637731224300004, 0.010817501207453428, 0.010816178284600001)\n",
      "(5, -0.036569306409755128, -0.036040369421200001, 0.016925983605331995, 0.017404368147299999)\n",
      "(6, -0.0036509484144142024, -0.0045202365145100001, 0.017262390249247406, 0.017543680965900001)\n",
      "(7, -0.0013306739210239829, -0.0015549889067200001, 0.010403772146500278, 0.010792052373299998)\n",
      "(8, 0.01949473822443867, 0.019490707665699998, 0.0078258216194650575, 0.0077977012842900002)\n",
      "(9, 0.042733913849806203, 0.043023664504300001, 0.0068044826741432045, 0.0068474719300900006)\n",
      "(10, 0.011379882077865309, 0.0119934733957, 0.0078604047809580357, 0.00773813948035)\n",
      "(11, 0.011503445609701964, 0.0114636570215, 0.0056509580560237692, 0.0053584398701799997)\n"
     ]
    }
   ],
   "source": [
    "for i in range(12):\n",
    "    print(i, np.average(replicas[:,i]), test_data.value.values[i], \n",
    "         np.std(replicas[:,i]), test_data.stat.values[i])"
   ]
  },
  {
   "cell_type": "code",
   "execution_count": 41,
   "metadata": {},
   "outputs": [
    {
     "data": {
      "image/png": "[encoded data removed]",
      "text/plain": [
       "<matplotlib.figure.Figure at 0x114955d50>"
      ]
     },
     "metadata": {},
     "output_type": "display_data"
    }
   ],
   "source": [
    "n_col = 3\n",
    "n_row = 4\n",
    "plt.figure(figsize=(12, 5))\n",
    "\n",
    "for i in range(12):\n",
    "    plt.subplot(n_row, n_col, i+1)\n",
    "    plt.hist(replicas[:,i], bins=50, normed=True, histtype='stepfilled',\n",
    "        color='red', edgecolor='black', hatch='//', alpha=0.7);\n",
    "    plt.axvspan(test_data.value.values[i]-test_data.stat.values[i], \n",
    "           test_data.value.values[i]+test_data.stat.values[i],\n",
    "           alpha=0.2, color='black')\n",
    "    plt.axvline(np.average(replicas[:,i])-np.std(replicas[:,i]), color='black', linestyle='-.')\n",
    "    plt.axvline(np.average(replicas[:,i])+np.std(replicas[:,i]), color='black', linestyle='-.')\n",
    "\n",
    "plt.tight_layout()"
   ]
  },
  {
   "cell_type": "markdown",
   "metadata": {},
   "source": [
    "The statistics look exactly the same to me.  I actually derived it on paper as well."
   ]
  },
  {
   "cell_type": "code",
   "execution_count": 42,
   "metadata": {},
   "outputs": [
    {
     "data": {
      "text/plain": [
       "5"
      ]
     },
     "execution_count": 42,
     "metadata": {},
     "output_type": "execute_result"
    }
   ],
   "source": [
    "3+2"
   ]
  },
  {
   "cell_type": "code",
   "execution_count": null,
   "metadata": {
    "collapsed": true
   },
   "outputs": [],
   "source": []
  }
 ],
 "metadata": {
  "kernelspec": {
   "display_name": "Python 2",
   "language": "python",
   "name": "python2"
  },
  "language_info": {
   "codemirror_mode": {
    "name": "ipython",
    "version": 2
   },
   "file_extension": ".py",
   "mimetype": "text/x-python",
   "name": "python",
   "nbconvert_exporter": "python",
   "pygments_lexer": "ipython2",
   "version": "2.7.14"
  }
 },
 "nbformat": 4,
 "nbformat_minor": 2
}
