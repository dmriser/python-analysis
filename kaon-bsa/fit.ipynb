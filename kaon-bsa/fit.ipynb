{
 "cells": [
  {
   "cell_type": "markdown",
   "metadata": {},
   "source": [
    "# Fitting Notebook\n",
    "Here we fit the phi-distributions from the analysis notebook.\n",
    "- Model selection\n",
    "- Fits of $\\phi$\n",
    "- MC study of fitting procedure"
   ]
  },
  {
   "cell_type": "code",
   "execution_count": 166,
   "metadata": {
    "collapsed": true
   },
   "outputs": [],
   "source": [
    "import numpy as np \n",
    "import pandas as pd \n",
    "import matplotlib.pyplot as plt\n",
    "\n",
    "%matplotlib inline\n",
    "\n",
    "plt.rc('font', family='serif')\n",
    "plt.rc('font', size=18)"
   ]
  },
  {
   "cell_type": "code",
   "execution_count": 167,
   "metadata": {
    "collapsed": true
   },
   "outputs": [],
   "source": [
    "data = pd.read_csv('results/phi-dist.csv')"
   ]
  },
  {
   "cell_type": "code",
   "execution_count": 168,
   "metadata": {},
   "outputs": [
    {
     "data": {
      "text/plain": [
       "Index([u'axis', u'axis_bin', u'axis_max', u'axis_min', u'counts_neg',\n",
       "       u'counts_pos', u'phi', u'phi_bin', u'stat', u'sys_0', u'value',\n",
       "       u'global_index', u'sys_1', u'sys_10', u'sys_11', u'sys_2', u'sys_3',\n",
       "       u'sys_4', u'sys_5', u'sys_6', u'sys_7', u'sys_8', u'sys_9',\n",
       "       u'sys_total'],\n",
       "      dtype='object')"
      ]
     },
     "execution_count": 168,
     "metadata": {},
     "output_type": "execute_result"
    }
   ],
   "source": [
    "data.columns"
   ]
  },
  {
   "cell_type": "code",
   "execution_count": 169,
   "metadata": {},
   "outputs": [
    {
     "data": {
      "text/html": [
       "<div>\n",
       "<style>\n",
       "    .dataframe thead tr:only-child th {\n",
       "        text-align: right;\n",
       "    }\n",
       "\n",
       "    .dataframe thead th {\n",
       "        text-align: left;\n",
       "    }\n",
       "\n",
       "    .dataframe tbody tr th {\n",
       "        vertical-align: top;\n",
       "    }\n",
       "</style>\n",
       "<table border=\"1\" class=\"dataframe\">\n",
       "  <thead>\n",
       "    <tr style=\"text-align: right;\">\n",
       "      <th></th>\n",
       "      <th>axis</th>\n",
       "      <th>axis_bin</th>\n",
       "      <th>axis_max</th>\n",
       "      <th>axis_min</th>\n",
       "      <th>counts_neg</th>\n",
       "      <th>counts_pos</th>\n",
       "      <th>phi</th>\n",
       "      <th>phi_bin</th>\n",
       "      <th>stat</th>\n",
       "      <th>sys_0</th>\n",
       "      <th>...</th>\n",
       "      <th>sys_11</th>\n",
       "      <th>sys_2</th>\n",
       "      <th>sys_3</th>\n",
       "      <th>sys_4</th>\n",
       "      <th>sys_5</th>\n",
       "      <th>sys_6</th>\n",
       "      <th>sys_7</th>\n",
       "      <th>sys_8</th>\n",
       "      <th>sys_9</th>\n",
       "      <th>sys_total</th>\n",
       "    </tr>\n",
       "  </thead>\n",
       "  <tbody>\n",
       "    <tr>\n",
       "      <th>0</th>\n",
       "      <td>x</td>\n",
       "      <td>0</td>\n",
       "      <td>0.150192</td>\n",
       "      <td>0.106729</td>\n",
       "      <td>16436</td>\n",
       "      <td>16311</td>\n",
       "      <td>-165.0</td>\n",
       "      <td>0</td>\n",
       "      <td>0.005526</td>\n",
       "      <td>0.000153</td>\n",
       "      <td>...</td>\n",
       "      <td>0.012388</td>\n",
       "      <td>0.000382</td>\n",
       "      <td>0.006687</td>\n",
       "      <td>0.003003</td>\n",
       "      <td>0.000823</td>\n",
       "      <td>0.001769</td>\n",
       "      <td>0.004440</td>\n",
       "      <td>0.001737</td>\n",
       "      <td>0.001579</td>\n",
       "      <td>0.016184</td>\n",
       "    </tr>\n",
       "    <tr>\n",
       "      <th>1</th>\n",
       "      <td>x</td>\n",
       "      <td>0</td>\n",
       "      <td>0.150192</td>\n",
       "      <td>0.106729</td>\n",
       "      <td>5994</td>\n",
       "      <td>5694</td>\n",
       "      <td>-135.0</td>\n",
       "      <td>1</td>\n",
       "      <td>0.009244</td>\n",
       "      <td>0.001028</td>\n",
       "      <td>...</td>\n",
       "      <td>0.036935</td>\n",
       "      <td>0.000559</td>\n",
       "      <td>0.007469</td>\n",
       "      <td>0.002108</td>\n",
       "      <td>0.006159</td>\n",
       "      <td>0.004268</td>\n",
       "      <td>0.007956</td>\n",
       "      <td>0.001319</td>\n",
       "      <td>0.008234</td>\n",
       "      <td>0.046834</td>\n",
       "    </tr>\n",
       "    <tr>\n",
       "      <th>2</th>\n",
       "      <td>x</td>\n",
       "      <td>0</td>\n",
       "      <td>0.150192</td>\n",
       "      <td>0.106729</td>\n",
       "      <td>12239</td>\n",
       "      <td>11837</td>\n",
       "      <td>-105.0</td>\n",
       "      <td>2</td>\n",
       "      <td>0.006443</td>\n",
       "      <td>0.000669</td>\n",
       "      <td>...</td>\n",
       "      <td>0.009165</td>\n",
       "      <td>0.000639</td>\n",
       "      <td>0.009500</td>\n",
       "      <td>0.010151</td>\n",
       "      <td>0.000039</td>\n",
       "      <td>0.008598</td>\n",
       "      <td>0.003775</td>\n",
       "      <td>0.002740</td>\n",
       "      <td>0.002257</td>\n",
       "      <td>0.025650</td>\n",
       "    </tr>\n",
       "    <tr>\n",
       "      <th>3</th>\n",
       "      <td>x</td>\n",
       "      <td>0</td>\n",
       "      <td>0.150192</td>\n",
       "      <td>0.106729</td>\n",
       "      <td>5800</td>\n",
       "      <td>5776</td>\n",
       "      <td>-75.0</td>\n",
       "      <td>3</td>\n",
       "      <td>0.009294</td>\n",
       "      <td>0.000083</td>\n",
       "      <td>...</td>\n",
       "      <td>0.007065</td>\n",
       "      <td>0.000468</td>\n",
       "      <td>0.008975</td>\n",
       "      <td>0.007215</td>\n",
       "      <td>0.001219</td>\n",
       "      <td>0.006447</td>\n",
       "      <td>0.010675</td>\n",
       "      <td>0.004319</td>\n",
       "      <td>0.003017</td>\n",
       "      <td>0.024239</td>\n",
       "    </tr>\n",
       "    <tr>\n",
       "      <th>4</th>\n",
       "      <td>x</td>\n",
       "      <td>0</td>\n",
       "      <td>0.150192</td>\n",
       "      <td>0.106729</td>\n",
       "      <td>4752</td>\n",
       "      <td>4481</td>\n",
       "      <td>-45.0</td>\n",
       "      <td>4</td>\n",
       "      <td>0.010399</td>\n",
       "      <td>0.001176</td>\n",
       "      <td>...</td>\n",
       "      <td>0.014624</td>\n",
       "      <td>0.000750</td>\n",
       "      <td>0.011015</td>\n",
       "      <td>0.005194</td>\n",
       "      <td>0.002070</td>\n",
       "      <td>0.005907</td>\n",
       "      <td>0.010280</td>\n",
       "      <td>0.001377</td>\n",
       "      <td>0.008271</td>\n",
       "      <td>0.024337</td>\n",
       "    </tr>\n",
       "  </tbody>\n",
       "</table>\n",
       "<p>5 rows × 24 columns</p>\n",
       "</div>"
      ],
      "text/plain": [
       "  axis  axis_bin  axis_max  axis_min  counts_neg  counts_pos    phi  phi_bin  \\\n",
       "0    x         0  0.150192  0.106729       16436       16311 -165.0        0   \n",
       "1    x         0  0.150192  0.106729        5994        5694 -135.0        1   \n",
       "2    x         0  0.150192  0.106729       12239       11837 -105.0        2   \n",
       "3    x         0  0.150192  0.106729        5800        5776  -75.0        3   \n",
       "4    x         0  0.150192  0.106729        4752        4481  -45.0        4   \n",
       "\n",
       "       stat     sys_0    ...        sys_11     sys_2     sys_3     sys_4  \\\n",
       "0  0.005526  0.000153    ...      0.012388  0.000382  0.006687  0.003003   \n",
       "1  0.009244  0.001028    ...      0.036935  0.000559  0.007469  0.002108   \n",
       "2  0.006443  0.000669    ...      0.009165  0.000639  0.009500  0.010151   \n",
       "3  0.009294  0.000083    ...      0.007065  0.000468  0.008975  0.007215   \n",
       "4  0.010399  0.001176    ...      0.014624  0.000750  0.011015  0.005194   \n",
       "\n",
       "      sys_5     sys_6     sys_7     sys_8     sys_9  sys_total  \n",
       "0  0.000823  0.001769  0.004440  0.001737  0.001579   0.016184  \n",
       "1  0.006159  0.004268  0.007956  0.001319  0.008234   0.046834  \n",
       "2  0.000039  0.008598  0.003775  0.002740  0.002257   0.025650  \n",
       "3  0.001219  0.006447  0.010675  0.004319  0.003017   0.024239  \n",
       "4  0.002070  0.005907  0.010280  0.001377  0.008271   0.024337  \n",
       "\n",
       "[5 rows x 24 columns]"
      ]
     },
     "execution_count": 169,
     "metadata": {},
     "output_type": "execute_result"
    }
   ],
   "source": [
    "data.head()"
   ]
  },
  {
   "cell_type": "code",
   "execution_count": 170,
   "metadata": {
    "collapsed": true
   },
   "outputs": [],
   "source": [
    "def chi2(y_true, y_pred, y_err):\n",
    "    return np.sum((y_true-y_pred)**2/y_err**2)"
   ]
  },
  {
   "cell_type": "code",
   "execution_count": 171,
   "metadata": {
    "collapsed": true
   },
   "outputs": [],
   "source": [
    "class Model(object):\n",
    "\n",
    "    def __init__(self):\n",
    "        self.n_pars = 1\n",
    "        self.pars   = np.zeros(shape=(self.n_pars, 1))\n",
    "        self.bounds = np.array([[-1, 1],], dtype=np.float32)\n",
    "        \n",
    "    def get_initial_parameters(self):\n",
    "        self.pars = np.random.uniform(-1.0, 1.0, size=(self.n_pars, 1))\n",
    "\n",
    "    def evaluate(self, x):\n",
    "        return 1.0\n",
    "\n",
    "class SineModel(Model):\n",
    "\n",
    "    def __init__(self):\n",
    "        Model.__init__(self)\n",
    "        self.n_pars = 1\n",
    "        self.pars = np.zeros(shape=(self.n_pars, 1), dtype=np.float32)\n",
    "        \n",
    "    def evaluate(self, x):\n",
    "        return self.pars[0]*np.sin( x*np.pi/180.0 )\n",
    "\n",
    "class FullModel(Model):\n",
    "\n",
    "    def __init__(self):\n",
    "        Model.__init__(self)\n",
    "        self.n_pars = 3\n",
    "        self.pars = np.zeros(shape=(self.n_pars, 1), dtype=np.float32)\n",
    "        self.bounds = np.array([[-1,1],\n",
    "                                [-1,1],\n",
    "                                [-1,1]],dtype=np.float32)\n",
    "    def evaluate(self, x):\n",
    "        return self.pars[0]*np.sin( x*np.pi/180.0 ) / (1 + self.pars[1]*np.cos(x*np.pi/180.0) + self.pars[2]*np.cos(2*x*np.pi/180.0))\n",
    "\n",
    "def update_model(model, pars, x):\n",
    "    model.pars = pars\n",
    "    return model.evaluate(x)"
   ]
  },
  {
   "cell_type": "code",
   "execution_count": 172,
   "metadata": {
    "collapsed": true
   },
   "outputs": [],
   "source": [
    "from scipy.optimize import minimize"
   ]
  },
  {
   "cell_type": "code",
   "execution_count": 173,
   "metadata": {
    "collapsed": true
   },
   "outputs": [],
   "source": [
    "model = FullModel()\n",
    "model.get_initial_parameters()"
   ]
  },
  {
   "cell_type": "code",
   "execution_count": 174,
   "metadata": {},
   "outputs": [],
   "source": [
    "test_data = data.query('axis == \"z\" and axis_bin == 2')"
   ]
  },
  {
   "cell_type": "code",
   "execution_count": 175,
   "metadata": {},
   "outputs": [
    {
     "data": {
      "text/html": [
       "<div>\n",
       "<style>\n",
       "    .dataframe thead tr:only-child th {\n",
       "        text-align: right;\n",
       "    }\n",
       "\n",
       "    .dataframe thead th {\n",
       "        text-align: left;\n",
       "    }\n",
       "\n",
       "    .dataframe tbody tr th {\n",
       "        vertical-align: top;\n",
       "    }\n",
       "</style>\n",
       "<table border=\"1\" class=\"dataframe\">\n",
       "  <thead>\n",
       "    <tr style=\"text-align: right;\">\n",
       "      <th></th>\n",
       "      <th>axis</th>\n",
       "      <th>axis_bin</th>\n",
       "      <th>axis_max</th>\n",
       "      <th>axis_min</th>\n",
       "      <th>counts_neg</th>\n",
       "      <th>counts_pos</th>\n",
       "      <th>phi</th>\n",
       "      <th>phi_bin</th>\n",
       "      <th>stat</th>\n",
       "      <th>sys_0</th>\n",
       "      <th>...</th>\n",
       "      <th>sys_11</th>\n",
       "      <th>sys_2</th>\n",
       "      <th>sys_3</th>\n",
       "      <th>sys_4</th>\n",
       "      <th>sys_5</th>\n",
       "      <th>sys_6</th>\n",
       "      <th>sys_7</th>\n",
       "      <th>sys_8</th>\n",
       "      <th>sys_9</th>\n",
       "      <th>sys_total</th>\n",
       "    </tr>\n",
       "  </thead>\n",
       "  <tbody>\n",
       "    <tr>\n",
       "      <th>96</th>\n",
       "      <td>z</td>\n",
       "      <td>2</td>\n",
       "      <td>0.571011</td>\n",
       "      <td>0.514184</td>\n",
       "      <td>17708</td>\n",
       "      <td>17810</td>\n",
       "      <td>-165.0</td>\n",
       "      <td>0</td>\n",
       "      <td>0.005306</td>\n",
       "      <td>0.000115</td>\n",
       "      <td>...</td>\n",
       "      <td>0.009167</td>\n",
       "      <td>0.000768</td>\n",
       "      <td>0.005322</td>\n",
       "      <td>0.002135</td>\n",
       "      <td>0.000315</td>\n",
       "      <td>0.004526</td>\n",
       "      <td>0.007335</td>\n",
       "      <td>0.002025</td>\n",
       "      <td>0.001209</td>\n",
       "      <td>0.014957</td>\n",
       "    </tr>\n",
       "    <tr>\n",
       "      <th>97</th>\n",
       "      <td>z</td>\n",
       "      <td>2</td>\n",
       "      <td>0.571011</td>\n",
       "      <td>0.514184</td>\n",
       "      <td>8581</td>\n",
       "      <td>8384</td>\n",
       "      <td>-135.0</td>\n",
       "      <td>1</td>\n",
       "      <td>0.007677</td>\n",
       "      <td>0.000465</td>\n",
       "      <td>...</td>\n",
       "      <td>0.006443</td>\n",
       "      <td>0.001482</td>\n",
       "      <td>0.002218</td>\n",
       "      <td>0.006442</td>\n",
       "      <td>0.000776</td>\n",
       "      <td>0.009910</td>\n",
       "      <td>0.001650</td>\n",
       "      <td>0.001492</td>\n",
       "      <td>0.003092</td>\n",
       "      <td>0.014355</td>\n",
       "    </tr>\n",
       "    <tr>\n",
       "      <th>98</th>\n",
       "      <td>z</td>\n",
       "      <td>2</td>\n",
       "      <td>0.571011</td>\n",
       "      <td>0.514184</td>\n",
       "      <td>10913</td>\n",
       "      <td>10471</td>\n",
       "      <td>-105.0</td>\n",
       "      <td>2</td>\n",
       "      <td>0.006836</td>\n",
       "      <td>0.000828</td>\n",
       "      <td>...</td>\n",
       "      <td>0.001785</td>\n",
       "      <td>0.004938</td>\n",
       "      <td>0.001142</td>\n",
       "      <td>0.004960</td>\n",
       "      <td>0.000099</td>\n",
       "      <td>0.002183</td>\n",
       "      <td>0.000284</td>\n",
       "      <td>0.001238</td>\n",
       "      <td>0.007271</td>\n",
       "      <td>0.016668</td>\n",
       "    </tr>\n",
       "    <tr>\n",
       "      <th>99</th>\n",
       "      <td>z</td>\n",
       "      <td>2</td>\n",
       "      <td>0.571011</td>\n",
       "      <td>0.514184</td>\n",
       "      <td>8514</td>\n",
       "      <td>8183</td>\n",
       "      <td>-75.0</td>\n",
       "      <td>3</td>\n",
       "      <td>0.007736</td>\n",
       "      <td>0.000794</td>\n",
       "      <td>...</td>\n",
       "      <td>0.002600</td>\n",
       "      <td>0.003359</td>\n",
       "      <td>0.002712</td>\n",
       "      <td>0.002760</td>\n",
       "      <td>0.000230</td>\n",
       "      <td>0.007114</td>\n",
       "      <td>0.006405</td>\n",
       "      <td>0.002123</td>\n",
       "      <td>0.004510</td>\n",
       "      <td>0.016133</td>\n",
       "    </tr>\n",
       "    <tr>\n",
       "      <th>100</th>\n",
       "      <td>z</td>\n",
       "      <td>2</td>\n",
       "      <td>0.571011</td>\n",
       "      <td>0.514184</td>\n",
       "      <td>4391</td>\n",
       "      <td>4144</td>\n",
       "      <td>-45.0</td>\n",
       "      <td>4</td>\n",
       "      <td>0.010816</td>\n",
       "      <td>0.001159</td>\n",
       "      <td>...</td>\n",
       "      <td>0.008904</td>\n",
       "      <td>0.003290</td>\n",
       "      <td>0.007851</td>\n",
       "      <td>0.006677</td>\n",
       "      <td>0.001923</td>\n",
       "      <td>0.009447</td>\n",
       "      <td>0.004084</td>\n",
       "      <td>0.002524</td>\n",
       "      <td>0.005561</td>\n",
       "      <td>0.021236</td>\n",
       "    </tr>\n",
       "    <tr>\n",
       "      <th>101</th>\n",
       "      <td>z</td>\n",
       "      <td>2</td>\n",
       "      <td>0.571011</td>\n",
       "      <td>0.514184</td>\n",
       "      <td>1693</td>\n",
       "      <td>1604</td>\n",
       "      <td>-15.0</td>\n",
       "      <td>5</td>\n",
       "      <td>0.017404</td>\n",
       "      <td>0.001081</td>\n",
       "      <td>...</td>\n",
       "      <td>0.016251</td>\n",
       "      <td>0.005638</td>\n",
       "      <td>0.013812</td>\n",
       "      <td>0.016507</td>\n",
       "      <td>0.003297</td>\n",
       "      <td>0.016742</td>\n",
       "      <td>0.006336</td>\n",
       "      <td>0.006371</td>\n",
       "      <td>0.020773</td>\n",
       "      <td>0.041360</td>\n",
       "    </tr>\n",
       "    <tr>\n",
       "      <th>102</th>\n",
       "      <td>z</td>\n",
       "      <td>2</td>\n",
       "      <td>0.571011</td>\n",
       "      <td>0.514184</td>\n",
       "      <td>1630</td>\n",
       "      <td>1619</td>\n",
       "      <td>15.0</td>\n",
       "      <td>6</td>\n",
       "      <td>0.017544</td>\n",
       "      <td>0.000136</td>\n",
       "      <td>...</td>\n",
       "      <td>0.023111</td>\n",
       "      <td>0.007916</td>\n",
       "      <td>0.015051</td>\n",
       "      <td>0.006687</td>\n",
       "      <td>0.003104</td>\n",
       "      <td>0.020578</td>\n",
       "      <td>0.033875</td>\n",
       "      <td>0.012754</td>\n",
       "      <td>0.006947</td>\n",
       "      <td>0.053236</td>\n",
       "    </tr>\n",
       "    <tr>\n",
       "      <th>103</th>\n",
       "      <td>z</td>\n",
       "      <td>2</td>\n",
       "      <td>0.571011</td>\n",
       "      <td>0.514184</td>\n",
       "      <td>4298</td>\n",
       "      <td>4288</td>\n",
       "      <td>45.0</td>\n",
       "      <td>7</td>\n",
       "      <td>0.010792</td>\n",
       "      <td>0.000047</td>\n",
       "      <td>...</td>\n",
       "      <td>0.009828</td>\n",
       "      <td>0.004312</td>\n",
       "      <td>0.009414</td>\n",
       "      <td>0.005216</td>\n",
       "      <td>0.003389</td>\n",
       "      <td>0.004035</td>\n",
       "      <td>0.002663</td>\n",
       "      <td>0.001242</td>\n",
       "      <td>0.003191</td>\n",
       "      <td>0.023723</td>\n",
       "    </tr>\n",
       "    <tr>\n",
       "      <th>104</th>\n",
       "      <td>z</td>\n",
       "      <td>2</td>\n",
       "      <td>0.571011</td>\n",
       "      <td>0.514184</td>\n",
       "      <td>8100</td>\n",
       "      <td>8340</td>\n",
       "      <td>75.0</td>\n",
       "      <td>8</td>\n",
       "      <td>0.007798</td>\n",
       "      <td>0.000585</td>\n",
       "      <td>...</td>\n",
       "      <td>0.003861</td>\n",
       "      <td>0.003732</td>\n",
       "      <td>0.001199</td>\n",
       "      <td>0.003802</td>\n",
       "      <td>0.000094</td>\n",
       "      <td>0.004396</td>\n",
       "      <td>0.001031</td>\n",
       "      <td>0.001239</td>\n",
       "      <td>0.006674</td>\n",
       "      <td>0.016071</td>\n",
       "    </tr>\n",
       "    <tr>\n",
       "      <th>105</th>\n",
       "      <td>z</td>\n",
       "      <td>2</td>\n",
       "      <td>0.571011</td>\n",
       "      <td>0.514184</td>\n",
       "      <td>10301</td>\n",
       "      <td>10987</td>\n",
       "      <td>105.0</td>\n",
       "      <td>9</td>\n",
       "      <td>0.006847</td>\n",
       "      <td>0.001291</td>\n",
       "      <td>...</td>\n",
       "      <td>0.005616</td>\n",
       "      <td>0.002102</td>\n",
       "      <td>0.002549</td>\n",
       "      <td>0.005933</td>\n",
       "      <td>0.000225</td>\n",
       "      <td>0.015431</td>\n",
       "      <td>0.011103</td>\n",
       "      <td>0.000428</td>\n",
       "      <td>0.001775</td>\n",
       "      <td>0.021499</td>\n",
       "    </tr>\n",
       "    <tr>\n",
       "      <th>106</th>\n",
       "      <td>z</td>\n",
       "      <td>2</td>\n",
       "      <td>0.571011</td>\n",
       "      <td>0.514184</td>\n",
       "      <td>8274</td>\n",
       "      <td>8424</td>\n",
       "      <td>135.0</td>\n",
       "      <td>10</td>\n",
       "      <td>0.007738</td>\n",
       "      <td>0.000360</td>\n",
       "      <td>...</td>\n",
       "      <td>0.007786</td>\n",
       "      <td>0.001332</td>\n",
       "      <td>0.012086</td>\n",
       "      <td>0.003058</td>\n",
       "      <td>0.000922</td>\n",
       "      <td>0.002723</td>\n",
       "      <td>0.004642</td>\n",
       "      <td>0.000795</td>\n",
       "      <td>0.002124</td>\n",
       "      <td>0.019274</td>\n",
       "    </tr>\n",
       "    <tr>\n",
       "      <th>107</th>\n",
       "      <td>z</td>\n",
       "      <td>2</td>\n",
       "      <td>0.571011</td>\n",
       "      <td>0.514184</td>\n",
       "      <td>17262</td>\n",
       "      <td>17561</td>\n",
       "      <td>165.0</td>\n",
       "      <td>11</td>\n",
       "      <td>0.005358</td>\n",
       "      <td>0.000344</td>\n",
       "      <td>...</td>\n",
       "      <td>0.003354</td>\n",
       "      <td>0.002493</td>\n",
       "      <td>0.004490</td>\n",
       "      <td>0.006225</td>\n",
       "      <td>0.001308</td>\n",
       "      <td>0.001017</td>\n",
       "      <td>0.001231</td>\n",
       "      <td>0.001021</td>\n",
       "      <td>0.002865</td>\n",
       "      <td>0.010685</td>\n",
       "    </tr>\n",
       "  </tbody>\n",
       "</table>\n",
       "<p>12 rows × 24 columns</p>\n",
       "</div>"
      ],
      "text/plain": [
       "    axis  axis_bin  axis_max  axis_min  counts_neg  counts_pos    phi  \\\n",
       "96     z         2  0.571011  0.514184       17708       17810 -165.0   \n",
       "97     z         2  0.571011  0.514184        8581        8384 -135.0   \n",
       "98     z         2  0.571011  0.514184       10913       10471 -105.0   \n",
       "99     z         2  0.571011  0.514184        8514        8183  -75.0   \n",
       "100    z         2  0.571011  0.514184        4391        4144  -45.0   \n",
       "101    z         2  0.571011  0.514184        1693        1604  -15.0   \n",
       "102    z         2  0.571011  0.514184        1630        1619   15.0   \n",
       "103    z         2  0.571011  0.514184        4298        4288   45.0   \n",
       "104    z         2  0.571011  0.514184        8100        8340   75.0   \n",
       "105    z         2  0.571011  0.514184       10301       10987  105.0   \n",
       "106    z         2  0.571011  0.514184        8274        8424  135.0   \n",
       "107    z         2  0.571011  0.514184       17262       17561  165.0   \n",
       "\n",
       "     phi_bin      stat     sys_0    ...        sys_11     sys_2     sys_3  \\\n",
       "96         0  0.005306  0.000115    ...      0.009167  0.000768  0.005322   \n",
       "97         1  0.007677  0.000465    ...      0.006443  0.001482  0.002218   \n",
       "98         2  0.006836  0.000828    ...      0.001785  0.004938  0.001142   \n",
       "99         3  0.007736  0.000794    ...      0.002600  0.003359  0.002712   \n",
       "100        4  0.010816  0.001159    ...      0.008904  0.003290  0.007851   \n",
       "101        5  0.017404  0.001081    ...      0.016251  0.005638  0.013812   \n",
       "102        6  0.017544  0.000136    ...      0.023111  0.007916  0.015051   \n",
       "103        7  0.010792  0.000047    ...      0.009828  0.004312  0.009414   \n",
       "104        8  0.007798  0.000585    ...      0.003861  0.003732  0.001199   \n",
       "105        9  0.006847  0.001291    ...      0.005616  0.002102  0.002549   \n",
       "106       10  0.007738  0.000360    ...      0.007786  0.001332  0.012086   \n",
       "107       11  0.005358  0.000344    ...      0.003354  0.002493  0.004490   \n",
       "\n",
       "        sys_4     sys_5     sys_6     sys_7     sys_8     sys_9  sys_total  \n",
       "96   0.002135  0.000315  0.004526  0.007335  0.002025  0.001209   0.014957  \n",
       "97   0.006442  0.000776  0.009910  0.001650  0.001492  0.003092   0.014355  \n",
       "98   0.004960  0.000099  0.002183  0.000284  0.001238  0.007271   0.016668  \n",
       "99   0.002760  0.000230  0.007114  0.006405  0.002123  0.004510   0.016133  \n",
       "100  0.006677  0.001923  0.009447  0.004084  0.002524  0.005561   0.021236  \n",
       "101  0.016507  0.003297  0.016742  0.006336  0.006371  0.020773   0.041360  \n",
       "102  0.006687  0.003104  0.020578  0.033875  0.012754  0.006947   0.053236  \n",
       "103  0.005216  0.003389  0.004035  0.002663  0.001242  0.003191   0.023723  \n",
       "104  0.003802  0.000094  0.004396  0.001031  0.001239  0.006674   0.016071  \n",
       "105  0.005933  0.000225  0.015431  0.011103  0.000428  0.001775   0.021499  \n",
       "106  0.003058  0.000922  0.002723  0.004642  0.000795  0.002124   0.019274  \n",
       "107  0.006225  0.001308  0.001017  0.001231  0.001021  0.002865   0.010685  \n",
       "\n",
       "[12 rows x 24 columns]"
      ]
     },
     "execution_count": 175,
     "metadata": {},
     "output_type": "execute_result"
    }
   ],
   "source": [
    "test_data"
   ]
  },
  {
   "cell_type": "code",
   "execution_count": 176,
   "metadata": {},
   "outputs": [],
   "source": [
    "r = minimize(fun=lambda x: chi2(test_data.value, update_model(model, x, test_data.phi), test_data.stat), \n",
    "             x0=model.pars,\n",
    "            bounds=model.bounds)"
   ]
  },
  {
   "cell_type": "code",
   "execution_count": 177,
   "metadata": {},
   "outputs": [
    {
     "data": {
      "text/plain": [
       "      fun: 19.592845625107486\n",
       " hess_inv: <3x3 LbfgsInvHessProduct with dtype=float64>\n",
       "      jac: array([  3.02691205e-04,   3.90798505e-06,   3.09086090e-05])\n",
       "  message: 'CONVERGENCE: REL_REDUCTION_OF_F_<=_FACTR*EPSMCH'\n",
       "     nfev: 152\n",
       "      nit: 32\n",
       "   status: 0\n",
       "  success: True\n",
       "        x: array([ 0.0175348 ,  0.30037367,  0.48921477])"
      ]
     },
     "execution_count": 177,
     "metadata": {},
     "output_type": "execute_result"
    }
   ],
   "source": [
    "r"
   ]
  },
  {
   "cell_type": "code",
   "execution_count": 178,
   "metadata": {},
   "outputs": [
    {
     "data": {
      "text/plain": [
       "[<matplotlib.lines.Line2D at 0x10cebb310>]"
      ]
     },
     "execution_count": 178,
     "metadata": {},
     "output_type": "execute_result"
    },
    {
     "data": {
      "image/png": "[encoded data removed]",
      "text/plain": [
       "<matplotlib.figure.Figure at 0x10cfb9450>"
      ]
     },
     "metadata": {},
     "output_type": "display_data"
    }
   ],
   "source": [
    "plt.errorbar(x=test_data.phi, y=test_data.value, yerr=test_data.stat,\n",
    "            linestyle='', color='black', marker='o')\n",
    "plt.plot(np.linspace(-180,180,100), model.evaluate(np.linspace(-180,180,100)), \n",
    "        linestyle='-', color='red')"
   ]
  },
  {
   "cell_type": "code",
   "execution_count": 179,
   "metadata": {
    "collapsed": true
   },
   "outputs": [],
   "source": [
    "from sklearn.utils import shuffle\n",
    "\n",
    "def setup_dataframe(n_folds, x, y, y_err, shuf=False):\n",
    "    \n",
    "    if len(y) % n_folds != 0:\n",
    "        print('Data (%d) is not divisible into %d folds.' % (len(y), n_folds))\n",
    "        return \n",
    "    \n",
    "    x = x.transpose()\n",
    "    y = y.transpose()\n",
    "    y_err = y_err.transpose()\n",
    "    \n",
    "    d  = {'x':x, 'y':y, 'y_err':y_err}\n",
    "    df = pd.DataFrame(data=d)\n",
    "    \n",
    "    if shuf is True:\n",
    "        df = shuffle(df)\n",
    "\n",
    "    chunk_size = int(len(y)/n_folds) \n",
    "    \n",
    "    a = np.arange(0,n_folds)\n",
    "    df['chunk'] = np.repeat(a,chunk_size)\n",
    "    return df\n",
    "\n",
    "def cross_validate(n_folds, model, df):\n",
    "\n",
    "    validation_scores = []\n",
    "    parameters = []\n",
    "    for i in range(n_folds):\n",
    "        res = minimize(fun=lambda p: np.average((df.query('chunk != %d' % i).y - update_model(model, p, df.query('chunk != %d' % i).x))**2/df.query('chunk != %d' % i).y_err**2), \n",
    "                                    x0=model.pars, bounds=model.bounds\n",
    "                                   )\n",
    "        \n",
    "        y_pred = update_model(model, res.x, df.query('chunk == %d' % i).x)\n",
    "        validation_scores.append(np.average((df.query('chunk == %d' % i).y-y_pred)**2/df.query('chunk == %d' % i).y_err**2))\n",
    "        parameters.append(res.x)\n",
    "        \n",
    "    return np.array(validation_scores), parameters"
   ]
  },
  {
   "cell_type": "code",
   "execution_count": 180,
   "metadata": {},
   "outputs": [],
   "source": [
    "models = {}\n",
    "\n",
    "models['basic'] = SineModel()\n",
    "models['full'] = FullModel()\n",
    "models['half'] = FullModel()\n",
    "models['half'].bounds = np.array([[-1,1],[-1,1],[-0.0001,0.0001]], dtype=np.float32)\n",
    "\n",
    "models['full_bounded'] = FullModel()\n",
    "models['full_bounded'].bounds = np.array([[-1,1],[-0.1,0.1],[-0.1,0.1]], dtype=np.float32)\n",
    "                                          \n",
    "for m in models.values():\n",
    "    m.get_initial_parameters()"
   ]
  },
  {
   "cell_type": "code",
   "execution_count": 181,
   "metadata": {},
   "outputs": [],
   "source": [
    "CHUNKS = 3\n",
    "df_chunked = setup_dataframe(CHUNKS, test_data.phi, test_data.value, np.sqrt(test_data.sys_total**2 + test_data.stat**2), shuf=False)"
   ]
  },
  {
   "cell_type": "code",
   "execution_count": 182,
   "metadata": {},
   "outputs": [
    {
     "name": "stdout",
     "output_type": "stream",
     "text": [
      "Fitting full_bounded\n",
      "Fitting half\n",
      "Fitting full\n",
      "Fitting basic\n"
     ]
    }
   ],
   "source": [
    "cv_scores = {}\n",
    "cv_pars = {}\n",
    "\n",
    "for name, m in models.iteritems():\n",
    "    print('Fitting %s' % name)\n",
    "    cv_scores[name], cv_pars[name] = cross_validate(CHUNKS, m, df_chunked)"
   ]
  },
  {
   "cell_type": "code",
   "execution_count": 183,
   "metadata": {},
   "outputs": [
    {
     "data": {
      "text/plain": [
       "{'basic': array([ 0.1498727 ,  0.44172183,  0.24500724]),\n",
       " 'full': array([ 0.20438262,  0.57750683,  0.32250448]),\n",
       " 'full_bounded': array([ 0.2029939 ,  0.45877581,  0.2691167 ]),\n",
       " 'half': array([ 0.20031067,  0.43944856,  0.30827155])}"
      ]
     },
     "execution_count": 183,
     "metadata": {},
     "output_type": "execute_result"
    }
   ],
   "source": [
    "cv_scores"
   ]
  },
  {
   "cell_type": "code",
   "execution_count": 184,
   "metadata": {},
   "outputs": [
    {
     "data": {
      "text/plain": [
       "{'basic': [array([ 0.02877499]), array([ 0.02655725]), array([ 0.02602331])],\n",
       " 'full': [array([ 0.02910358,  0.12079579, -0.02865129]),\n",
       "  array([ 0.01580644,  0.39035142,  0.50853674]),\n",
       "  array([ 0.02375766, -0.25787141,  0.156954  ])],\n",
       " 'full_bounded': [array([ 0.0293627 ,  0.1       , -0.04745232]),\n",
       "  array([ 0.02471874,  0.07506849,  0.1       ]),\n",
       "  array([ 0.02490738, -0.1       ,  0.1       ])],\n",
       " 'half': [array([  2.87245333e-02,   1.37886941e-01,  -9.99999975e-05]),\n",
       "  array([  2.66896624e-02,  -2.87568491e-02,   9.99999975e-05]),\n",
       "  array([  2.58334134e-02,  -2.80538120e-01,   9.99999975e-05])]}"
      ]
     },
     "execution_count": 184,
     "metadata": {},
     "output_type": "execute_result"
    }
   ],
   "source": [
    "cv_pars"
   ]
  },
  {
   "cell_type": "code",
   "execution_count": 185,
   "metadata": {},
   "outputs": [
    {
     "name": "stdout",
     "output_type": "stream",
     "text": [
      "('basic', 0.27886725670894247)\n",
      "('full_bounded', 0.31029547129721519)\n",
      "('full', 0.36813130675578104)\n",
      "('half', 0.31601025836607283)\n"
     ]
    }
   ],
   "source": [
    "for k,v in cv_scores.iteritems():\n",
    "    print(k, np.average(v))"
   ]
  },
  {
   "cell_type": "code",
   "execution_count": 186,
   "metadata": {},
   "outputs": [
    {
     "data": {
      "text/plain": [
       "<Container object of 4 artists>"
      ]
     },
     "execution_count": 186,
     "metadata": {},
     "output_type": "execute_result"
    },
    {
     "data": {
      "image/png": "[encoded data removed]",
      "text/plain": [
       "<matplotlib.figure.Figure at 0x10d0079d0>"
      ]
     },
     "metadata": {},
     "output_type": "display_data"
    }
   ],
   "source": [
    "h = [np.average(xx) for xx in cv_scores.values()]\n",
    "plt.bar(np.arange(len(cv_scores.keys())), height=h)"
   ]
  },
  {
   "cell_type": "code",
   "execution_count": 187,
   "metadata": {},
   "outputs": [
    {
     "data": {
      "image/png": "[encoded data removed]",
      "text/plain": [
       "<matplotlib.figure.Figure at 0x10d8ed550>"
      ]
     },
     "metadata": {},
     "output_type": "display_data"
    }
   ],
   "source": [
    "n_col = 3\n",
    "n_row = np.ceil((len(cv_pars.keys())-1)/n_col)+1\n",
    "plt.figure(figsize=(n_col*4, n_row*3))\n",
    "\n",
    "train = df_chunked.query('chunk != 0')\n",
    "test  = df_chunked.query('chunk == 0')\n",
    "\n",
    "index = 1\n",
    "x = np.linspace(-180,180,100)\n",
    "for name, model in models.iteritems():\n",
    "    plt.subplot(n_row, n_col, index)\n",
    "    plt.plot(train.x, train.y, linestyle='', marker='o', color='black')\n",
    "    plt.plot(test.x, test.y, linestyle='', marker='o', color='red')\n",
    "    \n",
    "    y = [update_model(model, cv_pars[name][0], xi) for xi in x]\n",
    "    plt.plot(x, y, color='red')\n",
    "    index += 1\n",
    "    \n",
    "plt.tight_layout()"
   ]
  },
  {
   "cell_type": "code",
   "execution_count": 188,
   "metadata": {
    "collapsed": true
   },
   "outputs": [],
   "source": [
    "def generate_toy_data(df, model):\n",
    "    d = df.copy(deep=True)\n",
    "    d.value = model.evaluate(d.phi) + np.random.normal(loc=0.0, scale=d.stat)\n",
    "    return d"
   ]
  },
  {
   "cell_type": "code",
   "execution_count": 211,
   "metadata": {
    "collapsed": true
   },
   "outputs": [],
   "source": [
    "#models['full'].pars = [0.05, 0.02, -0.02]\n",
    "models['basic'].pars = [0.065]\n",
    "mc = generate_toy_data(test_data, models['basic'])"
   ]
  },
  {
   "cell_type": "code",
   "execution_count": 212,
   "metadata": {},
   "outputs": [
    {
     "data": {
      "text/plain": [
       "<Container object of 3 artists>"
      ]
     },
     "execution_count": 212,
     "metadata": {},
     "output_type": "execute_result"
    },
    {
     "data": {
      "image/png": "[encoded data removed]",
      "text/plain": [
       "<matplotlib.figure.Figure at 0x10df90250>"
      ]
     },
     "metadata": {},
     "output_type": "display_data"
    }
   ],
   "source": [
    "plt.errorbar(x=mc.phi, y=mc.value, yerr=mc.stat, color='black', \n",
    "            linestyle='', marker='o')"
   ]
  },
  {
   "cell_type": "code",
   "execution_count": 214,
   "metadata": {
    "collapsed": true
   },
   "outputs": [],
   "source": [
    "rmc = minimize(fun=lambda x: chi2(mc.value, update_model(models['full'], x, mc.phi), np.sqrt(mc.stat**2 + mc.sys_total**2)), \n",
    "             x0=models['full'].pars,\n",
    "            bounds=models['full'].bounds)"
   ]
  },
  {
   "cell_type": "code",
   "execution_count": 215,
   "metadata": {},
   "outputs": [
    {
     "data": {
      "text/plain": [
       "      fun: 0.68779907691138908\n",
       " hess_inv: <3x3 LbfgsInvHessProduct with dtype=float64>\n",
       "      jac: array([ -2.55795385e-03,  -7.42406137e-05,  -3.93352018e-05])\n",
       "  message: 'CONVERGENCE: REL_REDUCTION_OF_F_<=_FACTR*EPSMCH'\n",
       "     nfev: 112\n",
       "      nit: 22\n",
       "   status: 0\n",
       "  success: True\n",
       "        x: array([ 0.05676512, -0.09123842,  0.1161088 ])"
      ]
     },
     "execution_count": 215,
     "metadata": {},
     "output_type": "execute_result"
    }
   ],
   "source": [
    "rmc"
   ]
  },
  {
   "cell_type": "code",
   "execution_count": null,
   "metadata": {
    "collapsed": true
   },
   "outputs": [],
   "source": []
  }
 ],
 "metadata": {
  "kernelspec": {
   "display_name": "Python 2",
   "language": "python",
   "name": "python2"
  },
  "language_info": {
   "codemirror_mode": {
    "name": "ipython",
    "version": 2
   },
   "file_extension": ".py",
   "mimetype": "text/x-python",
   "name": "python",
   "nbconvert_exporter": "python",
   "pygments_lexer": "ipython2",
   "version": "2.7.13"
  }
 },
 "nbformat": 4,
 "nbformat_minor": 2
}
