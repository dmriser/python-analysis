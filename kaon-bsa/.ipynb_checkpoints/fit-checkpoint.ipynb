{
 "cells": [
  {
   "cell_type": "markdown",
   "metadata": {},
   "source": [
    "# Fitting Notebook\n",
    "Here we fit the phi-distributions from the analysis notebook.\n",
    "- Model selection\n",
    "- Fits of $\\phi$\n",
    "- MC study of fitting procedure"
   ]
  },
  {
   "cell_type": "code",
   "execution_count": 43,
   "metadata": {
    "collapsed": true
   },
   "outputs": [],
   "source": [
    "import numpy as np \n",
    "import pandas as pd \n",
    "import matplotlib.pyplot as plt\n",
    "\n",
    "%matplotlib inline\n",
    "\n",
    "plt.rc('font', family='serif')\n",
    "plt.rc('font', size=18)"
   ]
  },
  {
   "cell_type": "code",
   "execution_count": 44,
   "metadata": {
    "collapsed": true
   },
   "outputs": [],
   "source": [
    "data = pd.read_csv('results/phi-dist.csv')"
   ]
  },
  {
   "cell_type": "code",
   "execution_count": 45,
   "metadata": {},
   "outputs": [
    {
     "data": {
      "text/plain": [
       "Index([u'axis', u'axis_bin', u'axis_max', u'axis_min', u'counts_neg',\n",
       "       u'counts_pos', u'phi', u'phi_bin', u'stat', u'sys_0', u'value',\n",
       "       u'global_index', u'sys_1', u'sys_10', u'sys_11', u'sys_2', u'sys_3',\n",
       "       u'sys_4', u'sys_5', u'sys_6', u'sys_7', u'sys_8', u'sys_9',\n",
       "       u'sys_total'],\n",
       "      dtype='object')"
      ]
     },
     "execution_count": 45,
     "metadata": {},
     "output_type": "execute_result"
    }
   ],
   "source": [
    "data.columns"
   ]
  },
  {
   "cell_type": "code",
   "execution_count": 46,
   "metadata": {},
   "outputs": [
    {
     "data": {
      "text/html": [
       "<div>\n",
       "<style>\n",
       "    .dataframe thead tr:only-child th {\n",
       "        text-align: right;\n",
       "    }\n",
       "\n",
       "    .dataframe thead th {\n",
       "        text-align: left;\n",
       "    }\n",
       "\n",
       "    .dataframe tbody tr th {\n",
       "        vertical-align: top;\n",
       "    }\n",
       "</style>\n",
       "<table border=\"1\" class=\"dataframe\">\n",
       "  <thead>\n",
       "    <tr style=\"text-align: right;\">\n",
       "      <th></th>\n",
       "      <th>axis</th>\n",
       "      <th>axis_bin</th>\n",
       "      <th>axis_max</th>\n",
       "      <th>axis_min</th>\n",
       "      <th>counts_neg</th>\n",
       "      <th>counts_pos</th>\n",
       "      <th>phi</th>\n",
       "      <th>phi_bin</th>\n",
       "      <th>stat</th>\n",
       "      <th>sys_0</th>\n",
       "      <th>...</th>\n",
       "      <th>sys_11</th>\n",
       "      <th>sys_2</th>\n",
       "      <th>sys_3</th>\n",
       "      <th>sys_4</th>\n",
       "      <th>sys_5</th>\n",
       "      <th>sys_6</th>\n",
       "      <th>sys_7</th>\n",
       "      <th>sys_8</th>\n",
       "      <th>sys_9</th>\n",
       "      <th>sys_total</th>\n",
       "    </tr>\n",
       "  </thead>\n",
       "  <tbody>\n",
       "    <tr>\n",
       "      <th>0</th>\n",
       "      <td>x</td>\n",
       "      <td>0</td>\n",
       "      <td>0.150192</td>\n",
       "      <td>0.106729</td>\n",
       "      <td>16436</td>\n",
       "      <td>16311</td>\n",
       "      <td>-165.0</td>\n",
       "      <td>0</td>\n",
       "      <td>0.005526</td>\n",
       "      <td>0.000153</td>\n",
       "      <td>...</td>\n",
       "      <td>0.012388</td>\n",
       "      <td>0.000382</td>\n",
       "      <td>0.006687</td>\n",
       "      <td>0.003003</td>\n",
       "      <td>0.000823</td>\n",
       "      <td>0.001769</td>\n",
       "      <td>0.004440</td>\n",
       "      <td>0.001737</td>\n",
       "      <td>0.001579</td>\n",
       "      <td>0.016184</td>\n",
       "    </tr>\n",
       "    <tr>\n",
       "      <th>1</th>\n",
       "      <td>x</td>\n",
       "      <td>0</td>\n",
       "      <td>0.150192</td>\n",
       "      <td>0.106729</td>\n",
       "      <td>5994</td>\n",
       "      <td>5694</td>\n",
       "      <td>-135.0</td>\n",
       "      <td>1</td>\n",
       "      <td>0.009244</td>\n",
       "      <td>0.001028</td>\n",
       "      <td>...</td>\n",
       "      <td>0.036935</td>\n",
       "      <td>0.000559</td>\n",
       "      <td>0.007469</td>\n",
       "      <td>0.002108</td>\n",
       "      <td>0.006159</td>\n",
       "      <td>0.004268</td>\n",
       "      <td>0.007956</td>\n",
       "      <td>0.001319</td>\n",
       "      <td>0.008234</td>\n",
       "      <td>0.046834</td>\n",
       "    </tr>\n",
       "    <tr>\n",
       "      <th>2</th>\n",
       "      <td>x</td>\n",
       "      <td>0</td>\n",
       "      <td>0.150192</td>\n",
       "      <td>0.106729</td>\n",
       "      <td>12239</td>\n",
       "      <td>11837</td>\n",
       "      <td>-105.0</td>\n",
       "      <td>2</td>\n",
       "      <td>0.006443</td>\n",
       "      <td>0.000669</td>\n",
       "      <td>...</td>\n",
       "      <td>0.009165</td>\n",
       "      <td>0.000639</td>\n",
       "      <td>0.009500</td>\n",
       "      <td>0.010151</td>\n",
       "      <td>0.000039</td>\n",
       "      <td>0.008598</td>\n",
       "      <td>0.003775</td>\n",
       "      <td>0.002740</td>\n",
       "      <td>0.002257</td>\n",
       "      <td>0.025650</td>\n",
       "    </tr>\n",
       "    <tr>\n",
       "      <th>3</th>\n",
       "      <td>x</td>\n",
       "      <td>0</td>\n",
       "      <td>0.150192</td>\n",
       "      <td>0.106729</td>\n",
       "      <td>5800</td>\n",
       "      <td>5776</td>\n",
       "      <td>-75.0</td>\n",
       "      <td>3</td>\n",
       "      <td>0.009294</td>\n",
       "      <td>0.000083</td>\n",
       "      <td>...</td>\n",
       "      <td>0.007065</td>\n",
       "      <td>0.000468</td>\n",
       "      <td>0.008975</td>\n",
       "      <td>0.007215</td>\n",
       "      <td>0.001219</td>\n",
       "      <td>0.006447</td>\n",
       "      <td>0.010675</td>\n",
       "      <td>0.004319</td>\n",
       "      <td>0.003017</td>\n",
       "      <td>0.024239</td>\n",
       "    </tr>\n",
       "    <tr>\n",
       "      <th>4</th>\n",
       "      <td>x</td>\n",
       "      <td>0</td>\n",
       "      <td>0.150192</td>\n",
       "      <td>0.106729</td>\n",
       "      <td>4752</td>\n",
       "      <td>4481</td>\n",
       "      <td>-45.0</td>\n",
       "      <td>4</td>\n",
       "      <td>0.010399</td>\n",
       "      <td>0.001176</td>\n",
       "      <td>...</td>\n",
       "      <td>0.014624</td>\n",
       "      <td>0.000750</td>\n",
       "      <td>0.011015</td>\n",
       "      <td>0.005194</td>\n",
       "      <td>0.002070</td>\n",
       "      <td>0.005907</td>\n",
       "      <td>0.010280</td>\n",
       "      <td>0.001377</td>\n",
       "      <td>0.008271</td>\n",
       "      <td>0.024337</td>\n",
       "    </tr>\n",
       "  </tbody>\n",
       "</table>\n",
       "<p>5 rows × 24 columns</p>\n",
       "</div>"
      ],
      "text/plain": [
       "  axis  axis_bin  axis_max  axis_min  counts_neg  counts_pos    phi  phi_bin  \\\n",
       "0    x         0  0.150192  0.106729       16436       16311 -165.0        0   \n",
       "1    x         0  0.150192  0.106729        5994        5694 -135.0        1   \n",
       "2    x         0  0.150192  0.106729       12239       11837 -105.0        2   \n",
       "3    x         0  0.150192  0.106729        5800        5776  -75.0        3   \n",
       "4    x         0  0.150192  0.106729        4752        4481  -45.0        4   \n",
       "\n",
       "       stat     sys_0    ...        sys_11     sys_2     sys_3     sys_4  \\\n",
       "0  0.005526  0.000153    ...      0.012388  0.000382  0.006687  0.003003   \n",
       "1  0.009244  0.001028    ...      0.036935  0.000559  0.007469  0.002108   \n",
       "2  0.006443  0.000669    ...      0.009165  0.000639  0.009500  0.010151   \n",
       "3  0.009294  0.000083    ...      0.007065  0.000468  0.008975  0.007215   \n",
       "4  0.010399  0.001176    ...      0.014624  0.000750  0.011015  0.005194   \n",
       "\n",
       "      sys_5     sys_6     sys_7     sys_8     sys_9  sys_total  \n",
       "0  0.000823  0.001769  0.004440  0.001737  0.001579   0.016184  \n",
       "1  0.006159  0.004268  0.007956  0.001319  0.008234   0.046834  \n",
       "2  0.000039  0.008598  0.003775  0.002740  0.002257   0.025650  \n",
       "3  0.001219  0.006447  0.010675  0.004319  0.003017   0.024239  \n",
       "4  0.002070  0.005907  0.010280  0.001377  0.008271   0.024337  \n",
       "\n",
       "[5 rows x 24 columns]"
      ]
     },
     "execution_count": 46,
     "metadata": {},
     "output_type": "execute_result"
    }
   ],
   "source": [
    "data.head()"
   ]
  },
  {
   "cell_type": "code",
   "execution_count": 47,
   "metadata": {
    "collapsed": true
   },
   "outputs": [],
   "source": [
    "def chi2(y_true, y_pred, y_err):\n",
    "    return np.sum((y_true-y_pred)**2/y_err**2)"
   ]
  },
  {
   "cell_type": "code",
   "execution_count": 48,
   "metadata": {
    "collapsed": true
   },
   "outputs": [],
   "source": [
    "class Model(object):\n",
    "\n",
    "    def __init__(self):\n",
    "        self.n_pars = 1\n",
    "        self.pars   = np.zeros(shape=(self.n_pars, 1))\n",
    "        self.bounds = np.array([[-1, 1],], dtype=np.float32)\n",
    "        \n",
    "    def get_initial_parameters(self):\n",
    "        self.pars = np.random.uniform(-1.0, 1.0, size=(self.n_pars, 1))\n",
    "\n",
    "    def evaluate(self, x):\n",
    "        return 1.0\n",
    "\n",
    "class SineModel(Model):\n",
    "\n",
    "    def __init__(self):\n",
    "        Model.__init__(self)\n",
    "        self.n_pars = 1\n",
    "        self.pars = np.zeros(shape=(self.n_pars, 1), dtype=np.float32)\n",
    "        \n",
    "    def evaluate(self, x):\n",
    "        return self.pars[0]*np.sin( x*np.pi/180.0 )\n",
    "\n",
    "class FullModel(Model):\n",
    "\n",
    "    def __init__(self):\n",
    "        Model.__init__(self)\n",
    "        self.n_pars = 3\n",
    "        self.pars = np.zeros(shape=(self.n_pars, 1), dtype=np.float32)\n",
    "        self.bounds = np.array([[-1,1],\n",
    "                                [-1,1],\n",
    "                                [-1,1]],dtype=np.float32)\n",
    "    def evaluate(self, x):\n",
    "        return self.pars[0]*np.sin( x*np.pi/180.0 ) / (1 + self.pars[1]*np.cos(x*np.pi/180.0) + self.pars[2]*np.cos(2*x*np.pi/180.0))\n",
    "\n",
    "def update_model(model, pars, x):\n",
    "    model.pars = pars\n",
    "    return model.evaluate(x)"
   ]
  },
  {
   "cell_type": "code",
   "execution_count": 49,
   "metadata": {
    "collapsed": true
   },
   "outputs": [],
   "source": [
    "from scipy.optimize import minimize"
   ]
  },
  {
   "cell_type": "code",
   "execution_count": 50,
   "metadata": {
    "collapsed": true
   },
   "outputs": [],
   "source": [
    "model = FullModel()\n",
    "model.get_initial_parameters()"
   ]
  },
  {
   "cell_type": "code",
   "execution_count": 51,
   "metadata": {
    "collapsed": true
   },
   "outputs": [],
   "source": [
    "test_data = data.query('axis == \"z\" and axis_bin == 2')"
   ]
  },
  {
   "cell_type": "code",
   "execution_count": 52,
   "metadata": {},
   "outputs": [
    {
     "data": {
      "text/html": [
       "<div>\n",
       "<style>\n",
       "    .dataframe thead tr:only-child th {\n",
       "        text-align: right;\n",
       "    }\n",
       "\n",
       "    .dataframe thead th {\n",
       "        text-align: left;\n",
       "    }\n",
       "\n",
       "    .dataframe tbody tr th {\n",
       "        vertical-align: top;\n",
       "    }\n",
       "</style>\n",
       "<table border=\"1\" class=\"dataframe\">\n",
       "  <thead>\n",
       "    <tr style=\"text-align: right;\">\n",
       "      <th></th>\n",
       "      <th>axis</th>\n",
       "      <th>axis_bin</th>\n",
       "      <th>axis_max</th>\n",
       "      <th>axis_min</th>\n",
       "      <th>counts_neg</th>\n",
       "      <th>counts_pos</th>\n",
       "      <th>phi</th>\n",
       "      <th>phi_bin</th>\n",
       "      <th>stat</th>\n",
       "      <th>sys_0</th>\n",
       "      <th>...</th>\n",
       "      <th>sys_11</th>\n",
       "      <th>sys_2</th>\n",
       "      <th>sys_3</th>\n",
       "      <th>sys_4</th>\n",
       "      <th>sys_5</th>\n",
       "      <th>sys_6</th>\n",
       "      <th>sys_7</th>\n",
       "      <th>sys_8</th>\n",
       "      <th>sys_9</th>\n",
       "      <th>sys_total</th>\n",
       "    </tr>\n",
       "  </thead>\n",
       "  <tbody>\n",
       "    <tr>\n",
       "      <th>96</th>\n",
       "      <td>z</td>\n",
       "      <td>2</td>\n",
       "      <td>0.571011</td>\n",
       "      <td>0.514184</td>\n",
       "      <td>17708</td>\n",
       "      <td>17810</td>\n",
       "      <td>-165.0</td>\n",
       "      <td>0</td>\n",
       "      <td>0.005306</td>\n",
       "      <td>0.000115</td>\n",
       "      <td>...</td>\n",
       "      <td>0.009167</td>\n",
       "      <td>0.000768</td>\n",
       "      <td>0.005322</td>\n",
       "      <td>0.002135</td>\n",
       "      <td>0.000315</td>\n",
       "      <td>0.004526</td>\n",
       "      <td>0.007335</td>\n",
       "      <td>0.002025</td>\n",
       "      <td>0.001209</td>\n",
       "      <td>0.014957</td>\n",
       "    </tr>\n",
       "    <tr>\n",
       "      <th>97</th>\n",
       "      <td>z</td>\n",
       "      <td>2</td>\n",
       "      <td>0.571011</td>\n",
       "      <td>0.514184</td>\n",
       "      <td>8581</td>\n",
       "      <td>8384</td>\n",
       "      <td>-135.0</td>\n",
       "      <td>1</td>\n",
       "      <td>0.007677</td>\n",
       "      <td>0.000465</td>\n",
       "      <td>...</td>\n",
       "      <td>0.006443</td>\n",
       "      <td>0.001482</td>\n",
       "      <td>0.002218</td>\n",
       "      <td>0.006442</td>\n",
       "      <td>0.000776</td>\n",
       "      <td>0.009910</td>\n",
       "      <td>0.001650</td>\n",
       "      <td>0.001492</td>\n",
       "      <td>0.003092</td>\n",
       "      <td>0.014355</td>\n",
       "    </tr>\n",
       "    <tr>\n",
       "      <th>98</th>\n",
       "      <td>z</td>\n",
       "      <td>2</td>\n",
       "      <td>0.571011</td>\n",
       "      <td>0.514184</td>\n",
       "      <td>10913</td>\n",
       "      <td>10471</td>\n",
       "      <td>-105.0</td>\n",
       "      <td>2</td>\n",
       "      <td>0.006836</td>\n",
       "      <td>0.000828</td>\n",
       "      <td>...</td>\n",
       "      <td>0.001785</td>\n",
       "      <td>0.004938</td>\n",
       "      <td>0.001142</td>\n",
       "      <td>0.004960</td>\n",
       "      <td>0.000099</td>\n",
       "      <td>0.002183</td>\n",
       "      <td>0.000284</td>\n",
       "      <td>0.001238</td>\n",
       "      <td>0.007271</td>\n",
       "      <td>0.016668</td>\n",
       "    </tr>\n",
       "    <tr>\n",
       "      <th>99</th>\n",
       "      <td>z</td>\n",
       "      <td>2</td>\n",
       "      <td>0.571011</td>\n",
       "      <td>0.514184</td>\n",
       "      <td>8514</td>\n",
       "      <td>8183</td>\n",
       "      <td>-75.0</td>\n",
       "      <td>3</td>\n",
       "      <td>0.007736</td>\n",
       "      <td>0.000794</td>\n",
       "      <td>...</td>\n",
       "      <td>0.002600</td>\n",
       "      <td>0.003359</td>\n",
       "      <td>0.002712</td>\n",
       "      <td>0.002760</td>\n",
       "      <td>0.000230</td>\n",
       "      <td>0.007114</td>\n",
       "      <td>0.006405</td>\n",
       "      <td>0.002123</td>\n",
       "      <td>0.004510</td>\n",
       "      <td>0.016133</td>\n",
       "    </tr>\n",
       "    <tr>\n",
       "      <th>100</th>\n",
       "      <td>z</td>\n",
       "      <td>2</td>\n",
       "      <td>0.571011</td>\n",
       "      <td>0.514184</td>\n",
       "      <td>4391</td>\n",
       "      <td>4144</td>\n",
       "      <td>-45.0</td>\n",
       "      <td>4</td>\n",
       "      <td>0.010816</td>\n",
       "      <td>0.001159</td>\n",
       "      <td>...</td>\n",
       "      <td>0.008904</td>\n",
       "      <td>0.003290</td>\n",
       "      <td>0.007851</td>\n",
       "      <td>0.006677</td>\n",
       "      <td>0.001923</td>\n",
       "      <td>0.009447</td>\n",
       "      <td>0.004084</td>\n",
       "      <td>0.002524</td>\n",
       "      <td>0.005561</td>\n",
       "      <td>0.021236</td>\n",
       "    </tr>\n",
       "    <tr>\n",
       "      <th>101</th>\n",
       "      <td>z</td>\n",
       "      <td>2</td>\n",
       "      <td>0.571011</td>\n",
       "      <td>0.514184</td>\n",
       "      <td>1693</td>\n",
       "      <td>1604</td>\n",
       "      <td>-15.0</td>\n",
       "      <td>5</td>\n",
       "      <td>0.017404</td>\n",
       "      <td>0.001081</td>\n",
       "      <td>...</td>\n",
       "      <td>0.016251</td>\n",
       "      <td>0.005638</td>\n",
       "      <td>0.013812</td>\n",
       "      <td>0.016507</td>\n",
       "      <td>0.003297</td>\n",
       "      <td>0.016742</td>\n",
       "      <td>0.006336</td>\n",
       "      <td>0.006371</td>\n",
       "      <td>0.020773</td>\n",
       "      <td>0.041360</td>\n",
       "    </tr>\n",
       "    <tr>\n",
       "      <th>102</th>\n",
       "      <td>z</td>\n",
       "      <td>2</td>\n",
       "      <td>0.571011</td>\n",
       "      <td>0.514184</td>\n",
       "      <td>1630</td>\n",
       "      <td>1619</td>\n",
       "      <td>15.0</td>\n",
       "      <td>6</td>\n",
       "      <td>0.017544</td>\n",
       "      <td>0.000136</td>\n",
       "      <td>...</td>\n",
       "      <td>0.023111</td>\n",
       "      <td>0.007916</td>\n",
       "      <td>0.015051</td>\n",
       "      <td>0.006687</td>\n",
       "      <td>0.003104</td>\n",
       "      <td>0.020578</td>\n",
       "      <td>0.033875</td>\n",
       "      <td>0.012754</td>\n",
       "      <td>0.006947</td>\n",
       "      <td>0.053236</td>\n",
       "    </tr>\n",
       "    <tr>\n",
       "      <th>103</th>\n",
       "      <td>z</td>\n",
       "      <td>2</td>\n",
       "      <td>0.571011</td>\n",
       "      <td>0.514184</td>\n",
       "      <td>4298</td>\n",
       "      <td>4288</td>\n",
       "      <td>45.0</td>\n",
       "      <td>7</td>\n",
       "      <td>0.010792</td>\n",
       "      <td>0.000047</td>\n",
       "      <td>...</td>\n",
       "      <td>0.009828</td>\n",
       "      <td>0.004312</td>\n",
       "      <td>0.009414</td>\n",
       "      <td>0.005216</td>\n",
       "      <td>0.003389</td>\n",
       "      <td>0.004035</td>\n",
       "      <td>0.002663</td>\n",
       "      <td>0.001242</td>\n",
       "      <td>0.003191</td>\n",
       "      <td>0.023723</td>\n",
       "    </tr>\n",
       "    <tr>\n",
       "      <th>104</th>\n",
       "      <td>z</td>\n",
       "      <td>2</td>\n",
       "      <td>0.571011</td>\n",
       "      <td>0.514184</td>\n",
       "      <td>8100</td>\n",
       "      <td>8340</td>\n",
       "      <td>75.0</td>\n",
       "      <td>8</td>\n",
       "      <td>0.007798</td>\n",
       "      <td>0.000585</td>\n",
       "      <td>...</td>\n",
       "      <td>0.003861</td>\n",
       "      <td>0.003732</td>\n",
       "      <td>0.001199</td>\n",
       "      <td>0.003802</td>\n",
       "      <td>0.000094</td>\n",
       "      <td>0.004396</td>\n",
       "      <td>0.001031</td>\n",
       "      <td>0.001239</td>\n",
       "      <td>0.006674</td>\n",
       "      <td>0.016071</td>\n",
       "    </tr>\n",
       "    <tr>\n",
       "      <th>105</th>\n",
       "      <td>z</td>\n",
       "      <td>2</td>\n",
       "      <td>0.571011</td>\n",
       "      <td>0.514184</td>\n",
       "      <td>10301</td>\n",
       "      <td>10987</td>\n",
       "      <td>105.0</td>\n",
       "      <td>9</td>\n",
       "      <td>0.006847</td>\n",
       "      <td>0.001291</td>\n",
       "      <td>...</td>\n",
       "      <td>0.005616</td>\n",
       "      <td>0.002102</td>\n",
       "      <td>0.002549</td>\n",
       "      <td>0.005933</td>\n",
       "      <td>0.000225</td>\n",
       "      <td>0.015431</td>\n",
       "      <td>0.011103</td>\n",
       "      <td>0.000428</td>\n",
       "      <td>0.001775</td>\n",
       "      <td>0.021499</td>\n",
       "    </tr>\n",
       "    <tr>\n",
       "      <th>106</th>\n",
       "      <td>z</td>\n",
       "      <td>2</td>\n",
       "      <td>0.571011</td>\n",
       "      <td>0.514184</td>\n",
       "      <td>8274</td>\n",
       "      <td>8424</td>\n",
       "      <td>135.0</td>\n",
       "      <td>10</td>\n",
       "      <td>0.007738</td>\n",
       "      <td>0.000360</td>\n",
       "      <td>...</td>\n",
       "      <td>0.007786</td>\n",
       "      <td>0.001332</td>\n",
       "      <td>0.012086</td>\n",
       "      <td>0.003058</td>\n",
       "      <td>0.000922</td>\n",
       "      <td>0.002723</td>\n",
       "      <td>0.004642</td>\n",
       "      <td>0.000795</td>\n",
       "      <td>0.002124</td>\n",
       "      <td>0.019274</td>\n",
       "    </tr>\n",
       "    <tr>\n",
       "      <th>107</th>\n",
       "      <td>z</td>\n",
       "      <td>2</td>\n",
       "      <td>0.571011</td>\n",
       "      <td>0.514184</td>\n",
       "      <td>17262</td>\n",
       "      <td>17561</td>\n",
       "      <td>165.0</td>\n",
       "      <td>11</td>\n",
       "      <td>0.005358</td>\n",
       "      <td>0.000344</td>\n",
       "      <td>...</td>\n",
       "      <td>0.003354</td>\n",
       "      <td>0.002493</td>\n",
       "      <td>0.004490</td>\n",
       "      <td>0.006225</td>\n",
       "      <td>0.001308</td>\n",
       "      <td>0.001017</td>\n",
       "      <td>0.001231</td>\n",
       "      <td>0.001021</td>\n",
       "      <td>0.002865</td>\n",
       "      <td>0.010685</td>\n",
       "    </tr>\n",
       "  </tbody>\n",
       "</table>\n",
       "<p>12 rows × 24 columns</p>\n",
       "</div>"
      ],
      "text/plain": [
       "    axis  axis_bin  axis_max  axis_min  counts_neg  counts_pos    phi  \\\n",
       "96     z         2  0.571011  0.514184       17708       17810 -165.0   \n",
       "97     z         2  0.571011  0.514184        8581        8384 -135.0   \n",
       "98     z         2  0.571011  0.514184       10913       10471 -105.0   \n",
       "99     z         2  0.571011  0.514184        8514        8183  -75.0   \n",
       "100    z         2  0.571011  0.514184        4391        4144  -45.0   \n",
       "101    z         2  0.571011  0.514184        1693        1604  -15.0   \n",
       "102    z         2  0.571011  0.514184        1630        1619   15.0   \n",
       "103    z         2  0.571011  0.514184        4298        4288   45.0   \n",
       "104    z         2  0.571011  0.514184        8100        8340   75.0   \n",
       "105    z         2  0.571011  0.514184       10301       10987  105.0   \n",
       "106    z         2  0.571011  0.514184        8274        8424  135.0   \n",
       "107    z         2  0.571011  0.514184       17262       17561  165.0   \n",
       "\n",
       "     phi_bin      stat     sys_0    ...        sys_11     sys_2     sys_3  \\\n",
       "96         0  0.005306  0.000115    ...      0.009167  0.000768  0.005322   \n",
       "97         1  0.007677  0.000465    ...      0.006443  0.001482  0.002218   \n",
       "98         2  0.006836  0.000828    ...      0.001785  0.004938  0.001142   \n",
       "99         3  0.007736  0.000794    ...      0.002600  0.003359  0.002712   \n",
       "100        4  0.010816  0.001159    ...      0.008904  0.003290  0.007851   \n",
       "101        5  0.017404  0.001081    ...      0.016251  0.005638  0.013812   \n",
       "102        6  0.017544  0.000136    ...      0.023111  0.007916  0.015051   \n",
       "103        7  0.010792  0.000047    ...      0.009828  0.004312  0.009414   \n",
       "104        8  0.007798  0.000585    ...      0.003861  0.003732  0.001199   \n",
       "105        9  0.006847  0.001291    ...      0.005616  0.002102  0.002549   \n",
       "106       10  0.007738  0.000360    ...      0.007786  0.001332  0.012086   \n",
       "107       11  0.005358  0.000344    ...      0.003354  0.002493  0.004490   \n",
       "\n",
       "        sys_4     sys_5     sys_6     sys_7     sys_8     sys_9  sys_total  \n",
       "96   0.002135  0.000315  0.004526  0.007335  0.002025  0.001209   0.014957  \n",
       "97   0.006442  0.000776  0.009910  0.001650  0.001492  0.003092   0.014355  \n",
       "98   0.004960  0.000099  0.002183  0.000284  0.001238  0.007271   0.016668  \n",
       "99   0.002760  0.000230  0.007114  0.006405  0.002123  0.004510   0.016133  \n",
       "100  0.006677  0.001923  0.009447  0.004084  0.002524  0.005561   0.021236  \n",
       "101  0.016507  0.003297  0.016742  0.006336  0.006371  0.020773   0.041360  \n",
       "102  0.006687  0.003104  0.020578  0.033875  0.012754  0.006947   0.053236  \n",
       "103  0.005216  0.003389  0.004035  0.002663  0.001242  0.003191   0.023723  \n",
       "104  0.003802  0.000094  0.004396  0.001031  0.001239  0.006674   0.016071  \n",
       "105  0.005933  0.000225  0.015431  0.011103  0.000428  0.001775   0.021499  \n",
       "106  0.003058  0.000922  0.002723  0.004642  0.000795  0.002124   0.019274  \n",
       "107  0.006225  0.001308  0.001017  0.001231  0.001021  0.002865   0.010685  \n",
       "\n",
       "[12 rows x 24 columns]"
      ]
     },
     "execution_count": 52,
     "metadata": {},
     "output_type": "execute_result"
    }
   ],
   "source": [
    "test_data"
   ]
  },
  {
   "cell_type": "code",
   "execution_count": 53,
   "metadata": {
    "collapsed": true
   },
   "outputs": [],
   "source": [
    "r = minimize(fun=lambda x: chi2(test_data.value, update_model(model, x, test_data.phi), test_data.stat), \n",
    "             x0=model.pars,\n",
    "            bounds=model.bounds)"
   ]
  },
  {
   "cell_type": "code",
   "execution_count": 54,
   "metadata": {},
   "outputs": [
    {
     "data": {
      "text/plain": [
       "      fun: 19.592845625075945\n",
       " hess_inv: <3x3 LbfgsInvHessProduct with dtype=float64>\n",
       "      jac: array([  2.87414537e-04,   3.55271368e-07,   1.27897692e-05])\n",
       "  message: 'CONVERGENCE: REL_REDUCTION_OF_F_<=_FACTR*EPSMCH'\n",
       "     nfev: 136\n",
       "      nit: 30\n",
       "   status: 0\n",
       "  success: True\n",
       "        x: array([ 0.01753481,  0.30037345,  0.48921441])"
      ]
     },
     "execution_count": 54,
     "metadata": {},
     "output_type": "execute_result"
    }
   ],
   "source": [
    "r"
   ]
  },
  {
   "cell_type": "code",
   "execution_count": 55,
   "metadata": {},
   "outputs": [
    {
     "data": {
      "text/plain": [
       "[<matplotlib.lines.Line2D at 0x1087732d0>]"
      ]
     },
     "execution_count": 55,
     "metadata": {},
     "output_type": "execute_result"
    },
    {
     "data": {
      "image/png": "[encoded data removed]",
      "text/plain": [
       "<matplotlib.figure.Figure at 0x10870b890>"
      ]
     },
     "metadata": {},
     "output_type": "display_data"
    }
   ],
   "source": [
    "plt.errorbar(x=test_data.phi, y=test_data.value, yerr=test_data.stat,\n",
    "            linestyle='', color='black', marker='o')\n",
    "plt.plot(np.linspace(-180,180,100), model.evaluate(np.linspace(-180,180,100)), \n",
    "        linestyle='-', color='red')"
   ]
  },
  {
   "cell_type": "code",
   "execution_count": 56,
   "metadata": {
    "collapsed": true
   },
   "outputs": [],
   "source": [
    "from sklearn.utils import shuffle\n",
    "\n",
    "def setup_dataframe(n_folds, x, y, y_err, shuf=False):\n",
    "    \n",
    "    if len(y) % n_folds != 0:\n",
    "        print('Data (%d) is not divisible into %d folds.' % (len(y), n_folds))\n",
    "        return \n",
    "    \n",
    "    x = x.transpose()\n",
    "    y = y.transpose()\n",
    "    y_err = y_err.transpose()\n",
    "    \n",
    "    d  = {'x':x, 'y':y, 'y_err':y_err}\n",
    "    df = pd.DataFrame(data=d)\n",
    "    \n",
    "    if shuf is True:\n",
    "        df = shuffle(df)\n",
    "\n",
    "    chunk_size = int(len(y)/n_folds) \n",
    "    \n",
    "    a = np.arange(0,n_folds)\n",
    "    df['chunk'] = np.repeat(a,chunk_size)\n",
    "    return df\n",
    "\n",
    "def cross_validate(n_folds, model, df):\n",
    "\n",
    "    validation_scores = []\n",
    "    parameters = []\n",
    "    for i in range(n_folds):\n",
    "        res = minimize(fun=lambda p: np.average((df.query('chunk != %d' % i).y - update_model(model, p, df.query('chunk != %d' % i).x))**2/df.query('chunk != %d' % i).y_err**2), \n",
    "                    x0=model.pars, bounds=model.bounds)\n",
    "                                \n",
    "        y_pred = update_model(model, res.x, df.query('chunk == %d' % i).x)\n",
    "        validation_scores.append(np.average((df.query('chunk == %d' % i).y-y_pred)**2/df.query('chunk == %d' % i).y_err**2))\n",
    "        parameters.append(res.x)\n",
    "        \n",
    "    return np.array(validation_scores), parameters"
   ]
  },
  {
   "cell_type": "code",
   "execution_count": 57,
   "metadata": {
    "collapsed": true
   },
   "outputs": [],
   "source": [
    "models = {}\n",
    "\n",
    "models['basic'] = SineModel()\n",
    "models['full'] = FullModel()\n",
    "models['half'] = FullModel()\n",
    "models['half'].bounds = np.array([[-1,1],[-1,1],[-0.0001,0.0001]], dtype=np.float32)\n",
    "\n",
    "models['full_bounded'] = FullModel()\n",
    "models['full_bounded'].bounds = np.array([[-1,1],[-0.1,0.1],[-0.1,0.1]], dtype=np.float32)\n",
    "                                          \n",
    "for m in models.values():\n",
    "    m.get_initial_parameters()"
   ]
  },
  {
   "cell_type": "code",
   "execution_count": 58,
   "metadata": {
    "collapsed": true
   },
   "outputs": [],
   "source": [
    "CHUNKS = 3\n",
    "df_chunked = setup_dataframe(CHUNKS, test_data.phi, test_data.value, np.sqrt(test_data.sys_total**2 + test_data.stat**2), shuf=False)"
   ]
  },
  {
   "cell_type": "code",
   "execution_count": 59,
   "metadata": {},
   "outputs": [
    {
     "name": "stdout",
     "output_type": "stream",
     "text": [
      "Fitting full_bounded\n",
      "Fitting half\n",
      "Fitting full\n",
      "Fitting basic\n"
     ]
    }
   ],
   "source": [
    "cv_scores = {}\n",
    "cv_pars = {}\n",
    "\n",
    "for name, m in models.iteritems():\n",
    "    print('Fitting %s' % name)\n",
    "    cv_scores[name], cv_pars[name] = cross_validate(CHUNKS, m, df_chunked)"
   ]
  },
  {
   "cell_type": "code",
   "execution_count": 60,
   "metadata": {},
   "outputs": [
    {
     "data": {
      "text/plain": [
       "{'basic': array([ 0.14987267,  0.44172183,  0.24500724]),\n",
       " 'full': array([ 0.20438314,  0.57750683,  0.32250447]),\n",
       " 'full_bounded': array([ 0.20299209,  0.45877581,  0.2691167 ]),\n",
       " 'half': array([ 0.20031031,  0.43944856,  0.30827155])}"
      ]
     },
     "execution_count": 60,
     "metadata": {},
     "output_type": "execute_result"
    }
   ],
   "source": [
    "cv_scores"
   ]
  },
  {
   "cell_type": "code",
   "execution_count": 61,
   "metadata": {},
   "outputs": [
    {
     "data": {
      "text/plain": [
       "{'basic': [array([ 0.02877499]), array([ 0.02655725]), array([ 0.02602331])],\n",
       " 'full': [array([ 0.02910359,  0.12079614, -0.0286517 ]),\n",
       "  array([ 0.01580644,  0.39035147,  0.50853672]),\n",
       "  array([ 0.02375766, -0.25787141,  0.15695399])],\n",
       " 'full_bounded': [array([ 0.02936265,  0.1       , -0.0474477 ]),\n",
       "  array([ 0.02471874,  0.07506849,  0.1       ]),\n",
       "  array([ 0.02490738, -0.1       ,  0.1       ])],\n",
       " 'half': [array([  2.87244852e-02,   1.37888190e-01,  -9.99999975e-05]),\n",
       "  array([  2.66896624e-02,  -2.87568368e-02,   9.99999975e-05]),\n",
       "  array([  2.58334133e-02,  -2.80538128e-01,   9.99999975e-05])]}"
      ]
     },
     "execution_count": 61,
     "metadata": {},
     "output_type": "execute_result"
    }
   ],
   "source": [
    "cv_pars"
   ]
  },
  {
   "cell_type": "code",
   "execution_count": 62,
   "metadata": {},
   "outputs": [
    {
     "name": "stdout",
     "output_type": "stream",
     "text": [
      "('basic', 0.27886724567671617)\n",
      "('full_bounded', 0.31029486744397788)\n",
      "('full', 0.36813148218271641)\n",
      "('half', 0.31601013861343469)\n"
     ]
    }
   ],
   "source": [
    "for k,v in cv_scores.iteritems():\n",
    "    print(k, np.average(v))"
   ]
  },
  {
   "cell_type": "code",
   "execution_count": 63,
   "metadata": {},
   "outputs": [
    {
     "data": {
      "text/plain": [
       "<Container object of 4 artists>"
      ]
     },
     "execution_count": 63,
     "metadata": {},
     "output_type": "execute_result"
    },
    {
     "data": {
      "image/png": "[encoded data removed]",
      "text/plain": [
       "<matplotlib.figure.Figure at 0x101266dd0>"
      ]
     },
     "metadata": {},
     "output_type": "display_data"
    }
   ],
   "source": [
    "h = [np.average(xx) for xx in cv_scores.values()]\n",
    "plt.bar(np.arange(len(cv_scores.keys())), height=h)"
   ]
  },
  {
   "cell_type": "code",
   "execution_count": 64,
   "metadata": {},
   "outputs": [
    {
     "data": {
      "image/png": "[encoded data removed]",
      "text/plain": [
       "<matplotlib.figure.Figure at 0x108767790>"
      ]
     },
     "metadata": {},
     "output_type": "display_data"
    }
   ],
   "source": [
    "n_col = 3\n",
    "n_row = np.ceil((len(cv_pars.keys())-1)/n_col)+1\n",
    "plt.figure(figsize=(n_col*4, n_row*3))\n",
    "\n",
    "train = df_chunked.query('chunk != 0')\n",
    "test  = df_chunked.query('chunk == 0')\n",
    "\n",
    "index = 1\n",
    "x = np.linspace(-180,180,100)\n",
    "for name, model in models.iteritems():\n",
    "    plt.subplot(n_row, n_col, index)\n",
    "    plt.plot(train.x, train.y, linestyle='', marker='o', color='black')\n",
    "    plt.plot(test.x, test.y, linestyle='', marker='o', color='red')\n",
    "    \n",
    "    y = [update_model(model, cv_pars[name][0], xi) for xi in x]\n",
    "    plt.plot(x, y, color='red')\n",
    "    index += 1\n",
    "    \n",
    "plt.tight_layout()"
   ]
  },
  {
   "cell_type": "code",
   "execution_count": 65,
   "metadata": {
    "collapsed": true
   },
   "outputs": [],
   "source": [
    "def generate_toy_data(df, model):\n",
    "    d = df.copy(deep=True)\n",
    "    d.value = model.evaluate(d.phi) + np.random.normal(loc=0.0, scale=d.stat)\n",
    "    return d"
   ]
  },
  {
   "cell_type": "code",
   "execution_count": 66,
   "metadata": {
    "collapsed": true
   },
   "outputs": [],
   "source": [
    "#models['full'].pars = [0.05, 0.02, -0.02]\n",
    "models['basic'].pars = [0.065]\n",
    "mc = generate_toy_data(test_data, models['basic'])"
   ]
  },
  {
   "cell_type": "code",
   "execution_count": 67,
   "metadata": {},
   "outputs": [
    {
     "data": {
      "text/plain": [
       "<Container object of 3 artists>"
      ]
     },
     "execution_count": 67,
     "metadata": {},
     "output_type": "execute_result"
    },
    {
     "data": {
      "image/png": "[encoded data removed]",
      "text/plain": [
       "<matplotlib.figure.Figure at 0x10870b790>"
      ]
     },
     "metadata": {},
     "output_type": "display_data"
    }
   ],
   "source": [
    "plt.errorbar(x=mc.phi, y=mc.value, yerr=mc.stat, color='black', \n",
    "            linestyle='', marker='o')"
   ]
  },
  {
   "cell_type": "code",
   "execution_count": 68,
   "metadata": {
    "collapsed": true
   },
   "outputs": [],
   "source": [
    "rmc = minimize(fun=lambda x: chi2(mc.value, update_model(models['full'], x, mc.phi), np.sqrt(mc.stat**2 + mc.sys_total**2)), \n",
    "             x0=models['full'].pars,\n",
    "            bounds=models['full'].bounds)"
   ]
  },
  {
   "cell_type": "code",
   "execution_count": 69,
   "metadata": {},
   "outputs": [
    {
     "data": {
      "text/plain": [
       "      fun: 1.8826217254865318\n",
       " hess_inv: <3x3 LbfgsInvHessProduct with dtype=float64>\n",
       "      jac: array([ -6.99440506e-06,   6.43929354e-07,   2.66453526e-07])\n",
       "  message: 'CONVERGENCE: NORM_OF_PROJECTED_GRADIENT_<=_PGTOL'\n",
       "     nfev: 88\n",
       "      nit: 16\n",
       "   status: 0\n",
       "  success: True\n",
       "        x: array([ 0.06268149, -0.08094593,  0.14493452])"
      ]
     },
     "execution_count": 69,
     "metadata": {},
     "output_type": "execute_result"
    }
   ],
   "source": [
    "rmc"
   ]
  },
  {
   "cell_type": "code",
   "execution_count": 70,
   "metadata": {
    "collapsed": true
   },
   "outputs": [],
   "source": [
    "def single_fit(model, data):\n",
    "    model.get_initial_parameters()\n",
    "    res = minimize(fun=lambda x: chi2(data.value, update_model(model, x, data.phi), np.sqrt(data.stat**2 + data.sys_total**2)), \n",
    "             x0=model.pars, bounds=model.bounds)\n",
    "\n",
    "    identity = np.identity(len(model.pars))\n",
    "    err = np.sqrt(np.array(np.matrix(res.hess_inv * identity).diagonal()))\n",
    "    \n",
    "    return res.x, err"
   ]
  },
  {
   "cell_type": "code",
   "execution_count": 71,
   "metadata": {
    "collapsed": true
   },
   "outputs": [],
   "source": [
    "def create_replica(y, y_err):\n",
    "    y_rep = [np.random.normal(yp, np.fabs(yp_err)) for yp, yp_err in zip(y,y_err)]\n",
    "    return np.array(y_rep)"
   ]
  },
  {
   "cell_type": "code",
   "execution_count": 82,
   "metadata": {},
   "outputs": [],
   "source": [
    "def bootstrap_fit(model, data, n_replicas=100):\n",
    "\n",
    "    results = []\n",
    "    scores = []\n",
    "    \n",
    "    for irep in range(n_replicas):\n",
    "        d = data.copy(deep=True)\n",
    "        rep = create_replica(d.value, np.sqrt(d.stat**2 + d.sys_total**2)) \n",
    "        d['value'] = rep   \n",
    "        pars,errs = single_fit(model, d)\n",
    "        results.append(pars)\n",
    "        scores.append(chi2(d.value, update_model(model, pars, d.phi), np.sqrt(d.stat**2 + d.sys_total**2)))\n",
    "        \n",
    "        if irep%10 is 0:\n",
    "            print('Processing replica (%d/%d)' % (irep, n_replicas))\n",
    "            \n",
    "    return np.array(results), np.array(scores)"
   ]
  },
  {
   "cell_type": "code",
   "execution_count": 104,
   "metadata": {},
   "outputs": [
    {
     "name": "stdout",
     "output_type": "stream",
     "text": [
      "Processing replica (0/500)\n",
      "Processing replica (10/500)\n",
      "Processing replica (20/500)\n",
      "Processing replica (30/500)\n",
      "Processing replica (40/500)\n",
      "Processing replica (50/500)\n",
      "Processing replica (60/500)\n",
      "Processing replica (70/500)\n",
      "Processing replica (80/500)\n",
      "Processing replica (90/500)\n",
      "Processing replica (100/500)\n",
      "Processing replica (110/500)\n",
      "Processing replica (120/500)\n",
      "Processing replica (130/500)\n",
      "Processing replica (140/500)\n",
      "Processing replica (150/500)\n",
      "Processing replica (160/500)\n",
      "Processing replica (170/500)\n",
      "Processing replica (180/500)\n",
      "Processing replica (190/500)\n",
      "Processing replica (200/500)\n",
      "Processing replica (210/500)\n",
      "Processing replica (220/500)\n",
      "Processing replica (230/500)\n",
      "Processing replica (240/500)\n",
      "Processing replica (250/500)\n",
      "Processing replica (260/500)\n",
      "Processing replica (270/500)\n",
      "Processing replica (280/500)\n",
      "Processing replica (290/500)\n",
      "Processing replica (300/500)\n",
      "Processing replica (310/500)\n",
      "Processing replica (320/500)\n",
      "Processing replica (330/500)\n",
      "Processing replica (340/500)\n",
      "Processing replica (350/500)\n",
      "Processing replica (360/500)\n",
      "Processing replica (370/500)\n",
      "Processing replica (380/500)\n",
      "Processing replica (390/500)\n",
      "Processing replica (400/500)\n",
      "Processing replica (410/500)\n",
      "Processing replica (420/500)\n",
      "Processing replica (430/500)\n",
      "Processing replica (440/500)\n",
      "Processing replica (450/500)\n",
      "Processing replica (460/500)\n",
      "Processing replica (470/500)\n",
      "Processing replica (480/500)\n",
      "Processing replica (490/500)\n"
     ]
    }
   ],
   "source": [
    "boot,boot_score = bootstrap_fit(models['half'], test_data, 500)"
   ]
  },
  {
   "cell_type": "code",
   "execution_count": 105,
   "metadata": {},
   "outputs": [
    {
     "data": {
      "text/plain": [
       "array([ 0.02459214,  0.03268946,  0.02674373,  0.01532403,  0.02231101,\n",
       "        0.02063819,  0.01038937,  0.02309127,  0.01617812,  0.02585152,\n",
       "        0.01896602,  0.01902168,  0.03483599,  0.02444281,  0.02979816,\n",
       "        0.03019878,  0.03234601,  0.04094526,  0.02263219,  0.04127144,\n",
       "        0.01373724,  0.01938545,  0.04067366,  0.0285915 ,  0.01468972,\n",
       "        0.03376412,  0.03356982,  0.01751373,  0.02213991,  0.03892051,\n",
       "        0.04364231,  0.0421333 ,  0.02292461,  0.03852308,  0.02685004,\n",
       "        0.02739937,  0.0282952 ,  0.01991435,  0.04004492,  0.03486403,\n",
       "        0.03838635,  0.0297893 ,  0.0264527 ,  0.01994026,  0.03021533,\n",
       "        0.02137432,  0.02730987,  0.01444362,  0.01550653,  0.018275  ,\n",
       "        0.01677925,  0.02084677,  0.03469649,  0.02824132,  0.02234431,\n",
       "        0.03589191,  0.03321706,  0.01648479,  0.03008235,  0.02763551,\n",
       "        0.0300199 ,  0.02433446,  0.01654267,  0.01388987,  0.01476494,\n",
       "        0.03990561,  0.03908432,  0.01704947,  0.03078548,  0.02611986,\n",
       "        0.03027518,  0.03104525,  0.0130321 ,  0.02713153,  0.01737796,\n",
       "        0.03196411,  0.02193341,  0.01462973,  0.03256251,  0.03202399,\n",
       "        0.02848602,  0.01868678,  0.01692556,  0.02685987,  0.01543562,\n",
       "        0.02619552,  0.02411877,  0.03686295,  0.02716316,  0.0120157 ,\n",
       "        0.04120244,  0.02569163,  0.01946982,  0.02737985,  0.01640353,\n",
       "        0.02891043,  0.01667178,  0.02713178,  0.02476763,  0.01997777,\n",
       "        0.02178595,  0.03633157,  0.02482746,  0.02533576,  0.02796259,\n",
       "        0.01768479,  0.0146877 ,  0.02212408,  0.03025228,  0.01404575,\n",
       "        0.01020166,  0.02190565,  0.0166791 ,  0.02611386,  0.02357772,\n",
       "        0.01745695,  0.01881293,  0.03693186,  0.02404284,  0.03100952,\n",
       "        0.02516013,  0.02324972,  0.03408513,  0.02862941,  0.04501814,\n",
       "        0.02653315,  0.01739376,  0.02772299,  0.02453976,  0.03462368,\n",
       "        0.01432303,  0.02104513,  0.01848648,  0.03125135,  0.02338634,\n",
       "        0.00767707,  0.01572014,  0.02258105,  0.04190026,  0.03842553,\n",
       "        0.03573816,  0.01793162,  0.02382991,  0.02155671,  0.05149993,\n",
       "        0.02925519,  0.01925641,  0.0329103 ,  0.01713273,  0.01910289,\n",
       "        0.03586504,  0.02390595,  0.01213313,  0.02281667,  0.0255991 ,\n",
       "        0.03880318,  0.02626739,  0.01773329,  0.00742543,  0.03886023,\n",
       "        0.01952484,  0.01703653,  0.02958705,  0.02143774,  0.0268159 ,\n",
       "        0.01823872,  0.02160004,  0.02093355,  0.02584711,  0.02000548,\n",
       "        0.02205254,  0.03027616,  0.0235147 ,  0.01903064,  0.02850903,\n",
       "        0.02374019,  0.01917511,  0.02400255,  0.0325425 ,  0.0102631 ,\n",
       "        0.03149138,  0.01150534,  0.01704187,  0.03198356,  0.02087942,\n",
       "        0.0208578 ,  0.03167134,  0.02837665,  0.00695476,  0.02576098,\n",
       "        0.02043711,  0.02453753,  0.01326243,  0.02423491,  0.0202071 ,\n",
       "        0.02405181,  0.01903912,  0.03599357,  0.021365  ,  0.02690724,\n",
       "        0.02209355,  0.01388946,  0.01605384,  0.03207692,  0.02161237,\n",
       "        0.02069413,  0.02503805,  0.03420015,  0.03321131,  0.03181437,\n",
       "        0.02366471,  0.04237118,  0.03874343,  0.02505179,  0.03375998,\n",
       "        0.03075965,  0.01826292,  0.01848636,  0.02259114,  0.04049144,\n",
       "        0.02245715,  0.02863772,  0.02355397,  0.01184088,  0.02429962,\n",
       "        0.02873494,  0.02702732,  0.01899794,  0.02915633,  0.02129071,\n",
       "        0.03424376,  0.0277914 ,  0.02093309,  0.01777633,  0.02277716,\n",
       "        0.03083321,  0.02895537,  0.02265574,  0.02953125,  0.03546951,\n",
       "        0.0253645 ,  0.02086825,  0.03176781,  0.02851093,  0.02393779,\n",
       "        0.01368495,  0.02557213,  0.0277622 ,  0.02140151,  0.02344098,\n",
       "        0.03467106,  0.03538593,  0.03125418,  0.03078646,  0.02662803,\n",
       "        0.03521003,  0.02676375,  0.03614642,  0.01230799,  0.0282811 ,\n",
       "        0.01002845,  0.03267406,  0.02666544,  0.01479295,  0.03689244,\n",
       "        0.02474594,  0.02423136,  0.0332299 ,  0.02830316,  0.01709836,\n",
       "        0.03664199,  0.04129978,  0.02549367,  0.03180479,  0.01508976,\n",
       "        0.0218406 ,  0.03396018,  0.02321449,  0.0234572 ,  0.03287002,\n",
       "        0.00913673,  0.03584297,  0.01910834,  0.03781564,  0.02501327,\n",
       "        0.0119547 ,  0.02236867,  0.03181952,  0.02941515,  0.02529041,\n",
       "        0.02799226,  0.00614579,  0.02797784,  0.0232178 ,  0.02116428,\n",
       "        0.03137275,  0.02266744,  0.02291212,  0.05316046,  0.02908532,\n",
       "        0.02314736,  0.01083258,  0.02474019,  0.02708488,  0.0269868 ,\n",
       "        0.02461258,  0.03041447,  0.0247382 ,  0.01872168,  0.03479442,\n",
       "        0.02995414,  0.01149835,  0.02351355,  0.02915295,  0.04119531,\n",
       "        0.0137499 ,  0.05256251,  0.0308702 ,  0.03231306,  0.02582924,\n",
       "        0.00774453,  0.03608989,  0.03688138,  0.03219035,  0.01990136,\n",
       "        0.01519699,  0.02728445,  0.04176234,  0.03398233,  0.01754571,\n",
       "        0.03185947,  0.02660905,  0.020081  ,  0.03009023,  0.01019238,\n",
       "        0.03019172,  0.03013402,  0.01487155,  0.02338868,  0.01522908,\n",
       "        0.01617649,  0.03046712,  0.01743673,  0.01920749,  0.0344493 ,\n",
       "        0.02849912,  0.02781707,  0.03006804,  0.02482111,  0.02390132,\n",
       "        0.02680106,  0.03667505,  0.02597881,  0.02098241,  0.02146432,\n",
       "        0.02139227,  0.01916242,  0.02507477,  0.02242129,  0.03974926,\n",
       "        0.02928672,  0.02267915,  0.01393689,  0.01135476,  0.02090827,\n",
       "        0.01222768,  0.04131243,  0.02357599,  0.01584052,  0.01871443,\n",
       "        0.01379552,  0.01770413,  0.01871976,  0.0361588 ,  0.03883943,\n",
       "        0.02405873,  0.01843396,  0.04207909,  0.02288353,  0.01026919,\n",
       "        0.02534495,  0.02555763,  0.02532021,  0.00640329,  0.01325034,\n",
       "        0.01710759,  0.03410197,  0.02110654,  0.01704063,  0.03414344,\n",
       "        0.01970833,  0.02843303,  0.03566154,  0.01532973,  0.03294629,\n",
       "        0.01832879,  0.02308475,  0.01377066,  0.01505437,  0.04866282,\n",
       "        0.0314734 ,  0.02667278,  0.02477982,  0.02068658,  0.02684878,\n",
       "        0.01987217,  0.0132641 ,  0.01298277,  0.01986561,  0.04034973,\n",
       "        0.02560191,  0.02598712,  0.02751355,  0.00392101,  0.04030297,\n",
       "        0.03381034,  0.02467699,  0.02719946,  0.01794757,  0.02803571,\n",
       "        0.03802892,  0.03574524,  0.0228756 ,  0.0106659 ,  0.02865981,\n",
       "        0.02169508,  0.02935352,  0.02633707,  0.03295244,  0.02793223,\n",
       "        0.02901892,  0.02253034,  0.02889015,  0.03940487,  0.01900427,\n",
       "        0.01790897,  0.03319198,  0.0260019 ,  0.02596221,  0.03281574,\n",
       "        0.02778311,  0.03199194,  0.02426398,  0.00942844,  0.03781408,\n",
       "        0.018346  ,  0.01742463,  0.02942768,  0.0201718 ,  0.00435828,\n",
       "        0.01825571,  0.02761783,  0.01320629,  0.01472909,  0.0097473 ,\n",
       "        0.03308676,  0.03575868,  0.02859766,  0.02868417,  0.02622035,\n",
       "        0.02540752,  0.02664974,  0.0402459 ,  0.01981649,  0.02520127,\n",
       "        0.02585344,  0.02587996,  0.01514925,  0.02170787,  0.02762966,\n",
       "        0.01659284,  0.01107866,  0.02295407,  0.01546176,  0.01921707,\n",
       "        0.01834419,  0.0131997 ,  0.02162722,  0.02985991,  0.04159603,\n",
       "        0.01922958,  0.0489989 ,  0.03278163,  0.02275599,  0.02343163,\n",
       "        0.02511274,  0.04073556,  0.01220739,  0.04278667,  0.02163994,\n",
       "        0.0216898 ,  0.02473423,  0.01903597,  0.02376742,  0.03026443,\n",
       "        0.01378716,  0.02779984,  0.02151424,  0.03009741,  0.02662635])"
      ]
     },
     "execution_count": 105,
     "metadata": {},
     "output_type": "execute_result"
    }
   ],
   "source": [
    "boot[:,0]"
   ]
  },
  {
   "cell_type": "code",
   "execution_count": 114,
   "metadata": {},
   "outputs": [
    {
     "data": {
      "image/png": "[encoded data removed]",
      "text/plain": [
       "<matplotlib.figure.Figure at 0x108b3add0>"
      ]
     },
     "metadata": {},
     "output_type": "display_data"
    }
   ],
   "source": [
    "hb = np.linspace(-0.1, 0.1, 80)\n",
    "plt.hist(boot[:,0], bins=hb, normed=True, histtype='stepfilled',\n",
    "        color='yellow', edgecolor='red', alpha=0.7, hatch='///');\n",
    "#plt.hist(boot[:,1], bins=hb);\n",
    "#plt.hist(boot[:,2], bins=hb);"
   ]
  },
  {
   "cell_type": "code",
   "execution_count": 111,
   "metadata": {},
   "outputs": [
    {
     "data": {
      "text/plain": [
       "(0.025215134080653474, 0.0084089748635428913)"
      ]
     },
     "execution_count": 111,
     "metadata": {},
     "output_type": "execute_result"
    }
   ],
   "source": [
    "np.average(boot[:,0]), np.std(boot[:,0])"
   ]
  },
  {
   "cell_type": "code",
   "execution_count": 87,
   "metadata": {},
   "outputs": [
    {
     "data": {
      "text/plain": [
       "(-0.13119073415216329, 0.50604398709192566)"
      ]
     },
     "execution_count": 87,
     "metadata": {},
     "output_type": "execute_result"
    }
   ],
   "source": [
    "np.average(boot[:,1]), np.std(boot[:,1])"
   ]
  },
  {
   "cell_type": "code",
   "execution_count": 88,
   "metadata": {
    "collapsed": true
   },
   "outputs": [],
   "source": [
    "axes = np.unique(data.axis)"
   ]
  },
  {
   "cell_type": "code",
   "execution_count": 89,
   "metadata": {},
   "outputs": [
    {
     "data": {
      "text/plain": [
       "array(['pt', 'x', 'z'], dtype=object)"
      ]
     },
     "execution_count": 89,
     "metadata": {},
     "output_type": "execute_result"
    }
   ],
   "source": [
    "axes"
   ]
  },
  {
   "cell_type": "code",
   "execution_count": 96,
   "metadata": {},
   "outputs": [
    {
     "name": "stdout",
     "output_type": "stream",
     "text": [
      "Processing replica (0/80)\n",
      "Processing replica (10/80)\n",
      "Processing replica (20/80)\n",
      "Processing replica (30/80)\n",
      "Processing replica (40/80)\n",
      "Processing replica (50/80)\n",
      "Processing replica (60/80)\n",
      "Processing replica (70/80)\n",
      "('pt', 0, array([ 0.02608901]), array([[ 0.00655263]]), 0.026824835889920511, 0.0088210920672745774)\n",
      "Processing replica (0/80)\n",
      "Processing replica (10/80)\n",
      "Processing replica (20/80)\n",
      "Processing replica (30/80)\n",
      "Processing replica (40/80)\n",
      "Processing replica (50/80)\n",
      "Processing replica (60/80)\n",
      "Processing replica (70/80)\n",
      "('pt', 1, array([ 0.03607499]), array([[ 0.00587908]]), 0.036788996477411538, 0.0081207812939757002)\n",
      "Processing replica (0/80)\n",
      "Processing replica (10/80)\n",
      "Processing replica (20/80)\n",
      "Processing replica (30/80)\n",
      "Processing replica (40/80)\n",
      "Processing replica (50/80)\n",
      "Processing replica (60/80)\n",
      "Processing replica (70/80)\n",
      "('pt', 2, array([ 0.03036806]), array([[ 0.00546878]]), 0.030676203465006536, 0.0083877784774690732)\n",
      "Processing replica (0/80)\n",
      "Processing replica (10/80)\n",
      "Processing replica (20/80)\n",
      "Processing replica (30/80)\n",
      "Processing replica (40/80)\n",
      "Processing replica (50/80)\n",
      "Processing replica (60/80)\n",
      "Processing replica (70/80)\n",
      "('pt', 3, array([ 0.0390614]), array([[ 0.00596441]]), 0.039566409816053236, 0.0071752255452496461)\n",
      "Processing replica (0/80)\n",
      "Processing replica (10/80)\n",
      "Processing replica (20/80)\n",
      "Processing replica (30/80)\n",
      "Processing replica (40/80)\n",
      "Processing replica (50/80)\n",
      "Processing replica (60/80)\n",
      "Processing replica (70/80)\n",
      "('pt', 4, array([ 0.02738438]), array([[ 0.0055716]]), 0.027779855502847249, 0.0079440827316760131)\n",
      "Processing replica (0/80)\n",
      "Processing replica (10/80)\n",
      "Processing replica (20/80)\n",
      "Processing replica (30/80)\n",
      "Processing replica (40/80)\n",
      "Processing replica (50/80)\n",
      "Processing replica (60/80)\n",
      "Processing replica (70/80)\n",
      "('pt', 5, array([ 0.02329997]), array([[ 0.0051022]]), 0.023951638756630183, 0.0065469662224105288)\n",
      "Processing replica (0/80)\n",
      "Processing replica (10/80)\n",
      "Processing replica (20/80)\n",
      "Processing replica (30/80)\n",
      "Processing replica (40/80)\n",
      "Processing replica (50/80)\n",
      "Processing replica (60/80)\n",
      "Processing replica (70/80)\n",
      "('x', 0, array([ 0.01569368]), array([[ 0.00640901]]), 0.014243123097320554, 0.0088337248130899906)\n",
      "Processing replica (0/80)\n",
      "Processing replica (10/80)\n",
      "Processing replica (20/80)\n",
      "Processing replica (30/80)\n",
      "Processing replica (40/80)\n",
      "Processing replica (50/80)\n",
      "Processing replica (60/80)\n",
      "Processing replica (70/80)\n",
      "('x', 1, array([ 0.02505009]), array([[ 0.00682251]]), 0.02651023500194228, 0.0078685788340092742)\n",
      "Processing replica (0/80)\n",
      "Processing replica (10/80)\n",
      "Processing replica (20/80)\n",
      "Processing replica (30/80)\n",
      "Processing replica (40/80)\n",
      "Processing replica (50/80)\n",
      "Processing replica (60/80)\n",
      "Processing replica (70/80)\n",
      "('x', 2, array([ 0.03542108]), array([[ 1.]]), 0.03454854450786575, 0.0083366350824411965)\n",
      "Processing replica (0/80)\n",
      "Processing replica (10/80)\n",
      "Processing replica (20/80)\n",
      "Processing replica (30/80)\n",
      "Processing replica (40/80)\n",
      "Processing replica (50/80)\n",
      "Processing replica (60/80)\n",
      "Processing replica (70/80)\n",
      "('x', 3, array([ 0.03648417]), array([[ 0.00576608]]), 0.036776095375205729, 0.0082028380269616678)\n",
      "Processing replica (0/80)\n",
      "Processing replica (10/80)\n",
      "Processing replica (20/80)\n",
      "Processing replica (30/80)\n",
      "Processing replica (40/80)\n",
      "Processing replica (50/80)\n",
      "Processing replica (60/80)\n",
      "Processing replica (70/80)\n",
      "('x', 4, array([ 0.03218434]), array([[ 0.00518029]]), 0.033393674615617146, 0.0079404399105692299)\n",
      "Processing replica (0/80)\n",
      "Processing replica (10/80)\n",
      "Processing replica (20/80)\n",
      "Processing replica (30/80)\n",
      "Processing replica (40/80)\n",
      "Processing replica (50/80)\n",
      "Processing replica (60/80)\n",
      "Processing replica (70/80)\n",
      "('x', 5, array([ 0.02970944]), array([[ 0.00466651]]), 0.02964971528846979, 0.0062702569637757269)\n",
      "Processing replica (0/80)\n",
      "Processing replica (10/80)\n",
      "Processing replica (20/80)\n",
      "Processing replica (30/80)\n",
      "Processing replica (40/80)\n",
      "Processing replica (50/80)\n",
      "Processing replica (60/80)\n",
      "Processing replica (70/80)\n",
      "('z', 0, array([ 0.01720726]), array([[ 0.00457825]]), 0.017699264190521959, 0.0062826390064137753)\n",
      "Processing replica (0/80)\n",
      "Processing replica (10/80)\n",
      "Processing replica (20/80)\n",
      "Processing replica (30/80)\n",
      "Processing replica (40/80)\n",
      "Processing replica (50/80)\n",
      "Processing replica (60/80)\n",
      "Processing replica (70/80)\n",
      "('z', 1, array([ 0.01742486]), array([[ 0.00438248]]), 0.017533313299061253, 0.0064850658352682044)\n",
      "Processing replica (0/80)\n",
      "Processing replica (10/80)\n",
      "Processing replica (20/80)\n",
      "Processing replica (30/80)\n",
      "Processing replica (40/80)\n",
      "Processing replica (50/80)\n",
      "Processing replica (60/80)\n",
      "Processing replica (70/80)\n",
      "('z', 2, array([ 0.0269552]), array([[ 1.]]), 0.026082206044613067, 0.007048521539593451)\n",
      "Processing replica (0/80)\n",
      "Processing replica (10/80)\n",
      "Processing replica (20/80)\n",
      "Processing replica (30/80)\n",
      "Processing replica (40/80)\n",
      "Processing replica (50/80)\n",
      "Processing replica (60/80)\n",
      "Processing replica (70/80)\n",
      "('z', 3, array([ 0.04304937]), array([[ 0.0055678]]), 0.042819830601409412, 0.0065757128944188411)\n",
      "Processing replica (0/80)\n",
      "Processing replica (10/80)\n",
      "Processing replica (20/80)\n",
      "Processing replica (30/80)\n",
      "Processing replica (40/80)\n",
      "Processing replica (50/80)\n",
      "Processing replica (60/80)\n",
      "Processing replica (70/80)\n",
      "('z', 4, array([ 0.03773188]), array([[ 0.00566427]]), 0.037910592740216895, 0.0081105665945271008)\n",
      "Processing replica (0/80)\n",
      "Processing replica (10/80)\n",
      "Processing replica (20/80)\n",
      "Processing replica (30/80)\n",
      "Processing replica (40/80)\n",
      "Processing replica (50/80)\n",
      "Processing replica (60/80)\n",
      "Processing replica (70/80)\n",
      "('z', 5, array([ 0.04073954]), array([[ 0.01064745]]), 0.037827998729548916, 0.015247265100340669)\n"
     ]
    }
   ],
   "source": [
    "for axis in np.unique(data.axis):\n",
    "    for bin in np.unique(data.query('axis == \"%s\"' % axis).axis_bin):\n",
    "        query_string = 'axis == \"%s\" and axis_bin == %d' % (axis, bin)\n",
    "        p,e = single_fit(models['basic'], data.query(query_string))\n",
    "        boot, boots = bootstrap_fit(models['basic'], data.query(query_string), n_replicas=80)\n",
    "        print(axis,bin,p,e,np.average(boot[:,0]),np.std(boot[:,0]))"
   ]
  },
  {
   "cell_type": "code",
   "execution_count": 95,
   "metadata": {},
   "outputs": [
    {
     "data": {
      "image/png": "[encoded data removed]",
      "text/plain": [
       "<matplotlib.figure.Figure at 0x107f68590>"
      ]
     },
     "metadata": {},
     "output_type": "display_data"
    }
   ],
   "source": [
    "plt.hist(boot_score, bins=50);"
   ]
  },
  {
   "cell_type": "code",
   "execution_count": null,
   "metadata": {
    "collapsed": true
   },
   "outputs": [],
   "source": []
  }
 ],
 "metadata": {
  "kernelspec": {
   "display_name": "Python 2",
   "language": "python",
   "name": "python2"
  },
  "language_info": {
   "codemirror_mode": {
    "name": "ipython",
    "version": 2
   },
   "file_extension": ".py",
   "mimetype": "text/x-python",
   "name": "python",
   "nbconvert_exporter": "python",
   "pygments_lexer": "ipython2",
   "version": "2.7.13"
  }
 },
 "nbformat": 4,
 "nbformat_minor": 2
}
