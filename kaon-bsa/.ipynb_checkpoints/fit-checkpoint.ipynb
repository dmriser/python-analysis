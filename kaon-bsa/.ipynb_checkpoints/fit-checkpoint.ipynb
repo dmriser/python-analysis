{
 "cells": [
  {
   "cell_type": "markdown",
   "metadata": {},
   "source": [
    "# Fitting Notebook\n",
    "Here we fit the phi-distributions from the analysis notebook.\n",
    "- Model selection - Cross validation score is used to demonstrate that fitting with the simple model is probably best.\n",
    "- Fits of $\\phi$ - Two methods of fitting the phi distributions are used, one single fit, and the bootstrap replica technique.\n",
    "- MC study of fitting procedure - This has to wait, but I am going to use MC to throw a distribution in phi that follows the error bars of our measurement.\n",
    "- Visualization\n",
    "    - fit phi distributions \n",
    "    - bootstrap histograms\n",
    "    - bootstrap score histograms\n",
    "    - integrated fit results with errors"
   ]
  },
  {
   "cell_type": "code",
   "execution_count": 1,
   "metadata": {},
   "outputs": [],
   "source": [
    "import numpy as np \n",
    "import pandas as pd \n",
    "import matplotlib.pyplot as plt\n",
    "\n",
    "%matplotlib inline\n",
    "\n",
    "plt.rc('font', family='serif')\n",
    "plt.rc('font', size=18)"
   ]
  },
  {
   "cell_type": "markdown",
   "metadata": {},
   "source": [
    "### Load Data\n",
    "Here the data is loaded from the previous notebook called `analysis.ipynb`.  "
   ]
  },
  {
   "cell_type": "code",
   "execution_count": 2,
   "metadata": {},
   "outputs": [],
   "source": [
    "data = pd.read_csv('results/phi-dist.csv')"
   ]
  },
  {
   "cell_type": "code",
   "execution_count": 3,
   "metadata": {},
   "outputs": [
    {
     "data": {
      "text/plain": [
       "Index([u'axis', u'axis_bin', u'axis_max', u'axis_min', u'counts_neg',\n",
       "       u'counts_pos', u'phi', u'phi_bin', u'stat', u'sys_0', u'value',\n",
       "       u'global_index', u'sys_1', u'sys_10', u'sys_11', u'sys_2', u'sys_3',\n",
       "       u'sys_4', u'sys_5', u'sys_6', u'sys_7', u'sys_8', u'sys_9',\n",
       "       u'sys_total'],\n",
       "      dtype='object')"
      ]
     },
     "execution_count": 3,
     "metadata": {},
     "output_type": "execute_result"
    }
   ],
   "source": [
    "data.columns"
   ]
  },
  {
   "cell_type": "markdown",
   "metadata": {},
   "source": [
    "### Setup Fitting \n",
    "Our model is defined below, it can be one of several different functions.  Fitting is done by minimizing the $\\chi^2$.  Errors are estimated with the covariance matrix, or the bootstrap replica method.  Cross validation is defined, and the different models are evaluated.  "
   ]
  },
  {
   "cell_type": "code",
   "execution_count": 4,
   "metadata": {},
   "outputs": [],
   "source": [
    "def chi2(y_true, y_pred, y_err):\n",
    "    return np.sum((y_true-y_pred)**2/y_err**2)"
   ]
  },
  {
   "cell_type": "code",
   "execution_count": 5,
   "metadata": {},
   "outputs": [],
   "source": [
    "class Model(object):\n",
    "\n",
    "    def __init__(self):\n",
    "        self.n_pars = 1\n",
    "        self.pars   = np.zeros(shape=(self.n_pars, 1))\n",
    "        self.bounds = np.array([[-1, 1],], dtype=np.float32)\n",
    "        \n",
    "    def get_initial_parameters(self):\n",
    "        self.pars = np.random.uniform(-1.0, 1.0, size=(self.n_pars, 1))\n",
    "\n",
    "    def evaluate(self, x):\n",
    "        return 1.0\n",
    "\n",
    "class SineModel(Model):\n",
    "\n",
    "    def __init__(self):\n",
    "        Model.__init__(self)\n",
    "        self.n_pars = 1\n",
    "        self.pars = np.zeros(shape=(self.n_pars, 1), dtype=np.float32)\n",
    "        \n",
    "    def evaluate(self, x):\n",
    "        return self.pars[0]*np.sin( x*np.pi/180.0 )\n",
    "\n",
    "class FullModel(Model):\n",
    "\n",
    "    def __init__(self):\n",
    "        Model.__init__(self)\n",
    "        self.n_pars = 3\n",
    "        self.pars = np.zeros(shape=(self.n_pars, 1), dtype=np.float32)\n",
    "        self.bounds = np.array([[-1,1],\n",
    "                                [-1,1],\n",
    "                                [-1,1]],dtype=np.float32)\n",
    "    def evaluate(self, x):\n",
    "        return self.pars[0]*np.sin( x*np.pi/180.0 ) / (1 + self.pars[1]*np.cos(x*np.pi/180.0) + self.pars[2]*np.cos(2*x*np.pi/180.0))\n",
    "\n",
    "def update_model(model, pars, x):\n",
    "    model.pars = pars\n",
    "    return model.evaluate(x)"
   ]
  },
  {
   "cell_type": "code",
   "execution_count": 6,
   "metadata": {},
   "outputs": [],
   "source": [
    "from scipy.optimize import minimize"
   ]
  },
  {
   "cell_type": "code",
   "execution_count": 7,
   "metadata": {},
   "outputs": [],
   "source": [
    "model = FullModel()\n",
    "model.get_initial_parameters()"
   ]
  },
  {
   "cell_type": "code",
   "execution_count": 8,
   "metadata": {},
   "outputs": [],
   "source": [
    "test_data = data.query('axis == \"z\" and axis_bin == 2')"
   ]
  },
  {
   "cell_type": "code",
   "execution_count": 9,
   "metadata": {},
   "outputs": [],
   "source": [
    "from sklearn.utils import shuffle\n",
    "\n",
    "def setup_dataframe(n_folds, x, y, y_err, shuf=False):\n",
    "    \n",
    "    if len(y) % n_folds != 0:\n",
    "        print('Data (%d) is not divisible into %d folds.' % (len(y), n_folds))\n",
    "        return \n",
    "    \n",
    "    x = x.transpose()\n",
    "    y = y.transpose()\n",
    "    y_err = y_err.transpose()\n",
    "    \n",
    "    d  = {'x':x, 'y':y, 'y_err':y_err}\n",
    "    df = pd.DataFrame(data=d)\n",
    "    \n",
    "    if shuf is True:\n",
    "        df = shuffle(df)\n",
    "\n",
    "    chunk_size = int(len(y)/n_folds) \n",
    "    \n",
    "    a = np.arange(0,n_folds)\n",
    "    df['chunk'] = np.repeat(a,chunk_size)\n",
    "    return df\n",
    "\n",
    "def cross_validate(n_folds, model, df):\n",
    "\n",
    "    validation_scores = []\n",
    "    parameters = []\n",
    "    for i in range(n_folds):\n",
    "        res = minimize(fun=lambda p: np.average((df.query('chunk != %d' % i).y - update_model(model, p, df.query('chunk != %d' % i).x))**2/df.query('chunk != %d' % i).y_err**2), \n",
    "                    x0=model.pars, bounds=model.bounds)\n",
    "                                \n",
    "        y_pred = update_model(model, res.x, df.query('chunk == %d' % i).x)\n",
    "        validation_scores.append(np.average((df.query('chunk == %d' % i).y-y_pred)**2/df.query('chunk == %d' % i).y_err**2))\n",
    "        parameters.append(res.x)\n",
    "        \n",
    "    return np.array(validation_scores), parameters"
   ]
  },
  {
   "cell_type": "code",
   "execution_count": 10,
   "metadata": {},
   "outputs": [],
   "source": [
    "models = {}\n",
    "\n",
    "models['basic'] = SineModel()\n",
    "models['full'] = FullModel()\n",
    "models['half'] = FullModel()\n",
    "models['half'].bounds = np.array([[-1,1],[-1,1],[-0.0001,0.0001]], dtype=np.float32)\n",
    "\n",
    "models['full_bounded'] = FullModel()\n",
    "models['full_bounded'].bounds = np.array([[-1,1],[-0.1,0.1],[-0.1,0.1]], dtype=np.float32)\n",
    "                                          \n",
    "for m in models.values():\n",
    "    m.get_initial_parameters()"
   ]
  },
  {
   "cell_type": "markdown",
   "metadata": {},
   "source": [
    "### Cross Validation\n",
    "Compare different models."
   ]
  },
  {
   "cell_type": "code",
   "execution_count": 11,
   "metadata": {},
   "outputs": [],
   "source": [
    "CHUNKS = 3\n",
    "df_chunked = setup_dataframe(CHUNKS, test_data.phi, test_data.value, np.sqrt(test_data.sys_total**2 + test_data.stat**2), shuf=False)"
   ]
  },
  {
   "cell_type": "code",
   "execution_count": 12,
   "metadata": {},
   "outputs": [
    {
     "name": "stdout",
     "output_type": "stream",
     "text": [
      "Fitting full_bounded\n",
      "Fitting half\n",
      "Fitting full\n",
      "Fitting basic\n"
     ]
    }
   ],
   "source": [
    "cv_scores = {}\n",
    "cv_pars = {}\n",
    "\n",
    "for name, m in models.iteritems():\n",
    "    print('Fitting %s' % name)\n",
    "    cv_scores[name], cv_pars[name] = cross_validate(CHUNKS, m, df_chunked)"
   ]
  },
  {
   "cell_type": "code",
   "execution_count": 13,
   "metadata": {},
   "outputs": [
    {
     "name": "stdout",
     "output_type": "stream",
     "text": [
      "Model basic, Score 0.28\n",
      "Model full_bounded, Score 0.31\n",
      "Model full, Score 1.02\n",
      "Model half, Score 0.32\n"
     ]
    }
   ],
   "source": [
    "for k,v in cv_scores.iteritems():\n",
    "    print('Model %s, Score %.2f' % (k, np.average(v)))"
   ]
  },
  {
   "cell_type": "code",
   "execution_count": 14,
   "metadata": {},
   "outputs": [
    {
     "data": {
      "text/plain": [
       "([<matplotlib.axis.XTick at 0x7f177c833fd0>,\n",
       "  <matplotlib.axis.XTick at 0x7f173823dd90>,\n",
       "  <matplotlib.axis.XTick at 0x7f1735213d10>,\n",
       "  <matplotlib.axis.XTick at 0x7f1735221e50>],\n",
       " <a list of 4 Text xticklabel objects>)"
      ]
     },
     "execution_count": 14,
     "metadata": {},
     "output_type": "execute_result"
    },
    {
     "data": {
      "image/png": "[encoded data removed]",
      "text/plain": [
       "<matplotlib.figure.Figure at 0x7f17372a33d0>"
      ]
     },
     "metadata": {},
     "output_type": "display_data"
    }
   ],
   "source": [
    "h = [np.average(xx) for xx in cv_scores.values()]\n",
    "e = [np.std(xx) for xx in cv_scores.values()]\n",
    "plt.figure(figsize=(8,6))\n",
    "plt.bar(np.arange(len(cv_scores.keys())), height=h)\n",
    "plt.xticks(np.arange(len(cv_scores.keys())), cv_scores.keys())"
   ]
  },
  {
   "cell_type": "code",
   "execution_count": 15,
   "metadata": {},
   "outputs": [
    {
     "data": {
      "image/png": "[encoded data removed]",
      "text/plain": [
       "<matplotlib.figure.Figure at 0x7f1735236dd0>"
      ]
     },
     "metadata": {},
     "output_type": "display_data"
    }
   ],
   "source": [
    "n_col = 3\n",
    "n_row = np.ceil((len(cv_pars.keys())-1)/n_col)+1\n",
    "plt.figure(figsize=(n_col*4, n_row*3))\n",
    "\n",
    "train = df_chunked.query('chunk != 0')\n",
    "test  = df_chunked.query('chunk == 0')\n",
    "\n",
    "index = 1\n",
    "x = np.linspace(-180,180,100)\n",
    "for name, model in models.iteritems():\n",
    "    plt.subplot(n_row, n_col, index)\n",
    "    plt.plot(train.x, train.y, linestyle='', marker='o', color='black')\n",
    "    plt.plot(test.x, test.y, linestyle='', marker='o', color='red')\n",
    "    \n",
    "    y = [update_model(model, cv_pars[name][0], xi) for xi in x]\n",
    "    plt.plot(x, y, color='red')\n",
    "    index += 1\n",
    "    \n",
    "plt.tight_layout()"
   ]
  },
  {
   "cell_type": "markdown",
   "metadata": {},
   "source": [
    "### Toy Dataset Testing \n",
    "This toy dataset is used to study what we can actually extract.  The section should be moved to another part of the notebook."
   ]
  },
  {
   "cell_type": "code",
   "execution_count": 16,
   "metadata": {},
   "outputs": [],
   "source": [
    "def generate_toy_data(df, model):\n",
    "    d = df.copy(deep=True)\n",
    "    d.value = model.evaluate(d.phi) + np.random.normal(loc=0.0, scale=np.sqrt(d.stat**2 + d.sys_total**2))\n",
    "    return d"
   ]
  },
  {
   "cell_type": "code",
   "execution_count": 17,
   "metadata": {},
   "outputs": [],
   "source": [
    "#models['full'].pars = [0.05, 0.02, -0.02]\n",
    "models['basic'].pars = [0.05]\n",
    "mc = generate_toy_data(test_data, models['basic'])"
   ]
  },
  {
   "cell_type": "code",
   "execution_count": 18,
   "metadata": {},
   "outputs": [
    {
     "data": {
      "text/plain": [
       "Text(0.5,1,u'Toy Monte Carlo Data')"
      ]
     },
     "execution_count": 18,
     "metadata": {},
     "output_type": "execute_result"
    },
    {
     "data": {
      "image/png": "[encoded data removed]",
      "text/plain": [
       "<matplotlib.figure.Figure at 0x7f173823d7d0>"
      ]
     },
     "metadata": {},
     "output_type": "display_data"
    }
   ],
   "source": [
    "plt.errorbar(x=mc.phi, y=mc.value, yerr=mc.stat, color='black', \n",
    "            linestyle='', marker='o')\n",
    "plt.xlabel('$\\phi_h$')\n",
    "plt.title('Toy Monte Carlo Data')"
   ]
  },
  {
   "cell_type": "code",
   "execution_count": 19,
   "metadata": {},
   "outputs": [],
   "source": [
    "rmc = minimize(fun=lambda x: chi2(mc.value, update_model(models['full'], x, mc.phi), np.sqrt(mc.stat**2 + mc.sys_total**2)), \n",
    "             x0=models['full'].pars,\n",
    "            bounds=models['full'].bounds)"
   ]
  },
  {
   "cell_type": "code",
   "execution_count": 20,
   "metadata": {},
   "outputs": [
    {
     "data": {
      "text/plain": [
       "      fun: 39.69072589093354\n",
       " hess_inv: <3x3 LbfgsInvHessProduct with dtype=float64>\n",
       "      jac: array([7.53175300e-05, 6.39488462e-06, 4.07562908e+00])\n",
       "  message: 'CONVERGENCE: REL_REDUCTION_OF_F_<=_FACTR*EPSMCH'\n",
       "     nfev: 72\n",
       "      nit: 13\n",
       "   status: 0\n",
       "  success: True\n",
       "        x: array([ 0.03099625,  0.7459071 , -1.        ])"
      ]
     },
     "execution_count": 20,
     "metadata": {},
     "output_type": "execute_result"
    }
   ],
   "source": [
    "rmc"
   ]
  },
  {
   "cell_type": "code",
   "execution_count": 21,
   "metadata": {},
   "outputs": [],
   "source": [
    "def single_fit(model, data):\n",
    "    model.get_initial_parameters()\n",
    "    res = minimize(fun=lambda x: chi2(data.value, update_model(model, x, data.phi), np.sqrt(data.stat**2 + data.sys_total**2)), \n",
    "             x0=model.pars, bounds=model.bounds)\n",
    "\n",
    "    identity = np.identity(len(model.pars))\n",
    "    err = np.sqrt(np.array(np.matrix(res.hess_inv * identity).diagonal()))\n",
    "    #err.reshape(model.n_pars,1)\n",
    "    \n",
    "    return res.x, err"
   ]
  },
  {
   "cell_type": "code",
   "execution_count": 22,
   "metadata": {},
   "outputs": [],
   "source": [
    "def create_replica(y, y_err):\n",
    "    y_rep = [np.random.normal(yp,np.fabs(yp_err)) for yp,yp_err in zip(y,y_err)]\n",
    "    return np.array(y_rep)"
   ]
  },
  {
   "cell_type": "code",
   "execution_count": 23,
   "metadata": {},
   "outputs": [],
   "source": [
    "import sys\n",
    "\n",
    "def bootstrap_fit(model, data, n_replicas=100):\n",
    "\n",
    "    results = []\n",
    "    scores = []\n",
    "    \n",
    "    for irep in range(n_replicas):\n",
    "        d = data.copy(deep=True)\n",
    "        rep = create_replica(d.value, np.sqrt(d.stat**2 + d.sys_total**2)) \n",
    "        d['value'] = rep   \n",
    "        pars,errs = single_fit(model, d)\n",
    "        results.append(pars)\n",
    "        scores.append(chi2(d.value, update_model(model, pars, d.phi), np.sqrt(d.stat**2 + d.sys_total**2)))\n",
    "        \n",
    "        if irep%10 is 0:\n",
    "            sys.stdout.write('\\rProcessing replica (%d/%d)' % (irep, n_replicas))\n",
    "            sys.stdout.flush()\n",
    "            \n",
    "    return np.array(results), np.array(scores)"
   ]
  },
  {
   "cell_type": "code",
   "execution_count": 24,
   "metadata": {},
   "outputs": [
    {
     "name": "stdout",
     "output_type": "stream",
     "text": [
      "Processing replica (390/400)"
     ]
    }
   ],
   "source": [
    "boot,boot_score = bootstrap_fit(models['half'], test_data, 400)"
   ]
  },
  {
   "cell_type": "code",
   "execution_count": 25,
   "metadata": {},
   "outputs": [
    {
     "data": {
      "image/png": "[encoded data removed]",
      "text/plain": [
       "<matplotlib.figure.Figure at 0x7f1738224d10>"
      ]
     },
     "metadata": {},
     "output_type": "display_data"
    }
   ],
   "source": [
    "hb = np.linspace(-0.1, 0.1, 80)\n",
    "plt.hist(boot[:,0], bins=hb, normed=True, histtype='stepfilled',\n",
    "        color='yellow', edgecolor='red', alpha=0.7, hatch='///');"
   ]
  },
  {
   "cell_type": "code",
   "execution_count": 26,
   "metadata": {},
   "outputs": [
    {
     "data": {
      "text/plain": [
       "(0.025445370613457575, 0.008291511743012653)"
      ]
     },
     "execution_count": 26,
     "metadata": {},
     "output_type": "execute_result"
    }
   ],
   "source": [
    "np.average(boot[:,0]), np.std(boot[:,0])"
   ]
  },
  {
   "cell_type": "code",
   "execution_count": 27,
   "metadata": {},
   "outputs": [
    {
     "data": {
      "text/plain": [
       "(-0.13567719645744833, 0.49171475155413263)"
      ]
     },
     "execution_count": 27,
     "metadata": {},
     "output_type": "execute_result"
    }
   ],
   "source": [
    "np.average(boot[:,1]), np.std(boot[:,1])"
   ]
  },
  {
   "cell_type": "code",
   "execution_count": 28,
   "metadata": {},
   "outputs": [],
   "source": [
    "def fit_dataset(data, model, fit_type='single'):\n",
    "    '''\n",
    "    inputs\n",
    "    ------\n",
    "    \n",
    "    data: a dataframe which contains the output of the analysis notebook, phi-distributions \n",
    "    \n",
    "    model: a model object\n",
    "    \n",
    "    '''\n",
    "    \n",
    "    result = {}\n",
    "    result['axis'] = []\n",
    "    result['axis_bin'] = []\n",
    "    \n",
    "    for p in range(model.n_pars):\n",
    "        result['par_%d' % p] = []\n",
    "        result['err_%d' % p] = []\n",
    "        \n",
    "    for axis in np.unique(data.axis):\n",
    "        dsub = data.query('axis == \"%s\"' % axis)\n",
    "        \n",
    "        for bin in np.unique(dsub.axis_bin):\n",
    "            d = dsub.query('axis_bin == %d' % bin)\n",
    "            \n",
    "            print(' Fitting %s,%d' % (axis, bin))\n",
    "            \n",
    "            # get fit to data\n",
    "            #pars,errs = single_fit(model, dsub)\n",
    "            boot, boots = bootstrap_fit(model, d, n_replicas=80)\n",
    "            \n",
    "            pars = []\n",
    "            errs = []\n",
    "            for ipar in range(model.n_pars):\n",
    "                pars.append(np.average(boot[:,ipar]))\n",
    "                errs.append(np.std(boot[:,ipar]))\n",
    "            \n",
    "            result['axis'].append(axis)\n",
    "            result['axis_bin'].append(bin)\n",
    "            \n",
    "            for p in range(model.n_pars):\n",
    "                result['par_%d' % p].append(pars[p])\n",
    "                result['err_%d' % p].append(errs[p])\n",
    "            \n",
    "    return pd.DataFrame(result)"
   ]
  },
  {
   "cell_type": "code",
   "execution_count": 29,
   "metadata": {},
   "outputs": [
    {
     "name": "stdout",
     "output_type": "stream",
     "text": [
      " Fitting pt,0\n",
      "Processing replica (70/80) Fitting pt,1\n",
      "Processing replica (70/80) Fitting pt,2\n",
      "Processing replica (70/80) Fitting pt,3\n",
      "Processing replica (70/80) Fitting pt,4\n",
      "Processing replica (70/80) Fitting pt,5\n",
      "Processing replica (70/80) Fitting q2,0\n",
      "Processing replica (70/80) Fitting q2,1\n",
      "Processing replica (70/80) Fitting q2,2\n",
      "Processing replica (70/80) Fitting q2,3\n",
      "Processing replica (70/80) Fitting q2,4\n",
      "Processing replica (70/80) Fitting q2,5\n",
      "Processing replica (70/80) Fitting x,0\n",
      "Processing replica (70/80) Fitting x,1\n",
      "Processing replica (70/80) Fitting x,2\n",
      "Processing replica (70/80) Fitting x,3\n",
      "Processing replica (70/80) Fitting x,4\n",
      "Processing replica (70/80) Fitting x,5\n",
      "Processing replica (70/80) Fitting z,0\n",
      "Processing replica (70/80) Fitting z,1\n",
      "Processing replica (70/80) Fitting z,2\n",
      "Processing replica (70/80) Fitting z,3\n",
      "Processing replica (70/80) Fitting z,4\n",
      "Processing replica (70/80) Fitting z,5\n",
      "Processing replica (70/80)"
     ]
    }
   ],
   "source": [
    "fitres = fit_dataset(data, models['basic'])"
   ]
  },
  {
   "cell_type": "code",
   "execution_count": 30,
   "metadata": {},
   "outputs": [
    {
     "data": {
      "text/plain": [
       "<matplotlib.lines.Line2D at 0x7f17372efdd0>"
      ]
     },
     "execution_count": 30,
     "metadata": {},
     "output_type": "execute_result"
    },
    {
     "data": {
      "image/png": "[encoded data removed]",
      "text/plain": [
       "<matplotlib.figure.Figure at 0x7f1734ee0950>"
      ]
     },
     "metadata": {},
     "output_type": "display_data"
    }
   ],
   "source": [
    "plt.errorbar(x=fitres.query('axis == \"pt\"').axis_bin, \n",
    "             y=fitres.query('axis == \"pt\"').par_0, \n",
    "             yerr=fitres.query('axis == \"pt\"').err_0,\n",
    "            linestyle='', marker='o', color='black')\n",
    "\n",
    "plt.ylim([-0.02, 0.1])\n",
    "plt.axhline(0.0, linestyle='--', color='black', alpha=0.8, linewidth=1)\n",
    "#plt.grid(color='black', alpha=0.2)"
   ]
  },
  {
   "cell_type": "code",
   "execution_count": 31,
   "metadata": {},
   "outputs": [],
   "source": [
    "import scipy.stats as stats"
   ]
  },
  {
   "cell_type": "code",
   "execution_count": 32,
   "metadata": {},
   "outputs": [
    {
     "data": {
      "text/plain": [
       "Text(0.5,1,u'Scores from Bootstraps')"
      ]
     },
     "execution_count": 32,
     "metadata": {},
     "output_type": "execute_result"
    },
    {
     "data": {
      "image/png": "[encoded data removed]",
      "text/plain": [
       "<matplotlib.figure.Figure at 0x7f1734da0610>"
      ]
     },
     "metadata": {},
     "output_type": "display_data"
    }
   ],
   "source": [
    "plt.hist(boot_score, bins=50, normed=True, histtype='stepfilled',\n",
    "        color='red', edgecolor='black', hatch='//', alpha=0.7);\n",
    "\n",
    "x = np.linspace(0, 40, 100)\n",
    "plt.plot(x, stats.chi2.pdf(x,12), linestyle='-.', color='black', linewidth=2.0)\n",
    "\n",
    "plt.xlabel('$\\chi^2$')\n",
    "plt.title('Scores from Bootstraps')"
   ]
  },
  {
   "cell_type": "code",
   "execution_count": 42,
   "metadata": {},
   "outputs": [],
   "source": [
    "def plot_results(results, axis):\n",
    "    \n",
    "    d      = results.query('axis == \"%s\"' % axis)\n",
    "    n_bins = len(np.unique(d.axis_bin))\n",
    "    n_col  = 3\n",
    "    n_row  = np.ceil(n_bins/n_col)+1\n",
    "\n",
    "    # these are uniform width\n",
    "    phi_width = np.repeat(float(360.0/len(np.unique(d.phi_bin))), len(np.unique(d.phi_bin)))\n",
    "    phi_edges = np.linspace(-180,180,len(np.unique(d.phi_bin)))\n",
    "    plt.figure(figsize=(4*n_col, 3*n_row))\n",
    "    \n",
    "    for index in range(n_bins):\n",
    "        dsub = d.query('axis_bin == %d' % index)\n",
    "        plt.subplot(n_row, n_col, index+1)\n",
    "        plt.errorbar(x=dsub.phi, y=dsub.value, yerr=dsub.stat, \n",
    "                    linestyle='', marker='o', color='black')\n",
    "        \n",
    "        if 'sys_total' in dsub.columns:\n",
    "            plt.bar(phi_edges, height=dsub.sys_total, width=phi_width, bottom=0.0, \n",
    "                    edgecolor='red', color='yellow', alpha=0.65, hatch='///', \n",
    "                    label='systematic error', align='edge')\n",
    "            \n",
    "        plt.axhline(0.0, linestyle='--',\n",
    "                    linewidth=1, color='black', alpha=0.7)\n",
    "        \n",
    "        plt.xlim([-180,180])\n",
    "        plt.ylim([-0.15, 0.15])\n",
    "        \n",
    "    plt.tight_layout()"
   ]
  },
  {
   "cell_type": "code",
   "execution_count": 43,
   "metadata": {},
   "outputs": [
    {
     "data": {
      "image/png": "[encoded data removed]",
      "text/plain": [
       "<matplotlib.figure.Figure at 0x7f17372fded0>"
      ]
     },
     "metadata": {},
     "output_type": "display_data"
    }
   ],
   "source": [
    "plot_results(data, axis='z')"
   ]
  },
  {
   "cell_type": "code",
   "execution_count": 44,
   "metadata": {},
   "outputs": [
    {
     "data": {
      "text/html": [
       "<div>\n",
       "<style scoped>\n",
       "    .dataframe tbody tr th:only-of-type {\n",
       "        vertical-align: middle;\n",
       "    }\n",
       "\n",
       "    .dataframe tbody tr th {\n",
       "        vertical-align: top;\n",
       "    }\n",
       "\n",
       "    .dataframe thead th {\n",
       "        text-align: right;\n",
       "    }\n",
       "</style>\n",
       "<table border=\"1\" class=\"dataframe\">\n",
       "  <thead>\n",
       "    <tr style=\"text-align: right;\">\n",
       "      <th></th>\n",
       "      <th>axis</th>\n",
       "      <th>axis_bin</th>\n",
       "      <th>err_0</th>\n",
       "      <th>par_0</th>\n",
       "    </tr>\n",
       "  </thead>\n",
       "  <tbody>\n",
       "    <tr>\n",
       "      <th>0</th>\n",
       "      <td>pt</td>\n",
       "      <td>0</td>\n",
       "      <td>0.008861</td>\n",
       "      <td>0.026261</td>\n",
       "    </tr>\n",
       "    <tr>\n",
       "      <th>1</th>\n",
       "      <td>pt</td>\n",
       "      <td>1</td>\n",
       "      <td>0.007974</td>\n",
       "      <td>0.035062</td>\n",
       "    </tr>\n",
       "    <tr>\n",
       "      <th>2</th>\n",
       "      <td>pt</td>\n",
       "      <td>2</td>\n",
       "      <td>0.007352</td>\n",
       "      <td>0.030112</td>\n",
       "    </tr>\n",
       "    <tr>\n",
       "      <th>3</th>\n",
       "      <td>pt</td>\n",
       "      <td>3</td>\n",
       "      <td>0.009704</td>\n",
       "      <td>0.037358</td>\n",
       "    </tr>\n",
       "    <tr>\n",
       "      <th>4</th>\n",
       "      <td>pt</td>\n",
       "      <td>4</td>\n",
       "      <td>0.009394</td>\n",
       "      <td>0.027808</td>\n",
       "    </tr>\n",
       "    <tr>\n",
       "      <th>5</th>\n",
       "      <td>pt</td>\n",
       "      <td>5</td>\n",
       "      <td>0.005706</td>\n",
       "      <td>0.024278</td>\n",
       "    </tr>\n",
       "    <tr>\n",
       "      <th>6</th>\n",
       "      <td>q2</td>\n",
       "      <td>0</td>\n",
       "      <td>0.011334</td>\n",
       "      <td>0.017981</td>\n",
       "    </tr>\n",
       "    <tr>\n",
       "      <th>7</th>\n",
       "      <td>q2</td>\n",
       "      <td>1</td>\n",
       "      <td>0.008440</td>\n",
       "      <td>0.037000</td>\n",
       "    </tr>\n",
       "    <tr>\n",
       "      <th>8</th>\n",
       "      <td>q2</td>\n",
       "      <td>2</td>\n",
       "      <td>0.006157</td>\n",
       "      <td>0.037387</td>\n",
       "    </tr>\n",
       "    <tr>\n",
       "      <th>9</th>\n",
       "      <td>q2</td>\n",
       "      <td>3</td>\n",
       "      <td>0.007168</td>\n",
       "      <td>0.034160</td>\n",
       "    </tr>\n",
       "    <tr>\n",
       "      <th>10</th>\n",
       "      <td>q2</td>\n",
       "      <td>4</td>\n",
       "      <td>0.005933</td>\n",
       "      <td>0.032764</td>\n",
       "    </tr>\n",
       "    <tr>\n",
       "      <th>11</th>\n",
       "      <td>q2</td>\n",
       "      <td>5</td>\n",
       "      <td>0.005640</td>\n",
       "      <td>0.025600</td>\n",
       "    </tr>\n",
       "    <tr>\n",
       "      <th>12</th>\n",
       "      <td>x</td>\n",
       "      <td>0</td>\n",
       "      <td>0.008712</td>\n",
       "      <td>0.014209</td>\n",
       "    </tr>\n",
       "    <tr>\n",
       "      <th>13</th>\n",
       "      <td>x</td>\n",
       "      <td>1</td>\n",
       "      <td>0.008970</td>\n",
       "      <td>0.024350</td>\n",
       "    </tr>\n",
       "    <tr>\n",
       "      <th>14</th>\n",
       "      <td>x</td>\n",
       "      <td>2</td>\n",
       "      <td>0.006818</td>\n",
       "      <td>0.034717</td>\n",
       "    </tr>\n",
       "    <tr>\n",
       "      <th>15</th>\n",
       "      <td>x</td>\n",
       "      <td>3</td>\n",
       "      <td>0.007753</td>\n",
       "      <td>0.038603</td>\n",
       "    </tr>\n",
       "    <tr>\n",
       "      <th>16</th>\n",
       "      <td>x</td>\n",
       "      <td>4</td>\n",
       "      <td>0.006626</td>\n",
       "      <td>0.032958</td>\n",
       "    </tr>\n",
       "    <tr>\n",
       "      <th>17</th>\n",
       "      <td>x</td>\n",
       "      <td>5</td>\n",
       "      <td>0.006952</td>\n",
       "      <td>0.030861</td>\n",
       "    </tr>\n",
       "    <tr>\n",
       "      <th>18</th>\n",
       "      <td>z</td>\n",
       "      <td>0</td>\n",
       "      <td>0.006451</td>\n",
       "      <td>0.017385</td>\n",
       "    </tr>\n",
       "    <tr>\n",
       "      <th>19</th>\n",
       "      <td>z</td>\n",
       "      <td>1</td>\n",
       "      <td>0.005618</td>\n",
       "      <td>0.017243</td>\n",
       "    </tr>\n",
       "    <tr>\n",
       "      <th>20</th>\n",
       "      <td>z</td>\n",
       "      <td>2</td>\n",
       "      <td>0.008228</td>\n",
       "      <td>0.027355</td>\n",
       "    </tr>\n",
       "    <tr>\n",
       "      <th>21</th>\n",
       "      <td>z</td>\n",
       "      <td>3</td>\n",
       "      <td>0.007316</td>\n",
       "      <td>0.041865</td>\n",
       "    </tr>\n",
       "    <tr>\n",
       "      <th>22</th>\n",
       "      <td>z</td>\n",
       "      <td>4</td>\n",
       "      <td>0.008790</td>\n",
       "      <td>0.036029</td>\n",
       "    </tr>\n",
       "    <tr>\n",
       "      <th>23</th>\n",
       "      <td>z</td>\n",
       "      <td>5</td>\n",
       "      <td>0.015968</td>\n",
       "      <td>0.040318</td>\n",
       "    </tr>\n",
       "  </tbody>\n",
       "</table>\n",
       "</div>"
      ],
      "text/plain": [
       "   axis  axis_bin     err_0     par_0\n",
       "0    pt         0  0.008861  0.026261\n",
       "1    pt         1  0.007974  0.035062\n",
       "2    pt         2  0.007352  0.030112\n",
       "3    pt         3  0.009704  0.037358\n",
       "4    pt         4  0.009394  0.027808\n",
       "5    pt         5  0.005706  0.024278\n",
       "6    q2         0  0.011334  0.017981\n",
       "7    q2         1  0.008440  0.037000\n",
       "8    q2         2  0.006157  0.037387\n",
       "9    q2         3  0.007168  0.034160\n",
       "10   q2         4  0.005933  0.032764\n",
       "11   q2         5  0.005640  0.025600\n",
       "12    x         0  0.008712  0.014209\n",
       "13    x         1  0.008970  0.024350\n",
       "14    x         2  0.006818  0.034717\n",
       "15    x         3  0.007753  0.038603\n",
       "16    x         4  0.006626  0.032958\n",
       "17    x         5  0.006952  0.030861\n",
       "18    z         0  0.006451  0.017385\n",
       "19    z         1  0.005618  0.017243\n",
       "20    z         2  0.008228  0.027355\n",
       "21    z         3  0.007316  0.041865\n",
       "22    z         4  0.008790  0.036029\n",
       "23    z         5  0.015968  0.040318"
      ]
     },
     "execution_count": 44,
     "metadata": {},
     "output_type": "execute_result"
    }
   ],
   "source": [
    "fitres"
   ]
  },
  {
   "cell_type": "code",
   "execution_count": 36,
   "metadata": {},
   "outputs": [],
   "source": [
    "results = pd.merge(data, fitres, on=['axis', 'axis_bin'])"
   ]
  },
  {
   "cell_type": "code",
   "execution_count": 37,
   "metadata": {},
   "outputs": [],
   "source": [
    "results.to_csv('results/phi-dist-fit.csv', index=False)"
   ]
  },
  {
   "cell_type": "markdown",
   "metadata": {},
   "source": [
    "### Comparing Statistics of Replicas\n",
    "There is some discussion that the chi-2 distribution should peak at $2 \\nu$"
   ]
  },
  {
   "cell_type": "code",
   "execution_count": 38,
   "metadata": {},
   "outputs": [],
   "source": [
    "replicas = []\n",
    "\n",
    "for i in range(1000):\n",
    "    replicas.append(create_replica(y=test_data.value, y_err=test_data.stat))"
   ]
  },
  {
   "cell_type": "code",
   "execution_count": 39,
   "metadata": {},
   "outputs": [],
   "source": [
    "replicas = np.array(replicas)"
   ]
  },
  {
   "cell_type": "code",
   "execution_count": 40,
   "metadata": {},
   "outputs": [
    {
     "name": "stdout",
     "output_type": "stream",
     "text": [
      "(0, 0.003978961452507011, 0.0038341563, 0.0050945584810122915, 0.005306064599999999)\n",
      "(1, -0.015704633467829396, -0.015503528, 0.007573575103954876, 0.0076766345)\n",
      "(2, -0.027805084901407824, -0.027596341, 0.006653906185981271, 0.006835811999999999)\n",
      "(3, -0.0264497255425173, -0.026467182000000002, 0.007938352296139435, 0.0077362163)\n",
      "(4, -0.038386471390594215, -0.03863773, 0.010801559457320704, 0.010816178000000001)\n",
      "(5, -0.0372569744412201, -0.03604037, 0.017250876296630656, 0.017404368)\n",
      "(6, -0.004702404091688704, -0.0045202365, 0.018282595134263207, 0.017543681000000002)\n",
      "(7, -0.001971835402491178, -0.0015549889, 0.010916653827020749, 0.010792052)\n",
      "(8, 0.019283055182235043, 0.019490708, 0.008040757727748345, 0.0077977013)\n",
      "(9, 0.04312625448274216, 0.043023665, 0.0069079249769224225, 0.006847471999999999)\n",
      "(10, 0.012032662467987535, 0.011993473000000001, 0.007783452289469671, 0.0077381394999999995)\n",
      "(11, 0.011521006456835917, 0.011463657, 0.005451932548141947, 0.00535844)\n"
     ]
    }
   ],
   "source": [
    "for i in range(12):\n",
    "    print(i, np.average(replicas[:,i]), test_data.value.values[i], \n",
    "         np.std(replicas[:,i]), test_data.stat.values[i])"
   ]
  },
  {
   "cell_type": "code",
   "execution_count": 41,
   "metadata": {},
   "outputs": [
    {
     "data": {
      "image/png": "[encoded data removed]",
      "text/plain": [
       "<matplotlib.figure.Figure at 0x7f1732c79510>"
      ]
     },
     "metadata": {},
     "output_type": "display_data"
    }
   ],
   "source": [
    "n_col = 3\n",
    "n_row = 4\n",
    "plt.figure(figsize=(12, 5))\n",
    "\n",
    "for i in range(12):\n",
    "    plt.subplot(n_row, n_col, i+1)\n",
    "    plt.hist(replicas[:,i], bins=50, normed=True, histtype='stepfilled',\n",
    "        color='red', edgecolor='black', hatch='//', alpha=0.7);\n",
    "    plt.axvspan(test_data.value.values[i]-test_data.stat.values[i], \n",
    "           test_data.value.values[i]+test_data.stat.values[i],\n",
    "           alpha=0.2, color='black')\n",
    "    plt.axvline(np.average(replicas[:,i])-np.std(replicas[:,i]), color='black', linestyle='-.')\n",
    "    plt.axvline(np.average(replicas[:,i])+np.std(replicas[:,i]), color='black', linestyle='-.')\n",
    "\n",
    "plt.tight_layout()"
   ]
  },
  {
   "cell_type": "markdown",
   "metadata": {},
   "source": [
    "The statistics look exactly the same to me.  I actually derived it on paper as well."
   ]
  },
  {
   "cell_type": "code",
   "execution_count": null,
   "metadata": {},
   "outputs": [],
   "source": [
    "3+2"
   ]
  },
  {
   "cell_type": "code",
   "execution_count": null,
   "metadata": {},
   "outputs": [],
   "source": []
  }
 ],
 "metadata": {
  "kernelspec": {
   "display_name": "Python 2",
   "language": "python",
   "name": "python2"
  },
  "language_info": {
   "codemirror_mode": {
    "name": "ipython",
    "version": 2
   },
   "file_extension": ".py",
   "mimetype": "text/x-python",
   "name": "python",
   "nbconvert_exporter": "python",
   "pygments_lexer": "ipython2",
   "version": "2.7.12"
  }
 },
 "nbformat": 4,
 "nbformat_minor": 2
}
