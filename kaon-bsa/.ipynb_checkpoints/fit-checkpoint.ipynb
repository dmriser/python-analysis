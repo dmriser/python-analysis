{
 "cells": [
  {
   "cell_type": "markdown",
   "metadata": {},
   "source": [
    "# Fitting Notebook\n",
    "Here we fit the phi-distributions from the analysis notebook.\n",
    "- Model selection - Cross validation score is used to demonstrate that fitting with the simple model is probably best.\n",
    "- Fits of $\\phi$ - Two methods of fitting the phi distributions are used, one single fit, and the bootstrap replica technique.\n",
    "- MC study of fitting procedure - This has to wait, but I am going to use MC to throw a distribution in phi that follows the error bars of our measurement.\n",
    "- Visualization\n",
    "    - fit phi distributions \n",
    "    - bootstrap histograms\n",
    "    - bootstrap score histograms\n",
    "    - integrated fit results with errors"
   ]
  },
  {
   "cell_type": "code",
   "execution_count": 89,
   "metadata": {
    "collapsed": true
   },
   "outputs": [],
   "source": [
    "import numpy as np \n",
    "import pandas as pd \n",
    "import matplotlib.pyplot as plt\n",
    "\n",
    "%matplotlib inline\n",
    "\n",
    "plt.rc('font', family='serif')\n",
    "plt.rc('font', size=18)"
   ]
  },
  {
   "cell_type": "markdown",
   "metadata": {},
   "source": [
    "### Load Data\n",
    "Here the data is loaded from the previous notebook called `analysis.ipynb`.  "
   ]
  },
  {
   "cell_type": "code",
   "execution_count": 90,
   "metadata": {
    "collapsed": true
   },
   "outputs": [],
   "source": [
    "data = pd.read_csv('results/phi-dist.csv')"
   ]
  },
  {
   "cell_type": "code",
   "execution_count": 91,
   "metadata": {},
   "outputs": [
    {
     "data": {
      "text/plain": [
       "Index([u'axis', u'axis_bin', u'axis_max', u'axis_min', u'counts_neg',\n",
       "       u'counts_pos', u'phi', u'phi_bin', u'stat', u'sys_0', u'value',\n",
       "       u'global_index', u'sys_1', u'sys_10', u'sys_11', u'sys_2', u'sys_3',\n",
       "       u'sys_4', u'sys_5', u'sys_6', u'sys_7', u'sys_8', u'sys_9',\n",
       "       u'sys_total'],\n",
       "      dtype='object')"
      ]
     },
     "execution_count": 91,
     "metadata": {},
     "output_type": "execute_result"
    }
   ],
   "source": [
    "data.columns"
   ]
  },
  {
   "cell_type": "markdown",
   "metadata": {},
   "source": [
    "### Setup Fitting \n",
    "Our model is defined below, it can be one of several different functions.  Fitting is done by minimizing the $\\chi^2$.  Errors are estimated with the covariance matrix, or the bootstrap replica method.  Cross validation is defined, and the different models are evaluated.  "
   ]
  },
  {
   "cell_type": "code",
   "execution_count": 92,
   "metadata": {
    "collapsed": true
   },
   "outputs": [],
   "source": [
    "def chi2(y_true, y_pred, y_err):\n",
    "    return np.sum((y_true-y_pred)**2/y_err**2)"
   ]
  },
  {
   "cell_type": "code",
   "execution_count": 93,
   "metadata": {
    "collapsed": true
   },
   "outputs": [],
   "source": [
    "class Model(object):\n",
    "\n",
    "    def __init__(self):\n",
    "        self.n_pars = 1\n",
    "        self.pars   = np.zeros(shape=(self.n_pars, 1))\n",
    "        self.bounds = np.array([[-1, 1],], dtype=np.float32)\n",
    "        \n",
    "    def get_initial_parameters(self):\n",
    "        self.pars = np.random.uniform(-1.0, 1.0, size=(self.n_pars, 1))\n",
    "\n",
    "    def evaluate(self, x):\n",
    "        return 1.0\n",
    "\n",
    "class SineModel(Model):\n",
    "\n",
    "    def __init__(self):\n",
    "        Model.__init__(self)\n",
    "        self.n_pars = 1\n",
    "        self.pars = np.zeros(shape=(self.n_pars, 1), dtype=np.float32)\n",
    "        \n",
    "    def evaluate(self, x):\n",
    "        return self.pars[0]*np.sin( x*np.pi/180.0 )\n",
    "\n",
    "class FullModel(Model):\n",
    "\n",
    "    def __init__(self):\n",
    "        Model.__init__(self)\n",
    "        self.n_pars = 3\n",
    "        self.pars = np.zeros(shape=(self.n_pars, 1), dtype=np.float32)\n",
    "        self.bounds = np.array([[-1,1],\n",
    "                                [-1,1],\n",
    "                                [-1,1]],dtype=np.float32)\n",
    "    def evaluate(self, x):\n",
    "        return self.pars[0]*np.sin( x*np.pi/180.0 ) / (1 + self.pars[1]*np.cos(x*np.pi/180.0) + self.pars[2]*np.cos(2*x*np.pi/180.0))\n",
    "\n",
    "def update_model(model, pars, x):\n",
    "    model.pars = pars\n",
    "    return model.evaluate(x)"
   ]
  },
  {
   "cell_type": "code",
   "execution_count": 94,
   "metadata": {
    "collapsed": true
   },
   "outputs": [],
   "source": [
    "from scipy.optimize import minimize"
   ]
  },
  {
   "cell_type": "code",
   "execution_count": 95,
   "metadata": {
    "collapsed": true
   },
   "outputs": [],
   "source": [
    "model = FullModel()\n",
    "model.get_initial_parameters()"
   ]
  },
  {
   "cell_type": "code",
   "execution_count": 96,
   "metadata": {
    "collapsed": true
   },
   "outputs": [],
   "source": [
    "test_data = data.query('axis == \"z\" and axis_bin == 4')"
   ]
  },
  {
   "cell_type": "code",
   "execution_count": 97,
   "metadata": {
    "collapsed": true
   },
   "outputs": [],
   "source": [
    "from sklearn.utils import shuffle\n",
    "\n",
    "def setup_dataframe(n_folds, x, y, y_err, shuf=False):\n",
    "    \n",
    "    if len(y) % n_folds != 0:\n",
    "        print('Data (%d) is not divisible into %d folds.' % (len(y), n_folds))\n",
    "        return \n",
    "    \n",
    "    x = x.transpose()\n",
    "    y = y.transpose()\n",
    "    y_err = y_err.transpose()\n",
    "    \n",
    "    d  = {'x':x, 'y':y, 'y_err':y_err}\n",
    "    df = pd.DataFrame(data=d)\n",
    "    \n",
    "    if shuf is True:\n",
    "        df = shuffle(df)\n",
    "\n",
    "    chunk_size = int(len(y)/n_folds) \n",
    "    \n",
    "    a = np.arange(0,n_folds)\n",
    "    df['chunk'] = np.repeat(a,chunk_size)\n",
    "    return df\n",
    "\n",
    "def cross_validate(n_folds, model, df):\n",
    "\n",
    "    validation_scores = []\n",
    "    parameters = []\n",
    "    for i in range(n_folds):\n",
    "        res = minimize(fun=lambda p: np.average((df.query('chunk != %d' % i).y - update_model(model, p, df.query('chunk != %d' % i).x))**2/df.query('chunk != %d' % i).y_err**2), \n",
    "                    x0=model.pars, bounds=model.bounds)\n",
    "                                \n",
    "        y_pred = update_model(model, res.x, df.query('chunk == %d' % i).x)\n",
    "        validation_scores.append(np.average((df.query('chunk == %d' % i).y-y_pred)**2/df.query('chunk == %d' % i).y_err**2))\n",
    "        parameters.append(res.x)\n",
    "        \n",
    "    return np.array(validation_scores), parameters"
   ]
  },
  {
   "cell_type": "code",
   "execution_count": 98,
   "metadata": {
    "collapsed": true
   },
   "outputs": [],
   "source": [
    "models = {}\n",
    "\n",
    "models['basic'] = SineModel()\n",
    "models['full'] = FullModel()\n",
    "models['half'] = FullModel()\n",
    "models['half'].bounds = np.array([[-1,1],[-1,1],[-0.0001,0.0001]], dtype=np.float32)\n",
    "\n",
    "models['full_bounded'] = FullModel()\n",
    "models['full_bounded'].bounds = np.array([[-1,1],[-0.1,0.1],[-0.1,0.1]], dtype=np.float32)\n",
    "                                          \n",
    "for m in models.values():\n",
    "    m.get_initial_parameters()\n",
    "    \n",
    "model_names_dict = {}\n",
    "model_names_dict['full'] = 'sin, cos, cos2'\n",
    "model_names_dict['full_bounded'] = 'sin, cos, cos2 (bounded)'\n",
    "model_names_dict['half'] = 'sin, cos'\n",
    "model_names_dict['basic'] = 'sin'"
   ]
  },
  {
   "cell_type": "markdown",
   "metadata": {},
   "source": [
    "### Cross Validation\n",
    "Compare different models."
   ]
  },
  {
   "cell_type": "code",
   "execution_count": 99,
   "metadata": {
    "collapsed": true
   },
   "outputs": [],
   "source": [
    "#CHUNKS = 12\n",
    "#df_chunked = setup_dataframe(CHUNKS, test_data.phi, test_data.value, np.sqrt(test_data.sys_total**2 + test_data.stat**2), shuf=False)"
   ]
  },
  {
   "cell_type": "code",
   "execution_count": 100,
   "metadata": {
    "collapsed": true
   },
   "outputs": [],
   "source": [
    "#cv_scores = {}\n",
    "#cv_pars = {}\n",
    "\n",
    "#for name, m in models.iteritems():\n",
    "#    print('Fitting %s' % name)\n",
    "#    cv_scores[name], cv_pars[name] = cross_validate(CHUNKS, m, df_chunked)"
   ]
  },
  {
   "cell_type": "code",
   "execution_count": 101,
   "metadata": {
    "collapsed": true
   },
   "outputs": [],
   "source": [
    "#for k,v in cv_scores.iteritems():\n",
    "#    print('Model %s, Score %.2f' % (k, np.average(v)))"
   ]
  },
  {
   "cell_type": "code",
   "execution_count": 102,
   "metadata": {},
   "outputs": [
    {
     "name": "stdout",
     "output_type": "stream",
     "text": [
      "mkdir: image/: File exists\r\n"
     ]
    }
   ],
   "source": [
    "!mkdir image/"
   ]
  },
  {
   "cell_type": "code",
   "execution_count": 103,
   "metadata": {
    "collapsed": true
   },
   "outputs": [],
   "source": [
    "#h = [np.average(xx) for xx in cv_scores.values()]\n",
    "#e = [np.std(xx) for xx in cv_scores.values()]\n",
    "#n = [model_names_dict[x] for x in cv_scores.keys()]\n",
    "\n",
    "#plt.figure(figsize=(16,9))\n",
    "#plt.bar(np.arange(len(cv_scores.keys())), height=h,\n",
    "#       color='red', edgecolor='black', hatch='///', alpha=0.8)\n",
    "#plt.xticks(np.arange(len(cv_scores.keys())), n)\n",
    "#plt.ylabel('Average $\\chi^2/NDF$')\n",
    "#plt.savefig('image/cv-score-models.pdf', bbox_inches='tight')"
   ]
  },
  {
   "cell_type": "code",
   "execution_count": 104,
   "metadata": {
    "collapsed": true
   },
   "outputs": [],
   "source": [
    "#plt.figure(figsize=(8,6))\n",
    "#plt.errorbar(x=np.arange(len(cv_scores.keys())), y=h, yerr=e,\n",
    "#            linestyle='', marker='o')\n",
    "#plt.xticks(np.arange(len(cv_scores.keys())), cv_scores.keys())"
   ]
  },
  {
   "cell_type": "code",
   "execution_count": 105,
   "metadata": {},
   "outputs": [
    {
     "data": {
      "text/plain": [
       "\"\\nn_col = 2\\nn_row = np.ceil((len(cv_pars.keys())-1)/n_col)+1\\nplt.figure(figsize=(n_col*4, n_row*3))\\n\\nchunks = len(np.unique(df_chunked.chunk))\\n\\nx = np.linspace(-180,180,100)\\n\\nfor chunk in range(chunks):\\n    \\n    train = df_chunked.query('chunk != %d' % chunk)\\n    test  = df_chunked.query('chunk == %d' % chunk)\\n    index = 1\\n    \\n    for name, model in models.iteritems():\\n        plt.subplot(n_row, n_col, index)\\n        plt.errorbar(train.x, train.y, train.y_err, linestyle='', marker='o', color='black')\\n        plt.errorbar(test.x, test.y, test.y_err, linestyle='', marker='o', color='red')\\n        plt.ylim([-0.06, 0.06])\\n    \\n        y = [update_model(model, cv_pars[name][1], xi) for xi in x]\\n        plt.plot(x, y, color='red')\\n        index += 1\\n    \\n        plt.title(model_names_dict[name])\\n    \\n        plt.tight_layout()\\n        plt.savefig('image/cv-demo-models-%d.pdf' % chunk, bbox_inches='tight')\\n    \""
      ]
     },
     "execution_count": 105,
     "metadata": {},
     "output_type": "execute_result"
    }
   ],
   "source": [
    "\n",
    "'''\n",
    "n_col = 2\n",
    "n_row = np.ceil((len(cv_pars.keys())-1)/n_col)+1\n",
    "plt.figure(figsize=(n_col*4, n_row*3))\n",
    "\n",
    "chunks = len(np.unique(df_chunked.chunk))\n",
    "\n",
    "x = np.linspace(-180,180,100)\n",
    "\n",
    "for chunk in range(chunks):\n",
    "    \n",
    "    train = df_chunked.query('chunk != %d' % chunk)\n",
    "    test  = df_chunked.query('chunk == %d' % chunk)\n",
    "    index = 1\n",
    "    \n",
    "    for name, model in models.iteritems():\n",
    "        plt.subplot(n_row, n_col, index)\n",
    "        plt.errorbar(train.x, train.y, train.y_err, linestyle='', marker='o', color='black')\n",
    "        plt.errorbar(test.x, test.y, test.y_err, linestyle='', marker='o', color='red')\n",
    "        plt.ylim([-0.06, 0.06])\n",
    "    \n",
    "        y = [update_model(model, cv_pars[name][1], xi) for xi in x]\n",
    "        plt.plot(x, y, color='red')\n",
    "        index += 1\n",
    "    \n",
    "        plt.title(model_names_dict[name])\n",
    "    \n",
    "        plt.tight_layout()\n",
    "        plt.savefig('image/cv-demo-models-%d.pdf' % chunk, bbox_inches='tight')\n",
    "    '''"
   ]
  },
  {
   "cell_type": "markdown",
   "metadata": {},
   "source": [
    "### Toy Dataset Testing \n",
    "This toy dataset is used to study what we can actually extract.  The section should be moved to another part of the notebook."
   ]
  },
  {
   "cell_type": "code",
   "execution_count": 106,
   "metadata": {
    "collapsed": true
   },
   "outputs": [],
   "source": [
    "#def generate_toy_data(df, model):\n",
    "#    d = df.copy(deep=True)\n",
    "#    d.value = model.evaluate(d.phi) + np.random.normal(loc=0.0, scale=np.sqrt(d.stat**2 + d.sys_total**2))\n",
    "#    return d"
   ]
  },
  {
   "cell_type": "code",
   "execution_count": 107,
   "metadata": {
    "collapsed": true
   },
   "outputs": [],
   "source": [
    "#models['full'].pars = [0.05, 0.02, -0.02]\n",
    "#models['basic'].pars = [0.05]\n",
    "#mc = generate_toy_data(test_data, models['basic'])"
   ]
  },
  {
   "cell_type": "code",
   "execution_count": 108,
   "metadata": {
    "collapsed": true
   },
   "outputs": [],
   "source": [
    "#plt.errorbar(x=mc.phi, y=mc.value, yerr=mc.stat, color='black', \n",
    "#            linestyle='', marker='o')\n",
    "#plt.xlabel('$\\phi_h$')\n",
    "#plt.title('Toy Monte Carlo Data')"
   ]
  },
  {
   "cell_type": "code",
   "execution_count": 109,
   "metadata": {
    "collapsed": true
   },
   "outputs": [],
   "source": [
    "#rmc = minimize(fun=lambda x: chi2(mc.value, update_model(models['full'], x, mc.phi), np.sqrt(mc.stat**2 + mc.sys_total**2)), \n",
    "#             x0=models['full'].pars,\n",
    "#            bounds=models['full'].bounds)"
   ]
  },
  {
   "cell_type": "code",
   "execution_count": 110,
   "metadata": {
    "collapsed": true
   },
   "outputs": [],
   "source": [
    "#rmc"
   ]
  },
  {
   "cell_type": "code",
   "execution_count": 111,
   "metadata": {
    "collapsed": true
   },
   "outputs": [],
   "source": [
    "def single_fit(model, data, use_sys=False):\n",
    "    model.get_initial_parameters()\n",
    "    \n",
    "    if use_sys:\n",
    "        data_errs = np.sqrt(data.stat**2 + data.sys_total**2)\n",
    "    else:\n",
    "        data_errs = data.stat \n",
    "    \n",
    "    res = minimize(fun=lambda x: chi2(data.value, update_model(model, x, data.phi), data_errs), \n",
    "             x0=model.pars, bounds=model.bounds)\n",
    "\n",
    "    identity = np.identity(len(model.pars))\n",
    "    err = np.sqrt(np.array(np.matrix(res.hess_inv * identity).diagonal()))\n",
    "    #err.reshape(model.n_pars,1)\n",
    "    \n",
    "    return res.x, err[0]"
   ]
  },
  {
   "cell_type": "code",
   "execution_count": 112,
   "metadata": {
    "collapsed": true
   },
   "outputs": [],
   "source": [
    "def create_replica(y, y_err):\n",
    "    y_rep = [np.random.normal(yp,np.fabs(yp_err)) for yp,yp_err in zip(y,y_err)]\n",
    "    return np.array(y_rep)"
   ]
  },
  {
   "cell_type": "code",
   "execution_count": 113,
   "metadata": {
    "collapsed": true
   },
   "outputs": [],
   "source": [
    "import sys\n",
    "\n",
    "def bootstrap_fit(model, data, n_replicas=100, use_sys=False):\n",
    "\n",
    "    results = []\n",
    "    scores = []\n",
    "    \n",
    "    for irep in range(n_replicas):\n",
    "        d = data.copy(deep=True)\n",
    "        \n",
    "        if use_sys:\n",
    "            data_errs = np.sqrt(d.stat**2 + d.sys_total**2)\n",
    "        else:\n",
    "            data_errs = d.stat \n",
    "        \n",
    "        rep = create_replica(d.value, data_errs) \n",
    "        d['value'] = rep   \n",
    "        pars,errs = single_fit(model, d, use_sys)\n",
    "        results.append(pars)\n",
    "        scores.append(chi2(d.value, update_model(model, pars, d.phi), data_errs))\n",
    "        \n",
    "        if irep%10 is 0:\n",
    "            sys.stdout.write('\\rProcessing replica (%d/%d)' % (irep, n_replicas))\n",
    "            sys.stdout.flush()\n",
    "            \n",
    "    return np.array(results), np.array(scores)"
   ]
  },
  {
   "cell_type": "code",
   "execution_count": 114,
   "metadata": {},
   "outputs": [],
   "source": [
    "import pymc3 as pm"
   ]
  },
  {
   "cell_type": "code",
   "execution_count": 115,
   "metadata": {},
   "outputs": [],
   "source": [
    "def fit_dataset(data, model, fit_type='single', use_sys=False):\n",
    "    '''\n",
    "    inputs\n",
    "    ------\n",
    "    \n",
    "    data: a dataframe which contains the output of the analysis notebook, phi-distributions \n",
    "    \n",
    "    model: a model object\n",
    "    \n",
    "    '''\n",
    "    \n",
    "    result = {}\n",
    "    result['axis'] = []\n",
    "    result['axis_bin'] = []\n",
    "    \n",
    "    params = {}\n",
    "    params['axis'] = []\n",
    "    params['axis_bin'] = []\n",
    "    params['value'] = []\n",
    "    \n",
    "    for p in range(model.n_pars):\n",
    "        result['par_%d' % p] = []\n",
    "        result['err_%d' % p] = []\n",
    "        \n",
    "    for axis in np.unique(data.axis):\n",
    "        dsub = data.query('axis == \"%s\"' % axis)\n",
    "        \n",
    "        for bin in np.unique(dsub.axis_bin):\n",
    "            d = dsub.query('axis_bin == %d' % bin)\n",
    "            \n",
    "            data_errs = np.sqrt(d.stat**2 + d.sys_total**2)\n",
    "            \n",
    "            if not use_sys:\n",
    "                data_errs = d.stat \n",
    "            \n",
    "            print(' Fitting %s,%d' % (axis, bin))\n",
    "            \n",
    "            # get fit to data\n",
    "            \n",
    "            if fit_type is 'single':\n",
    "                errs = 1\n",
    "                while errs > 0.4:\n",
    "                    pars,errs = single_fit(model, d, use_sys)\n",
    "\n",
    "                params['value'].append(pars)\n",
    "                \n",
    "            elif fit_type is 'replica':    \n",
    "                boot, boots = bootstrap_fit(model, d, n_replicas=80, use_sys=use_sys)\n",
    "                params['value'].append(boot)\n",
    "                \n",
    "                pars = []\n",
    "                errs = []\n",
    "                for ipar in range(model.n_pars):\n",
    "                    pars.append(np.average(boot[:,ipar]))\n",
    "                    errs.append(np.std(boot[:,ipar]))\n",
    "            \n",
    "            elif fit_type is 'pymc3':\n",
    "                basic_model = pm.Model()\n",
    "\n",
    "                with basic_model:\n",
    "                    alpha = pm.Bound(pm.Normal, lower=-1, upper=1)('alpha', mu=0, sd=1)\n",
    "                    beta  = pm.Bound(pm.Normal, lower=-1, upper=1)( 'beta', mu=0, sd=0.05)\n",
    "                    gamma = pm.Bound(pm.Normal, lower=-1, upper=1)('gamma', mu=0, sd=0.05)\n",
    "    \n",
    "                    mu = alpha * np.sin( (np.pi/180) * test_data.phi) / (1 + \\\n",
    "                                                        beta * np.cos( (np.pi/180) * test_data.phi) + \\\n",
    "                                                        gamma * np.cos( 2*(np.pi/180) * test_data.phi)\n",
    "                                                        )\n",
    "        \n",
    "                    y = pm.Normal('y', mu=mu, sd=data_errs, observed=d.value)\n",
    "                    trace = pm.sample(1000, tune=500)\n",
    "                    \n",
    "                    pars = []\n",
    "                    errs = []\n",
    "                    pars.append(np.average(trace['alpha']))\n",
    "                    pars.append(np.average(trace['beta']))\n",
    "                    pars.append(np.average(trace['gamma']))\n",
    "                    errs.append(np.std(trace['alpha']))\n",
    "                    errs.append(np.std(trace['beta']))\n",
    "                    errs.append(np.std(trace['gamma']))\n",
    "            \n",
    "                    params['value'].append(np.array([trace['alpha'],\n",
    "                                                    trace['beta'],\n",
    "                                                    trace['gamma']]))\n",
    "            \n",
    "            result['axis'].append(axis)\n",
    "            result['axis_bin'].append(bin)\n",
    "            \n",
    "            params['axis'].append(axis)\n",
    "            params['axis_bin'].append(bin)\n",
    "            \n",
    "            for p in range(model.n_pars):\n",
    "                result['par_%d' % p].append(pars[p])\n",
    "                result['err_%d' % p].append(errs[p])\n",
    "            \n",
    "    return pd.DataFrame(result), params"
   ]
  },
  {
   "cell_type": "code",
   "execution_count": 126,
   "metadata": {},
   "outputs": [
    {
     "name": "stdout",
     "output_type": "stream",
     "text": [
      "Fitting for pymc3, full\n",
      " Fitting pt,0\n"
     ]
    },
    {
     "name": "stderr",
     "output_type": "stream",
     "text": [
      "Auto-assigning NUTS sampler...\n",
      "Initializing NUTS using jitter+adapt_diag...\n",
      "/Users/dmriser/anaconda2/lib/python2.7/site-packages/pymc3/model.py:384: FutureWarning: Conversion of the second argument of issubdtype from `float` to `np.floating` is deprecated. In future, it will be treated as `np.float64 == np.dtype(float).type`.\n",
      "  if not np.issubdtype(var.dtype, float):\n",
      "Multiprocess sampling (4 chains in 4 jobs)\n",
      "NUTS: [gamma_interval__, beta_interval__, alpha_interval__]\n",
      "100%|██████████| 1500/1500 [00:04<00:00, 360.81it/s]\n"
     ]
    },
    {
     "name": "stdout",
     "output_type": "stream",
     "text": [
      " Fitting pt,1\n"
     ]
    },
    {
     "name": "stderr",
     "output_type": "stream",
     "text": [
      "Auto-assigning NUTS sampler...\n",
      "Initializing NUTS using jitter+adapt_diag...\n",
      "Multiprocess sampling (4 chains in 4 jobs)\n",
      "NUTS: [gamma_interval__, beta_interval__, alpha_interval__]\n",
      "100%|██████████| 1500/1500 [00:02<00:00, 728.36it/s]\n"
     ]
    },
    {
     "name": "stdout",
     "output_type": "stream",
     "text": [
      " Fitting pt,2\n"
     ]
    },
    {
     "name": "stderr",
     "output_type": "stream",
     "text": [
      "Auto-assigning NUTS sampler...\n",
      "Initializing NUTS using jitter+adapt_diag...\n",
      "Multiprocess sampling (4 chains in 4 jobs)\n",
      "NUTS: [gamma_interval__, beta_interval__, alpha_interval__]\n",
      "100%|██████████| 1500/1500 [00:02<00:00, 620.95it/s]\n"
     ]
    },
    {
     "name": "stdout",
     "output_type": "stream",
     "text": [
      " Fitting pt,3\n"
     ]
    },
    {
     "name": "stderr",
     "output_type": "stream",
     "text": [
      "Auto-assigning NUTS sampler...\n",
      "Initializing NUTS using jitter+adapt_diag...\n",
      "Multiprocess sampling (4 chains in 4 jobs)\n",
      "NUTS: [gamma_interval__, beta_interval__, alpha_interval__]\n",
      "100%|██████████| 1500/1500 [00:01<00:00, 868.14it/s]\n"
     ]
    },
    {
     "name": "stdout",
     "output_type": "stream",
     "text": [
      " Fitting pt,4\n"
     ]
    },
    {
     "name": "stderr",
     "output_type": "stream",
     "text": [
      "Auto-assigning NUTS sampler...\n",
      "Initializing NUTS using jitter+adapt_diag...\n",
      "Multiprocess sampling (4 chains in 4 jobs)\n",
      "NUTS: [gamma_interval__, beta_interval__, alpha_interval__]\n",
      "100%|██████████| 1500/1500 [00:02<00:00, 679.60it/s]\n"
     ]
    },
    {
     "name": "stdout",
     "output_type": "stream",
     "text": [
      " Fitting pt,5\n"
     ]
    },
    {
     "name": "stderr",
     "output_type": "stream",
     "text": [
      "Auto-assigning NUTS sampler...\n",
      "Initializing NUTS using jitter+adapt_diag...\n",
      "Multiprocess sampling (4 chains in 4 jobs)\n",
      "NUTS: [gamma_interval__, beta_interval__, alpha_interval__]\n",
      "100%|██████████| 1500/1500 [00:01<00:00, 826.78it/s]\n"
     ]
    },
    {
     "name": "stdout",
     "output_type": "stream",
     "text": [
      " Fitting pt,6\n"
     ]
    },
    {
     "name": "stderr",
     "output_type": "stream",
     "text": [
      "Auto-assigning NUTS sampler...\n",
      "Initializing NUTS using jitter+adapt_diag...\n",
      "Multiprocess sampling (4 chains in 4 jobs)\n",
      "NUTS: [gamma_interval__, beta_interval__, alpha_interval__]\n",
      "100%|██████████| 1500/1500 [00:01<00:00, 861.60it/s]\n"
     ]
    },
    {
     "name": "stdout",
     "output_type": "stream",
     "text": [
      " Fitting pt,7\n"
     ]
    },
    {
     "name": "stderr",
     "output_type": "stream",
     "text": [
      "Auto-assigning NUTS sampler...\n",
      "Initializing NUTS using jitter+adapt_diag...\n",
      "Multiprocess sampling (4 chains in 4 jobs)\n",
      "NUTS: [gamma_interval__, beta_interval__, alpha_interval__]\n",
      "100%|██████████| 1500/1500 [00:02<00:00, 682.17it/s]\n"
     ]
    },
    {
     "name": "stdout",
     "output_type": "stream",
     "text": [
      " Fitting pt,8\n"
     ]
    },
    {
     "name": "stderr",
     "output_type": "stream",
     "text": [
      "Auto-assigning NUTS sampler...\n",
      "Initializing NUTS using jitter+adapt_diag...\n",
      "Multiprocess sampling (4 chains in 4 jobs)\n",
      "NUTS: [gamma_interval__, beta_interval__, alpha_interval__]\n",
      "100%|██████████| 1500/1500 [00:01<00:00, 876.03it/s]\n"
     ]
    },
    {
     "name": "stdout",
     "output_type": "stream",
     "text": [
      " Fitting pt,9\n"
     ]
    },
    {
     "name": "stderr",
     "output_type": "stream",
     "text": [
      "Auto-assigning NUTS sampler...\n",
      "Initializing NUTS using jitter+adapt_diag...\n",
      "Multiprocess sampling (4 chains in 4 jobs)\n",
      "NUTS: [gamma_interval__, beta_interval__, alpha_interval__]\n",
      "100%|██████████| 1500/1500 [00:01<00:00, 785.90it/s]\n"
     ]
    },
    {
     "name": "stdout",
     "output_type": "stream",
     "text": [
      " Fitting q2,0\n"
     ]
    },
    {
     "name": "stderr",
     "output_type": "stream",
     "text": [
      "Auto-assigning NUTS sampler...\n",
      "Initializing NUTS using jitter+adapt_diag...\n",
      "Multiprocess sampling (4 chains in 4 jobs)\n",
      "NUTS: [gamma_interval__, beta_interval__, alpha_interval__]\n",
      "100%|██████████| 1500/1500 [00:01<00:00, 795.10it/s]\n"
     ]
    },
    {
     "name": "stdout",
     "output_type": "stream",
     "text": [
      " Fitting q2,1\n"
     ]
    },
    {
     "name": "stderr",
     "output_type": "stream",
     "text": [
      "Auto-assigning NUTS sampler...\n",
      "Initializing NUTS using jitter+adapt_diag...\n",
      "Multiprocess sampling (4 chains in 4 jobs)\n",
      "NUTS: [gamma_interval__, beta_interval__, alpha_interval__]\n",
      "100%|██████████| 1500/1500 [00:02<00:00, 596.45it/s]\n",
      "The acceptance probability does not match the target. It is 0.8872128224355401, but should be close to 0.8. Try to increase the number of tuning steps.\n"
     ]
    },
    {
     "name": "stdout",
     "output_type": "stream",
     "text": [
      " Fitting q2,2\n"
     ]
    },
    {
     "name": "stderr",
     "output_type": "stream",
     "text": [
      "Auto-assigning NUTS sampler...\n",
      "Initializing NUTS using jitter+adapt_diag...\n",
      "Multiprocess sampling (4 chains in 4 jobs)\n",
      "NUTS: [gamma_interval__, beta_interval__, alpha_interval__]\n",
      "100%|██████████| 1500/1500 [00:01<00:00, 762.77it/s]\n"
     ]
    },
    {
     "name": "stdout",
     "output_type": "stream",
     "text": [
      " Fitting q2,3\n"
     ]
    },
    {
     "name": "stderr",
     "output_type": "stream",
     "text": [
      "Auto-assigning NUTS sampler...\n",
      "Initializing NUTS using jitter+adapt_diag...\n",
      "Multiprocess sampling (4 chains in 4 jobs)\n",
      "NUTS: [gamma_interval__, beta_interval__, alpha_interval__]\n",
      " 95%|█████████▌| 1432/1500 [00:01<00:00, 739.24it/s]\n",
      "100%|██████████| 1500/1500 [00:01<00:00, 752.33it/s]"
     ]
    },
    {
     "name": "stdout",
     "output_type": "stream",
     "text": [
      " Fitting q2,4\n"
     ]
    },
    {
     "name": "stderr",
     "output_type": "stream",
     "text": [
      "Auto-assigning NUTS sampler...\n",
      "Initializing NUTS using jitter+adapt_diag...\n",
      "Multiprocess sampling (4 chains in 4 jobs)\n",
      "NUTS: [gamma_interval__, beta_interval__, alpha_interval__]\n",
      "100%|██████████| 1500/1500 [00:01<00:00, 868.25it/s]\n",
      "The acceptance probability does not match the target. It is 0.8822790095683608, but should be close to 0.8. Try to increase the number of tuning steps.\n"
     ]
    },
    {
     "name": "stdout",
     "output_type": "stream",
     "text": [
      " Fitting q2,5\n"
     ]
    },
    {
     "name": "stderr",
     "output_type": "stream",
     "text": [
      "Auto-assigning NUTS sampler...\n",
      "Initializing NUTS using jitter+adapt_diag...\n",
      "Multiprocess sampling (4 chains in 4 jobs)\n",
      "NUTS: [gamma_interval__, beta_interval__, alpha_interval__]\n",
      "100%|██████████| 1500/1500 [00:02<00:00, 647.20it/s]\n",
      "The acceptance probability does not match the target. It is 0.8796363434713984, but should be close to 0.8. Try to increase the number of tuning steps.\n"
     ]
    },
    {
     "name": "stdout",
     "output_type": "stream",
     "text": [
      " Fitting q2,6\n"
     ]
    },
    {
     "name": "stderr",
     "output_type": "stream",
     "text": [
      "Auto-assigning NUTS sampler...\n",
      "Initializing NUTS using jitter+adapt_diag...\n",
      "Multiprocess sampling (4 chains in 4 jobs)\n",
      "NUTS: [gamma_interval__, beta_interval__, alpha_interval__]\n",
      "100%|██████████| 1500/1500 [00:02<00:00, 666.46it/s]\n",
      "The acceptance probability does not match the target. It is 0.8793272509196217, but should be close to 0.8. Try to increase the number of tuning steps.\n"
     ]
    },
    {
     "name": "stdout",
     "output_type": "stream",
     "text": [
      " Fitting q2,7\n"
     ]
    },
    {
     "name": "stderr",
     "output_type": "stream",
     "text": [
      "Auto-assigning NUTS sampler...\n",
      "Initializing NUTS using jitter+adapt_diag...\n",
      "Multiprocess sampling (4 chains in 4 jobs)\n",
      "NUTS: [gamma_interval__, beta_interval__, alpha_interval__]\n",
      "100%|██████████| 1500/1500 [00:01<00:00, 788.44it/s]\n"
     ]
    },
    {
     "name": "stdout",
     "output_type": "stream",
     "text": [
      " Fitting q2,8\n"
     ]
    },
    {
     "name": "stderr",
     "output_type": "stream",
     "text": [
      "Auto-assigning NUTS sampler...\n",
      "Initializing NUTS using jitter+adapt_diag...\n",
      "Multiprocess sampling (4 chains in 4 jobs)\n",
      "NUTS: [gamma_interval__, beta_interval__, alpha_interval__]\n",
      " 95%|█████████▍| 1422/1500 [00:01<00:00, 779.11it/s]\n",
      "100%|██████████| 1500/1500 [00:01<00:00, 791.07it/s]"
     ]
    },
    {
     "name": "stdout",
     "output_type": "stream",
     "text": [
      " Fitting q2,9\n"
     ]
    },
    {
     "name": "stderr",
     "output_type": "stream",
     "text": [
      "Auto-assigning NUTS sampler...\n",
      "Initializing NUTS using jitter+adapt_diag...\n",
      "Multiprocess sampling (4 chains in 4 jobs)\n",
      "NUTS: [gamma_interval__, beta_interval__, alpha_interval__]\n",
      "100%|██████████| 1500/1500 [00:02<00:00, 641.28it/s]\n"
     ]
    },
    {
     "name": "stdout",
     "output_type": "stream",
     "text": [
      " Fitting x,0\n"
     ]
    },
    {
     "name": "stderr",
     "output_type": "stream",
     "text": [
      "Auto-assigning NUTS sampler...\n",
      "Initializing NUTS using jitter+adapt_diag...\n",
      "Multiprocess sampling (4 chains in 4 jobs)\n",
      "NUTS: [gamma_interval__, beta_interval__, alpha_interval__]\n",
      "100%|██████████| 1500/1500 [00:02<00:00, 741.18it/s]\n"
     ]
    },
    {
     "name": "stdout",
     "output_type": "stream",
     "text": [
      " Fitting x,1\n"
     ]
    },
    {
     "name": "stderr",
     "output_type": "stream",
     "text": [
      "Auto-assigning NUTS sampler...\n",
      "Initializing NUTS using jitter+adapt_diag...\n",
      "Multiprocess sampling (4 chains in 4 jobs)\n",
      "NUTS: [gamma_interval__, beta_interval__, alpha_interval__]\n",
      "100%|██████████| 1500/1500 [00:01<00:00, 767.14it/s]\n",
      "The acceptance probability does not match the target. It is 0.8818585495259647, but should be close to 0.8. Try to increase the number of tuning steps.\n"
     ]
    },
    {
     "name": "stdout",
     "output_type": "stream",
     "text": [
      " Fitting x,2\n"
     ]
    },
    {
     "name": "stderr",
     "output_type": "stream",
     "text": [
      "Auto-assigning NUTS sampler...\n",
      "Initializing NUTS using jitter+adapt_diag...\n",
      "Multiprocess sampling (4 chains in 4 jobs)\n",
      "NUTS: [gamma_interval__, beta_interval__, alpha_interval__]\n",
      "100%|██████████| 1500/1500 [00:02<00:00, 740.54it/s]\n",
      "The acceptance probability does not match the target. It is 0.889086395655449, but should be close to 0.8. Try to increase the number of tuning steps.\n"
     ]
    },
    {
     "name": "stdout",
     "output_type": "stream",
     "text": [
      " Fitting x,3\n"
     ]
    },
    {
     "name": "stderr",
     "output_type": "stream",
     "text": [
      "Auto-assigning NUTS sampler...\n",
      "Initializing NUTS using jitter+adapt_diag...\n",
      "Multiprocess sampling (4 chains in 4 jobs)\n",
      "NUTS: [gamma_interval__, beta_interval__, alpha_interval__]\n",
      "100%|██████████| 1500/1500 [00:02<00:00, 676.00it/s]\n"
     ]
    },
    {
     "name": "stdout",
     "output_type": "stream",
     "text": [
      " Fitting x,4\n"
     ]
    },
    {
     "name": "stderr",
     "output_type": "stream",
     "text": [
      "Auto-assigning NUTS sampler...\n",
      "Initializing NUTS using jitter+adapt_diag...\n",
      "Multiprocess sampling (4 chains in 4 jobs)\n",
      "NUTS: [gamma_interval__, beta_interval__, alpha_interval__]\n",
      "100%|██████████| 1500/1500 [00:01<00:00, 847.02it/s]\n"
     ]
    },
    {
     "name": "stdout",
     "output_type": "stream",
     "text": [
      " Fitting x,5\n"
     ]
    },
    {
     "name": "stderr",
     "output_type": "stream",
     "text": [
      "Auto-assigning NUTS sampler...\n",
      "Initializing NUTS using jitter+adapt_diag...\n",
      "Multiprocess sampling (4 chains in 4 jobs)\n",
      "NUTS: [gamma_interval__, beta_interval__, alpha_interval__]\n",
      "100%|██████████| 1500/1500 [00:02<00:00, 698.89it/s]\n"
     ]
    },
    {
     "name": "stdout",
     "output_type": "stream",
     "text": [
      " Fitting x,6\n"
     ]
    },
    {
     "name": "stderr",
     "output_type": "stream",
     "text": [
      "Auto-assigning NUTS sampler...\n",
      "Initializing NUTS using jitter+adapt_diag...\n",
      "Multiprocess sampling (4 chains in 4 jobs)\n",
      "NUTS: [gamma_interval__, beta_interval__, alpha_interval__]\n",
      "100%|██████████| 1500/1500 [00:01<00:00, 875.41it/s]\n",
      "The acceptance probability does not match the target. It is 0.8802987682672717, but should be close to 0.8. Try to increase the number of tuning steps.\n"
     ]
    },
    {
     "name": "stdout",
     "output_type": "stream",
     "text": [
      " Fitting x,7\n"
     ]
    },
    {
     "name": "stderr",
     "output_type": "stream",
     "text": [
      "Auto-assigning NUTS sampler...\n",
      "Initializing NUTS using jitter+adapt_diag...\n",
      "Multiprocess sampling (4 chains in 4 jobs)\n",
      "NUTS: [gamma_interval__, beta_interval__, alpha_interval__]\n",
      "100%|██████████| 1500/1500 [00:02<00:00, 634.55it/s]\n"
     ]
    },
    {
     "name": "stdout",
     "output_type": "stream",
     "text": [
      " Fitting x,8\n"
     ]
    },
    {
     "name": "stderr",
     "output_type": "stream",
     "text": [
      "Auto-assigning NUTS sampler...\n",
      "Initializing NUTS using jitter+adapt_diag...\n",
      "Multiprocess sampling (4 chains in 4 jobs)\n",
      "NUTS: [gamma_interval__, beta_interval__, alpha_interval__]\n",
      "100%|██████████| 1500/1500 [00:02<00:00, 748.67it/s]\n",
      "The acceptance probability does not match the target. It is 0.8898032585322199, but should be close to 0.8. Try to increase the number of tuning steps.\n"
     ]
    },
    {
     "name": "stdout",
     "output_type": "stream",
     "text": [
      " Fitting x,9\n"
     ]
    },
    {
     "name": "stderr",
     "output_type": "stream",
     "text": [
      "Auto-assigning NUTS sampler...\n",
      "Initializing NUTS using jitter+adapt_diag...\n",
      "Multiprocess sampling (4 chains in 4 jobs)\n",
      "NUTS: [gamma_interval__, beta_interval__, alpha_interval__]\n",
      "100%|██████████| 1500/1500 [00:01<00:00, 827.54it/s]\n"
     ]
    },
    {
     "name": "stdout",
     "output_type": "stream",
     "text": [
      " Fitting z,0\n"
     ]
    },
    {
     "name": "stderr",
     "output_type": "stream",
     "text": [
      "Auto-assigning NUTS sampler...\n",
      "Initializing NUTS using jitter+adapt_diag...\n",
      "Multiprocess sampling (4 chains in 4 jobs)\n",
      "NUTS: [gamma_interval__, beta_interval__, alpha_interval__]\n",
      "100%|██████████| 1500/1500 [00:02<00:00, 694.69it/s]\n"
     ]
    },
    {
     "name": "stdout",
     "output_type": "stream",
     "text": [
      " Fitting z,1\n"
     ]
    },
    {
     "name": "stderr",
     "output_type": "stream",
     "text": [
      "Auto-assigning NUTS sampler...\n",
      "Initializing NUTS using jitter+adapt_diag...\n",
      "Multiprocess sampling (4 chains in 4 jobs)\n",
      "NUTS: [gamma_interval__, beta_interval__, alpha_interval__]\n",
      "100%|██████████| 1500/1500 [00:01<00:00, 775.51it/s]\n"
     ]
    },
    {
     "name": "stdout",
     "output_type": "stream",
     "text": [
      " Fitting z,2\n"
     ]
    },
    {
     "name": "stderr",
     "output_type": "stream",
     "text": [
      "Auto-assigning NUTS sampler...\n",
      "Initializing NUTS using jitter+adapt_diag...\n",
      "Multiprocess sampling (4 chains in 4 jobs)\n",
      "NUTS: [gamma_interval__, beta_interval__, alpha_interval__]\n",
      "100%|██████████| 1500/1500 [00:02<00:00, 575.20it/s]\n",
      "The acceptance probability does not match the target. It is 0.880652762959942, but should be close to 0.8. Try to increase the number of tuning steps.\n"
     ]
    },
    {
     "name": "stdout",
     "output_type": "stream",
     "text": [
      " Fitting z,3\n"
     ]
    },
    {
     "name": "stderr",
     "output_type": "stream",
     "text": [
      "Auto-assigning NUTS sampler...\n",
      "Initializing NUTS using jitter+adapt_diag...\n",
      "Multiprocess sampling (4 chains in 4 jobs)\n",
      "NUTS: [gamma_interval__, beta_interval__, alpha_interval__]\n",
      "100%|██████████| 1500/1500 [00:02<00:00, 536.03it/s]\n",
      "The acceptance probability does not match the target. It is 0.8870496960668375, but should be close to 0.8. Try to increase the number of tuning steps.\n",
      "The acceptance probability does not match the target. It is 0.8813925283168421, but should be close to 0.8. Try to increase the number of tuning steps.\n"
     ]
    },
    {
     "name": "stdout",
     "output_type": "stream",
     "text": [
      " Fitting z,4\n"
     ]
    },
    {
     "name": "stderr",
     "output_type": "stream",
     "text": [
      "Auto-assigning NUTS sampler...\n",
      "Initializing NUTS using jitter+adapt_diag...\n",
      "Multiprocess sampling (4 chains in 4 jobs)\n",
      "NUTS: [gamma_interval__, beta_interval__, alpha_interval__]\n",
      " 83%|████████▎ | 1248/1500 [00:01<00:00, 821.00it/s]\n",
      "100%|██████████| 1500/1500 [00:01<00:00, 877.35it/s]"
     ]
    },
    {
     "name": "stdout",
     "output_type": "stream",
     "text": [
      " Fitting z,5\n"
     ]
    },
    {
     "name": "stderr",
     "output_type": "stream",
     "text": [
      "Auto-assigning NUTS sampler...\n",
      "Initializing NUTS using jitter+adapt_diag...\n",
      "Multiprocess sampling (4 chains in 4 jobs)\n",
      "NUTS: [gamma_interval__, beta_interval__, alpha_interval__]\n",
      "100%|██████████| 1500/1500 [00:01<00:00, 909.46it/s]\n",
      "The acceptance probability does not match the target. It is 0.8800100940792968, but should be close to 0.8. Try to increase the number of tuning steps.\n"
     ]
    },
    {
     "name": "stdout",
     "output_type": "stream",
     "text": [
      " Fitting z,6\n"
     ]
    },
    {
     "name": "stderr",
     "output_type": "stream",
     "text": [
      "Auto-assigning NUTS sampler...\n",
      "Initializing NUTS using jitter+adapt_diag...\n",
      "Multiprocess sampling (4 chains in 4 jobs)\n",
      "NUTS: [gamma_interval__, beta_interval__, alpha_interval__]\n",
      "100%|██████████| 1500/1500 [00:01<00:00, 843.46it/s]\n"
     ]
    },
    {
     "name": "stdout",
     "output_type": "stream",
     "text": [
      " Fitting z,7\n"
     ]
    },
    {
     "name": "stderr",
     "output_type": "stream",
     "text": [
      "Auto-assigning NUTS sampler...\n",
      "Initializing NUTS using jitter+adapt_diag...\n",
      "Multiprocess sampling (4 chains in 4 jobs)\n",
      "NUTS: [gamma_interval__, beta_interval__, alpha_interval__]\n",
      "100%|██████████| 1500/1500 [00:02<00:00, 738.51it/s]\n"
     ]
    },
    {
     "name": "stdout",
     "output_type": "stream",
     "text": [
      " Fitting z,8\n"
     ]
    },
    {
     "name": "stderr",
     "output_type": "stream",
     "text": [
      "Auto-assigning NUTS sampler...\n",
      "Initializing NUTS using jitter+adapt_diag...\n",
      "Multiprocess sampling (4 chains in 4 jobs)\n",
      "NUTS: [gamma_interval__, beta_interval__, alpha_interval__]\n",
      "100%|██████████| 1500/1500 [00:02<00:00, 685.24it/s]\n"
     ]
    },
    {
     "name": "stdout",
     "output_type": "stream",
     "text": [
      " Fitting z,9\n"
     ]
    },
    {
     "name": "stderr",
     "output_type": "stream",
     "text": [
      "Auto-assigning NUTS sampler...\n",
      "Initializing NUTS using jitter+adapt_diag...\n",
      "Multiprocess sampling (4 chains in 4 jobs)\n",
      "NUTS: [gamma_interval__, beta_interval__, alpha_interval__]\n",
      "100%|██████████| 1500/1500 [00:01<00:00, 828.14it/s]\n"
     ]
    },
    {
     "name": "stdout",
     "output_type": "stream",
     "text": [
      " Fitting pt,0\n"
     ]
    },
    {
     "name": "stderr",
     "output_type": "stream",
     "text": [
      "Auto-assigning NUTS sampler...\n",
      "Initializing NUTS using jitter+adapt_diag...\n",
      "Multiprocess sampling (4 chains in 4 jobs)\n",
      "NUTS: [gamma_interval__, beta_interval__, alpha_interval__]\n",
      "100%|██████████| 1500/1500 [00:01<00:00, 905.32it/s]\n"
     ]
    },
    {
     "name": "stdout",
     "output_type": "stream",
     "text": [
      " Fitting pt,1\n"
     ]
    },
    {
     "name": "stderr",
     "output_type": "stream",
     "text": [
      "Auto-assigning NUTS sampler...\n",
      "Initializing NUTS using jitter+adapt_diag...\n",
      "Multiprocess sampling (4 chains in 4 jobs)\n",
      "NUTS: [gamma_interval__, beta_interval__, alpha_interval__]\n",
      "100%|██████████| 1500/1500 [00:01<00:00, 831.56it/s]\n",
      " 48%|████▊     | 713/1500 [00:01<00:01, 583.48it/s]]The acceptance probability does not match the target. It is 0.8798902718174484, but should be close to 0.8. Try to increase the number of tuning steps.\n"
     ]
    },
    {
     "name": "stdout",
     "output_type": "stream",
     "text": [
      " Fitting pt,2\n"
     ]
    },
    {
     "name": "stderr",
     "output_type": "stream",
     "text": [
      "Auto-assigning NUTS sampler...\n",
      "Initializing NUTS using jitter+adapt_diag...\n",
      "Multiprocess sampling (4 chains in 4 jobs)\n",
      "NUTS: [gamma_interval__, beta_interval__, alpha_interval__]\n",
      "100%|██████████| 1500/1500 [00:01<00:00, 934.77it/s]\n"
     ]
    },
    {
     "name": "stdout",
     "output_type": "stream",
     "text": [
      " Fitting pt,3\n"
     ]
    },
    {
     "name": "stderr",
     "output_type": "stream",
     "text": [
      "Auto-assigning NUTS sampler...\n",
      "Initializing NUTS using jitter+adapt_diag...\n",
      "Multiprocess sampling (4 chains in 4 jobs)\n",
      "NUTS: [gamma_interval__, beta_interval__, alpha_interval__]\n",
      "100%|██████████| 1500/1500 [00:01<00:00, 901.22it/s]\n"
     ]
    },
    {
     "name": "stdout",
     "output_type": "stream",
     "text": [
      " Fitting pt,4\n"
     ]
    },
    {
     "name": "stderr",
     "output_type": "stream",
     "text": [
      "Auto-assigning NUTS sampler...\n",
      "Initializing NUTS using jitter+adapt_diag...\n",
      "Multiprocess sampling (4 chains in 4 jobs)\n",
      "NUTS: [gamma_interval__, beta_interval__, alpha_interval__]\n",
      "100%|██████████| 1500/1500 [00:01<00:00, 951.22it/s]\n"
     ]
    },
    {
     "name": "stdout",
     "output_type": "stream",
     "text": [
      " Fitting pt,5\n"
     ]
    },
    {
     "name": "stderr",
     "output_type": "stream",
     "text": [
      "Auto-assigning NUTS sampler...\n",
      "Initializing NUTS using jitter+adapt_diag...\n",
      "Multiprocess sampling (4 chains in 4 jobs)\n",
      "NUTS: [gamma_interval__, beta_interval__, alpha_interval__]\n",
      "100%|██████████| 1500/1500 [00:01<00:00, 825.15it/s]\n"
     ]
    },
    {
     "name": "stdout",
     "output_type": "stream",
     "text": [
      " Fitting pt,6\n"
     ]
    },
    {
     "name": "stderr",
     "output_type": "stream",
     "text": [
      "Auto-assigning NUTS sampler...\n",
      "Initializing NUTS using jitter+adapt_diag...\n",
      "Multiprocess sampling (4 chains in 4 jobs)\n",
      "NUTS: [gamma_interval__, beta_interval__, alpha_interval__]\n",
      " 95%|█████████▌| 1426/1500 [00:01<00:00, 884.35it/s]\n",
      "100%|██████████| 1500/1500 [00:01<00:00, 892.85it/s]"
     ]
    },
    {
     "name": "stdout",
     "output_type": "stream",
     "text": [
      " Fitting pt,7\n"
     ]
    },
    {
     "name": "stderr",
     "output_type": "stream",
     "text": [
      "Auto-assigning NUTS sampler...\n",
      "Initializing NUTS using jitter+adapt_diag...\n",
      "Multiprocess sampling (4 chains in 4 jobs)\n",
      "NUTS: [gamma_interval__, beta_interval__, alpha_interval__]\n",
      "100%|██████████| 1500/1500 [00:01<00:00, 824.57it/s]\n"
     ]
    },
    {
     "name": "stdout",
     "output_type": "stream",
     "text": [
      " Fitting pt,8\n"
     ]
    },
    {
     "name": "stderr",
     "output_type": "stream",
     "text": [
      "Auto-assigning NUTS sampler...\n",
      "Initializing NUTS using jitter+adapt_diag...\n",
      "Multiprocess sampling (4 chains in 4 jobs)\n",
      "NUTS: [gamma_interval__, beta_interval__, alpha_interval__]\n",
      "100%|██████████| 1500/1500 [00:01<00:00, 872.86it/s]\n"
     ]
    },
    {
     "name": "stdout",
     "output_type": "stream",
     "text": [
      " Fitting pt,9\n"
     ]
    },
    {
     "name": "stderr",
     "output_type": "stream",
     "text": [
      "Auto-assigning NUTS sampler...\n",
      "Initializing NUTS using jitter+adapt_diag...\n",
      "Multiprocess sampling (4 chains in 4 jobs)\n",
      "NUTS: [gamma_interval__, beta_interval__, alpha_interval__]\n",
      " 97%|█████████▋| 1448/1500 [00:01<00:00, 839.84it/s]\n",
      "100%|██████████| 1500/1500 [00:01<00:00, 849.70it/s]"
     ]
    },
    {
     "name": "stdout",
     "output_type": "stream",
     "text": [
      " Fitting q2,0\n"
     ]
    },
    {
     "name": "stderr",
     "output_type": "stream",
     "text": [
      "Auto-assigning NUTS sampler...\n",
      "Initializing NUTS using jitter+adapt_diag...\n",
      "Multiprocess sampling (4 chains in 4 jobs)\n",
      "NUTS: [gamma_interval__, beta_interval__, alpha_interval__]\n",
      "100%|██████████| 1500/1500 [00:01<00:00, 1012.01it/s]\n"
     ]
    },
    {
     "name": "stdout",
     "output_type": "stream",
     "text": [
      " Fitting q2,1\n"
     ]
    },
    {
     "name": "stderr",
     "output_type": "stream",
     "text": [
      "Auto-assigning NUTS sampler...\n",
      "Initializing NUTS using jitter+adapt_diag...\n",
      "Multiprocess sampling (4 chains in 4 jobs)\n",
      "NUTS: [gamma_interval__, beta_interval__, alpha_interval__]\n",
      "100%|██████████| 1500/1500 [00:01<00:00, 1021.06it/s]\n"
     ]
    },
    {
     "name": "stdout",
     "output_type": "stream",
     "text": [
      " Fitting q2,2\n"
     ]
    },
    {
     "name": "stderr",
     "output_type": "stream",
     "text": [
      "Auto-assigning NUTS sampler...\n",
      "Initializing NUTS using jitter+adapt_diag...\n",
      "Multiprocess sampling (4 chains in 4 jobs)\n",
      "NUTS: [gamma_interval__, beta_interval__, alpha_interval__]\n",
      "100%|██████████| 1500/1500 [00:01<00:00, 843.44it/s]\n"
     ]
    },
    {
     "name": "stdout",
     "output_type": "stream",
     "text": [
      " Fitting q2,3\n"
     ]
    },
    {
     "name": "stderr",
     "output_type": "stream",
     "text": [
      "Auto-assigning NUTS sampler...\n",
      "Initializing NUTS using jitter+adapt_diag...\n",
      "Multiprocess sampling (4 chains in 4 jobs)\n",
      "NUTS: [gamma_interval__, beta_interval__, alpha_interval__]\n",
      "100%|██████████| 1500/1500 [00:01<00:00, 872.47it/s]\n"
     ]
    },
    {
     "name": "stdout",
     "output_type": "stream",
     "text": [
      " Fitting q2,4\n"
     ]
    },
    {
     "name": "stderr",
     "output_type": "stream",
     "text": [
      "Auto-assigning NUTS sampler...\n",
      "Initializing NUTS using jitter+adapt_diag...\n",
      "Multiprocess sampling (4 chains in 4 jobs)\n",
      "NUTS: [gamma_interval__, beta_interval__, alpha_interval__]\n",
      " 96%|█████████▌| 1436/1500 [00:01<00:00, 792.15it/s]\n",
      "100%|██████████| 1500/1500 [00:01<00:00, 804.04it/s]"
     ]
    },
    {
     "name": "stdout",
     "output_type": "stream",
     "text": [
      " Fitting q2,5\n"
     ]
    },
    {
     "name": "stderr",
     "output_type": "stream",
     "text": [
      "Auto-assigning NUTS sampler...\n",
      "Initializing NUTS using jitter+adapt_diag...\n",
      "Multiprocess sampling (4 chains in 4 jobs)\n",
      "NUTS: [gamma_interval__, beta_interval__, alpha_interval__]\n",
      "100%|██████████| 1500/1500 [00:01<00:00, 871.65it/s]\n"
     ]
    },
    {
     "name": "stdout",
     "output_type": "stream",
     "text": [
      " Fitting q2,6\n"
     ]
    },
    {
     "name": "stderr",
     "output_type": "stream",
     "text": [
      "Auto-assigning NUTS sampler...\n",
      "Initializing NUTS using jitter+adapt_diag...\n",
      "Multiprocess sampling (4 chains in 4 jobs)\n",
      "NUTS: [gamma_interval__, beta_interval__, alpha_interval__]\n",
      "100%|██████████| 1500/1500 [00:01<00:00, 783.03it/s]\n"
     ]
    },
    {
     "name": "stdout",
     "output_type": "stream",
     "text": [
      " Fitting q2,7\n"
     ]
    },
    {
     "name": "stderr",
     "output_type": "stream",
     "text": [
      "Auto-assigning NUTS sampler...\n",
      "Initializing NUTS using jitter+adapt_diag...\n",
      "Multiprocess sampling (4 chains in 4 jobs)\n",
      "NUTS: [gamma_interval__, beta_interval__, alpha_interval__]\n",
      "100%|██████████| 1500/1500 [00:01<00:00, 794.19it/s]\n"
     ]
    },
    {
     "name": "stdout",
     "output_type": "stream",
     "text": [
      " Fitting q2,8\n"
     ]
    },
    {
     "name": "stderr",
     "output_type": "stream",
     "text": [
      "Auto-assigning NUTS sampler...\n",
      "Initializing NUTS using jitter+adapt_diag...\n",
      "Multiprocess sampling (4 chains in 4 jobs)\n",
      "NUTS: [gamma_interval__, beta_interval__, alpha_interval__]\n",
      "100%|██████████| 1500/1500 [00:02<00:00, 567.31it/s]\n",
      "The acceptance probability does not match the target. It is 0.8828836063670726, but should be close to 0.8. Try to increase the number of tuning steps.\n"
     ]
    },
    {
     "name": "stdout",
     "output_type": "stream",
     "text": [
      " Fitting q2,9\n"
     ]
    },
    {
     "name": "stderr",
     "output_type": "stream",
     "text": [
      "Auto-assigning NUTS sampler...\n",
      "Initializing NUTS using jitter+adapt_diag...\n",
      "Multiprocess sampling (4 chains in 4 jobs)\n",
      "NUTS: [gamma_interval__, beta_interval__, alpha_interval__]\n",
      "100%|██████████| 1500/1500 [00:01<00:00, 904.79it/s]\n"
     ]
    },
    {
     "name": "stdout",
     "output_type": "stream",
     "text": [
      " Fitting x,0\n"
     ]
    },
    {
     "name": "stderr",
     "output_type": "stream",
     "text": [
      "Auto-assigning NUTS sampler...\n",
      "Initializing NUTS using jitter+adapt_diag...\n",
      "Multiprocess sampling (4 chains in 4 jobs)\n",
      "NUTS: [gamma_interval__, beta_interval__, alpha_interval__]\n",
      "100%|██████████| 1500/1500 [00:01<00:00, 939.51it/s]\n"
     ]
    },
    {
     "name": "stdout",
     "output_type": "stream",
     "text": [
      " Fitting x,1\n"
     ]
    },
    {
     "name": "stderr",
     "output_type": "stream",
     "text": [
      "Auto-assigning NUTS sampler...\n",
      "Initializing NUTS using jitter+adapt_diag...\n",
      "Multiprocess sampling (4 chains in 4 jobs)\n",
      "NUTS: [gamma_interval__, beta_interval__, alpha_interval__]\n",
      "100%|██████████| 1500/1500 [00:01<00:00, 900.26it/s]\n"
     ]
    },
    {
     "name": "stdout",
     "output_type": "stream",
     "text": [
      " Fitting x,2\n"
     ]
    },
    {
     "name": "stderr",
     "output_type": "stream",
     "text": [
      "Auto-assigning NUTS sampler...\n",
      "Initializing NUTS using jitter+adapt_diag...\n",
      "Multiprocess sampling (4 chains in 4 jobs)\n",
      "NUTS: [gamma_interval__, beta_interval__, alpha_interval__]\n",
      "100%|██████████| 1500/1500 [00:01<00:00, 885.52it/s]\n"
     ]
    },
    {
     "name": "stdout",
     "output_type": "stream",
     "text": [
      " Fitting x,3\n"
     ]
    },
    {
     "name": "stderr",
     "output_type": "stream",
     "text": [
      "Auto-assigning NUTS sampler...\n",
      "Initializing NUTS using jitter+adapt_diag...\n",
      "Multiprocess sampling (4 chains in 4 jobs)\n",
      "NUTS: [gamma_interval__, beta_interval__, alpha_interval__]\n",
      "100%|██████████| 1500/1500 [00:01<00:00, 939.34it/s]\n"
     ]
    },
    {
     "name": "stdout",
     "output_type": "stream",
     "text": [
      " Fitting x,4\n"
     ]
    },
    {
     "name": "stderr",
     "output_type": "stream",
     "text": [
      "Auto-assigning NUTS sampler...\n",
      "Initializing NUTS using jitter+adapt_diag...\n",
      "Multiprocess sampling (4 chains in 4 jobs)\n",
      "NUTS: [gamma_interval__, beta_interval__, alpha_interval__]\n",
      "100%|██████████| 1500/1500 [00:01<00:00, 780.50it/s]\n"
     ]
    },
    {
     "name": "stdout",
     "output_type": "stream",
     "text": [
      " Fitting x,5\n"
     ]
    },
    {
     "name": "stderr",
     "output_type": "stream",
     "text": [
      "Auto-assigning NUTS sampler...\n",
      "Initializing NUTS using jitter+adapt_diag...\n",
      "Multiprocess sampling (4 chains in 4 jobs)\n",
      "NUTS: [gamma_interval__, beta_interval__, alpha_interval__]\n",
      "100%|██████████| 1500/1500 [00:02<00:00, 538.97it/s]\n"
     ]
    },
    {
     "name": "stdout",
     "output_type": "stream",
     "text": [
      " Fitting x,6\n"
     ]
    },
    {
     "name": "stderr",
     "output_type": "stream",
     "text": [
      "Auto-assigning NUTS sampler...\n",
      "Initializing NUTS using jitter+adapt_diag...\n",
      "Multiprocess sampling (4 chains in 4 jobs)\n",
      "NUTS: [gamma_interval__, beta_interval__, alpha_interval__]\n",
      " 58%|█████▊    | 863/1500 [00:01<00:00, 696.72it/s]\n",
      " 93%|█████████▎| 1400/1500 [00:01<00:00, 853.63it/s]"
     ]
    },
    {
     "name": "stdout",
     "output_type": "stream",
     "text": [
      " Fitting x,7\n"
     ]
    },
    {
     "name": "stderr",
     "output_type": "stream",
     "text": [
      "Auto-assigning NUTS sampler...\n",
      "Initializing NUTS using jitter+adapt_diag...\n",
      "Multiprocess sampling (4 chains in 4 jobs)\n",
      "NUTS: [gamma_interval__, beta_interval__, alpha_interval__]\n",
      "100%|██████████| 1500/1500 [00:02<00:00, 704.53it/s]\n"
     ]
    },
    {
     "name": "stdout",
     "output_type": "stream",
     "text": [
      " Fitting x,8\n"
     ]
    },
    {
     "name": "stderr",
     "output_type": "stream",
     "text": [
      "Auto-assigning NUTS sampler...\n",
      "Initializing NUTS using jitter+adapt_diag...\n",
      "Multiprocess sampling (4 chains in 4 jobs)\n",
      "NUTS: [gamma_interval__, beta_interval__, alpha_interval__]\n",
      "100%|██████████| 1500/1500 [00:02<00:00, 631.93it/s]\n"
     ]
    },
    {
     "name": "stdout",
     "output_type": "stream",
     "text": [
      " Fitting x,9\n"
     ]
    },
    {
     "name": "stderr",
     "output_type": "stream",
     "text": [
      "Auto-assigning NUTS sampler...\n",
      "Initializing NUTS using jitter+adapt_diag...\n",
      "Multiprocess sampling (4 chains in 4 jobs)\n",
      "NUTS: [gamma_interval__, beta_interval__, alpha_interval__]\n",
      "100%|██████████| 1500/1500 [00:01<00:00, 865.64it/s]\n"
     ]
    },
    {
     "name": "stdout",
     "output_type": "stream",
     "text": [
      " Fitting z,0\n"
     ]
    },
    {
     "name": "stderr",
     "output_type": "stream",
     "text": [
      "Auto-assigning NUTS sampler...\n",
      "Initializing NUTS using jitter+adapt_diag...\n",
      "Multiprocess sampling (4 chains in 4 jobs)\n",
      "NUTS: [gamma_interval__, beta_interval__, alpha_interval__]\n",
      "100%|██████████| 1500/1500 [00:01<00:00, 915.80it/s]\n"
     ]
    },
    {
     "name": "stdout",
     "output_type": "stream",
     "text": [
      " Fitting z,1\n"
     ]
    },
    {
     "name": "stderr",
     "output_type": "stream",
     "text": [
      "Auto-assigning NUTS sampler...\n",
      "Initializing NUTS using jitter+adapt_diag...\n",
      "Multiprocess sampling (4 chains in 4 jobs)\n",
      "NUTS: [gamma_interval__, beta_interval__, alpha_interval__]\n",
      "100%|██████████| 1500/1500 [00:01<00:00, 836.34it/s]\n",
      "The acceptance probability does not match the target. It is 0.8887741371330399, but should be close to 0.8. Try to increase the number of tuning steps.\n"
     ]
    },
    {
     "name": "stdout",
     "output_type": "stream",
     "text": [
      " Fitting z,2\n"
     ]
    },
    {
     "name": "stderr",
     "output_type": "stream",
     "text": [
      "Auto-assigning NUTS sampler...\n",
      "Initializing NUTS using jitter+adapt_diag...\n",
      "Multiprocess sampling (4 chains in 4 jobs)\n",
      "NUTS: [gamma_interval__, beta_interval__, alpha_interval__]\n",
      "100%|██████████| 1500/1500 [00:01<00:00, 898.74it/s]\n"
     ]
    },
    {
     "name": "stdout",
     "output_type": "stream",
     "text": [
      " Fitting z,3\n"
     ]
    },
    {
     "name": "stderr",
     "output_type": "stream",
     "text": [
      "Auto-assigning NUTS sampler...\n",
      "Initializing NUTS using jitter+adapt_diag...\n",
      "Multiprocess sampling (4 chains in 4 jobs)\n",
      "NUTS: [gamma_interval__, beta_interval__, alpha_interval__]\n",
      "100%|██████████| 1500/1500 [00:02<00:00, 722.38it/s]\n"
     ]
    },
    {
     "name": "stdout",
     "output_type": "stream",
     "text": [
      " Fitting z,4\n"
     ]
    },
    {
     "name": "stderr",
     "output_type": "stream",
     "text": [
      "Auto-assigning NUTS sampler...\n",
      "Initializing NUTS using jitter+adapt_diag...\n",
      "Multiprocess sampling (4 chains in 4 jobs)\n",
      "NUTS: [gamma_interval__, beta_interval__, alpha_interval__]\n",
      "100%|██████████| 1500/1500 [00:02<00:00, 683.46it/s]\n"
     ]
    },
    {
     "name": "stdout",
     "output_type": "stream",
     "text": [
      " Fitting z,5\n"
     ]
    },
    {
     "name": "stderr",
     "output_type": "stream",
     "text": [
      "Auto-assigning NUTS sampler...\n",
      "Initializing NUTS using jitter+adapt_diag...\n",
      "Multiprocess sampling (4 chains in 4 jobs)\n",
      "NUTS: [gamma_interval__, beta_interval__, alpha_interval__]\n",
      " 92%|█████████▏| 1385/1500 [00:01<00:00, 839.81it/s]\n",
      "100%|██████████| 1500/1500 [00:01<00:00, 867.15it/s]"
     ]
    },
    {
     "name": "stdout",
     "output_type": "stream",
     "text": [
      " Fitting z,6\n"
     ]
    },
    {
     "name": "stderr",
     "output_type": "stream",
     "text": [
      "Auto-assigning NUTS sampler...\n",
      "Initializing NUTS using jitter+adapt_diag...\n",
      "Multiprocess sampling (4 chains in 4 jobs)\n",
      "NUTS: [gamma_interval__, beta_interval__, alpha_interval__]\n",
      "100%|██████████| 1500/1500 [00:01<00:00, 839.67it/s]\n"
     ]
    },
    {
     "name": "stdout",
     "output_type": "stream",
     "text": [
      " Fitting z,7\n"
     ]
    },
    {
     "name": "stderr",
     "output_type": "stream",
     "text": [
      "Auto-assigning NUTS sampler...\n",
      "Initializing NUTS using jitter+adapt_diag...\n",
      "Multiprocess sampling (4 chains in 4 jobs)\n",
      "NUTS: [gamma_interval__, beta_interval__, alpha_interval__]\n",
      " 93%|█████████▎| 1393/1500 [00:01<00:00, 985.11it/s]\n",
      "100%|██████████| 1500/1500 [00:01<00:00, 1006.28it/s]"
     ]
    },
    {
     "name": "stdout",
     "output_type": "stream",
     "text": [
      " Fitting z,8\n"
     ]
    },
    {
     "name": "stderr",
     "output_type": "stream",
     "text": [
      "Auto-assigning NUTS sampler...\n",
      "Initializing NUTS using jitter+adapt_diag...\n",
      "Multiprocess sampling (4 chains in 4 jobs)\n",
      "NUTS: [gamma_interval__, beta_interval__, alpha_interval__]\n",
      "100%|██████████| 1500/1500 [00:01<00:00, 786.25it/s]\n"
     ]
    },
    {
     "name": "stdout",
     "output_type": "stream",
     "text": [
      " Fitting z,9\n"
     ]
    },
    {
     "name": "stderr",
     "output_type": "stream",
     "text": [
      "Auto-assigning NUTS sampler...\n",
      "Initializing NUTS using jitter+adapt_diag...\n",
      "Multiprocess sampling (4 chains in 4 jobs)\n",
      "NUTS: [gamma_interval__, beta_interval__, alpha_interval__]\n",
      "100%|██████████| 1500/1500 [00:01<00:00, 1046.91it/s]\n"
     ]
    }
   ],
   "source": [
    "models_to_run = ['full',]\n",
    "estimators    = ['pymc3',]\n",
    "use_sys = [False, True]\n",
    "\n",
    "fitres = {}\n",
    "params = {}\n",
    "\n",
    "\n",
    "for est in estimators:\n",
    "    fitres[est] = {}\n",
    "    params[est] = {}\n",
    "  \n",
    "    for m in models_to_run:\n",
    "        print('Fitting for %s, %s' % (est, m))\n",
    "        \n",
    "        fitres[est][m] = {}\n",
    "        params[est][m] = {}\n",
    "        \n",
    "        for opt in use_sys:\n",
    "            fitres[est][m][opt], params[est][m][opt] = fit_dataset(data, models[m], est, opt)"
   ]
  },
  {
   "cell_type": "code",
   "execution_count": 127,
   "metadata": {
    "collapsed": true
   },
   "outputs": [],
   "source": [
    "import scipy.stats as stats"
   ]
  },
  {
   "cell_type": "code",
   "execution_count": 128,
   "metadata": {
    "collapsed": true
   },
   "outputs": [],
   "source": [
    "def plot_results(results, axis):\n",
    "    \n",
    "    d      = results.query('axis == \"%s\"' % axis)\n",
    "    n_bins = len(np.unique(d.axis_bin))\n",
    "    n_col  = 3\n",
    "    n_row  = np.ceil(n_bins/n_col)+1\n",
    "\n",
    "    # these are uniform width\n",
    "    phi_width = np.repeat(float(360.0/len(np.unique(d.phi_bin))), len(np.unique(d.phi_bin)))\n",
    "    phi_edges = np.linspace(-180,180,len(np.unique(d.phi_bin)))\n",
    "    plt.figure(figsize=(4*n_col, 3*n_row))\n",
    "    \n",
    "    for index in range(n_bins):\n",
    "        dsub = d.query('axis_bin == %d' % index)\n",
    "        plt.subplot(n_row, n_col, index+1)\n",
    "        plt.errorbar(x=dsub.phi, y=dsub.value, yerr=dsub.stat, \n",
    "                    linestyle='', marker='o', color='black')\n",
    "        \n",
    "        if 'sys_total' in dsub.columns:\n",
    "            plt.bar(phi_edges, height=dsub.sys_total, width=phi_width, bottom=0.0, \n",
    "                    edgecolor='red', color='yellow', alpha=0.65, hatch='///', \n",
    "                    label='systematic error', align='edge')\n",
    "            \n",
    "        plt.axhline(0.0, linestyle='--',\n",
    "                    linewidth=1, color='black', alpha=0.7)\n",
    "        \n",
    "        plt.xlim([-180,180])\n",
    "        plt.ylim([-0.15, 0.15])\n",
    "        \n",
    "    plt.tight_layout()"
   ]
  },
  {
   "cell_type": "code",
   "execution_count": 129,
   "metadata": {},
   "outputs": [],
   "source": [
    "results = {}\n",
    "\n",
    "\n",
    "for est in estimators:\n",
    "    results[est] = {}\n",
    "  \n",
    "    for m in models_to_run:\n",
    "        \n",
    "        results[est][m] = {}\n",
    "        \n",
    "        for opt in use_sys:\n",
    "            results[est][m][opt] = pd.merge(data, fitres[est][m][opt], on=['axis', 'axis_bin'])"
   ]
  },
  {
   "cell_type": "code",
   "execution_count": 130,
   "metadata": {
    "collapsed": true
   },
   "outputs": [],
   "source": [
    "#results['replica']['basic'].to_csv('results/phi-dist-fit.csv', index=False)"
   ]
  },
  {
   "cell_type": "code",
   "execution_count": 131,
   "metadata": {
    "collapsed": true
   },
   "outputs": [],
   "source": [
    "def plot_summary(results, par):\n",
    "\n",
    "    latex = {}\n",
    "    latex['x'] = '$x$'\n",
    "    latex['z'] = '$z$'\n",
    "    latex['pt'] = '$P_T$'\n",
    "    latex['q2'] = '$Q^2$'\n",
    "    \n",
    "    limits = {}\n",
    "    limits['x'] = [0.0, 0.7]\n",
    "    limits['z'] = [0.0, 1.0]\n",
    "    limits['pt'] = [0.0, 1.2]\n",
    "    limits['q2'] = [0.5, 5.5]\n",
    "    \n",
    "    label = {}\n",
    "    label[0] = '$A_{LU}^{\\sin\\phi}$'\n",
    "    label[1] = '$A_{UU}^{\\cos\\phi}$'\n",
    "    label[2] = '$A_{UU}^{\\cos(2\\phi)}$'    \n",
    "    \n",
    "    axes = np.unique(results.axis)\n",
    "    \n",
    "    n_col = 2\n",
    "    n_row = 1 + np.ceil(len(axes)/n_col)\n",
    "    plt.figure(figsize=(5*n_col, 3*n_row))\n",
    "    \n",
    "    for index, axis in enumerate(axes):\n",
    "        plt.subplot(n_row, n_col, index+1)\n",
    "        d = results.query('axis == \"%s\"' % axis)\n",
    "        \n",
    "        plt.errorbar(d.axis_min + 0.5*(d.axis_max-d.axis_min), d['par_%d' % par], d['err_%d' % par],\n",
    "                    linestyle='', marker='o', color='black')\n",
    "        \n",
    "        plt.xlabel(latex[axis])\n",
    "        plt.ylabel(label[par])\n",
    "        plt.ylim([0.0, 0.06])\n",
    "        plt.xlim(limits[axis])\n",
    "        plt.axhline(0.0, color='black', alpha=0.7, linestyle='--', linewidth=1)\n",
    "        \n",
    "    plt.tight_layout()\n",
    "    \n",
    "def plot_multiple_summary(result1, result2, label1, label2):\n",
    "     \n",
    "    latex = {}\n",
    "    latex['x'] = '$x$'\n",
    "    latex['z'] = '$z$'\n",
    "    latex['pt'] = '$P_T$'\n",
    "    latex['q2'] = '$Q^2$'\n",
    "    \n",
    "        \n",
    "    limits = {}\n",
    "    limits['x'] = [0.0, 0.7]\n",
    "    limits['z'] = [0.0, 1.0]\n",
    "    limits['pt'] = [0.0, 1.2]\n",
    "    limits['q2'] = [0.5, 5.5]\n",
    "    \n",
    "    axes = np.unique(result1.axis)\n",
    "    \n",
    "    n_col = 2\n",
    "    n_row = 1 + np.ceil(len(axes)/n_col)\n",
    "    plt.figure(figsize=(5*n_col, 3*n_row))\n",
    "    \n",
    "    for index, axis in enumerate(axes):\n",
    "        plt.subplot(n_row, n_col, index+1)\n",
    "        d1 = result1.query('axis == \"%s\"' % axis)\n",
    "        d2 = result2.query('axis == \"%s\"' % axis)\n",
    "        \n",
    "        plt.errorbar(d1.axis_min + 0.5*(d1.axis_max-d1.axis_min), d1.par_0, d1.err_0,\n",
    "                    linestyle='', marker='.', color='black', label=label1)\n",
    "        plt.errorbar(d2.axis_min + 0.5*(d2.axis_max-d2.axis_min), d2.par_0, d2.err_0,\n",
    "                    linestyle='', marker='.', color='red', label=label2)\n",
    "        \n",
    "        plt.xlabel(latex[axis])\n",
    "        plt.ylabel('$A_{LU}^{\\sin\\phi}$')\n",
    "        plt.ylim([0.0, 0.055])\n",
    "        plt.xlim(limits[axis])\n",
    "        plt.axhline(0.0, color='black', alpha=0.7, linestyle='--', linewidth=1)\n",
    "        #plt.legend()\n",
    "        \n",
    "    plt.tight_layout()"
   ]
  },
  {
   "cell_type": "code",
   "execution_count": 134,
   "metadata": {},
   "outputs": [
    {
     "data": {
      "image/png": "[encoded data removed]",
      "text/plain": [
       "<Figure size 720x648 with 4 Axes>"
      ]
     },
     "metadata": {},
     "output_type": "display_data"
    }
   ],
   "source": [
    "plot_summary(results['pymc3']['full'][True], 0)\n",
    "plt.savefig('image/summary-par0.pdf', bbox_inches='tight')"
   ]
  },
  {
   "cell_type": "code",
   "execution_count": 136,
   "metadata": {},
   "outputs": [
    {
     "data": {
      "image/png": "[encoded data removed]",
      "text/plain": [
       "<Figure size 720x648 with 4 Axes>"
      ]
     },
     "metadata": {},
     "output_type": "display_data"
    }
   ],
   "source": [
    "plot_multiple_summary(results['pymc3']['full'][False], \n",
    "                      results['pymc3']['full'][True], \n",
    "                      'sine model', 'full model')\n",
    "plt.savefig('image/summary-compare.pdf', bbox_inches='tight')"
   ]
  },
  {
   "cell_type": "code",
   "execution_count": null,
   "metadata": {
    "collapsed": true
   },
   "outputs": [],
   "source": [
    "def plot_axis(result, model, axis):\n",
    "        \n",
    "    d      = result.query('axis == \"%s\"' % axis)\n",
    "    n_bins = len(np.unique(d.axis_bin))\n",
    "    n_col  = 3\n",
    "    n_row  = np.ceil(n_bins/n_col)+1\n",
    "\n",
    "    # these are uniform width\n",
    "    phi_width = np.repeat(float(360.0/len(np.unique(d.phi_bin))), len(np.unique(d.phi_bin)))\n",
    "    phi_edges = np.linspace(-180,180,len(np.unique(d.phi_bin)))\n",
    "    plt.figure(figsize=(4*n_col, 3*n_row))\n",
    "    \n",
    "    phi = np.linspace(-180,180,100)\n",
    "    \n",
    "    for index in range(n_bins):\n",
    "        dsub = d.query('axis_bin == %d' % index)\n",
    "        plt.subplot(n_row, n_col, index+1)\n",
    "        plt.errorbar(x=dsub.phi, y=dsub.value, yerr=dsub.stat, \n",
    "                    linestyle='', marker='o', color='black')\n",
    "        \n",
    "        if 'sys_total' in dsub.columns:\n",
    "            plt.bar(phi_edges, height=dsub.sys_total, width=phi_width, bottom=0.0, \n",
    "                    edgecolor='black', color='red', alpha=0.65, hatch='///', \n",
    "                    label='systematic error', align='edge')\n",
    "        \n",
    "        y  = update_model(model, np.unique(dsub.par_0), phi)\n",
    "        dy = update_model(model, np.unique(dsub.err_0), phi)\n",
    "        \n",
    "        plt.plot(phi, y, color='black', linestyle='-.', linewidth=1)\n",
    "        plt.fill_between(phi, y1=y-dy, y2=y+dy, color='gray', alpha=0.5)\n",
    "        \n",
    "        plt.axhline(0.0, linestyle='--',\n",
    "                    linewidth=1, color='black', alpha=0.7)\n",
    "        \n",
    "        plt.xlim([-180,180])\n",
    "        plt.ylim([-0.08, 0.08])\n",
    "        plt.ylabel('BSA')\n",
    "        plt.xlabel('$\\phi_h$')\n",
    "        \n",
    "    plt.tight_layout()"
   ]
  },
  {
   "cell_type": "code",
   "execution_count": null,
   "metadata": {},
   "outputs": [],
   "source": [
    "plot_axis(results['single']['full'], models['basic'], 'x')\n",
    "#plt.savefig('image/phi-dist-fit-x.pdf', bbox_inches='tight')"
   ]
  },
  {
   "cell_type": "code",
   "execution_count": null,
   "metadata": {
    "collapsed": true
   },
   "outputs": [],
   "source": [
    "plot_axis(results['single']['full'], models['basic'], 'x')"
   ]
  },
  {
   "cell_type": "code",
   "execution_count": null,
   "metadata": {
    "collapsed": true
   },
   "outputs": [],
   "source": [
    "binner = lambda x: np.linspace(np.min(x)-0.2*(np.max(x)-np.min(x)), np.max(x)+0.2*(np.max(x)-np.min(x)), 24)\n",
    "\n",
    "n_cols = 3\n",
    "n_rows = len(params['replica']['full_bounded']['value'])\n",
    "\n",
    "plt.figure(figsize=(12,2*n_rows))\n",
    "\n",
    "for i in range(n_rows):\n",
    "    plt.subplot(n_rows,3,1+i*n_cols)\n",
    "    plt.hist(params['replica']['full_bounded']['value'][i][:,0], \n",
    "             bins=binner(params['replica']['full_bounded']['value'][i][:,0]),\n",
    "            histtype='stepfilled', color='red', edgecolor='black', hatch='///', alpha=0.8);\n",
    "\n",
    "    plt.subplot(n_rows,3,2+i*n_cols)\n",
    "    plt.hist(params['replica']['full_bounded']['value'][i][:,1],\n",
    "             bins=binner(params['replica']['full_bounded']['value'][i][:,1]),\n",
    "            histtype='stepfilled', color='red', edgecolor='black', hatch='///', alpha=0.8);\n",
    "\n",
    "    plt.subplot(n_rows,3,3+i*n_cols)\n",
    "    plt.hist(params['replica']['full_bounded']['value'][i][:,2],          \n",
    "             bins=binner(params['replica']['full_bounded']['value'][i][:,1]),\n",
    "            histtype='stepfilled', color='red', edgecolor='black', hatch='///', alpha=0.8);\n",
    "\n",
    "plt.tight_layout()"
   ]
  },
  {
   "cell_type": "code",
   "execution_count": null,
   "metadata": {
    "collapsed": true
   },
   "outputs": [],
   "source": [
    "basic_model = pm.Model()\n",
    "\n",
    "perma_trace = {}\n",
    "\n",
    "with basic_model:\n",
    "    alpha = pm.Bound(pm.Normal, lower=-1, upper=1)('alpha', mu=0, sd=1)\n",
    "    beta  = pm.Bound(pm.Normal, lower=-1, upper=1)( 'beta', mu=0, sd=0.05)\n",
    "    gamma = pm.Bound(pm.Normal, lower=-1, upper=1)('gamma', mu=0, sd=0.05)\n",
    "    \n",
    "    mu = alpha * np.sin( (np.pi/180) * test_data.phi) / (1 + \\\n",
    "                                                beta * np.cos( (np.pi/180) * test_data.phi) + \\\n",
    "                                                gamma * np.cos( 2*(np.pi/180) * test_data.phi)\n",
    "                        )\n",
    "        \n",
    "    y = pm.Normal('y', mu=mu, sd=np.sqrt(test_data.stat**2 + test_data.sys_total**2), observed=test_data.value)\n",
    "    trace = pm.sample(5000, tune=500)\n",
    "\n",
    "    perma_trace['a'] = trace['alpha']\n",
    "    perma_trace['b'] = trace['beta']\n",
    "    perma_trace['c'] = trace['gamma'] "
   ]
  },
  {
   "cell_type": "code",
   "execution_count": null,
   "metadata": {
    "collapsed": true
   },
   "outputs": [],
   "source": [
    "label = {}\n",
    "label[0] = '$A_{LU}^{\\sin\\phi}$'\n",
    "label[1] = '$A_{UU}^{\\cos\\phi}$'\n",
    "label[2] = '$A_{UU}^{\\cos(2\\phi)}$'    \n",
    "\n",
    "plt.figure(figsize=(16,9))\n",
    "\n",
    "plt.subplot(3,2,1)\n",
    "plt.plot(perma_trace['a'], linewidth=1, color='red', alpha=0.5)\n",
    "plt.ylabel(label[0])\n",
    "\n",
    "plt.subplot(3,2,2)\n",
    "plt.hist(perma_trace['a'], bins=50, histtype='stepfilled', color='red',\n",
    "        edgecolor='black', alpha=0.5, hatch='///');\n",
    "plt.xlabel(label[0])\n",
    "\n",
    "plt.subplot(3,2,3)\n",
    "plt.plot(perma_trace['b'], linewidth=1, color='blue', alpha=0.5)\n",
    "plt.ylabel(label[1])\n",
    "\n",
    "plt.subplot(3,2,4)\n",
    "plt.hist(perma_trace['b'], bins=50, histtype='stepfilled', color='blue',\n",
    "        edgecolor='black', alpha=0.5, hatch='///');\n",
    "plt.xlabel(label[1])\n",
    "\n",
    "plt.subplot(3,2,5)\n",
    "plt.plot(perma_trace['c'], linewidth=1, color='green', alpha=0.5)\n",
    "plt.ylabel(label[2])\n",
    "\n",
    "plt.subplot(3,2,6)\n",
    "plt.hist(perma_trace['c'], bins=50, histtype='stepfilled', color='green',\n",
    "        edgecolor='black', alpha=0.5, hatch='///');\n",
    "plt.xlabel(label[2])\n",
    "\n",
    "plt.tight_layout()\n",
    "\n",
    "plt.savefig('image/mcmc-demo.pdf', bbox_inches='tight')"
   ]
  },
  {
   "cell_type": "code",
   "execution_count": null,
   "metadata": {
    "collapsed": true
   },
   "outputs": [],
   "source": []
  }
 ],
 "metadata": {
  "kernelspec": {
   "display_name": "Python 2",
   "language": "python",
   "name": "python2"
  },
  "language_info": {
   "codemirror_mode": {
    "name": "ipython",
    "version": 2
   },
   "file_extension": ".py",
   "mimetype": "text/x-python",
   "name": "python",
   "nbconvert_exporter": "python",
   "pygments_lexer": "ipython2",
   "version": "2.7.14"
  }
 },
 "nbformat": 4,
 "nbformat_minor": 2
}
