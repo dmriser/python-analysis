{
 "cells": [
  {
   "cell_type": "markdown",
   "metadata": {},
   "source": [
    "# Fitting Notebook\n",
    "Here we fit the phi-distributions from the analysis notebook.\n",
    "- Model selection - Cross validation score is used to demonstrate that fitting with the simple model is probably best.\n",
    "- Fits of $\\phi$ - Two methods of fitting the phi distributions are used, one single fit, and the bootstrap replica technique.\n",
    "- MC study of fitting procedure - This has to wait, but I am going to use MC to throw a distribution in phi that follows the error bars of our measurement.\n",
    "- Visualization\n",
    "    - fit phi distributions \n",
    "    - bootstrap histograms\n",
    "    - bootstrap score histograms\n",
    "    - integrated fit results with errors"
   ]
  },
  {
   "cell_type": "code",
   "execution_count": 1,
   "metadata": {
    "collapsed": true
   },
   "outputs": [],
   "source": [
    "import numpy as np \n",
    "import pandas as pd \n",
    "import matplotlib.pyplot as plt\n",
    "\n",
    "%matplotlib inline\n",
    "\n",
    "plt.rc('font', family='serif')\n",
    "plt.rc('font', size=18)"
   ]
  },
  {
   "cell_type": "markdown",
   "metadata": {},
   "source": [
    "### Load Data\n",
    "Here the data is loaded from the previous notebook called `analysis.ipynb`.  "
   ]
  },
  {
   "cell_type": "code",
   "execution_count": 2,
   "metadata": {
    "collapsed": true
   },
   "outputs": [],
   "source": [
    "data = pd.read_csv('results/phi-dist.csv')"
   ]
  },
  {
   "cell_type": "code",
   "execution_count": 3,
   "metadata": {},
   "outputs": [
    {
     "data": {
      "text/plain": [
       "Index([u'axis', u'axis_bin', u'axis_max', u'axis_min', u'counts_neg',\n",
       "       u'counts_pos', u'phi', u'phi_bin', u'stat', u'sys_0', u'value',\n",
       "       u'global_index', u'sys_1', u'sys_10', u'sys_11', u'sys_2', u'sys_3',\n",
       "       u'sys_4', u'sys_5', u'sys_6', u'sys_7', u'sys_8', u'sys_9',\n",
       "       u'sys_total'],\n",
       "      dtype='object')"
      ]
     },
     "execution_count": 3,
     "metadata": {},
     "output_type": "execute_result"
    }
   ],
   "source": [
    "data.columns"
   ]
  },
  {
   "cell_type": "markdown",
   "metadata": {},
   "source": [
    "### Setup Fitting \n",
    "Our model is defined below, it can be one of several different functions.  Fitting is done by minimizing the $\\chi^2$.  Errors are estimated with the covariance matrix, or the bootstrap replica method.  Cross validation is defined, and the different models are evaluated.  "
   ]
  },
  {
   "cell_type": "code",
   "execution_count": 4,
   "metadata": {
    "collapsed": true
   },
   "outputs": [],
   "source": [
    "def chi2(y_true, y_pred, y_err):\n",
    "    return np.sum((y_true-y_pred)**2/y_err**2)"
   ]
  },
  {
   "cell_type": "code",
   "execution_count": 5,
   "metadata": {
    "collapsed": true
   },
   "outputs": [],
   "source": [
    "class Model(object):\n",
    "\n",
    "    def __init__(self):\n",
    "        self.n_pars = 1\n",
    "        self.pars   = np.zeros(shape=(self.n_pars, 1))\n",
    "        self.bounds = np.array([[-1, 1],], dtype=np.float32)\n",
    "        \n",
    "    def get_initial_parameters(self):\n",
    "        self.pars = np.random.uniform(-1.0, 1.0, size=(self.n_pars, 1))\n",
    "\n",
    "    def evaluate(self, x):\n",
    "        return 1.0\n",
    "\n",
    "class SineModel(Model):\n",
    "\n",
    "    def __init__(self):\n",
    "        Model.__init__(self)\n",
    "        self.n_pars = 1\n",
    "        self.pars = np.zeros(shape=(self.n_pars, 1), dtype=np.float32)\n",
    "        \n",
    "    def evaluate(self, x):\n",
    "        return self.pars[0]*np.sin( x*np.pi/180.0 )\n",
    "\n",
    "class FullModel(Model):\n",
    "\n",
    "    def __init__(self):\n",
    "        Model.__init__(self)\n",
    "        self.n_pars = 3\n",
    "        self.pars = np.zeros(shape=(self.n_pars, 1), dtype=np.float32)\n",
    "        self.bounds = np.array([[-1,1],\n",
    "                                [-1,1],\n",
    "                                [-1,1]],dtype=np.float32)\n",
    "    def evaluate(self, x):\n",
    "        return self.pars[0]*np.sin( x*np.pi/180.0 ) / (1 + self.pars[1]*np.cos(x*np.pi/180.0) + self.pars[2]*np.cos(2*x*np.pi/180.0))\n",
    "\n",
    "def update_model(model, pars, x):\n",
    "    model.pars = pars\n",
    "    return model.evaluate(x)"
   ]
  },
  {
   "cell_type": "code",
   "execution_count": 6,
   "metadata": {
    "collapsed": true
   },
   "outputs": [],
   "source": [
    "from scipy.optimize import minimize"
   ]
  },
  {
   "cell_type": "code",
   "execution_count": 7,
   "metadata": {
    "collapsed": true
   },
   "outputs": [],
   "source": [
    "model = FullModel()\n",
    "model.get_initial_parameters()"
   ]
  },
  {
   "cell_type": "code",
   "execution_count": 8,
   "metadata": {
    "collapsed": true
   },
   "outputs": [],
   "source": [
    "test_data = data.query('axis == \"z\" and axis_bin == 4')"
   ]
  },
  {
   "cell_type": "code",
   "execution_count": 9,
   "metadata": {
    "collapsed": true
   },
   "outputs": [],
   "source": [
    "from sklearn.utils import shuffle\n",
    "\n",
    "def setup_dataframe(n_folds, x, y, y_err, shuf=False):\n",
    "    \n",
    "    if len(y) % n_folds != 0:\n",
    "        print('Data (%d) is not divisible into %d folds.' % (len(y), n_folds))\n",
    "        return \n",
    "    \n",
    "    x = x.transpose()\n",
    "    y = y.transpose()\n",
    "    y_err = y_err.transpose()\n",
    "    \n",
    "    d  = {'x':x, 'y':y, 'y_err':y_err}\n",
    "    df = pd.DataFrame(data=d)\n",
    "    \n",
    "    if shuf is True:\n",
    "        df = shuffle(df)\n",
    "\n",
    "    chunk_size = int(len(y)/n_folds) \n",
    "    \n",
    "    a = np.arange(0,n_folds)\n",
    "    df['chunk'] = np.repeat(a,chunk_size)\n",
    "    return df\n",
    "\n",
    "def cross_validate(n_folds, model, df):\n",
    "\n",
    "    validation_scores = []\n",
    "    parameters = []\n",
    "    for i in range(n_folds):\n",
    "        res = minimize(fun=lambda p: np.average((df.query('chunk != %d' % i).y - update_model(model, p, df.query('chunk != %d' % i).x))**2/df.query('chunk != %d' % i).y_err**2), \n",
    "                    x0=model.pars, bounds=model.bounds)\n",
    "                                \n",
    "        y_pred = update_model(model, res.x, df.query('chunk == %d' % i).x)\n",
    "        validation_scores.append(np.average((df.query('chunk == %d' % i).y-y_pred)**2/df.query('chunk == %d' % i).y_err**2))\n",
    "        parameters.append(res.x)\n",
    "        \n",
    "    return np.array(validation_scores), parameters"
   ]
  },
  {
   "cell_type": "code",
   "execution_count": 10,
   "metadata": {
    "collapsed": true
   },
   "outputs": [],
   "source": [
    "models = {}\n",
    "\n",
    "models['basic'] = SineModel()\n",
    "models['full'] = FullModel()\n",
    "models['half'] = FullModel()\n",
    "models['half'].bounds = np.array([[-1,1],[-1,1],[-0.0001,0.0001]], dtype=np.float32)\n",
    "\n",
    "models['full_bounded'] = FullModel()\n",
    "models['full_bounded'].bounds = np.array([[-1,1],[-0.1,0.1],[-0.1,0.1]], dtype=np.float32)\n",
    "                                          \n",
    "for m in models.values():\n",
    "    m.get_initial_parameters()\n",
    "    \n",
    "model_names_dict = {}\n",
    "model_names_dict['full'] = 'sin, cos, cos2'\n",
    "model_names_dict['full_bounded'] = 'sin, cos, cos2 (bounded)'\n",
    "model_names_dict['half'] = 'sin, cos'\n",
    "model_names_dict['basic'] = 'sin'"
   ]
  },
  {
   "cell_type": "markdown",
   "metadata": {},
   "source": [
    "### Cross Validation\n",
    "Compare different models."
   ]
  },
  {
   "cell_type": "code",
   "execution_count": 11,
   "metadata": {
    "collapsed": true
   },
   "outputs": [],
   "source": [
    "#CHUNKS = 12\n",
    "#df_chunked = setup_dataframe(CHUNKS, test_data.phi, test_data.value, np.sqrt(test_data.sys_total**2 + test_data.stat**2), shuf=False)"
   ]
  },
  {
   "cell_type": "code",
   "execution_count": 12,
   "metadata": {},
   "outputs": [],
   "source": [
    "#cv_scores = {}\n",
    "#cv_pars = {}\n",
    "\n",
    "#for name, m in models.iteritems():\n",
    "#    print('Fitting %s' % name)\n",
    "#    cv_scores[name], cv_pars[name] = cross_validate(CHUNKS, m, df_chunked)"
   ]
  },
  {
   "cell_type": "code",
   "execution_count": 13,
   "metadata": {},
   "outputs": [],
   "source": [
    "#for k,v in cv_scores.iteritems():\n",
    "#    print('Model %s, Score %.2f' % (k, np.average(v)))"
   ]
  },
  {
   "cell_type": "code",
   "execution_count": 14,
   "metadata": {},
   "outputs": [
    {
     "name": "stdout",
     "output_type": "stream",
     "text": [
      "mkdir: image/: File exists\r\n"
     ]
    }
   ],
   "source": [
    "!mkdir image/"
   ]
  },
  {
   "cell_type": "code",
   "execution_count": 15,
   "metadata": {},
   "outputs": [],
   "source": [
    "#h = [np.average(xx) for xx in cv_scores.values()]\n",
    "#e = [np.std(xx) for xx in cv_scores.values()]\n",
    "#n = [model_names_dict[x] for x in cv_scores.keys()]\n",
    "\n",
    "#plt.figure(figsize=(16,9))\n",
    "#plt.bar(np.arange(len(cv_scores.keys())), height=h,\n",
    "#       color='red', edgecolor='black', hatch='///', alpha=0.8)\n",
    "#plt.xticks(np.arange(len(cv_scores.keys())), n)\n",
    "#plt.ylabel('Average $\\chi^2/NDF$')\n",
    "#plt.savefig('image/cv-score-models.pdf', bbox_inches='tight')"
   ]
  },
  {
   "cell_type": "code",
   "execution_count": 16,
   "metadata": {
    "collapsed": true
   },
   "outputs": [],
   "source": [
    "#plt.figure(figsize=(8,6))\n",
    "#plt.errorbar(x=np.arange(len(cv_scores.keys())), y=h, yerr=e,\n",
    "#            linestyle='', marker='o')\n",
    "#plt.xticks(np.arange(len(cv_scores.keys())), cv_scores.keys())"
   ]
  },
  {
   "cell_type": "code",
   "execution_count": 17,
   "metadata": {},
   "outputs": [
    {
     "data": {
      "text/plain": [
       "\"\\nn_col = 2\\nn_row = np.ceil((len(cv_pars.keys())-1)/n_col)+1\\nplt.figure(figsize=(n_col*4, n_row*3))\\n\\nchunks = len(np.unique(df_chunked.chunk))\\n\\nx = np.linspace(-180,180,100)\\n\\nfor chunk in range(chunks):\\n    \\n    train = df_chunked.query('chunk != %d' % chunk)\\n    test  = df_chunked.query('chunk == %d' % chunk)\\n    index = 1\\n    \\n    for name, model in models.iteritems():\\n        plt.subplot(n_row, n_col, index)\\n        plt.errorbar(train.x, train.y, train.y_err, linestyle='', marker='o', color='black')\\n        plt.errorbar(test.x, test.y, test.y_err, linestyle='', marker='o', color='red')\\n        plt.ylim([-0.06, 0.06])\\n    \\n        y = [update_model(model, cv_pars[name][1], xi) for xi in x]\\n        plt.plot(x, y, color='red')\\n        index += 1\\n    \\n        plt.title(model_names_dict[name])\\n    \\n        plt.tight_layout()\\n        plt.savefig('image/cv-demo-models-%d.pdf' % chunk, bbox_inches='tight')\\n    \""
      ]
     },
     "execution_count": 17,
     "metadata": {},
     "output_type": "execute_result"
    }
   ],
   "source": [
    "\n",
    "'''\n",
    "n_col = 2\n",
    "n_row = np.ceil((len(cv_pars.keys())-1)/n_col)+1\n",
    "plt.figure(figsize=(n_col*4, n_row*3))\n",
    "\n",
    "chunks = len(np.unique(df_chunked.chunk))\n",
    "\n",
    "x = np.linspace(-180,180,100)\n",
    "\n",
    "for chunk in range(chunks):\n",
    "    \n",
    "    train = df_chunked.query('chunk != %d' % chunk)\n",
    "    test  = df_chunked.query('chunk == %d' % chunk)\n",
    "    index = 1\n",
    "    \n",
    "    for name, model in models.iteritems():\n",
    "        plt.subplot(n_row, n_col, index)\n",
    "        plt.errorbar(train.x, train.y, train.y_err, linestyle='', marker='o', color='black')\n",
    "        plt.errorbar(test.x, test.y, test.y_err, linestyle='', marker='o', color='red')\n",
    "        plt.ylim([-0.06, 0.06])\n",
    "    \n",
    "        y = [update_model(model, cv_pars[name][1], xi) for xi in x]\n",
    "        plt.plot(x, y, color='red')\n",
    "        index += 1\n",
    "    \n",
    "        plt.title(model_names_dict[name])\n",
    "    \n",
    "        plt.tight_layout()\n",
    "        plt.savefig('image/cv-demo-models-%d.pdf' % chunk, bbox_inches='tight')\n",
    "    '''"
   ]
  },
  {
   "cell_type": "markdown",
   "metadata": {},
   "source": [
    "### Toy Dataset Testing \n",
    "This toy dataset is used to study what we can actually extract.  The section should be moved to another part of the notebook."
   ]
  },
  {
   "cell_type": "code",
   "execution_count": 18,
   "metadata": {
    "collapsed": true
   },
   "outputs": [],
   "source": [
    "#def generate_toy_data(df, model):\n",
    "#    d = df.copy(deep=True)\n",
    "#    d.value = model.evaluate(d.phi) + np.random.normal(loc=0.0, scale=np.sqrt(d.stat**2 + d.sys_total**2))\n",
    "#    return d"
   ]
  },
  {
   "cell_type": "code",
   "execution_count": 19,
   "metadata": {
    "collapsed": true
   },
   "outputs": [],
   "source": [
    "#models['full'].pars = [0.05, 0.02, -0.02]\n",
    "#models['basic'].pars = [0.05]\n",
    "#mc = generate_toy_data(test_data, models['basic'])"
   ]
  },
  {
   "cell_type": "code",
   "execution_count": 20,
   "metadata": {},
   "outputs": [],
   "source": [
    "#plt.errorbar(x=mc.phi, y=mc.value, yerr=mc.stat, color='black', \n",
    "#            linestyle='', marker='o')\n",
    "#plt.xlabel('$\\phi_h$')\n",
    "#plt.title('Toy Monte Carlo Data')"
   ]
  },
  {
   "cell_type": "code",
   "execution_count": 21,
   "metadata": {
    "collapsed": true
   },
   "outputs": [],
   "source": [
    "#rmc = minimize(fun=lambda x: chi2(mc.value, update_model(models['full'], x, mc.phi), np.sqrt(mc.stat**2 + mc.sys_total**2)), \n",
    "#             x0=models['full'].pars,\n",
    "#            bounds=models['full'].bounds)"
   ]
  },
  {
   "cell_type": "code",
   "execution_count": 22,
   "metadata": {},
   "outputs": [],
   "source": [
    "#rmc"
   ]
  },
  {
   "cell_type": "code",
   "execution_count": 23,
   "metadata": {
    "collapsed": true
   },
   "outputs": [],
   "source": [
    "def single_fit(model, data):\n",
    "    model.get_initial_parameters()\n",
    "    res = minimize(fun=lambda x: chi2(data.value, update_model(model, x, data.phi), np.sqrt(data.stat**2 + data.sys_total**2)), \n",
    "             x0=model.pars, bounds=model.bounds)\n",
    "\n",
    "    identity = np.identity(len(model.pars))\n",
    "    err = np.sqrt(np.array(np.matrix(res.hess_inv * identity).diagonal()))\n",
    "    #err.reshape(model.n_pars,1)\n",
    "    \n",
    "    return res.x, err[0]"
   ]
  },
  {
   "cell_type": "code",
   "execution_count": 24,
   "metadata": {
    "collapsed": true
   },
   "outputs": [],
   "source": [
    "def create_replica(y, y_err):\n",
    "    y_rep = [np.random.normal(yp,np.fabs(yp_err)) for yp,yp_err in zip(y,y_err)]\n",
    "    return np.array(y_rep)"
   ]
  },
  {
   "cell_type": "code",
   "execution_count": 25,
   "metadata": {
    "collapsed": true
   },
   "outputs": [],
   "source": [
    "import sys\n",
    "\n",
    "def bootstrap_fit(model, data, n_replicas=100):\n",
    "\n",
    "    results = []\n",
    "    scores = []\n",
    "    \n",
    "    for irep in range(n_replicas):\n",
    "        d = data.copy(deep=True)\n",
    "        rep = create_replica(d.value, np.sqrt(d.stat**2 + d.sys_total**2)) \n",
    "        d['value'] = rep   \n",
    "        pars,errs = single_fit(model, d)\n",
    "        results.append(pars)\n",
    "        scores.append(chi2(d.value, update_model(model, pars, d.phi), np.sqrt(d.stat**2 + d.sys_total**2)))\n",
    "        \n",
    "        if irep%10 is 0:\n",
    "            sys.stdout.write('\\rProcessing replica (%d/%d)' % (irep, n_replicas))\n",
    "            sys.stdout.flush()\n",
    "            \n",
    "    return np.array(results), np.array(scores)"
   ]
  },
  {
   "cell_type": "code",
   "execution_count": 26,
   "metadata": {
    "collapsed": true
   },
   "outputs": [],
   "source": [
    "import pymc3 as pm"
   ]
  },
  {
   "cell_type": "code",
   "execution_count": 27,
   "metadata": {
    "collapsed": true
   },
   "outputs": [],
   "source": [
    "def fit_dataset(data, model, fit_type='single'):\n",
    "    '''\n",
    "    inputs\n",
    "    ------\n",
    "    \n",
    "    data: a dataframe which contains the output of the analysis notebook, phi-distributions \n",
    "    \n",
    "    model: a model object\n",
    "    \n",
    "    '''\n",
    "    \n",
    "    result = {}\n",
    "    result['axis'] = []\n",
    "    result['axis_bin'] = []\n",
    "    \n",
    "    params = {}\n",
    "    params['axis'] = []\n",
    "    params['axis_bin'] = []\n",
    "    params['value'] = []\n",
    "    \n",
    "    for p in range(model.n_pars):\n",
    "        result['par_%d' % p] = []\n",
    "        result['err_%d' % p] = []\n",
    "        \n",
    "    for axis in np.unique(data.axis):\n",
    "        dsub = data.query('axis == \"%s\"' % axis)\n",
    "        \n",
    "        for bin in np.unique(dsub.axis_bin):\n",
    "            d = dsub.query('axis_bin == %d' % bin)\n",
    "            \n",
    "            print(' Fitting %s,%d' % (axis, bin))\n",
    "            \n",
    "            # get fit to data\n",
    "            \n",
    "            if fit_type is 'single':\n",
    "                pars,errs = single_fit(model, d)\n",
    "                params['value'].append(pars)\n",
    "                \n",
    "            elif fit_type is 'replica':    \n",
    "                boot, boots = bootstrap_fit(model, d, n_replicas=80)\n",
    "                params['value'].append(boot)\n",
    "                \n",
    "                pars = []\n",
    "                errs = []\n",
    "                for ipar in range(model.n_pars):\n",
    "                    pars.append(np.average(boot[:,ipar]))\n",
    "                    errs.append(np.std(boot[:,ipar]))\n",
    "            \n",
    "            elif fit_type is 'pymc3':\n",
    "                basic_model = pm.Model()\n",
    "\n",
    "                with basic_model:\n",
    "                    alpha = pm.Bound(pm.Normal, lower=-1, upper=1)('alpha', mu=0, sd=1)\n",
    "                    beta  = pm.Bound(pm.Normal, lower=-1, upper=1)( 'beta', mu=0, sd=0.05)\n",
    "                    gamma = pm.Bound(pm.Normal, lower=-1, upper=1)('gamma', mu=0, sd=0.05)\n",
    "    \n",
    "                    mu = alpha * np.sin( (np.pi/180) * test_data.phi) / (1 + \\\n",
    "                                                        beta * np.cos( (np.pi/180) * test_data.phi) + \\\n",
    "                                                        gamma * np.cos( 2*(np.pi/180) * test_data.phi)\n",
    "                                                        )\n",
    "        \n",
    "                    y = pm.Normal('y', mu=mu, sd=np.sqrt(d.stat**2 + d.sys_total**2), observed=d.value)\n",
    "                    trace = pm.sample(1000, tune=500)\n",
    "                    \n",
    "                    pars = []\n",
    "                    errs = []\n",
    "                    pars.append(np.average(trace['alpha']))\n",
    "                    pars.append(np.average(trace['beta']))\n",
    "                    pars.append(np.average(trace['gamma']))\n",
    "                    errs.append(np.std(trace['alpha']))\n",
    "                    errs.append(np.std(trace['beta']))\n",
    "                    errs.append(np.std(trace['gamma']))\n",
    "            \n",
    "                    params['value'].append(np.array([trace['alpha'],\n",
    "                                                    trace['beta'],\n",
    "                                                    trace['gamma']]))\n",
    "            \n",
    "            result['axis'].append(axis)\n",
    "            result['axis_bin'].append(bin)\n",
    "            \n",
    "            params['axis'].append(axis)\n",
    "            params['axis_bin'].append(bin)\n",
    "            \n",
    "            for p in range(model.n_pars):\n",
    "                result['par_%d' % p].append(pars[p])\n",
    "                result['err_%d' % p].append(errs[p])\n",
    "            \n",
    "    return pd.DataFrame(result), params"
   ]
  },
  {
   "cell_type": "code",
   "execution_count": 28,
   "metadata": {},
   "outputs": [
    {
     "name": "stdout",
     "output_type": "stream",
     "text": [
      "Fitting for pymc3, full\n",
      " Fitting pt,0\n"
     ]
    },
    {
     "name": "stderr",
     "output_type": "stream",
     "text": [
      "Auto-assigning NUTS sampler...\n",
      "Initializing NUTS using jitter+adapt_diag...\n",
      "Multiprocess sampling (2 chains in 2 jobs)\n",
      "NUTS: [gamma_interval__, beta_interval__, alpha_interval__]\n",
      "100%|██████████| 1500/1500 [00:02<00:00, 556.94it/s]\n"
     ]
    },
    {
     "name": "stdout",
     "output_type": "stream",
     "text": [
      " Fitting pt,1\n"
     ]
    },
    {
     "name": "stderr",
     "output_type": "stream",
     "text": [
      "Auto-assigning NUTS sampler...\n",
      "Initializing NUTS using jitter+adapt_diag...\n",
      "Multiprocess sampling (2 chains in 2 jobs)\n",
      "NUTS: [gamma_interval__, beta_interval__, alpha_interval__]\n",
      "100%|██████████| 1500/1500 [00:02<00:00, 685.87it/s]\n"
     ]
    },
    {
     "name": "stdout",
     "output_type": "stream",
     "text": [
      " Fitting pt,2\n"
     ]
    },
    {
     "name": "stderr",
     "output_type": "stream",
     "text": [
      "Auto-assigning NUTS sampler...\n",
      "Initializing NUTS using jitter+adapt_diag...\n",
      "Multiprocess sampling (2 chains in 2 jobs)\n",
      "NUTS: [gamma_interval__, beta_interval__, alpha_interval__]\n",
      "100%|██████████| 1500/1500 [00:02<00:00, 534.97it/s]\n"
     ]
    },
    {
     "name": "stdout",
     "output_type": "stream",
     "text": [
      " Fitting pt,3\n"
     ]
    },
    {
     "name": "stderr",
     "output_type": "stream",
     "text": [
      "Auto-assigning NUTS sampler...\n",
      "Initializing NUTS using jitter+adapt_diag...\n",
      "Multiprocess sampling (2 chains in 2 jobs)\n",
      "NUTS: [gamma_interval__, beta_interval__, alpha_interval__]\n",
      "100%|██████████| 1500/1500 [00:02<00:00, 623.66it/s]\n"
     ]
    },
    {
     "name": "stdout",
     "output_type": "stream",
     "text": [
      " Fitting pt,4\n"
     ]
    },
    {
     "name": "stderr",
     "output_type": "stream",
     "text": [
      "Auto-assigning NUTS sampler...\n",
      "Initializing NUTS using jitter+adapt_diag...\n",
      "Multiprocess sampling (2 chains in 2 jobs)\n",
      "NUTS: [gamma_interval__, beta_interval__, alpha_interval__]\n",
      "100%|██████████| 1500/1500 [00:02<00:00, 670.60it/s]\n"
     ]
    },
    {
     "name": "stdout",
     "output_type": "stream",
     "text": [
      " Fitting pt,5\n"
     ]
    },
    {
     "name": "stderr",
     "output_type": "stream",
     "text": [
      "Auto-assigning NUTS sampler...\n",
      "Initializing NUTS using jitter+adapt_diag...\n",
      "Multiprocess sampling (2 chains in 2 jobs)\n",
      "NUTS: [gamma_interval__, beta_interval__, alpha_interval__]\n",
      "100%|██████████| 1500/1500 [00:02<00:00, 639.38it/s]\n"
     ]
    },
    {
     "name": "stdout",
     "output_type": "stream",
     "text": [
      " Fitting pt,6\n"
     ]
    },
    {
     "name": "stderr",
     "output_type": "stream",
     "text": [
      "Auto-assigning NUTS sampler...\n",
      "Initializing NUTS using jitter+adapt_diag...\n",
      "Multiprocess sampling (2 chains in 2 jobs)\n",
      "NUTS: [gamma_interval__, beta_interval__, alpha_interval__]\n",
      "100%|██████████| 1500/1500 [00:02<00:00, 689.93it/s]\n"
     ]
    },
    {
     "name": "stdout",
     "output_type": "stream",
     "text": [
      " Fitting pt,7\n"
     ]
    },
    {
     "name": "stderr",
     "output_type": "stream",
     "text": [
      "Auto-assigning NUTS sampler...\n",
      "Initializing NUTS using jitter+adapt_diag...\n",
      "Multiprocess sampling (2 chains in 2 jobs)\n",
      "NUTS: [gamma_interval__, beta_interval__, alpha_interval__]\n",
      "100%|██████████| 1500/1500 [00:02<00:00, 687.99it/s]\n"
     ]
    },
    {
     "name": "stdout",
     "output_type": "stream",
     "text": [
      " Fitting pt,8\n"
     ]
    },
    {
     "name": "stderr",
     "output_type": "stream",
     "text": [
      "Auto-assigning NUTS sampler...\n",
      "Initializing NUTS using jitter+adapt_diag...\n",
      "Multiprocess sampling (2 chains in 2 jobs)\n",
      "NUTS: [gamma_interval__, beta_interval__, alpha_interval__]\n",
      "100%|██████████| 1500/1500 [00:01<00:00, 809.22it/s]\n"
     ]
    },
    {
     "name": "stdout",
     "output_type": "stream",
     "text": [
      " Fitting pt,9\n"
     ]
    },
    {
     "name": "stderr",
     "output_type": "stream",
     "text": [
      "Auto-assigning NUTS sampler...\n",
      "Initializing NUTS using jitter+adapt_diag...\n",
      "Multiprocess sampling (2 chains in 2 jobs)\n",
      "NUTS: [gamma_interval__, beta_interval__, alpha_interval__]\n",
      "100%|██████████| 1500/1500 [00:01<00:00, 760.21it/s]\n"
     ]
    },
    {
     "name": "stdout",
     "output_type": "stream",
     "text": [
      " Fitting pt,10\n"
     ]
    },
    {
     "name": "stderr",
     "output_type": "stream",
     "text": [
      "Auto-assigning NUTS sampler...\n",
      "Initializing NUTS using jitter+adapt_diag...\n",
      "Multiprocess sampling (2 chains in 2 jobs)\n",
      "NUTS: [gamma_interval__, beta_interval__, alpha_interval__]\n",
      "100%|██████████| 1500/1500 [00:02<00:00, 704.03it/s]\n"
     ]
    },
    {
     "name": "stdout",
     "output_type": "stream",
     "text": [
      " Fitting pt,11\n"
     ]
    },
    {
     "name": "stderr",
     "output_type": "stream",
     "text": [
      "Auto-assigning NUTS sampler...\n",
      "Initializing NUTS using jitter+adapt_diag...\n",
      "Multiprocess sampling (2 chains in 2 jobs)\n",
      "NUTS: [gamma_interval__, beta_interval__, alpha_interval__]\n",
      "100%|██████████| 1500/1500 [00:01<00:00, 807.63it/s]\n"
     ]
    },
    {
     "name": "stdout",
     "output_type": "stream",
     "text": [
      " Fitting q2,0\n"
     ]
    },
    {
     "name": "stderr",
     "output_type": "stream",
     "text": [
      "Auto-assigning NUTS sampler...\n",
      "Initializing NUTS using jitter+adapt_diag...\n",
      "Multiprocess sampling (2 chains in 2 jobs)\n",
      "NUTS: [gamma_interval__, beta_interval__, alpha_interval__]\n",
      "100%|██████████| 1500/1500 [00:02<00:00, 735.67it/s]\n"
     ]
    },
    {
     "name": "stdout",
     "output_type": "stream",
     "text": [
      " Fitting q2,1\n"
     ]
    },
    {
     "name": "stderr",
     "output_type": "stream",
     "text": [
      "Auto-assigning NUTS sampler...\n",
      "Initializing NUTS using jitter+adapt_diag...\n",
      "Multiprocess sampling (2 chains in 2 jobs)\n",
      "NUTS: [gamma_interval__, beta_interval__, alpha_interval__]\n",
      "100%|██████████| 1500/1500 [00:02<00:00, 734.06it/s]\n"
     ]
    },
    {
     "name": "stdout",
     "output_type": "stream",
     "text": [
      " Fitting q2,2\n"
     ]
    },
    {
     "name": "stderr",
     "output_type": "stream",
     "text": [
      "Auto-assigning NUTS sampler...\n",
      "Initializing NUTS using jitter+adapt_diag...\n",
      "Multiprocess sampling (2 chains in 2 jobs)\n",
      "NUTS: [gamma_interval__, beta_interval__, alpha_interval__]\n",
      "100%|██████████| 1500/1500 [00:02<00:00, 730.54it/s]\n"
     ]
    },
    {
     "name": "stdout",
     "output_type": "stream",
     "text": [
      " Fitting q2,3\n"
     ]
    },
    {
     "name": "stderr",
     "output_type": "stream",
     "text": [
      "Auto-assigning NUTS sampler...\n",
      "Initializing NUTS using jitter+adapt_diag...\n",
      "Multiprocess sampling (2 chains in 2 jobs)\n",
      "NUTS: [gamma_interval__, beta_interval__, alpha_interval__]\n",
      "100%|██████████| 1500/1500 [00:01<00:00, 821.43it/s]\n"
     ]
    },
    {
     "name": "stdout",
     "output_type": "stream",
     "text": [
      " Fitting q2,4\n"
     ]
    },
    {
     "name": "stderr",
     "output_type": "stream",
     "text": [
      "Auto-assigning NUTS sampler...\n",
      "Initializing NUTS using jitter+adapt_diag...\n",
      "Multiprocess sampling (2 chains in 2 jobs)\n",
      "NUTS: [gamma_interval__, beta_interval__, alpha_interval__]\n",
      "100%|██████████| 1500/1500 [00:02<00:00, 713.90it/s]\n"
     ]
    },
    {
     "name": "stdout",
     "output_type": "stream",
     "text": [
      " Fitting q2,5\n"
     ]
    },
    {
     "name": "stderr",
     "output_type": "stream",
     "text": [
      "Auto-assigning NUTS sampler...\n",
      "Initializing NUTS using jitter+adapt_diag...\n",
      "Multiprocess sampling (2 chains in 2 jobs)\n",
      "NUTS: [gamma_interval__, beta_interval__, alpha_interval__]\n",
      "100%|██████████| 1500/1500 [00:02<00:00, 742.93it/s]\n"
     ]
    },
    {
     "name": "stdout",
     "output_type": "stream",
     "text": [
      " Fitting q2,6\n"
     ]
    },
    {
     "name": "stderr",
     "output_type": "stream",
     "text": [
      "Auto-assigning NUTS sampler...\n",
      "Initializing NUTS using jitter+adapt_diag...\n",
      "Multiprocess sampling (2 chains in 2 jobs)\n",
      "NUTS: [gamma_interval__, beta_interval__, alpha_interval__]\n",
      "100%|██████████| 1500/1500 [00:02<00:00, 624.44it/s]\n"
     ]
    },
    {
     "name": "stdout",
     "output_type": "stream",
     "text": [
      " Fitting q2,7\n"
     ]
    },
    {
     "name": "stderr",
     "output_type": "stream",
     "text": [
      "Auto-assigning NUTS sampler...\n",
      "Initializing NUTS using jitter+adapt_diag...\n",
      "Multiprocess sampling (2 chains in 2 jobs)\n",
      "NUTS: [gamma_interval__, beta_interval__, alpha_interval__]\n",
      "100%|██████████| 1500/1500 [00:02<00:00, 693.78it/s]\n"
     ]
    },
    {
     "name": "stdout",
     "output_type": "stream",
     "text": [
      " Fitting q2,8\n"
     ]
    },
    {
     "name": "stderr",
     "output_type": "stream",
     "text": [
      "Auto-assigning NUTS sampler...\n",
      "Initializing NUTS using jitter+adapt_diag...\n",
      "Multiprocess sampling (2 chains in 2 jobs)\n",
      "NUTS: [gamma_interval__, beta_interval__, alpha_interval__]\n",
      "100%|██████████| 1500/1500 [00:02<00:00, 655.66it/s]\n"
     ]
    },
    {
     "name": "stdout",
     "output_type": "stream",
     "text": [
      " Fitting q2,9\n"
     ]
    },
    {
     "name": "stderr",
     "output_type": "stream",
     "text": [
      "Auto-assigning NUTS sampler...\n",
      "Initializing NUTS using jitter+adapt_diag...\n",
      "Multiprocess sampling (2 chains in 2 jobs)\n",
      "NUTS: [gamma_interval__, beta_interval__, alpha_interval__]\n",
      "100%|██████████| 1500/1500 [00:02<00:00, 579.63it/s]\n"
     ]
    },
    {
     "name": "stdout",
     "output_type": "stream",
     "text": [
      " Fitting q2,10\n"
     ]
    },
    {
     "name": "stderr",
     "output_type": "stream",
     "text": [
      "Auto-assigning NUTS sampler...\n",
      "Initializing NUTS using jitter+adapt_diag...\n",
      "Multiprocess sampling (2 chains in 2 jobs)\n",
      "NUTS: [gamma_interval__, beta_interval__, alpha_interval__]\n",
      "100%|██████████| 1500/1500 [00:02<00:00, 730.13it/s]\n"
     ]
    },
    {
     "name": "stdout",
     "output_type": "stream",
     "text": [
      " Fitting q2,11\n"
     ]
    },
    {
     "name": "stderr",
     "output_type": "stream",
     "text": [
      "Auto-assigning NUTS sampler...\n",
      "Initializing NUTS using jitter+adapt_diag...\n",
      "Multiprocess sampling (2 chains in 2 jobs)\n",
      "NUTS: [gamma_interval__, beta_interval__, alpha_interval__]\n",
      "100%|██████████| 1500/1500 [00:01<00:00, 765.38it/s]\n"
     ]
    },
    {
     "name": "stdout",
     "output_type": "stream",
     "text": [
      " Fitting x,0\n"
     ]
    },
    {
     "name": "stderr",
     "output_type": "stream",
     "text": [
      "Auto-assigning NUTS sampler...\n",
      "Initializing NUTS using jitter+adapt_diag...\n",
      "Multiprocess sampling (2 chains in 2 jobs)\n",
      "NUTS: [gamma_interval__, beta_interval__, alpha_interval__]\n",
      "100%|██████████| 1500/1500 [00:02<00:00, 638.04it/s]\n"
     ]
    },
    {
     "name": "stdout",
     "output_type": "stream",
     "text": [
      " Fitting x,1\n"
     ]
    },
    {
     "name": "stderr",
     "output_type": "stream",
     "text": [
      "Auto-assigning NUTS sampler...\n",
      "Initializing NUTS using jitter+adapt_diag...\n",
      "Multiprocess sampling (2 chains in 2 jobs)\n",
      "NUTS: [gamma_interval__, beta_interval__, alpha_interval__]\n",
      "100%|██████████| 1500/1500 [00:01<00:00, 759.36it/s]\n"
     ]
    },
    {
     "name": "stdout",
     "output_type": "stream",
     "text": [
      " Fitting x,2\n"
     ]
    },
    {
     "name": "stderr",
     "output_type": "stream",
     "text": [
      "Auto-assigning NUTS sampler...\n",
      "Initializing NUTS using jitter+adapt_diag...\n",
      "Multiprocess sampling (2 chains in 2 jobs)\n",
      "NUTS: [gamma_interval__, beta_interval__, alpha_interval__]\n",
      "100%|██████████| 1500/1500 [00:02<00:00, 686.39it/s]\n"
     ]
    },
    {
     "name": "stdout",
     "output_type": "stream",
     "text": [
      " Fitting x,3\n"
     ]
    },
    {
     "name": "stderr",
     "output_type": "stream",
     "text": [
      "Auto-assigning NUTS sampler...\n",
      "Initializing NUTS using jitter+adapt_diag...\n",
      "Multiprocess sampling (2 chains in 2 jobs)\n",
      "NUTS: [gamma_interval__, beta_interval__, alpha_interval__]\n",
      "100%|██████████| 1500/1500 [00:02<00:00, 745.03it/s]\n"
     ]
    },
    {
     "name": "stdout",
     "output_type": "stream",
     "text": [
      " Fitting x,4\n"
     ]
    },
    {
     "name": "stderr",
     "output_type": "stream",
     "text": [
      "Auto-assigning NUTS sampler...\n",
      "Initializing NUTS using jitter+adapt_diag...\n",
      "Multiprocess sampling (2 chains in 2 jobs)\n",
      "NUTS: [gamma_interval__, beta_interval__, alpha_interval__]\n",
      "100%|██████████| 1500/1500 [00:02<00:00, 526.53it/s]\n"
     ]
    },
    {
     "name": "stdout",
     "output_type": "stream",
     "text": [
      " Fitting x,5\n"
     ]
    },
    {
     "name": "stderr",
     "output_type": "stream",
     "text": [
      "Auto-assigning NUTS sampler...\n",
      "Initializing NUTS using jitter+adapt_diag...\n",
      "Multiprocess sampling (2 chains in 2 jobs)\n",
      "NUTS: [gamma_interval__, beta_interval__, alpha_interval__]\n",
      "100%|██████████| 1500/1500 [00:02<00:00, 749.91it/s]\n"
     ]
    },
    {
     "name": "stdout",
     "output_type": "stream",
     "text": [
      " Fitting x,6\n"
     ]
    },
    {
     "name": "stderr",
     "output_type": "stream",
     "text": [
      "Auto-assigning NUTS sampler...\n",
      "Initializing NUTS using jitter+adapt_diag...\n",
      "Multiprocess sampling (2 chains in 2 jobs)\n",
      "NUTS: [gamma_interval__, beta_interval__, alpha_interval__]\n",
      "100%|██████████| 1500/1500 [00:01<00:00, 873.26it/s]\n"
     ]
    },
    {
     "name": "stdout",
     "output_type": "stream",
     "text": [
      " Fitting x,7\n"
     ]
    },
    {
     "name": "stderr",
     "output_type": "stream",
     "text": [
      "Auto-assigning NUTS sampler...\n",
      "Initializing NUTS using jitter+adapt_diag...\n",
      "Multiprocess sampling (2 chains in 2 jobs)\n",
      "NUTS: [gamma_interval__, beta_interval__, alpha_interval__]\n",
      "100%|██████████| 1500/1500 [00:01<00:00, 779.48it/s]\n"
     ]
    },
    {
     "name": "stdout",
     "output_type": "stream",
     "text": [
      " Fitting x,8\n"
     ]
    },
    {
     "name": "stderr",
     "output_type": "stream",
     "text": [
      "Auto-assigning NUTS sampler...\n",
      "Initializing NUTS using jitter+adapt_diag...\n",
      "Multiprocess sampling (2 chains in 2 jobs)\n",
      "NUTS: [gamma_interval__, beta_interval__, alpha_interval__]\n",
      "100%|██████████| 1500/1500 [00:02<00:00, 691.06it/s]\n"
     ]
    },
    {
     "name": "stdout",
     "output_type": "stream",
     "text": [
      " Fitting x,9\n"
     ]
    },
    {
     "name": "stderr",
     "output_type": "stream",
     "text": [
      "Auto-assigning NUTS sampler...\n",
      "Initializing NUTS using jitter+adapt_diag...\n",
      "Multiprocess sampling (2 chains in 2 jobs)\n",
      "NUTS: [gamma_interval__, beta_interval__, alpha_interval__]\n",
      "100%|██████████| 1500/1500 [00:02<00:00, 694.47it/s]\n"
     ]
    },
    {
     "name": "stdout",
     "output_type": "stream",
     "text": [
      " Fitting x,10\n"
     ]
    },
    {
     "name": "stderr",
     "output_type": "stream",
     "text": [
      "Auto-assigning NUTS sampler...\n",
      "Initializing NUTS using jitter+adapt_diag...\n",
      "Multiprocess sampling (2 chains in 2 jobs)\n",
      "NUTS: [gamma_interval__, beta_interval__, alpha_interval__]\n",
      "100%|██████████| 1500/1500 [00:01<00:00, 773.75it/s]\n"
     ]
    },
    {
     "name": "stdout",
     "output_type": "stream",
     "text": [
      " Fitting x,11\n"
     ]
    },
    {
     "name": "stderr",
     "output_type": "stream",
     "text": [
      "Auto-assigning NUTS sampler...\n",
      "Initializing NUTS using jitter+adapt_diag...\n",
      "Multiprocess sampling (2 chains in 2 jobs)\n",
      "NUTS: [gamma_interval__, beta_interval__, alpha_interval__]\n",
      "100%|██████████| 1500/1500 [00:02<00:00, 635.27it/s]\n"
     ]
    },
    {
     "name": "stdout",
     "output_type": "stream",
     "text": [
      " Fitting z,0\n"
     ]
    },
    {
     "name": "stderr",
     "output_type": "stream",
     "text": [
      "Auto-assigning NUTS sampler...\n",
      "Initializing NUTS using jitter+adapt_diag...\n",
      "Multiprocess sampling (2 chains in 2 jobs)\n",
      "NUTS: [gamma_interval__, beta_interval__, alpha_interval__]\n",
      "100%|██████████| 1500/1500 [00:02<00:00, 740.17it/s]\n"
     ]
    },
    {
     "name": "stdout",
     "output_type": "stream",
     "text": [
      " Fitting z,1\n"
     ]
    },
    {
     "name": "stderr",
     "output_type": "stream",
     "text": [
      "Auto-assigning NUTS sampler...\n",
      "Initializing NUTS using jitter+adapt_diag...\n",
      "Multiprocess sampling (2 chains in 2 jobs)\n",
      "NUTS: [gamma_interval__, beta_interval__, alpha_interval__]\n",
      "100%|██████████| 1500/1500 [00:01<00:00, 758.77it/s]\n"
     ]
    },
    {
     "name": "stdout",
     "output_type": "stream",
     "text": [
      " Fitting z,2\n"
     ]
    },
    {
     "name": "stderr",
     "output_type": "stream",
     "text": [
      "Auto-assigning NUTS sampler...\n",
      "Initializing NUTS using jitter+adapt_diag...\n",
      "Multiprocess sampling (2 chains in 2 jobs)\n",
      "NUTS: [gamma_interval__, beta_interval__, alpha_interval__]\n",
      "100%|██████████| 1500/1500 [00:02<00:00, 745.26it/s]\n",
      "The acceptance probability does not match the target. It is 0.881381974335, but should be close to 0.8. Try to increase the number of tuning steps.\n"
     ]
    },
    {
     "name": "stdout",
     "output_type": "stream",
     "text": [
      " Fitting z,3\n"
     ]
    },
    {
     "name": "stderr",
     "output_type": "stream",
     "text": [
      "Auto-assigning NUTS sampler...\n",
      "Initializing NUTS using jitter+adapt_diag...\n",
      "Multiprocess sampling (2 chains in 2 jobs)\n",
      "NUTS: [gamma_interval__, beta_interval__, alpha_interval__]\n",
      "100%|██████████| 1500/1500 [00:02<00:00, 707.10it/s]\n"
     ]
    },
    {
     "name": "stdout",
     "output_type": "stream",
     "text": [
      " Fitting z,4\n"
     ]
    },
    {
     "name": "stderr",
     "output_type": "stream",
     "text": [
      "Auto-assigning NUTS sampler...\n",
      "Initializing NUTS using jitter+adapt_diag...\n",
      "Multiprocess sampling (2 chains in 2 jobs)\n",
      "NUTS: [gamma_interval__, beta_interval__, alpha_interval__]\n",
      "100%|██████████| 1500/1500 [00:01<00:00, 784.29it/s]\n"
     ]
    },
    {
     "name": "stdout",
     "output_type": "stream",
     "text": [
      " Fitting z,5\n"
     ]
    },
    {
     "name": "stderr",
     "output_type": "stream",
     "text": [
      "Auto-assigning NUTS sampler...\n",
      "Initializing NUTS using jitter+adapt_diag...\n",
      "Multiprocess sampling (2 chains in 2 jobs)\n",
      "NUTS: [gamma_interval__, beta_interval__, alpha_interval__]\n",
      "100%|██████████| 1500/1500 [00:02<00:00, 672.94it/s]\n"
     ]
    },
    {
     "name": "stdout",
     "output_type": "stream",
     "text": [
      " Fitting z,6\n"
     ]
    },
    {
     "name": "stderr",
     "output_type": "stream",
     "text": [
      "Auto-assigning NUTS sampler...\n",
      "Initializing NUTS using jitter+adapt_diag...\n",
      "Multiprocess sampling (2 chains in 2 jobs)\n",
      "NUTS: [gamma_interval__, beta_interval__, alpha_interval__]\n",
      "100%|██████████| 1500/1500 [00:03<00:00, 484.24it/s]\n"
     ]
    },
    {
     "name": "stdout",
     "output_type": "stream",
     "text": [
      " Fitting z,7\n"
     ]
    },
    {
     "name": "stderr",
     "output_type": "stream",
     "text": [
      "Auto-assigning NUTS sampler...\n",
      "Initializing NUTS using jitter+adapt_diag...\n",
      "Multiprocess sampling (2 chains in 2 jobs)\n",
      "NUTS: [gamma_interval__, beta_interval__, alpha_interval__]\n",
      "100%|██████████| 1500/1500 [00:02<00:00, 708.69it/s]\n",
      "The acceptance probability does not match the target. It is 0.878721120126, but should be close to 0.8. Try to increase the number of tuning steps.\n"
     ]
    },
    {
     "name": "stdout",
     "output_type": "stream",
     "text": [
      " Fitting z,8\n"
     ]
    },
    {
     "name": "stderr",
     "output_type": "stream",
     "text": [
      "Auto-assigning NUTS sampler...\n",
      "Initializing NUTS using jitter+adapt_diag...\n",
      "Multiprocess sampling (2 chains in 2 jobs)\n",
      "NUTS: [gamma_interval__, beta_interval__, alpha_interval__]\n",
      "100%|██████████| 1500/1500 [00:02<00:00, 637.80it/s]\n"
     ]
    },
    {
     "name": "stdout",
     "output_type": "stream",
     "text": [
      " Fitting z,9\n"
     ]
    },
    {
     "name": "stderr",
     "output_type": "stream",
     "text": [
      "Auto-assigning NUTS sampler...\n",
      "Initializing NUTS using jitter+adapt_diag...\n",
      "Multiprocess sampling (2 chains in 2 jobs)\n",
      "NUTS: [gamma_interval__, beta_interval__, alpha_interval__]\n",
      "100%|██████████| 1500/1500 [00:02<00:00, 647.00it/s]\n"
     ]
    },
    {
     "name": "stdout",
     "output_type": "stream",
     "text": [
      " Fitting z,10\n"
     ]
    },
    {
     "name": "stderr",
     "output_type": "stream",
     "text": [
      "Auto-assigning NUTS sampler...\n",
      "Initializing NUTS using jitter+adapt_diag...\n",
      "Multiprocess sampling (2 chains in 2 jobs)\n",
      "NUTS: [gamma_interval__, beta_interval__, alpha_interval__]\n",
      "100%|██████████| 1500/1500 [00:01<00:00, 838.14it/s]\n"
     ]
    },
    {
     "name": "stdout",
     "output_type": "stream",
     "text": [
      " Fitting z,11\n"
     ]
    },
    {
     "name": "stderr",
     "output_type": "stream",
     "text": [
      "Auto-assigning NUTS sampler...\n",
      "Initializing NUTS using jitter+adapt_diag...\n",
      "Multiprocess sampling (2 chains in 2 jobs)\n",
      "NUTS: [gamma_interval__, beta_interval__, alpha_interval__]\n",
      "100%|██████████| 1500/1500 [00:02<00:00, 539.68it/s]\n"
     ]
    }
   ],
   "source": [
    "models_to_run = ['full',]\n",
    "estimators    = ['pymc3',]\n",
    "\n",
    "fitres = {}\n",
    "params = {}\n",
    "\n",
    "\n",
    "for est in estimators:\n",
    "    fitres[est] = {}\n",
    "    params[est] = {}\n",
    "  \n",
    "    for m in models_to_run:\n",
    "        print('Fitting for %s, %s' % (est, m))\n",
    "        \n",
    "        fitres[est][m], params[est][m] = fit_dataset(data, models[m], est)"
   ]
  },
  {
   "cell_type": "code",
   "execution_count": 29,
   "metadata": {
    "collapsed": true
   },
   "outputs": [],
   "source": [
    "import scipy.stats as stats"
   ]
  },
  {
   "cell_type": "code",
   "execution_count": 30,
   "metadata": {
    "collapsed": true
   },
   "outputs": [],
   "source": [
    "def plot_results(results, axis):\n",
    "    \n",
    "    d      = results.query('axis == \"%s\"' % axis)\n",
    "    n_bins = len(np.unique(d.axis_bin))\n",
    "    n_col  = 3\n",
    "    n_row  = np.ceil(n_bins/n_col)+1\n",
    "\n",
    "    # these are uniform width\n",
    "    phi_width = np.repeat(float(360.0/len(np.unique(d.phi_bin))), len(np.unique(d.phi_bin)))\n",
    "    phi_edges = np.linspace(-180,180,len(np.unique(d.phi_bin)))\n",
    "    plt.figure(figsize=(4*n_col, 3*n_row))\n",
    "    \n",
    "    for index in range(n_bins):\n",
    "        dsub = d.query('axis_bin == %d' % index)\n",
    "        plt.subplot(n_row, n_col, index+1)\n",
    "        plt.errorbar(x=dsub.phi, y=dsub.value, yerr=dsub.stat, \n",
    "                    linestyle='', marker='o', color='black')\n",
    "        \n",
    "        if 'sys_total' in dsub.columns:\n",
    "            plt.bar(phi_edges, height=dsub.sys_total, width=phi_width, bottom=0.0, \n",
    "                    edgecolor='red', color='yellow', alpha=0.65, hatch='///', \n",
    "                    label='systematic error', align='edge')\n",
    "            \n",
    "        plt.axhline(0.0, linestyle='--',\n",
    "                    linewidth=1, color='black', alpha=0.7)\n",
    "        \n",
    "        plt.xlim([-180,180])\n",
    "        plt.ylim([-0.15, 0.15])\n",
    "        \n",
    "    plt.tight_layout()"
   ]
  },
  {
   "cell_type": "code",
   "execution_count": 31,
   "metadata": {
    "collapsed": true
   },
   "outputs": [],
   "source": [
    "results = {}\n",
    "\n",
    "\n",
    "for est in estimators:\n",
    "    results[est] = {}\n",
    "  \n",
    "    for m in models_to_run:\n",
    "        results[est][m] = pd.merge(data, fitres[est][m], on=['axis', 'axis_bin'])"
   ]
  },
  {
   "cell_type": "code",
   "execution_count": 32,
   "metadata": {
    "collapsed": true
   },
   "outputs": [],
   "source": [
    "#results['replica']['basic'].to_csv('results/phi-dist-fit.csv', index=False)"
   ]
  },
  {
   "cell_type": "code",
   "execution_count": 33,
   "metadata": {
    "collapsed": true
   },
   "outputs": [],
   "source": [
    "def plot_summary(results, par):\n",
    "\n",
    "    latex = {}\n",
    "    latex['x'] = '$x$'\n",
    "    latex['z'] = '$z$'\n",
    "    latex['pt'] = '$P_T$'\n",
    "    latex['q2'] = '$Q^2$'\n",
    "    \n",
    "    label = {}\n",
    "    label[0] = '$A_{LU}^{\\sin\\phi}$'\n",
    "    label[1] = '$A_{UU}^{\\cos\\phi}$'\n",
    "    label[2] = '$A_{UU}^{\\cos(2\\phi)}$'    \n",
    "    \n",
    "    axes = np.unique(results.axis)\n",
    "    \n",
    "    n_col = 2\n",
    "    n_row = 1 + np.ceil(len(axes)/n_col)\n",
    "    plt.figure(figsize=(5*n_col, 3*n_row))\n",
    "    \n",
    "    for index, axis in enumerate(axes):\n",
    "        plt.subplot(n_row, n_col, index+1)\n",
    "        d = results.query('axis == \"%s\"' % axis)\n",
    "        \n",
    "        plt.errorbar(d.axis_min + 0.5*(d.axis_max-d.axis_min), d['par_%d' % par], d['err_%d' % par],\n",
    "                    linestyle='', marker='o', color='black')\n",
    "        \n",
    "        plt.xlabel(latex[axis])\n",
    "        plt.ylabel(label[par])\n",
    "        plt.ylim([-0.1, 0.1])\n",
    "        plt.axhline(0.0, color='black', alpha=0.7, linestyle='--', linewidth=1)\n",
    "        \n",
    "    plt.tight_layout()\n",
    "    \n",
    "def plot_multiple_summary(result1, result2, label1, label2):\n",
    "     \n",
    "    latex = {}\n",
    "    latex['x'] = '$x$'\n",
    "    latex['z'] = '$z$'\n",
    "    latex['pt'] = '$P_T$'\n",
    "    latex['q2'] = '$Q^2$'\n",
    "    \n",
    "    axes = np.unique(result1.axis)\n",
    "    \n",
    "    n_col = 2\n",
    "    n_row = 1 + np.ceil(len(axes)/n_col)\n",
    "    plt.figure(figsize=(5*n_col, 3*n_row))\n",
    "    \n",
    "    for index, axis in enumerate(axes):\n",
    "        plt.subplot(n_row, n_col, index+1)\n",
    "        d1 = result1.query('axis == \"%s\"' % axis)\n",
    "        d2 = result2.query('axis == \"%s\"' % axis)\n",
    "        \n",
    "        plt.errorbar(d1.axis_min + 0.5*(d1.axis_max-d1.axis_min), d1.par_0, d1.err_0,\n",
    "                    linestyle='', marker='.', color='black', label=label1)\n",
    "        plt.errorbar(d2.axis_min + 0.5*(d2.axis_max-d2.axis_min), d2.par_0, d2.err_0,\n",
    "                    linestyle='', marker='.', color='red', label=label2)\n",
    "        \n",
    "        plt.xlabel(latex[axis])\n",
    "        plt.ylabel('$A_{LU}^{\\sin\\phi}$')\n",
    "        plt.ylim([-0.02, 0.08])\n",
    "        plt.axhline(0.0, color='black', alpha=0.7, linestyle='--', linewidth=1)\n",
    "        #plt.legend()\n",
    "        \n",
    "    plt.tight_layout()"
   ]
  },
  {
   "cell_type": "code",
   "execution_count": 38,
   "metadata": {},
   "outputs": [
    {
     "data": {
      "image/png": "[encoded data removed]",
      "text/plain": [
       "<matplotlib.figure.Figure at 0x111e22250>"
      ]
     },
     "metadata": {},
     "output_type": "display_data"
    }
   ],
   "source": [
    "plot_summary(results['pymc3']['full'], 2)\n",
    "plt.savefig('image/summary-par2.pdf', bbox_inches='tight')"
   ]
  },
  {
   "cell_type": "code",
   "execution_count": null,
   "metadata": {},
   "outputs": [],
   "source": [
    "#plot_multiple_summary(results['single']['full'], results['single']['full'], 'sine model', 'full model')\n",
    "#plt.savefig('image/summary-compare.pdf', bbox_inches='tight')"
   ]
  },
  {
   "cell_type": "code",
   "execution_count": null,
   "metadata": {
    "collapsed": true
   },
   "outputs": [],
   "source": [
    "def plot_axis(result, model, axis):\n",
    "        \n",
    "    d      = result.query('axis == \"%s\"' % axis)\n",
    "    n_bins = len(np.unique(d.axis_bin))\n",
    "    n_col  = 3\n",
    "    n_row  = np.ceil(n_bins/n_col)+1\n",
    "\n",
    "    # these are uniform width\n",
    "    phi_width = np.repeat(float(360.0/len(np.unique(d.phi_bin))), len(np.unique(d.phi_bin)))\n",
    "    phi_edges = np.linspace(-180,180,len(np.unique(d.phi_bin)))\n",
    "    plt.figure(figsize=(4*n_col, 3*n_row))\n",
    "    \n",
    "    phi = np.linspace(-180,180,100)\n",
    "    \n",
    "    for index in range(n_bins):\n",
    "        dsub = d.query('axis_bin == %d' % index)\n",
    "        plt.subplot(n_row, n_col, index+1)\n",
    "        plt.errorbar(x=dsub.phi, y=dsub.value, yerr=dsub.stat, \n",
    "                    linestyle='', marker='o', color='black')\n",
    "        \n",
    "        if 'sys_total' in dsub.columns:\n",
    "            plt.bar(phi_edges, height=dsub.sys_total, width=phi_width, bottom=0.0, \n",
    "                    edgecolor='black', color='red', alpha=0.65, hatch='///', \n",
    "                    label='systematic error', align='edge')\n",
    "        \n",
    "        y  = update_model(model, np.unique(dsub.par_0), phi)\n",
    "        dy = update_model(model, np.unique(dsub.err_0), phi)\n",
    "        \n",
    "        plt.plot(phi, y, color='black', linestyle='-.', linewidth=1)\n",
    "        plt.fill_between(phi, y1=y-dy, y2=y+dy, color='gray', alpha=0.5)\n",
    "        \n",
    "        plt.axhline(0.0, linestyle='--',\n",
    "                    linewidth=1, color='black', alpha=0.7)\n",
    "        \n",
    "        plt.xlim([-180,180])\n",
    "        plt.ylim([-0.08, 0.08])\n",
    "        plt.ylabel('BSA')\n",
    "        plt.xlabel('$\\phi_h$')\n",
    "        \n",
    "    plt.tight_layout()"
   ]
  },
  {
   "cell_type": "code",
   "execution_count": null,
   "metadata": {},
   "outputs": [],
   "source": [
    "plot_axis(results['single']['full'], models['basic'], 'x')\n",
    "#plt.savefig('image/phi-dist-fit-x.pdf', bbox_inches='tight')"
   ]
  },
  {
   "cell_type": "code",
   "execution_count": null,
   "metadata": {},
   "outputs": [],
   "source": [
    "plot_axis(results['single']['full'], models['basic'], 'x')"
   ]
  },
  {
   "cell_type": "code",
   "execution_count": null,
   "metadata": {
    "collapsed": true
   },
   "outputs": [],
   "source": [
    "binner = lambda x: np.linspace(np.min(x)-0.2*(np.max(x)-np.min(x)), np.max(x)+0.2*(np.max(x)-np.min(x)), 24)\n",
    "\n",
    "n_cols = 3\n",
    "n_rows = len(params['replica']['full_bounded']['value'])\n",
    "\n",
    "plt.figure(figsize=(12,2*n_rows))\n",
    "\n",
    "for i in range(n_rows):\n",
    "    plt.subplot(n_rows,3,1+i*n_cols)\n",
    "    plt.hist(params['replica']['full_bounded']['value'][i][:,0], \n",
    "             bins=binner(params['replica']['full_bounded']['value'][i][:,0]),\n",
    "            histtype='stepfilled', color='red', edgecolor='black', hatch='///', alpha=0.8);\n",
    "\n",
    "    plt.subplot(n_rows,3,2+i*n_cols)\n",
    "    plt.hist(params['replica']['full_bounded']['value'][i][:,1],\n",
    "             bins=binner(params['replica']['full_bounded']['value'][i][:,1]),\n",
    "            histtype='stepfilled', color='red', edgecolor='black', hatch='///', alpha=0.8);\n",
    "\n",
    "    plt.subplot(n_rows,3,3+i*n_cols)\n",
    "    plt.hist(params['replica']['full_bounded']['value'][i][:,2],          \n",
    "             bins=binner(params['replica']['full_bounded']['value'][i][:,1]),\n",
    "            histtype='stepfilled', color='red', edgecolor='black', hatch='///', alpha=0.8);\n",
    "\n",
    "plt.tight_layout()"
   ]
  },
  {
   "cell_type": "code",
   "execution_count": null,
   "metadata": {},
   "outputs": [],
   "source": [
    "basic_model = pm.Model()\n",
    "\n",
    "perma_trace = {}\n",
    "\n",
    "with basic_model:\n",
    "    alpha = pm.Bound(pm.Normal, lower=-1, upper=1)('alpha', mu=0, sd=1)\n",
    "    beta  = pm.Bound(pm.Normal, lower=-1, upper=1)( 'beta', mu=0, sd=0.05)\n",
    "    gamma = pm.Bound(pm.Normal, lower=-1, upper=1)('gamma', mu=0, sd=0.05)\n",
    "    \n",
    "    mu = alpha * np.sin( (np.pi/180) * test_data.phi) / (1 + \\\n",
    "                                                beta * np.cos( (np.pi/180) * test_data.phi) + \\\n",
    "                                                gamma * np.cos( 2*(np.pi/180) * test_data.phi)\n",
    "                        )\n",
    "        \n",
    "    y = pm.Normal('y', mu=mu, sd=np.sqrt(test_data.stat**2 + test_data.sys_total**2), observed=test_data.value)\n",
    "    trace = pm.sample(5000, tune=500)\n",
    "\n",
    "    perma_trace['a'] = trace['alpha']\n",
    "    perma_trace['b'] = trace['beta']\n",
    "    perma_trace['c'] = trace['gamma'] "
   ]
  },
  {
   "cell_type": "code",
   "execution_count": null,
   "metadata": {},
   "outputs": [],
   "source": [
    "label = {}\n",
    "label[0] = '$A_{LU}^{\\sin\\phi}$'\n",
    "label[1] = '$A_{UU}^{\\cos\\phi}$'\n",
    "label[2] = '$A_{UU}^{\\cos(2\\phi)}$'    \n",
    "\n",
    "plt.figure(figsize=(16,9))\n",
    "\n",
    "plt.subplot(3,2,1)\n",
    "plt.plot(perma_trace['a'], linewidth=1, color='red', alpha=0.5)\n",
    "plt.ylabel(label[0])\n",
    "\n",
    "plt.subplot(3,2,2)\n",
    "plt.hist(perma_trace['a'], bins=50, histtype='stepfilled', color='red',\n",
    "        edgecolor='black', alpha=0.5, hatch='///');\n",
    "plt.xlabel(label[0])\n",
    "\n",
    "plt.subplot(3,2,3)\n",
    "plt.plot(perma_trace['b'], linewidth=1, color='blue', alpha=0.5)\n",
    "plt.ylabel(label[1])\n",
    "\n",
    "plt.subplot(3,2,4)\n",
    "plt.hist(perma_trace['b'], bins=50, histtype='stepfilled', color='blue',\n",
    "        edgecolor='black', alpha=0.5, hatch='///');\n",
    "plt.xlabel(label[1])\n",
    "\n",
    "plt.subplot(3,2,5)\n",
    "plt.plot(perma_trace['c'], linewidth=1, color='green', alpha=0.5)\n",
    "plt.ylabel(label[2])\n",
    "\n",
    "plt.subplot(3,2,6)\n",
    "plt.hist(perma_trace['c'], bins=50, histtype='stepfilled', color='green',\n",
    "        edgecolor='black', alpha=0.5, hatch='///');\n",
    "plt.xlabel(label[2])\n",
    "\n",
    "plt.tight_layout()\n",
    "\n",
    "plt.savefig('image/mcmc-demo.pdf', bbox_inches='tight')"
   ]
  },
  {
   "cell_type": "code",
   "execution_count": null,
   "metadata": {
    "collapsed": true
   },
   "outputs": [],
   "source": []
  }
 ],
 "metadata": {
  "kernelspec": {
   "display_name": "Python 2",
   "language": "python",
   "name": "python2"
  },
  "language_info": {
   "codemirror_mode": {
    "name": "ipython",
    "version": 2
   },
   "file_extension": ".py",
   "mimetype": "text/x-python",
   "name": "python",
   "nbconvert_exporter": "python",
   "pygments_lexer": "ipython2",
   "version": "2.7.13"
  }
 },
 "nbformat": 4,
 "nbformat_minor": 2
}
