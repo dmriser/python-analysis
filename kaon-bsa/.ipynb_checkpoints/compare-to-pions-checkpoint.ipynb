{
 "cells": [
  {
   "cell_type": "markdown",
   "metadata": {},
   "source": [
    "# Overview \n",
    "This notebook uses the final results and the results from Wes Gohn's publication to compare kaon to pion BSAs."
   ]
  },
  {
   "cell_type": "code",
   "execution_count": 1,
   "metadata": {
    "collapsed": true
   },
   "outputs": [],
   "source": [
    "import matplotlib.pyplot as plt \n",
    "import numpy as np \n",
    "import pandas as pd \n",
    "\n",
    "%matplotlib inline"
   ]
  },
  {
   "cell_type": "code",
   "execution_count": 52,
   "metadata": {
    "collapsed": true
   },
   "outputs": [],
   "source": [
    "plt.rc('text', usetex=True)\n",
    "plt.rc('font', family='serif')\n",
    "plt.rc('font', size=16)"
   ]
  },
  {
   "cell_type": "code",
   "execution_count": 2,
   "metadata": {
    "collapsed": true
   },
   "outputs": [],
   "source": [
    "kaon_df = pd.read_csv('results/fit/sys.csv')\n",
    "pion_df = pd.read_csv('results/wes/pip.csv')"
   ]
  },
  {
   "cell_type": "code",
   "execution_count": 3,
   "metadata": {},
   "outputs": [
    {
     "data": {
      "text/html": [
       "<div>\n",
       "<style scoped>\n",
       "    .dataframe tbody tr th:only-of-type {\n",
       "        vertical-align: middle;\n",
       "    }\n",
       "\n",
       "    .dataframe tbody tr th {\n",
       "        vertical-align: top;\n",
       "    }\n",
       "\n",
       "    .dataframe thead th {\n",
       "        text-align: right;\n",
       "    }\n",
       "</style>\n",
       "<table border=\"1\" class=\"dataframe\">\n",
       "  <thead>\n",
       "    <tr style=\"text-align: right;\">\n",
       "      <th></th>\n",
       "      <th>axis</th>\n",
       "      <th>axis_bin</th>\n",
       "      <th>axis_max</th>\n",
       "      <th>axis_min</th>\n",
       "      <th>err_0</th>\n",
       "      <th>err_1</th>\n",
       "      <th>err_2</th>\n",
       "      <th>par_0</th>\n",
       "      <th>par_1</th>\n",
       "      <th>par_2</th>\n",
       "      <th>...</th>\n",
       "      <th>sys_4_par2</th>\n",
       "      <th>sys_3_par0</th>\n",
       "      <th>sys_3_par1</th>\n",
       "      <th>sys_3_par2</th>\n",
       "      <th>sys_10_par0</th>\n",
       "      <th>sys_10_par1</th>\n",
       "      <th>sys_10_par2</th>\n",
       "      <th>sys_11_par0</th>\n",
       "      <th>sys_11_par1</th>\n",
       "      <th>sys_11_par2</th>\n",
       "    </tr>\n",
       "  </thead>\n",
       "  <tbody>\n",
       "    <tr>\n",
       "      <th>0</th>\n",
       "      <td>pt</td>\n",
       "      <td>0</td>\n",
       "      <td>0.202108</td>\n",
       "      <td>0.000284</td>\n",
       "      <td>0.005593</td>\n",
       "      <td>0.399494</td>\n",
       "      <td>0.481435</td>\n",
       "      <td>0.023548</td>\n",
       "      <td>0.035530</td>\n",
       "      <td>-0.284411</td>\n",
       "      <td>...</td>\n",
       "      <td>0.063736</td>\n",
       "      <td>0.000101</td>\n",
       "      <td>0.133262</td>\n",
       "      <td>0.118209</td>\n",
       "      <td>0.000829</td>\n",
       "      <td>0.081397</td>\n",
       "      <td>0.084052</td>\n",
       "      <td>0.000964</td>\n",
       "      <td>0.026559</td>\n",
       "      <td>0.005895</td>\n",
       "    </tr>\n",
       "    <tr>\n",
       "      <th>1</th>\n",
       "      <td>pt</td>\n",
       "      <td>1</td>\n",
       "      <td>0.274544</td>\n",
       "      <td>0.202108</td>\n",
       "      <td>0.006052</td>\n",
       "      <td>0.395408</td>\n",
       "      <td>0.481255</td>\n",
       "      <td>0.025324</td>\n",
       "      <td>-0.422032</td>\n",
       "      <td>0.095175</td>\n",
       "      <td>...</td>\n",
       "      <td>0.051845</td>\n",
       "      <td>0.001937</td>\n",
       "      <td>0.007376</td>\n",
       "      <td>0.167376</td>\n",
       "      <td>0.001490</td>\n",
       "      <td>0.037992</td>\n",
       "      <td>0.100629</td>\n",
       "      <td>0.001149</td>\n",
       "      <td>0.041276</td>\n",
       "      <td>0.014100</td>\n",
       "    </tr>\n",
       "    <tr>\n",
       "      <th>2</th>\n",
       "      <td>pt</td>\n",
       "      <td>2</td>\n",
       "      <td>0.328453</td>\n",
       "      <td>0.274544</td>\n",
       "      <td>0.006538</td>\n",
       "      <td>0.372410</td>\n",
       "      <td>0.388941</td>\n",
       "      <td>0.030275</td>\n",
       "      <td>0.148326</td>\n",
       "      <td>-0.380049</td>\n",
       "      <td>...</td>\n",
       "      <td>0.013489</td>\n",
       "      <td>0.001548</td>\n",
       "      <td>0.091878</td>\n",
       "      <td>0.010678</td>\n",
       "      <td>0.001053</td>\n",
       "      <td>0.109994</td>\n",
       "      <td>0.005716</td>\n",
       "      <td>0.000358</td>\n",
       "      <td>0.011726</td>\n",
       "      <td>0.054564</td>\n",
       "    </tr>\n",
       "    <tr>\n",
       "      <th>3</th>\n",
       "      <td>pt</td>\n",
       "      <td>3</td>\n",
       "      <td>0.376169</td>\n",
       "      <td>0.328453</td>\n",
       "      <td>0.004896</td>\n",
       "      <td>0.414820</td>\n",
       "      <td>0.458937</td>\n",
       "      <td>0.033449</td>\n",
       "      <td>-0.043825</td>\n",
       "      <td>-0.252222</td>\n",
       "      <td>...</td>\n",
       "      <td>0.013920</td>\n",
       "      <td>0.000245</td>\n",
       "      <td>0.025403</td>\n",
       "      <td>0.004015</td>\n",
       "      <td>0.001226</td>\n",
       "      <td>0.081653</td>\n",
       "      <td>0.017168</td>\n",
       "      <td>0.001758</td>\n",
       "      <td>0.051939</td>\n",
       "      <td>0.041590</td>\n",
       "    </tr>\n",
       "    <tr>\n",
       "      <th>4</th>\n",
       "      <td>pt</td>\n",
       "      <td>4</td>\n",
       "      <td>0.422123</td>\n",
       "      <td>0.376169</td>\n",
       "      <td>0.007735</td>\n",
       "      <td>0.363314</td>\n",
       "      <td>0.472040</td>\n",
       "      <td>0.034751</td>\n",
       "      <td>0.058782</td>\n",
       "      <td>-0.293545</td>\n",
       "      <td>...</td>\n",
       "      <td>0.059868</td>\n",
       "      <td>0.002776</td>\n",
       "      <td>0.102866</td>\n",
       "      <td>0.006474</td>\n",
       "      <td>0.000703</td>\n",
       "      <td>0.040874</td>\n",
       "      <td>0.013394</td>\n",
       "      <td>0.001885</td>\n",
       "      <td>0.027241</td>\n",
       "      <td>0.059010</td>\n",
       "    </tr>\n",
       "  </tbody>\n",
       "</table>\n",
       "<p>5 rows × 46 columns</p>\n",
       "</div>"
      ],
      "text/plain": [
       "  axis  axis_bin  axis_max  axis_min     err_0     err_1     err_2     par_0  \\\n",
       "0   pt         0  0.202108  0.000284  0.005593  0.399494  0.481435  0.023548   \n",
       "1   pt         1  0.274544  0.202108  0.006052  0.395408  0.481255  0.025324   \n",
       "2   pt         2  0.328453  0.274544  0.006538  0.372410  0.388941  0.030275   \n",
       "3   pt         3  0.376169  0.328453  0.004896  0.414820  0.458937  0.033449   \n",
       "4   pt         4  0.422123  0.376169  0.007735  0.363314  0.472040  0.034751   \n",
       "\n",
       "      par_1     par_2     ...       sys_4_par2  sys_3_par0  sys_3_par1  \\\n",
       "0  0.035530 -0.284411     ...         0.063736    0.000101    0.133262   \n",
       "1 -0.422032  0.095175     ...         0.051845    0.001937    0.007376   \n",
       "2  0.148326 -0.380049     ...         0.013489    0.001548    0.091878   \n",
       "3 -0.043825 -0.252222     ...         0.013920    0.000245    0.025403   \n",
       "4  0.058782 -0.293545     ...         0.059868    0.002776    0.102866   \n",
       "\n",
       "   sys_3_par2  sys_10_par0  sys_10_par1  sys_10_par2  sys_11_par0  \\\n",
       "0    0.118209     0.000829     0.081397     0.084052     0.000964   \n",
       "1    0.167376     0.001490     0.037992     0.100629     0.001149   \n",
       "2    0.010678     0.001053     0.109994     0.005716     0.000358   \n",
       "3    0.004015     0.001226     0.081653     0.017168     0.001758   \n",
       "4    0.006474     0.000703     0.040874     0.013394     0.001885   \n",
       "\n",
       "   sys_11_par1  sys_11_par2  \n",
       "0     0.026559     0.005895  \n",
       "1     0.041276     0.014100  \n",
       "2     0.011726     0.054564  \n",
       "3     0.051939     0.041590  \n",
       "4     0.027241     0.059010  \n",
       "\n",
       "[5 rows x 46 columns]"
      ]
     },
     "execution_count": 3,
     "metadata": {},
     "output_type": "execute_result"
    }
   ],
   "source": [
    "kaon_df.head() "
   ]
  },
  {
   "cell_type": "code",
   "execution_count": 4,
   "metadata": {},
   "outputs": [
    {
     "data": {
      "text/html": [
       "<div>\n",
       "<style scoped>\n",
       "    .dataframe tbody tr th:only-of-type {\n",
       "        vertical-align: middle;\n",
       "    }\n",
       "\n",
       "    .dataframe tbody tr th {\n",
       "        vertical-align: top;\n",
       "    }\n",
       "\n",
       "    .dataframe thead th {\n",
       "        text-align: right;\n",
       "    }\n",
       "</style>\n",
       "<table border=\"1\" class=\"dataframe\">\n",
       "  <thead>\n",
       "    <tr style=\"text-align: right;\">\n",
       "      <th></th>\n",
       "      <th>axis</th>\n",
       "      <th>axis_bin</th>\n",
       "      <th>axis_value</th>\n",
       "      <th>value</th>\n",
       "      <th>stat</th>\n",
       "      <th>sys</th>\n",
       "    </tr>\n",
       "  </thead>\n",
       "  <tbody>\n",
       "    <tr>\n",
       "      <th>0</th>\n",
       "      <td>z</td>\n",
       "      <td>0</td>\n",
       "      <td>0.05</td>\n",
       "      <td>0.0059</td>\n",
       "      <td>0.0004</td>\n",
       "      <td>0.0004</td>\n",
       "    </tr>\n",
       "    <tr>\n",
       "      <th>1</th>\n",
       "      <td>z</td>\n",
       "      <td>1</td>\n",
       "      <td>0.15</td>\n",
       "      <td>0.0071</td>\n",
       "      <td>0.0009</td>\n",
       "      <td>0.0002</td>\n",
       "    </tr>\n",
       "    <tr>\n",
       "      <th>2</th>\n",
       "      <td>z</td>\n",
       "      <td>2</td>\n",
       "      <td>0.25</td>\n",
       "      <td>0.0070</td>\n",
       "      <td>0.0010</td>\n",
       "      <td>0.0010</td>\n",
       "    </tr>\n",
       "    <tr>\n",
       "      <th>3</th>\n",
       "      <td>z</td>\n",
       "      <td>3</td>\n",
       "      <td>0.35</td>\n",
       "      <td>0.0110</td>\n",
       "      <td>0.0010</td>\n",
       "      <td>0.0010</td>\n",
       "    </tr>\n",
       "    <tr>\n",
       "      <th>4</th>\n",
       "      <td>z</td>\n",
       "      <td>4</td>\n",
       "      <td>0.45</td>\n",
       "      <td>0.0150</td>\n",
       "      <td>0.0010</td>\n",
       "      <td>0.0010</td>\n",
       "    </tr>\n",
       "  </tbody>\n",
       "</table>\n",
       "</div>"
      ],
      "text/plain": [
       "  axis  axis_bin  axis_value   value    stat     sys\n",
       "0    z         0        0.05  0.0059  0.0004  0.0004\n",
       "1    z         1        0.15  0.0071  0.0009  0.0002\n",
       "2    z         2        0.25  0.0070  0.0010  0.0010\n",
       "3    z         3        0.35  0.0110  0.0010  0.0010\n",
       "4    z         4        0.45  0.0150  0.0010  0.0010"
      ]
     },
     "execution_count": 4,
     "metadata": {},
     "output_type": "execute_result"
    }
   ],
   "source": [
    "pion_df.head()"
   ]
  },
  {
   "cell_type": "code",
   "execution_count": 5,
   "metadata": {},
   "outputs": [
    {
     "name": "stdout",
     "output_type": "stream",
     "text": [
      "Index([u'axis', u'axis_bin', u'axis_max', u'axis_min', u'err_0', u'err_1',\n",
      "       u'err_2', u'par_0', u'par_1', u'par_2', u'sys_total_0', u'sys_total_1',\n",
      "       u'sys_total_2', u'sys_1_par0', u'sys_1_par1', u'sys_1_par2',\n",
      "       u'sys_2_par0', u'sys_2_par1', u'sys_2_par2', u'sys_9_par0',\n",
      "       u'sys_9_par1', u'sys_9_par2', u'sys_5_par0', u'sys_5_par1',\n",
      "       u'sys_5_par2', u'sys_6_par0', u'sys_6_par1', u'sys_6_par2',\n",
      "       u'sys_8_par0', u'sys_8_par1', u'sys_8_par2', u'sys_7_par0',\n",
      "       u'sys_7_par1', u'sys_7_par2', u'sys_4_par0', u'sys_4_par1',\n",
      "       u'sys_4_par2', u'sys_3_par0', u'sys_3_par1', u'sys_3_par2',\n",
      "       u'sys_10_par0', u'sys_10_par1', u'sys_10_par2', u'sys_11_par0',\n",
      "       u'sys_11_par1', u'sys_11_par2'],\n",
      "      dtype='object')\n"
     ]
    }
   ],
   "source": [
    "print(kaon_df.columns)"
   ]
  },
  {
   "cell_type": "code",
   "execution_count": 6,
   "metadata": {},
   "outputs": [
    {
     "name": "stdout",
     "output_type": "stream",
     "text": [
      "Index([u'axis', u'axis_bin', u'axis_value', u'value', u'stat', u'sys'], dtype='object')\n"
     ]
    }
   ],
   "source": [
    "print(pion_df.columns)"
   ]
  },
  {
   "cell_type": "markdown",
   "metadata": {},
   "source": [
    "Since the kaon dataframe doesn't have the `axis_value` column, i'll quickly add it for plotting."
   ]
  },
  {
   "cell_type": "code",
   "execution_count": 7,
   "metadata": {},
   "outputs": [],
   "source": [
    "kaon_df['axis_value'] = kaon_df.axis_min + 0.5 * (kaon_df.axis_max-kaon_df.axis_min)"
   ]
  },
  {
   "cell_type": "markdown",
   "metadata": {},
   "source": [
    "Some of the names in the `kaon_df` are confusing.  I will rename the important columns and drop the rest."
   ]
  },
  {
   "cell_type": "code",
   "execution_count": 8,
   "metadata": {},
   "outputs": [],
   "source": [
    "kaon_df.rename(columns={'par_0':'value', \n",
    "                        'err_0':'stat', \n",
    "                        'sys_total_0':'sys'\n",
    "                       }, inplace=True)\n",
    "\n",
    "keep_cols = pion_df.columns\n",
    "drop_cols = [col for col in kaon_df.columns if col not in keep_cols]\n",
    "kaon_df.drop(columns=drop_cols, inplace=True)"
   ]
  },
  {
   "cell_type": "code",
   "execution_count": 9,
   "metadata": {},
   "outputs": [
    {
     "data": {
      "text/html": [
       "<div>\n",
       "<style scoped>\n",
       "    .dataframe tbody tr th:only-of-type {\n",
       "        vertical-align: middle;\n",
       "    }\n",
       "\n",
       "    .dataframe tbody tr th {\n",
       "        vertical-align: top;\n",
       "    }\n",
       "\n",
       "    .dataframe thead th {\n",
       "        text-align: right;\n",
       "    }\n",
       "</style>\n",
       "<table border=\"1\" class=\"dataframe\">\n",
       "  <thead>\n",
       "    <tr style=\"text-align: right;\">\n",
       "      <th></th>\n",
       "      <th>axis</th>\n",
       "      <th>axis_bin</th>\n",
       "      <th>stat</th>\n",
       "      <th>value</th>\n",
       "      <th>sys</th>\n",
       "      <th>axis_value</th>\n",
       "    </tr>\n",
       "  </thead>\n",
       "  <tbody>\n",
       "    <tr>\n",
       "      <th>0</th>\n",
       "      <td>pt</td>\n",
       "      <td>0</td>\n",
       "      <td>0.005593</td>\n",
       "      <td>0.023548</td>\n",
       "      <td>0.003065</td>\n",
       "      <td>0.101196</td>\n",
       "    </tr>\n",
       "    <tr>\n",
       "      <th>1</th>\n",
       "      <td>pt</td>\n",
       "      <td>1</td>\n",
       "      <td>0.006052</td>\n",
       "      <td>0.025324</td>\n",
       "      <td>0.004455</td>\n",
       "      <td>0.238326</td>\n",
       "    </tr>\n",
       "    <tr>\n",
       "      <th>2</th>\n",
       "      <td>pt</td>\n",
       "      <td>2</td>\n",
       "      <td>0.006538</td>\n",
       "      <td>0.030275</td>\n",
       "      <td>0.005614</td>\n",
       "      <td>0.301499</td>\n",
       "    </tr>\n",
       "    <tr>\n",
       "      <th>3</th>\n",
       "      <td>pt</td>\n",
       "      <td>3</td>\n",
       "      <td>0.004896</td>\n",
       "      <td>0.033449</td>\n",
       "      <td>0.003912</td>\n",
       "      <td>0.352311</td>\n",
       "    </tr>\n",
       "    <tr>\n",
       "      <th>4</th>\n",
       "      <td>pt</td>\n",
       "      <td>4</td>\n",
       "      <td>0.007735</td>\n",
       "      <td>0.034751</td>\n",
       "      <td>0.005095</td>\n",
       "      <td>0.399146</td>\n",
       "    </tr>\n",
       "  </tbody>\n",
       "</table>\n",
       "</div>"
      ],
      "text/plain": [
       "  axis  axis_bin      stat     value       sys  axis_value\n",
       "0   pt         0  0.005593  0.023548  0.003065    0.101196\n",
       "1   pt         1  0.006052  0.025324  0.004455    0.238326\n",
       "2   pt         2  0.006538  0.030275  0.005614    0.301499\n",
       "3   pt         3  0.004896  0.033449  0.003912    0.352311\n",
       "4   pt         4  0.007735  0.034751  0.005095    0.399146"
      ]
     },
     "execution_count": 9,
     "metadata": {},
     "output_type": "execute_result"
    }
   ],
   "source": [
    "kaon_df.head()"
   ]
  },
  {
   "cell_type": "code",
   "execution_count": 10,
   "metadata": {},
   "outputs": [],
   "source": [
    "pion_axes = pion_df.axis.unique()\n",
    "kaon_axes = kaon_df.axis.unique()"
   ]
  },
  {
   "cell_type": "code",
   "execution_count": 11,
   "metadata": {},
   "outputs": [],
   "source": [
    "for axis in pion_axes:\n",
    "    assert(axis in kaon_axes)\n",
    "    \n",
    "for axis in kaon_axes:\n",
    "    assert(axis in pion_axes)"
   ]
  },
  {
   "cell_type": "markdown",
   "metadata": {},
   "source": [
    "The datasets have the same axes."
   ]
  },
  {
   "cell_type": "code",
   "execution_count": 12,
   "metadata": {
    "collapsed": true
   },
   "outputs": [],
   "source": [
    "axes = pion_axes "
   ]
  },
  {
   "cell_type": "code",
   "execution_count": 105,
   "metadata": {},
   "outputs": [],
   "source": [
    "add_quad = lambda x1, x2: np.sqrt(x1**2 + x2**2)\n",
    "\n",
    "def plot_compare(pion_df, kaon_df, axis_name, ax):\n",
    "    \n",
    "    xlims = {\n",
    "        'x' :[0.0, 0.7],\n",
    "        'q2':[0.5, 5.0],\n",
    "        'z' :[0.0, 1.1],\n",
    "        'pt':[0.0, 1.0]\n",
    "    }\n",
    "    \n",
    "    tex_labels = {\n",
    "        'x': '$x$',\n",
    "        'q2':'$Q^2 \\; [GeV^2/c^2]$',\n",
    "        'z': '$z_h$',\n",
    "        'pt':'$P_T \\; [GeV/c]$'\n",
    "    }\n",
    "    \n",
    "    ax.errorbar(pion_df[pion_df.axis == axis_name].axis_value, \n",
    "                    pion_df[pion_df.axis == axis_name].value,\n",
    "                    add_quad(pion_df[pion_df.axis == axis_name].stat, pion_df[pion_df.axis == axis_name].sys),\n",
    "                   linestyle='', marker='o', label='E1-F $\\pi^+$ (Gohn 2014)',\n",
    "               color='black')\n",
    "    ax.errorbar(kaon_df[kaon_df.axis == axis_name].axis_value, \n",
    "                    kaon_df[kaon_df.axis == axis_name].value,\n",
    "                    add_quad(kaon_df[kaon_df.axis == axis_name].stat, kaon_df[kaon_df.axis == axis_name].sys), \n",
    "                   linestyle='', marker='v', label='E1-F $K^+$',\n",
    "               color='red')\n",
    "    ax.set_ylim([-0.01, 0.08])\n",
    "    ax.set_xlim(xlims[axis_name])\n",
    "    ax.set_xlabel(tex_labels[axis_name])\n",
    "    ax.legend(frameon=False)"
   ]
  },
  {
   "cell_type": "code",
   "execution_count": 108,
   "metadata": {
    "scrolled": false
   },
   "outputs": [
    {
     "data": {
      "image/png": "[encoded data removed]",
      "text/plain": [
       "<Figure size 864x288 with 2 Axes>"
      ]
     },
     "metadata": {},
     "output_type": "display_data"
    }
   ],
   "source": [
    "fig, axs = plt.subplots(1, 2, figsize=(12,4), sharey=True)\n",
    "fig.subplots_adjust(wspace=0)\n",
    "plot_compare(pion_df, kaon_df, 'x', axs[0])\n",
    "plot_compare(pion_df, kaon_df, 'q2', axs[1])\n",
    "\n",
    "fig.savefig('image/compare-pion-xq2.pdf', bbox_inches='tight')"
   ]
  },
  {
   "cell_type": "code",
   "execution_count": 109,
   "metadata": {},
   "outputs": [
    {
     "data": {
      "image/png": "[encoded data removed]",
      "text/plain": [
       "<Figure size 864x288 with 2 Axes>"
      ]
     },
     "metadata": {},
     "output_type": "display_data"
    }
   ],
   "source": [
    "fig, axs = plt.subplots(1, 2, figsize=(12,4), sharey=True)\n",
    "fig.subplots_adjust(wspace=0)\n",
    "plot_compare(pion_df, kaon_df, 'z', axs[0])\n",
    "plot_compare(pion_df, kaon_df, 'pt', axs[1])\n",
    "\n",
    "fig.savefig('image/compare-pion-zpt.pdf', bbox_inches='tight')"
   ]
  },
  {
   "cell_type": "code",
   "execution_count": null,
   "metadata": {
    "collapsed": true
   },
   "outputs": [],
   "source": []
  }
 ],
 "metadata": {
  "kernelspec": {
   "display_name": "Python 2",
   "language": "python",
   "name": "python2"
  },
  "language_info": {
   "codemirror_mode": {
    "name": "ipython",
    "version": 2
   },
   "file_extension": ".py",
   "mimetype": "text/x-python",
   "name": "python",
   "nbconvert_exporter": "python",
   "pygments_lexer": "ipython2",
   "version": "2.7.13"
  }
 },
 "nbformat": 4,
 "nbformat_minor": 2
}
