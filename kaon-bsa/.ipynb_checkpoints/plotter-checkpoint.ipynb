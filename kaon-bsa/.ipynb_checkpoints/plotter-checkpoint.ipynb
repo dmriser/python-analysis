{
 "cells": [
  {
   "cell_type": "markdown",
   "metadata": {},
   "source": [
    "# Plotter\n",
    "Drawing final plots for results using this notebook depends on having the output of `systematics-fit.ipynb` as well as the initial results from `src/data/bsa.py`."
   ]
  },
  {
   "cell_type": "code",
   "execution_count": 1,
   "metadata": {
    "collapsed": true
   },
   "outputs": [],
   "source": [
    "import numpy as np \n",
    "import pandas as pd \n",
    "import matplotlib.pyplot as plt \n",
    "\n",
    "%matplotlib inline \n",
    "\n",
    "plt.rc('font', family='serif')\n",
    "plt.rc('font', size=18)\n",
    "plt.rc('text', usetex=True)"
   ]
  },
  {
   "cell_type": "code",
   "execution_count": 2,
   "metadata": {
    "collapsed": true
   },
   "outputs": [],
   "source": [
    "!mkdir -p image/"
   ]
  },
  {
   "cell_type": "code",
   "execution_count": 3,
   "metadata": {
    "collapsed": true
   },
   "outputs": [],
   "source": [
    "data = {}\n",
    "data['phi'] = pd.read_csv('results/phi/sys.csv')\n",
    "data['fit'] = pd.read_csv('results/fit/sys.csv')\n",
    "#data['fit'] = pd.read_csv('replica-test.csv')"
   ]
  },
  {
   "cell_type": "code",
   "execution_count": 4,
   "metadata": {},
   "outputs": [
    {
     "data": {
      "text/plain": [
       "Index([u'axis', u'axis_bin', u'axis_max', u'axis_min', u'bootstraps_0',\n",
       "       u'bootstraps_1', u'bootstraps_2', u'err_0', u'err_1', u'err_2',\n",
       "       u'par_0', u'par_1', u'par_2', u'sys_total_0', u'sys_total_1',\n",
       "       u'sys_total_2', u'sys_1_par0', u'sys_1_par1', u'sys_1_par2',\n",
       "       u'sys_2_par0', u'sys_2_par1', u'sys_2_par2', u'sys_3_par0',\n",
       "       u'sys_3_par1', u'sys_3_par2', u'sys_4_par0', u'sys_4_par1',\n",
       "       u'sys_4_par2', u'sys_12_par0', u'sys_12_par1', u'sys_12_par2',\n",
       "       u'sys_6_par0', u'sys_6_par1', u'sys_6_par2', u'sys_7_par0',\n",
       "       u'sys_7_par1', u'sys_7_par2', u'sys_8_par0', u'sys_8_par1',\n",
       "       u'sys_8_par2', u'sys_9_par0', u'sys_9_par1', u'sys_9_par2',\n",
       "       u'sys_10_par0', u'sys_10_par1', u'sys_10_par2', u'sys_11_par0',\n",
       "       u'sys_11_par1', u'sys_11_par2', u'sys_5_par0', u'sys_5_par1',\n",
       "       u'sys_5_par2', u'sys_13_par0', u'sys_13_par1', u'sys_13_par2'],\n",
       "      dtype='object')"
      ]
     },
     "execution_count": 4,
     "metadata": {},
     "output_type": "execute_result"
    }
   ],
   "source": [
    "data['fit'].columns"
   ]
  },
  {
   "cell_type": "code",
   "execution_count": 5,
   "metadata": {
    "collapsed": true
   },
   "outputs": [],
   "source": [
    "def plot_fit_summary(results, par):\n",
    "\n",
    "    latex = {}\n",
    "    latex['x'] = '$x$'\n",
    "    latex['z'] = '$z$'\n",
    "    latex['pt'] = '$P_T$'\n",
    "    latex['q2'] = '$Q^2$'\n",
    "    \n",
    "    limits = {}\n",
    "    limits['x'] = [0.0, 0.7]\n",
    "    limits['z'] = [0.0, 1.0]\n",
    "    limits['pt'] = [0.0, 1.2]\n",
    "    limits['q2'] = [0.5, 5.5]\n",
    "    \n",
    "    label = {}\n",
    "    label[0] = '$A_{LU}^{\\sin\\phi}$'\n",
    "    label[1] = '$A_{UU}^{\\cos\\phi}$'\n",
    "    label[2] = '$A_{UU}^{\\cos(2\\phi)}$'    \n",
    "    \n",
    "    unique_axes = np.unique(results.axis)\n",
    "    axes = [axis for axis in unique_axes if axis != 'missing_mass']\n",
    "    \n",
    "    n_col = 2\n",
    "    n_row = 1 + np.ceil(len(axes)/n_col)\n",
    "    plt.figure(figsize=(5*n_col, 3*n_row))\n",
    "    \n",
    "    for index, axis in enumerate(axes):\n",
    "        plt.subplot(n_row, n_col, index+1)\n",
    "        d = results.query('axis == \"%s\"' % axis)\n",
    "\n",
    "        plt.errorbar(d.axis_min + 0.5*(d.axis_max-d.axis_min), d['par_%d' % par], d['err_%d' % par],\n",
    "                        linestyle='', marker='o', color='black')\n",
    "\n",
    "        if ('sys_total_%d' % par) in d.columns:\n",
    "            plt.bar(d.axis_min + 0.5*(d.axis_max-d.axis_min), d['sys_total_%d' % par], \n",
    "                            width=d.axis_max-d.axis_min, hatch='///', color='red',\n",
    "                           edgecolor='black', alpha=0.7)\n",
    "\n",
    "        plt.xlabel(latex[axis])\n",
    "        plt.ylabel(label[par])\n",
    "        #plt.ylim([0.0, 0.06])\n",
    "        plt.xlim(limits[axis])\n",
    "        plt.axhline(0.0, color='black', alpha=0.7, linestyle='--', linewidth=1)\n",
    "        \n",
    "    plt.tight_layout()"
   ]
  },
  {
   "cell_type": "code",
   "execution_count": 6,
   "metadata": {},
   "outputs": [
    {
     "data": {
      "image/png": "[encoded data removed]",
      "text/plain": [
       "<Figure size 720x648 with 4 Axes>"
      ]
     },
     "metadata": {},
     "output_type": "display_data"
    }
   ],
   "source": [
    "plot_fit_summary(data['fit'], 0)\n",
    "plt.savefig('image/alu_sin.pdf', bbox_inches='tight')"
   ]
  },
  {
   "cell_type": "code",
   "execution_count": 7,
   "metadata": {
    "scrolled": false
   },
   "outputs": [
    {
     "data": {
      "image/png": "[encoded data removed]",
      "text/plain": [
       "<Figure size 720x648 with 4 Axes>"
      ]
     },
     "metadata": {},
     "output_type": "display_data"
    }
   ],
   "source": [
    "plot_fit_summary(data['fit'], 1)\n",
    "plt.savefig('image/auu_cos.pdf', bbox_inches='tight')"
   ]
  },
  {
   "cell_type": "code",
   "execution_count": 8,
   "metadata": {},
   "outputs": [
    {
     "data": {
      "image/png": "[encoded data removed]",
      "text/plain": [
       "<Figure size 720x648 with 4 Axes>"
      ]
     },
     "metadata": {},
     "output_type": "display_data"
    }
   ],
   "source": [
    "plot_fit_summary(data['fit'], 2)\n",
    "plt.savefig('image/auu_cos2.pdf', bbox_inches='tight')"
   ]
  },
  {
   "cell_type": "markdown",
   "metadata": {
    "collapsed": true
   },
   "source": [
    "### Compare With/Without Momentum Cut\n",
    "The systematic coming from the kaon momentum is very important, below I plot the difference in the two results."
   ]
  },
  {
   "cell_type": "code",
   "execution_count": 9,
   "metadata": {},
   "outputs": [
    {
     "ename": "IOError",
     "evalue": "File database/fit/variation_p_mes_0.csv does not exist",
     "output_type": "error",
     "traceback": [
      "\u001b[0;31m---------------------------------------------------------------------------\u001b[0m",
      "\u001b[0;31mIOError\u001b[0m                                   Traceback (most recent call last)",
      "\u001b[0;32m<ipython-input-9-776d430331f8>\u001b[0m in \u001b[0;36m<module>\u001b[0;34m()\u001b[0m\n\u001b[1;32m      1\u001b[0m \u001b[0mdata\u001b[0m\u001b[0;34m[\u001b[0m\u001b[0;34m'kaon_momentum_cut'\u001b[0m\u001b[0;34m]\u001b[0m \u001b[0;34m=\u001b[0m \u001b[0mpd\u001b[0m\u001b[0;34m.\u001b[0m\u001b[0mread_csv\u001b[0m\u001b[0;34m(\u001b[0m\u001b[0;34m'database/fit/variation_p_mes_-1.csv'\u001b[0m\u001b[0;34m)\u001b[0m\u001b[0;34m\u001b[0m\u001b[0m\n\u001b[0;32m----> 2\u001b[0;31m \u001b[0mdata\u001b[0m\u001b[0;34m[\u001b[0m\u001b[0;34m'kaon_momentum_nocut'\u001b[0m\u001b[0;34m]\u001b[0m \u001b[0;34m=\u001b[0m \u001b[0mpd\u001b[0m\u001b[0;34m.\u001b[0m\u001b[0mread_csv\u001b[0m\u001b[0;34m(\u001b[0m\u001b[0;34m'database/fit/variation_p_mes_0.csv'\u001b[0m\u001b[0;34m)\u001b[0m\u001b[0;34m\u001b[0m\u001b[0m\n\u001b[0m",
      "\u001b[0;32m/usr/local/lib/python2.7/site-packages/pandas/io/parsers.pyc\u001b[0m in \u001b[0;36mparser_f\u001b[0;34m(filepath_or_buffer, sep, delimiter, header, names, index_col, usecols, squeeze, prefix, mangle_dupe_cols, dtype, engine, converters, true_values, false_values, skipinitialspace, skiprows, nrows, na_values, keep_default_na, na_filter, verbose, skip_blank_lines, parse_dates, infer_datetime_format, keep_date_col, date_parser, dayfirst, iterator, chunksize, compression, thousands, decimal, lineterminator, quotechar, quoting, escapechar, comment, encoding, dialect, tupleize_cols, error_bad_lines, warn_bad_lines, skipfooter, skip_footer, doublequote, delim_whitespace, as_recarray, compact_ints, use_unsigned, low_memory, buffer_lines, memory_map, float_precision)\u001b[0m\n\u001b[1;32m    707\u001b[0m                     skip_blank_lines=skip_blank_lines)\n\u001b[1;32m    708\u001b[0m \u001b[0;34m\u001b[0m\u001b[0m\n\u001b[0;32m--> 709\u001b[0;31m         \u001b[0;32mreturn\u001b[0m \u001b[0m_read\u001b[0m\u001b[0;34m(\u001b[0m\u001b[0mfilepath_or_buffer\u001b[0m\u001b[0;34m,\u001b[0m \u001b[0mkwds\u001b[0m\u001b[0;34m)\u001b[0m\u001b[0;34m\u001b[0m\u001b[0m\n\u001b[0m\u001b[1;32m    710\u001b[0m \u001b[0;34m\u001b[0m\u001b[0m\n\u001b[1;32m    711\u001b[0m     \u001b[0mparser_f\u001b[0m\u001b[0;34m.\u001b[0m\u001b[0m__name__\u001b[0m \u001b[0;34m=\u001b[0m \u001b[0mname\u001b[0m\u001b[0;34m\u001b[0m\u001b[0m\n",
      "\u001b[0;32m/usr/local/lib/python2.7/site-packages/pandas/io/parsers.pyc\u001b[0m in \u001b[0;36m_read\u001b[0;34m(filepath_or_buffer, kwds)\u001b[0m\n\u001b[1;32m    447\u001b[0m \u001b[0;34m\u001b[0m\u001b[0m\n\u001b[1;32m    448\u001b[0m     \u001b[0;31m# Create the parser.\u001b[0m\u001b[0;34m\u001b[0m\u001b[0;34m\u001b[0m\u001b[0m\n\u001b[0;32m--> 449\u001b[0;31m     \u001b[0mparser\u001b[0m \u001b[0;34m=\u001b[0m \u001b[0mTextFileReader\u001b[0m\u001b[0;34m(\u001b[0m\u001b[0mfilepath_or_buffer\u001b[0m\u001b[0;34m,\u001b[0m \u001b[0;34m**\u001b[0m\u001b[0mkwds\u001b[0m\u001b[0;34m)\u001b[0m\u001b[0;34m\u001b[0m\u001b[0m\n\u001b[0m\u001b[1;32m    450\u001b[0m \u001b[0;34m\u001b[0m\u001b[0m\n\u001b[1;32m    451\u001b[0m     \u001b[0;32mif\u001b[0m \u001b[0mchunksize\u001b[0m \u001b[0;32mor\u001b[0m \u001b[0miterator\u001b[0m\u001b[0;34m:\u001b[0m\u001b[0;34m\u001b[0m\u001b[0m\n",
      "\u001b[0;32m/usr/local/lib/python2.7/site-packages/pandas/io/parsers.pyc\u001b[0m in \u001b[0;36m__init__\u001b[0;34m(self, f, engine, **kwds)\u001b[0m\n\u001b[1;32m    816\u001b[0m             \u001b[0mself\u001b[0m\u001b[0;34m.\u001b[0m\u001b[0moptions\u001b[0m\u001b[0;34m[\u001b[0m\u001b[0;34m'has_index_names'\u001b[0m\u001b[0;34m]\u001b[0m \u001b[0;34m=\u001b[0m \u001b[0mkwds\u001b[0m\u001b[0;34m[\u001b[0m\u001b[0;34m'has_index_names'\u001b[0m\u001b[0;34m]\u001b[0m\u001b[0;34m\u001b[0m\u001b[0m\n\u001b[1;32m    817\u001b[0m \u001b[0;34m\u001b[0m\u001b[0m\n\u001b[0;32m--> 818\u001b[0;31m         \u001b[0mself\u001b[0m\u001b[0;34m.\u001b[0m\u001b[0m_make_engine\u001b[0m\u001b[0;34m(\u001b[0m\u001b[0mself\u001b[0m\u001b[0;34m.\u001b[0m\u001b[0mengine\u001b[0m\u001b[0;34m)\u001b[0m\u001b[0;34m\u001b[0m\u001b[0m\n\u001b[0m\u001b[1;32m    819\u001b[0m \u001b[0;34m\u001b[0m\u001b[0m\n\u001b[1;32m    820\u001b[0m     \u001b[0;32mdef\u001b[0m \u001b[0mclose\u001b[0m\u001b[0;34m(\u001b[0m\u001b[0mself\u001b[0m\u001b[0;34m)\u001b[0m\u001b[0;34m:\u001b[0m\u001b[0;34m\u001b[0m\u001b[0m\n",
      "\u001b[0;32m/usr/local/lib/python2.7/site-packages/pandas/io/parsers.pyc\u001b[0m in \u001b[0;36m_make_engine\u001b[0;34m(self, engine)\u001b[0m\n\u001b[1;32m   1047\u001b[0m     \u001b[0;32mdef\u001b[0m \u001b[0m_make_engine\u001b[0m\u001b[0;34m(\u001b[0m\u001b[0mself\u001b[0m\u001b[0;34m,\u001b[0m \u001b[0mengine\u001b[0m\u001b[0;34m=\u001b[0m\u001b[0;34m'c'\u001b[0m\u001b[0;34m)\u001b[0m\u001b[0;34m:\u001b[0m\u001b[0;34m\u001b[0m\u001b[0m\n\u001b[1;32m   1048\u001b[0m         \u001b[0;32mif\u001b[0m \u001b[0mengine\u001b[0m \u001b[0;34m==\u001b[0m \u001b[0;34m'c'\u001b[0m\u001b[0;34m:\u001b[0m\u001b[0;34m\u001b[0m\u001b[0m\n\u001b[0;32m-> 1049\u001b[0;31m             \u001b[0mself\u001b[0m\u001b[0;34m.\u001b[0m\u001b[0m_engine\u001b[0m \u001b[0;34m=\u001b[0m \u001b[0mCParserWrapper\u001b[0m\u001b[0;34m(\u001b[0m\u001b[0mself\u001b[0m\u001b[0;34m.\u001b[0m\u001b[0mf\u001b[0m\u001b[0;34m,\u001b[0m \u001b[0;34m**\u001b[0m\u001b[0mself\u001b[0m\u001b[0;34m.\u001b[0m\u001b[0moptions\u001b[0m\u001b[0;34m)\u001b[0m\u001b[0;34m\u001b[0m\u001b[0m\n\u001b[0m\u001b[1;32m   1050\u001b[0m         \u001b[0;32melse\u001b[0m\u001b[0;34m:\u001b[0m\u001b[0;34m\u001b[0m\u001b[0m\n\u001b[1;32m   1051\u001b[0m             \u001b[0;32mif\u001b[0m \u001b[0mengine\u001b[0m \u001b[0;34m==\u001b[0m \u001b[0;34m'python'\u001b[0m\u001b[0;34m:\u001b[0m\u001b[0;34m\u001b[0m\u001b[0m\n",
      "\u001b[0;32m/usr/local/lib/python2.7/site-packages/pandas/io/parsers.pyc\u001b[0m in \u001b[0;36m__init__\u001b[0;34m(self, src, **kwds)\u001b[0m\n\u001b[1;32m   1693\u001b[0m         \u001b[0mkwds\u001b[0m\u001b[0;34m[\u001b[0m\u001b[0;34m'allow_leading_cols'\u001b[0m\u001b[0;34m]\u001b[0m \u001b[0;34m=\u001b[0m \u001b[0mself\u001b[0m\u001b[0;34m.\u001b[0m\u001b[0mindex_col\u001b[0m \u001b[0;32mis\u001b[0m \u001b[0;32mnot\u001b[0m \u001b[0mFalse\u001b[0m\u001b[0;34m\u001b[0m\u001b[0m\n\u001b[1;32m   1694\u001b[0m \u001b[0;34m\u001b[0m\u001b[0m\n\u001b[0;32m-> 1695\u001b[0;31m         \u001b[0mself\u001b[0m\u001b[0;34m.\u001b[0m\u001b[0m_reader\u001b[0m \u001b[0;34m=\u001b[0m \u001b[0mparsers\u001b[0m\u001b[0;34m.\u001b[0m\u001b[0mTextReader\u001b[0m\u001b[0;34m(\u001b[0m\u001b[0msrc\u001b[0m\u001b[0;34m,\u001b[0m \u001b[0;34m**\u001b[0m\u001b[0mkwds\u001b[0m\u001b[0;34m)\u001b[0m\u001b[0;34m\u001b[0m\u001b[0m\n\u001b[0m\u001b[1;32m   1696\u001b[0m \u001b[0;34m\u001b[0m\u001b[0m\n\u001b[1;32m   1697\u001b[0m         \u001b[0;31m# XXX\u001b[0m\u001b[0;34m\u001b[0m\u001b[0;34m\u001b[0m\u001b[0m\n",
      "\u001b[0;32mpandas/_libs/parsers.pyx\u001b[0m in \u001b[0;36mpandas._libs.parsers.TextReader.__cinit__\u001b[0;34m()\u001b[0m\n",
      "\u001b[0;32mpandas/_libs/parsers.pyx\u001b[0m in \u001b[0;36mpandas._libs.parsers.TextReader._setup_parser_source\u001b[0;34m()\u001b[0m\n",
      "\u001b[0;31mIOError\u001b[0m: File database/fit/variation_p_mes_0.csv does not exist"
     ]
    }
   ],
   "source": [
    "data['kaon_momentum_cut'] = pd.read_csv('database/fit/variation_p_mes_-1.csv')\n",
    "data['kaon_momentum_nocut'] = pd.read_csv('database/fit/variation_p_mes_0.csv')"
   ]
  },
  {
   "cell_type": "code",
   "execution_count": null,
   "metadata": {
    "collapsed": true
   },
   "outputs": [],
   "source": [
    "def compare_fit_summary(results1, results2, label1, label2, par):\n",
    "\n",
    "    latex = {}\n",
    "    latex['x'] = '$x$'\n",
    "    latex['z'] = '$z$'\n",
    "    latex['pt'] = '$P_T$'\n",
    "    latex['q2'] = '$Q^2$'\n",
    "    latex['missing_mass'] = '$M_X$'\n",
    "    \n",
    "    limits = {}\n",
    "    limits['x'] = [0.0, 0.7]\n",
    "    limits['z'] = [0.0, 1.0]\n",
    "    limits['pt'] = [0.0, 1.2]\n",
    "    limits['q2'] = [0.5, 5.5]\n",
    "    limits['missing_mass'] = [1.2, 2.5]\n",
    "    \n",
    "    label = {}\n",
    "    label[0] = '$A_{LU}^{\\sin\\phi}$'\n",
    "    label[1] = '$A_{UU}^{\\cos\\phi}$'\n",
    "    label[2] = '$A_{UU}^{\\cos(2\\phi)}$'    \n",
    "    \n",
    "    axes = np.unique(results1.axis)\n",
    "    \n",
    "    n_col = 2\n",
    "    n_row = 1 + np.ceil(len(axes)/n_col)\n",
    "    plt.figure(figsize=(6*n_col, 4*n_row))\n",
    "    \n",
    "    for index, axis in enumerate(axes):\n",
    "        plt.subplot(n_row, n_col, index+1)\n",
    "        d1 = results1.query('axis == \"%s\"' % axis)\n",
    "        d2 = results2.query('axis == \"%s\"' % axis)\n",
    "        \n",
    "        plt.errorbar(d1.axis_min + 0.5*(d1.axis_max-d1.axis_min), d1['par_%d' % par], d1['err_%d' % par],\n",
    "                    linestyle='', marker='o', color='black', label=label1)        \n",
    "        plt.errorbar(d2.axis_min + 0.5*(d2.axis_max-d2.axis_min), d2['par_%d' % par], d2['err_%d' % par],\n",
    "                    linestyle='', marker='o', color='red', label=label2)\n",
    "        \n",
    "        \n",
    "        plt.xlabel(latex[axis])\n",
    "        plt.ylabel(label[par])\n",
    "        plt.ylim([-0.01, 0.06])\n",
    "        plt.xlim(limits[axis])\n",
    "        plt.axhline(0.0, color='black', alpha=0.7, linestyle='--', linewidth=1)\n",
    "        plt.legend(frameon=False)\n",
    "        \n",
    "    plt.tight_layout()"
   ]
  },
  {
   "cell_type": "code",
   "execution_count": null,
   "metadata": {},
   "outputs": [],
   "source": [
    "compare_fit_summary(\n",
    "    data['kaon_momentum_cut'], \n",
    "    data['kaon_momentum_nocut'], \n",
    "    'All $K^+$',\n",
    "    '$P_K < 2.0 GeV/c$',\n",
    "    par=0)\n",
    "plt.savefig('image/alu_sin_compare_momentum.pdf', bbox_inches='tight')"
   ]
  },
  {
   "cell_type": "code",
   "execution_count": null,
   "metadata": {},
   "outputs": [],
   "source": [
    "mm_data = data['fit'][data['fit']['axis'] == \"missing_mass\"]\n",
    "\n",
    "plt.errorbar(\n",
    "    mm_data.axis_min + 0.5*(mm_data.axis_max-mm_data.axis_min),\n",
    "    mm_data['par_0'],\n",
    "    mm_data['err_0'],\n",
    "    linestyle='',\n",
    "    marker='o',\n",
    "    color='black'\n",
    ")\n",
    "plt.axvline(1.520, linestyle='-.', linewidth=1, color='k')\n",
    "plt.xlabel('$M_X (ep \\\\rightarrow e\\'K^+X)$')\n",
    "plt.ylabel('$A_{LU}^{\\sin\\phi}$')\n",
    "plt.axhline(0.0, linestyle='-.', linewidth=1, color='k')\n",
    "plt.ylim([-0.01, 0.08])\n",
    "plt.savefig('image/alu_sin_missing_mass.pdf', bbox_inches='tight')"
   ]
  },
  {
   "cell_type": "code",
   "execution_count": null,
   "metadata": {},
   "outputs": [],
   "source": [
    "data['fit']['axis']"
   ]
  },
  {
   "cell_type": "markdown",
   "metadata": {},
   "source": [
    "# Draw Systematic Heatmaps"
   ]
  },
  {
   "cell_type": "code",
   "execution_count": null,
   "metadata": {},
   "outputs": [],
   "source": [
    "cols_to_plot = [col for col in data['fit'].columns if 'par0' in col and 'sys' in col]\n",
    "print('Plotting {}'.format(cols_to_plot))"
   ]
  },
  {
   "cell_type": "code",
   "execution_count": null,
   "metadata": {
    "collapsed": true
   },
   "outputs": [],
   "source": [
    "import seaborn as sns \n",
    "plt.rc('text', usetex=False)"
   ]
  },
  {
   "cell_type": "code",
   "execution_count": null,
   "metadata": {
    "collapsed": true
   },
   "outputs": [],
   "source": [
    "import pickle \n",
    "\n",
    "with open('systematic_sources.pkl', 'r') as inputfile:\n",
    "    systematic_sources = pickle.load(inputfile)"
   ]
  },
  {
   "cell_type": "code",
   "execution_count": null,
   "metadata": {},
   "outputs": [],
   "source": [
    "systematic_sources"
   ]
  },
  {
   "cell_type": "code",
   "execution_count": null,
   "metadata": {
    "collapsed": true
   },
   "outputs": [],
   "source": [
    "sys_sources = {}\n",
    "for key, value in systematic_sources.iteritems():\n",
    "    sys_sources[key + '_par0'] = value"
   ]
  },
  {
   "cell_type": "code",
   "execution_count": null,
   "metadata": {
    "collapsed": true
   },
   "outputs": [],
   "source": [
    "systematic_names = {}\n",
    "systematic_names['beam_pol'] = 'Beam polarization'\n",
    "systematic_names['dist_dcr1'] = 'Fid. DC R1'\n",
    "systematic_names['dist_dcr3'] = 'Fid. DC R3'\n",
    "systematic_names['dist_cc'] = 'Fid. CC'\n",
    "systematic_names['dist_ecu'] = 'EC-U'\n",
    "systematic_names['dist_ecv'] = 'EC-V'\n",
    "systematic_names['dist_ecw'] = 'EC-W'\n",
    "systematic_names['dist_vz'] = 'z-vertex'\n",
    "systematic_names['dist_ecsf'] = 'Sampling fraction'\n",
    "systematic_names['p_mes'] = 'Kaon momentum'\n",
    "systematic_names['alpha'] = 'Confidence (Kaon ID)'\n",
    "systematic_names['dist_ec_edep'] = 'EC energy deposition'\n",
    "systematic_names['missing_mass'] = 'Missing mass'\n",
    "systematic_names['dvz'] = 'Vertex difference'"
   ]
  },
  {
   "cell_type": "code",
   "execution_count": null,
   "metadata": {},
   "outputs": [],
   "source": [
    "sys_sources"
   ]
  },
  {
   "cell_type": "code",
   "execution_count": null,
   "metadata": {},
   "outputs": [],
   "source": [
    "sys_index_to_name = {}\n",
    "\n",
    "for key, val in sys_sources.iteritems():\n",
    "    sys_index_to_name[key] = systematic_names[val]\n",
    "    \n",
    "print(sys_index_to_name)"
   ]
  },
  {
   "cell_type": "code",
   "execution_count": null,
   "metadata": {},
   "outputs": [],
   "source": [
    "col_names = [sys_index_to_name[col] for col in cols_to_plot]\n",
    "print(col_names)"
   ]
  },
  {
   "cell_type": "code",
   "execution_count": null,
   "metadata": {
    "collapsed": true
   },
   "outputs": [],
   "source": [
    "def plot_systematic_heatmap(data, axis, cols_to_plot, col_names):\n",
    "    \n",
    "    latex = {}\n",
    "    latex['x'] = '$x$'\n",
    "    latex['z'] = '$z$'\n",
    "    latex['pt'] = '$P_T$'\n",
    "    latex['q2'] = '$Q^2$'\n",
    "    \n",
    "    idx = np.where(data['axis'] == axis)[0]\n",
    "\n",
    "    plt.figure( figsize=(16,9) )\n",
    "    ax = sns.heatmap(\n",
    "        data.iloc[idx][cols_to_plot].values.T, \n",
    "        annot=True, \n",
    "        cmap='Blues',\n",
    "        linewidths=1, vmin=0, vmax=0.005,\n",
    "        xticklabels=data.iloc[idx]['axis_bin'].values,\n",
    "        yticklabels=col_names\n",
    "    )\n",
    "    \n",
    "    ax.set_xlabel('Bin Index ({})'.format(latex[axis]))\n",
    "    ax.set_title('Systematic Summary')\n",
    "    return ax "
   ]
  },
  {
   "cell_type": "code",
   "execution_count": null,
   "metadata": {},
   "outputs": [],
   "source": [
    "ax = plot_systematic_heatmap(data['fit'], 'q2', cols_to_plot, col_names)"
   ]
  },
  {
   "cell_type": "code",
   "execution_count": null,
   "metadata": {
    "scrolled": false
   },
   "outputs": [],
   "source": [
    "for axis in ['x', 'q2', 'z', 'pt']:\n",
    "    _ = plot_systematic_heatmap(\n",
    "        data['fit'], \n",
    "        axis, \n",
    "        cols_to_plot, \n",
    "        col_names\n",
    "    )\n",
    "    plt.savefig('image/systematics_integrated_heatmap_{}.pdf'.format(axis), \n",
    "               bbox_inches='tight')"
   ]
  },
  {
   "cell_type": "code",
   "execution_count": null,
   "metadata": {
    "collapsed": true
   },
   "outputs": [],
   "source": []
  }
 ],
 "metadata": {
  "kernelspec": {
   "display_name": "Python 2",
   "language": "python",
   "name": "python2"
  },
  "language_info": {
   "codemirror_mode": {
    "name": "ipython",
    "version": 2
   },
   "file_extension": ".py",
   "mimetype": "text/x-python",
   "name": "python",
   "nbconvert_exporter": "python",
   "pygments_lexer": "ipython2",
   "version": "2.7.13"
  }
 },
 "nbformat": 4,
 "nbformat_minor": 2
}
