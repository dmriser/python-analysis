{
 "cells": [
  {
   "cell_type": "markdown",
   "metadata": {},
   "source": [
    "# Fitting Notebook\n",
    "Here we fit the phi-distributions from the analysis notebook.\n",
    "- Model selection - Cross validation score is used to demonstrate that fitting with the simple model is probably best.\n",
    "- Fits of $\\phi$ - Two methods of fitting the phi distributions are used, one single fit, and the bootstrap replica technique.\n",
    "- MC study of fitting procedure - This has to wait, but I am going to use MC to throw a distribution in phi that follows the error bars of our measurement.\n",
    "- Visualization\n",
    "    - fit phi distributions \n",
    "    - bootstrap histograms\n",
    "    - bootstrap score histograms\n",
    "    - integrated fit results with errors"
   ]
  },
  {
   "cell_type": "code",
   "execution_count": 14,
   "metadata": {
    "collapsed": true
   },
   "outputs": [],
   "source": [
    "import glob \n",
    "import matplotlib.pyplot as plt\n",
    "import numpy as np \n",
    "import pandas as pd \n",
    "import pymc3 as pm \n",
    "import sys\n",
    "import time \n",
    "\n",
    "from scipy.optimize import minimize\n",
    "\n",
    "%matplotlib inline\n",
    "\n",
    "plt.rc('font', family='serif')\n",
    "plt.rc('font', size=18)"
   ]
  },
  {
   "cell_type": "markdown",
   "metadata": {},
   "source": [
    "### Setup Fitting \n",
    "Our model is defined below, it can be one of several different functions.  Fitting is done by minimizing the $\\chi^2$.  Errors are estimated with the covariance matrix, or the bootstrap replica method.  Cross validation is defined, and the different models are evaluated.  "
   ]
  },
  {
   "cell_type": "code",
   "execution_count": 2,
   "metadata": {
    "collapsed": true
   },
   "outputs": [],
   "source": [
    "def chi2(y_true, y_pred, y_err):\n",
    "    return np.sum((y_true-y_pred)**2/y_err**2)"
   ]
  },
  {
   "cell_type": "code",
   "execution_count": 3,
   "metadata": {
    "collapsed": true
   },
   "outputs": [],
   "source": [
    "class Model(object):\n",
    "\n",
    "    def __init__(self):\n",
    "        self.n_pars = 1\n",
    "        self.pars   = np.zeros(shape=(self.n_pars, 1))\n",
    "        self.bounds = np.array([[-1, 1],], dtype=np.float32)\n",
    "        \n",
    "    def get_initial_parameters(self):\n",
    "        self.pars = np.random.uniform(-1.0, 1.0, size=(self.n_pars, 1))\n",
    "\n",
    "    def evaluate(self, x):\n",
    "        return 1.0\n",
    "\n",
    "class SineModel(Model):\n",
    "\n",
    "    def __init__(self):\n",
    "        Model.__init__(self)\n",
    "        self.n_pars = 1\n",
    "        self.pars = np.zeros(shape=(self.n_pars, 1), dtype=np.float32)\n",
    "        \n",
    "    def evaluate(self, x):\n",
    "        return self.pars[0]*np.sin( x*np.pi/180.0 )\n",
    "\n",
    "class FullModel(Model):\n",
    "\n",
    "    def __init__(self):\n",
    "        Model.__init__(self)\n",
    "        self.n_pars = 3\n",
    "        self.pars = np.zeros(shape=(self.n_pars, 1), dtype=np.float32)\n",
    "        self.bounds = np.array([[-1,1],\n",
    "                                [-1,1],\n",
    "                                [-1,1]],dtype=np.float32)\n",
    "    def evaluate(self, x):\n",
    "        return self.pars[0]*np.sin( x*np.pi/180.0 ) / (1 + self.pars[1]*np.cos(x*np.pi/180.0) + self.pars[2]*np.cos(2*x*np.pi/180.0))\n",
    "\n",
    "def update_model(model, pars, x):\n",
    "    model.pars = pars\n",
    "    return model.evaluate(x)"
   ]
  },
  {
   "cell_type": "code",
   "execution_count": 4,
   "metadata": {},
   "outputs": [],
   "source": [
    "model = FullModel()\n",
    "model.get_initial_parameters()"
   ]
  },
  {
   "cell_type": "code",
   "execution_count": 5,
   "metadata": {
    "collapsed": true
   },
   "outputs": [],
   "source": [
    "def single_fit(model, data, use_sys=False):\n",
    "    model.get_initial_parameters()\n",
    "    \n",
    "    if use_sys:\n",
    "        data_errs = np.sqrt(data.stat**2 + data.sys_total**2)\n",
    "    else:\n",
    "        data_errs = data.stat \n",
    "    \n",
    "    res = minimize(fun=lambda x: chi2(data.value, update_model(model, x, data.phi), data_errs), \n",
    "             x0=model.pars, bounds=model.bounds)\n",
    "\n",
    "    identity = np.identity(len(model.pars))\n",
    "    err = np.sqrt(np.array(np.matrix(res.hess_inv * identity).diagonal()))\n",
    "    #err.reshape(model.n_pars,1)\n",
    "    \n",
    "    return res.x, err[0]"
   ]
  },
  {
   "cell_type": "code",
   "execution_count": 29,
   "metadata": {
    "collapsed": true
   },
   "outputs": [],
   "source": [
    "def fit_dataset(data, model, fit_type='single', use_sys=False):\n",
    "    '''\n",
    "    inputs\n",
    "    ------\n",
    "    \n",
    "    data: a dataframe which contains the output of the analysis notebook, phi-distributions \n",
    "    \n",
    "    model: a model object\n",
    "    \n",
    "    '''\n",
    "    \n",
    "    result = {}\n",
    "    result['axis'] = []\n",
    "    result['axis_bin'] = []\n",
    "    \n",
    "    params = {}\n",
    "    params['axis'] = []\n",
    "    params['axis_bin'] = []\n",
    "    params['value'] = []\n",
    "    \n",
    "    for p in range(model.n_pars):\n",
    "        result['par_%d' % p] = []\n",
    "        result['err_%d' % p] = []\n",
    "        \n",
    "    for axis in np.unique(data.axis):\n",
    "        dsub = data.query('axis == \"%s\"' % axis)\n",
    "        \n",
    "        for bin in np.unique(dsub.axis_bin):\n",
    "            d = dsub.query('axis_bin == %d' % bin)\n",
    "            \n",
    "            \n",
    "            \n",
    "            if not use_sys:\n",
    "                data_errs = d.stat \n",
    "            else:\n",
    "                data_errs = np.sqrt(d.stat**2 + d.sys_total**2)\n",
    "                \n",
    "#            print(' Fitting %s,%d' % (axis, bin))\n",
    "            \n",
    "            # get fit to data\n",
    "            \n",
    "            if fit_type is 'single':\n",
    "                pars,errs = single_fit(model, d, use_sys)\n",
    "\n",
    "                params['value'].append(pars)\n",
    "            \n",
    "            elif fit_type is 'pymc3':\n",
    "                basic_model = pm.Model()\n",
    "\n",
    "                with basic_model:\n",
    "                    alpha = pm.Bound(pm.Normal, lower=-1, upper=1)('alpha', mu=0, sd=1)\n",
    "                    beta  = pm.Bound(pm.Normal, lower=-1, upper=1)( 'beta', mu=0, sd=0.05)\n",
    "                    gamma = pm.Bound(pm.Normal, lower=-1, upper=1)('gamma', mu=0, sd=0.05)\n",
    "    \n",
    "                    mu = alpha * np.sin( (np.pi/180) * d.phi) / (1 + \\\n",
    "                                                        beta * np.cos( (np.pi/180) * d.phi) + \\\n",
    "                                                        gamma * np.cos( 2*(np.pi/180) * d.phi)\n",
    "                                                        )\n",
    "        \n",
    "                    y = pm.Normal('y', mu=mu, sd=data_errs, observed=d.value)\n",
    "                    trace = pm.sample(1000, tune=500, progressbar=False)\n",
    "                    \n",
    "                    pars = []\n",
    "                    errs = []\n",
    "                    pars.append(np.average(trace['alpha']))\n",
    "                    pars.append(np.average(trace['beta']))\n",
    "                    pars.append(np.average(trace['gamma']))\n",
    "                    errs.append(np.std(trace['alpha']))\n",
    "                    errs.append(np.std(trace['beta']))\n",
    "                    errs.append(np.std(trace['gamma']))\n",
    "            \n",
    "                    params['value'].append(np.array([trace['alpha'],\n",
    "                                                    trace['beta'],\n",
    "                                                    trace['gamma']]))\n",
    "            \n",
    "            result['axis'].append(axis)\n",
    "            result['axis_bin'].append(bin)\n",
    "            \n",
    "            params['axis'].append(axis)\n",
    "            params['axis_bin'].append(bin)\n",
    "            \n",
    "            for p in range(model.n_pars):\n",
    "                result['par_%d' % p].append(pars[p])\n",
    "                result['err_%d' % p].append(errs[p])\n",
    "            \n",
    "    return pd.DataFrame(result), params"
   ]
  },
  {
   "cell_type": "markdown",
   "metadata": {
    "collapsed": true
   },
   "source": [
    "### Load Configurations\n",
    "There are several files with different results for phi-distributions.  "
   ]
  },
  {
   "cell_type": "code",
   "execution_count": 30,
   "metadata": {},
   "outputs": [
    {
     "name": "stdout",
     "output_type": "stream",
     "text": [
      "Found 31 files in the database.\n"
     ]
    }
   ],
   "source": [
    "database_files = glob.glob('database/phi/*.csv')\n",
    "print('Found %d files in the database.' % len(database_files))"
   ]
  },
  {
   "cell_type": "code",
   "execution_count": 31,
   "metadata": {
    "collapsed": true
   },
   "outputs": [],
   "source": [
    "def load_database_files(file_list):\n",
    "    \n",
    "    dataframe_store = {}\n",
    "    for f in file_list:\n",
    "        dataframe_store[f] = pd.read_csv(f)\n",
    "        \n",
    "    return dataframe_store"
   ]
  },
  {
   "cell_type": "code",
   "execution_count": 32,
   "metadata": {},
   "outputs": [],
   "source": [
    "dataframe_store = load_database_files(database_files)"
   ]
  },
  {
   "cell_type": "code",
   "execution_count": 33,
   "metadata": {
    "collapsed": true
   },
   "outputs": [],
   "source": [
    "def calculate_total_number_of_fits(dataframe_store):\n",
    "    total_fits = 0\n",
    "        \n",
    "    for file_name, dataframe in dataframe_store.iteritems():\n",
    "        axes = np.unique(dataframe.axis)\n",
    "        \n",
    "        for axis in axes:\n",
    "            total_fits += len(np.unique(dataframe.query('axis == \"%s\"' % axis).axis_bin))\n",
    "        \n",
    "    return total_fits "
   ]
  },
  {
   "cell_type": "code",
   "execution_count": 34,
   "metadata": {},
   "outputs": [
    {
     "name": "stdout",
     "output_type": "stream",
     "text": [
      "1240 fits will be performed.\n"
     ]
    }
   ],
   "source": [
    "total_fits = calculate_total_number_of_fits(dataframe_store)\n",
    "print('%d fits will be performed.' % total_fits)"
   ]
  },
  {
   "cell_type": "code",
   "execution_count": 35,
   "metadata": {
    "collapsed": true
   },
   "outputs": [],
   "source": [
    "def get_output_path(input_path):\n",
    "    return input_path.replace('phi', 'fit')"
   ]
  },
  {
   "cell_type": "code",
   "execution_count": 37,
   "metadata": {},
   "outputs": [
    {
     "name": "stdout",
     "output_type": "stream",
     "text": [
      "File (31/31) finished in 292.506592 seconds."
     ]
    }
   ],
   "source": [
    "index = 0\n",
    "t_start = time.time() \n",
    "for file_name in dataframe_store.keys():\n",
    "    \n",
    "    fit_df, pars = fit_dataset(dataframe_store[file_name], model, fit_type='single', use_sys=False)\n",
    "    \n",
    "    output_path = get_output_path(file_name)\n",
    "    fit_df.to_csv(output_path)\n",
    "    \n",
    "    index += 1\n",
    "\n",
    "    elapsed_time = time.time() - t_start \n",
    "    message_string = '\\rFile (%d/%d) finished in %f seconds.' % (index, len(dataframe_store.keys()), elapsed_time)\n",
    "    sys.stdout.write(message_string)\n",
    "    sys.stdout.flush()"
   ]
  },
  {
   "cell_type": "code",
   "execution_count": null,
   "metadata": {
    "collapsed": true
   },
   "outputs": [],
   "source": []
  }
 ],
 "metadata": {
  "kernelspec": {
   "display_name": "Python 2",
   "language": "python",
   "name": "python2"
  },
  "language_info": {
   "codemirror_mode": {
    "name": "ipython",
    "version": 2
   },
   "file_extension": ".py",
   "mimetype": "text/x-python",
   "name": "python",
   "nbconvert_exporter": "python",
   "pygments_lexer": "ipython2",
   "version": "2.7.13"
  }
 },
 "nbformat": 4,
 "nbformat_minor": 2
}
