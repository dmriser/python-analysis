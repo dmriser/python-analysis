{
 "cells": [
  {
   "cell_type": "markdown",
   "metadata": {},
   "source": [
    "# Overview \n",
    "This notebook uses the final results and the results from Wes Gohn's publication to compare kaon to pion BSAs."
   ]
  },
  {
   "cell_type": "code",
   "execution_count": 1,
   "metadata": {
    "collapsed": true
   },
   "outputs": [],
   "source": [
    "import matplotlib.pyplot as plt \n",
    "import numpy as np \n",
    "import pandas as pd \n",
    "\n",
    "%matplotlib inline"
   ]
  },
  {
   "cell_type": "code",
   "execution_count": 2,
   "metadata": {
    "collapsed": true
   },
   "outputs": [],
   "source": [
    "plt.rc('text', usetex=True)\n",
    "plt.rc('font', family='serif')\n",
    "plt.rc('font', size=18)"
   ]
  },
  {
   "cell_type": "code",
   "execution_count": 3,
   "metadata": {
    "collapsed": true
   },
   "outputs": [],
   "source": [
    "kaon_df = pd.read_csv('../results/fit/sys.csv')\n",
    "pion_df = pd.read_csv('../results/wes/pip.csv')"
   ]
  },
  {
   "cell_type": "code",
   "execution_count": 4,
   "metadata": {},
   "outputs": [
    {
     "data": {
      "text/html": [
       "<div>\n",
       "<style scoped>\n",
       "    .dataframe tbody tr th:only-of-type {\n",
       "        vertical-align: middle;\n",
       "    }\n",
       "\n",
       "    .dataframe tbody tr th {\n",
       "        vertical-align: top;\n",
       "    }\n",
       "\n",
       "    .dataframe thead th {\n",
       "        text-align: right;\n",
       "    }\n",
       "</style>\n",
       "<table border=\"1\" class=\"dataframe\">\n",
       "  <thead>\n",
       "    <tr style=\"text-align: right;\">\n",
       "      <th></th>\n",
       "      <th>axis</th>\n",
       "      <th>axis_bin</th>\n",
       "      <th>axis_max</th>\n",
       "      <th>axis_min</th>\n",
       "      <th>bootstraps_0</th>\n",
       "      <th>bootstraps_1</th>\n",
       "      <th>bootstraps_2</th>\n",
       "      <th>err_0</th>\n",
       "      <th>err_1</th>\n",
       "      <th>err_2</th>\n",
       "      <th>...</th>\n",
       "      <th>sys_10_par2</th>\n",
       "      <th>sys_11_par0</th>\n",
       "      <th>sys_11_par1</th>\n",
       "      <th>sys_11_par2</th>\n",
       "      <th>sys_5_par0</th>\n",
       "      <th>sys_5_par1</th>\n",
       "      <th>sys_5_par2</th>\n",
       "      <th>sys_13_par0</th>\n",
       "      <th>sys_13_par1</th>\n",
       "      <th>sys_13_par2</th>\n",
       "    </tr>\n",
       "  </thead>\n",
       "  <tbody>\n",
       "    <tr>\n",
       "      <th>0</th>\n",
       "      <td>missing_mass</td>\n",
       "      <td>0</td>\n",
       "      <td>1.723112</td>\n",
       "      <td>1.650000</td>\n",
       "      <td>[0.02881446 0.02859381 0.02437527 0.02785406 0...</td>\n",
       "      <td>[ 1.49478301e-01  5.89266159e-02  1.01252295e-...</td>\n",
       "      <td>[-8.18940923e-02  1.32150307e-01  2.34424636e-...</td>\n",
       "      <td>0.005593</td>\n",
       "      <td>0.369155</td>\n",
       "      <td>0.488191</td>\n",
       "      <td>...</td>\n",
       "      <td>0.316102</td>\n",
       "      <td>0.000149</td>\n",
       "      <td>0.084061</td>\n",
       "      <td>0.107950</td>\n",
       "      <td>0.000024</td>\n",
       "      <td>0.017506</td>\n",
       "      <td>0.028138</td>\n",
       "      <td>0.004350</td>\n",
       "      <td>0.027124</td>\n",
       "      <td>0.070417</td>\n",
       "    </tr>\n",
       "    <tr>\n",
       "      <th>1</th>\n",
       "      <td>missing_mass</td>\n",
       "      <td>1</td>\n",
       "      <td>1.799525</td>\n",
       "      <td>1.723112</td>\n",
       "      <td>[0.02471514 0.02995212 0.0195345  0.02376327 0...</td>\n",
       "      <td>[-0.08931853  0.02546486  0.7420884  -0.072617...</td>\n",
       "      <td>[ 1.11629352e-01 -1.26750499e-01 -1.00000000e+...</td>\n",
       "      <td>0.005113</td>\n",
       "      <td>0.430616</td>\n",
       "      <td>0.433593</td>\n",
       "      <td>...</td>\n",
       "      <td>0.034302</td>\n",
       "      <td>0.001927</td>\n",
       "      <td>0.088878</td>\n",
       "      <td>0.145122</td>\n",
       "      <td>0.001491</td>\n",
       "      <td>0.135698</td>\n",
       "      <td>0.081968</td>\n",
       "      <td>0.000476</td>\n",
       "      <td>0.042170</td>\n",
       "      <td>0.218915</td>\n",
       "    </tr>\n",
       "    <tr>\n",
       "      <th>2</th>\n",
       "      <td>missing_mass</td>\n",
       "      <td>2</td>\n",
       "      <td>1.878045</td>\n",
       "      <td>1.799525</td>\n",
       "      <td>[0.03009538 0.02323212 0.02822651 0.03475312 0...</td>\n",
       "      <td>[-0.02827972 -0.6252531  -0.18631013 -0.242612...</td>\n",
       "      <td>[-0.361818   -0.9538913  -0.12748204 -0.597914...</td>\n",
       "      <td>0.007581</td>\n",
       "      <td>0.465778</td>\n",
       "      <td>0.543217</td>\n",
       "      <td>...</td>\n",
       "      <td>0.029303</td>\n",
       "      <td>0.001525</td>\n",
       "      <td>0.083286</td>\n",
       "      <td>0.002691</td>\n",
       "      <td>0.000263</td>\n",
       "      <td>0.025082</td>\n",
       "      <td>0.082369</td>\n",
       "      <td>0.000346</td>\n",
       "      <td>0.034835</td>\n",
       "      <td>0.053084</td>\n",
       "    </tr>\n",
       "    <tr>\n",
       "      <th>3</th>\n",
       "      <td>missing_mass</td>\n",
       "      <td>3</td>\n",
       "      <td>1.969478</td>\n",
       "      <td>1.878045</td>\n",
       "      <td>[ 2.13152226e-02  1.44548472e-02  1.65029429e-...</td>\n",
       "      <td>[-0.32367682 -0.78950065 -0.5710194   0.797849...</td>\n",
       "      <td>[-0.47286347 -0.6568056  -0.9401116  -1.      ...</td>\n",
       "      <td>0.004329</td>\n",
       "      <td>0.494101</td>\n",
       "      <td>0.523771</td>\n",
       "      <td>...</td>\n",
       "      <td>0.032916</td>\n",
       "      <td>0.001070</td>\n",
       "      <td>0.017399</td>\n",
       "      <td>0.016500</td>\n",
       "      <td>0.000872</td>\n",
       "      <td>0.134229</td>\n",
       "      <td>0.023469</td>\n",
       "      <td>0.000415</td>\n",
       "      <td>0.083581</td>\n",
       "      <td>0.054521</td>\n",
       "    </tr>\n",
       "    <tr>\n",
       "      <th>4</th>\n",
       "      <td>missing_mass</td>\n",
       "      <td>4</td>\n",
       "      <td>2.085932</td>\n",
       "      <td>1.969478</td>\n",
       "      <td>[0.00836064 0.01237676 0.0147579  0.0196172  0...</td>\n",
       "      <td>[ 8.34170580e-01  8.37988555e-01 -5.67737579e-...</td>\n",
       "      <td>[-1.         -1.         -0.9221786  -0.993653...</td>\n",
       "      <td>0.005065</td>\n",
       "      <td>0.412947</td>\n",
       "      <td>0.717697</td>\n",
       "      <td>...</td>\n",
       "      <td>0.132247</td>\n",
       "      <td>0.000558</td>\n",
       "      <td>0.013121</td>\n",
       "      <td>0.010138</td>\n",
       "      <td>0.000463</td>\n",
       "      <td>0.117117</td>\n",
       "      <td>0.016293</td>\n",
       "      <td>0.001195</td>\n",
       "      <td>0.036647</td>\n",
       "      <td>0.025046</td>\n",
       "    </tr>\n",
       "  </tbody>\n",
       "</table>\n",
       "<p>5 rows × 55 columns</p>\n",
       "</div>"
      ],
      "text/plain": [
       "           axis  axis_bin  axis_max  axis_min  \\\n",
       "0  missing_mass         0  1.723112  1.650000   \n",
       "1  missing_mass         1  1.799525  1.723112   \n",
       "2  missing_mass         2  1.878045  1.799525   \n",
       "3  missing_mass         3  1.969478  1.878045   \n",
       "4  missing_mass         4  2.085932  1.969478   \n",
       "\n",
       "                                        bootstraps_0  \\\n",
       "0  [0.02881446 0.02859381 0.02437527 0.02785406 0...   \n",
       "1  [0.02471514 0.02995212 0.0195345  0.02376327 0...   \n",
       "2  [0.03009538 0.02323212 0.02822651 0.03475312 0...   \n",
       "3  [ 2.13152226e-02  1.44548472e-02  1.65029429e-...   \n",
       "4  [0.00836064 0.01237676 0.0147579  0.0196172  0...   \n",
       "\n",
       "                                        bootstraps_1  \\\n",
       "0  [ 1.49478301e-01  5.89266159e-02  1.01252295e-...   \n",
       "1  [-0.08931853  0.02546486  0.7420884  -0.072617...   \n",
       "2  [-0.02827972 -0.6252531  -0.18631013 -0.242612...   \n",
       "3  [-0.32367682 -0.78950065 -0.5710194   0.797849...   \n",
       "4  [ 8.34170580e-01  8.37988555e-01 -5.67737579e-...   \n",
       "\n",
       "                                        bootstraps_2     err_0     err_1  \\\n",
       "0  [-8.18940923e-02  1.32150307e-01  2.34424636e-...  0.005593  0.369155   \n",
       "1  [ 1.11629352e-01 -1.26750499e-01 -1.00000000e+...  0.005113  0.430616   \n",
       "2  [-0.361818   -0.9538913  -0.12748204 -0.597914...  0.007581  0.465778   \n",
       "3  [-0.47286347 -0.6568056  -0.9401116  -1.      ...  0.004329  0.494101   \n",
       "4  [-1.         -1.         -0.9221786  -0.993653...  0.005065  0.412947   \n",
       "\n",
       "      err_2     ...       sys_10_par2  sys_11_par0  sys_11_par1  sys_11_par2  \\\n",
       "0  0.488191     ...          0.316102     0.000149     0.084061     0.107950   \n",
       "1  0.433593     ...          0.034302     0.001927     0.088878     0.145122   \n",
       "2  0.543217     ...          0.029303     0.001525     0.083286     0.002691   \n",
       "3  0.523771     ...          0.032916     0.001070     0.017399     0.016500   \n",
       "4  0.717697     ...          0.132247     0.000558     0.013121     0.010138   \n",
       "\n",
       "   sys_5_par0  sys_5_par1  sys_5_par2  sys_13_par0  sys_13_par1  sys_13_par2  \n",
       "0    0.000024    0.017506    0.028138     0.004350     0.027124     0.070417  \n",
       "1    0.001491    0.135698    0.081968     0.000476     0.042170     0.218915  \n",
       "2    0.000263    0.025082    0.082369     0.000346     0.034835     0.053084  \n",
       "3    0.000872    0.134229    0.023469     0.000415     0.083581     0.054521  \n",
       "4    0.000463    0.117117    0.016293     0.001195     0.036647     0.025046  \n",
       "\n",
       "[5 rows x 55 columns]"
      ]
     },
     "execution_count": 4,
     "metadata": {},
     "output_type": "execute_result"
    }
   ],
   "source": [
    "kaon_df.head() "
   ]
  },
  {
   "cell_type": "code",
   "execution_count": 5,
   "metadata": {},
   "outputs": [
    {
     "data": {
      "text/html": [
       "<div>\n",
       "<style scoped>\n",
       "    .dataframe tbody tr th:only-of-type {\n",
       "        vertical-align: middle;\n",
       "    }\n",
       "\n",
       "    .dataframe tbody tr th {\n",
       "        vertical-align: top;\n",
       "    }\n",
       "\n",
       "    .dataframe thead th {\n",
       "        text-align: right;\n",
       "    }\n",
       "</style>\n",
       "<table border=\"1\" class=\"dataframe\">\n",
       "  <thead>\n",
       "    <tr style=\"text-align: right;\">\n",
       "      <th></th>\n",
       "      <th>axis</th>\n",
       "      <th>axis_bin</th>\n",
       "      <th>axis_value</th>\n",
       "      <th>value</th>\n",
       "      <th>stat</th>\n",
       "      <th>sys</th>\n",
       "    </tr>\n",
       "  </thead>\n",
       "  <tbody>\n",
       "    <tr>\n",
       "      <th>0</th>\n",
       "      <td>z</td>\n",
       "      <td>0</td>\n",
       "      <td>0.05</td>\n",
       "      <td>0.0059</td>\n",
       "      <td>0.0004</td>\n",
       "      <td>0.0004</td>\n",
       "    </tr>\n",
       "    <tr>\n",
       "      <th>1</th>\n",
       "      <td>z</td>\n",
       "      <td>1</td>\n",
       "      <td>0.15</td>\n",
       "      <td>0.0071</td>\n",
       "      <td>0.0009</td>\n",
       "      <td>0.0002</td>\n",
       "    </tr>\n",
       "    <tr>\n",
       "      <th>2</th>\n",
       "      <td>z</td>\n",
       "      <td>2</td>\n",
       "      <td>0.25</td>\n",
       "      <td>0.0070</td>\n",
       "      <td>0.0010</td>\n",
       "      <td>0.0010</td>\n",
       "    </tr>\n",
       "    <tr>\n",
       "      <th>3</th>\n",
       "      <td>z</td>\n",
       "      <td>3</td>\n",
       "      <td>0.35</td>\n",
       "      <td>0.0110</td>\n",
       "      <td>0.0010</td>\n",
       "      <td>0.0010</td>\n",
       "    </tr>\n",
       "    <tr>\n",
       "      <th>4</th>\n",
       "      <td>z</td>\n",
       "      <td>4</td>\n",
       "      <td>0.45</td>\n",
       "      <td>0.0150</td>\n",
       "      <td>0.0010</td>\n",
       "      <td>0.0010</td>\n",
       "    </tr>\n",
       "  </tbody>\n",
       "</table>\n",
       "</div>"
      ],
      "text/plain": [
       "  axis  axis_bin  axis_value   value    stat     sys\n",
       "0    z         0        0.05  0.0059  0.0004  0.0004\n",
       "1    z         1        0.15  0.0071  0.0009  0.0002\n",
       "2    z         2        0.25  0.0070  0.0010  0.0010\n",
       "3    z         3        0.35  0.0110  0.0010  0.0010\n",
       "4    z         4        0.45  0.0150  0.0010  0.0010"
      ]
     },
     "execution_count": 5,
     "metadata": {},
     "output_type": "execute_result"
    }
   ],
   "source": [
    "pion_df.head()"
   ]
  },
  {
   "cell_type": "code",
   "execution_count": 6,
   "metadata": {},
   "outputs": [
    {
     "name": "stdout",
     "output_type": "stream",
     "text": [
      "Index([u'axis', u'axis_bin', u'axis_max', u'axis_min', u'bootstraps_0',\n",
      "       u'bootstraps_1', u'bootstraps_2', u'err_0', u'err_1', u'err_2',\n",
      "       u'par_0', u'par_1', u'par_2', u'sys_total_0', u'sys_total_1',\n",
      "       u'sys_total_2', u'sys_1_par0', u'sys_1_par1', u'sys_1_par2',\n",
      "       u'sys_2_par0', u'sys_2_par1', u'sys_2_par2', u'sys_3_par0',\n",
      "       u'sys_3_par1', u'sys_3_par2', u'sys_4_par0', u'sys_4_par1',\n",
      "       u'sys_4_par2', u'sys_12_par0', u'sys_12_par1', u'sys_12_par2',\n",
      "       u'sys_6_par0', u'sys_6_par1', u'sys_6_par2', u'sys_7_par0',\n",
      "       u'sys_7_par1', u'sys_7_par2', u'sys_8_par0', u'sys_8_par1',\n",
      "       u'sys_8_par2', u'sys_9_par0', u'sys_9_par1', u'sys_9_par2',\n",
      "       u'sys_10_par0', u'sys_10_par1', u'sys_10_par2', u'sys_11_par0',\n",
      "       u'sys_11_par1', u'sys_11_par2', u'sys_5_par0', u'sys_5_par1',\n",
      "       u'sys_5_par2', u'sys_13_par0', u'sys_13_par1', u'sys_13_par2'],\n",
      "      dtype='object')\n"
     ]
    }
   ],
   "source": [
    "print(kaon_df.columns)"
   ]
  },
  {
   "cell_type": "code",
   "execution_count": 7,
   "metadata": {},
   "outputs": [
    {
     "name": "stdout",
     "output_type": "stream",
     "text": [
      "Index([u'axis', u'axis_bin', u'axis_value', u'value', u'stat', u'sys'], dtype='object')\n"
     ]
    }
   ],
   "source": [
    "print(pion_df.columns)"
   ]
  },
  {
   "cell_type": "markdown",
   "metadata": {},
   "source": [
    "Since the kaon dataframe doesn't have the `axis_value` column, i'll quickly add it for plotting."
   ]
  },
  {
   "cell_type": "code",
   "execution_count": 8,
   "metadata": {
    "collapsed": true
   },
   "outputs": [],
   "source": [
    "kaon_df['axis_value'] = kaon_df.axis_min + 0.5 * (kaon_df.axis_max-kaon_df.axis_min)"
   ]
  },
  {
   "cell_type": "markdown",
   "metadata": {},
   "source": [
    "Some of the names in the `kaon_df` are confusing.  I will rename the important columns and drop the rest."
   ]
  },
  {
   "cell_type": "code",
   "execution_count": 9,
   "metadata": {
    "collapsed": true
   },
   "outputs": [],
   "source": [
    "kaon_df.rename(columns={'par_0':'value', \n",
    "                        'err_0':'stat', \n",
    "                        'sys_total_0':'sys'\n",
    "                       }, inplace=True)\n",
    "\n",
    "keep_cols = pion_df.columns\n",
    "drop_cols = [col for col in kaon_df.columns if col not in keep_cols]\n",
    "kaon_df.drop(columns=drop_cols, inplace=True)"
   ]
  },
  {
   "cell_type": "code",
   "execution_count": 10,
   "metadata": {},
   "outputs": [
    {
     "data": {
      "text/html": [
       "<div>\n",
       "<style scoped>\n",
       "    .dataframe tbody tr th:only-of-type {\n",
       "        vertical-align: middle;\n",
       "    }\n",
       "\n",
       "    .dataframe tbody tr th {\n",
       "        vertical-align: top;\n",
       "    }\n",
       "\n",
       "    .dataframe thead th {\n",
       "        text-align: right;\n",
       "    }\n",
       "</style>\n",
       "<table border=\"1\" class=\"dataframe\">\n",
       "  <thead>\n",
       "    <tr style=\"text-align: right;\">\n",
       "      <th></th>\n",
       "      <th>axis</th>\n",
       "      <th>axis_bin</th>\n",
       "      <th>stat</th>\n",
       "      <th>value</th>\n",
       "      <th>sys</th>\n",
       "      <th>axis_value</th>\n",
       "    </tr>\n",
       "  </thead>\n",
       "  <tbody>\n",
       "    <tr>\n",
       "      <th>0</th>\n",
       "      <td>missing_mass</td>\n",
       "      <td>0</td>\n",
       "      <td>0.005593</td>\n",
       "      <td>0.024915</td>\n",
       "      <td>0.010933</td>\n",
       "      <td>1.686556</td>\n",
       "    </tr>\n",
       "    <tr>\n",
       "      <th>1</th>\n",
       "      <td>missing_mass</td>\n",
       "      <td>1</td>\n",
       "      <td>0.005113</td>\n",
       "      <td>0.024738</td>\n",
       "      <td>0.005877</td>\n",
       "      <td>1.761318</td>\n",
       "    </tr>\n",
       "    <tr>\n",
       "      <th>2</th>\n",
       "      <td>missing_mass</td>\n",
       "      <td>2</td>\n",
       "      <td>0.007581</td>\n",
       "      <td>0.024717</td>\n",
       "      <td>0.003953</td>\n",
       "      <td>1.838785</td>\n",
       "    </tr>\n",
       "    <tr>\n",
       "      <th>3</th>\n",
       "      <td>missing_mass</td>\n",
       "      <td>3</td>\n",
       "      <td>0.004329</td>\n",
       "      <td>0.016708</td>\n",
       "      <td>0.003362</td>\n",
       "      <td>1.923762</td>\n",
       "    </tr>\n",
       "    <tr>\n",
       "      <th>4</th>\n",
       "      <td>missing_mass</td>\n",
       "      <td>4</td>\n",
       "      <td>0.005065</td>\n",
       "      <td>0.012206</td>\n",
       "      <td>0.004821</td>\n",
       "      <td>2.027705</td>\n",
       "    </tr>\n",
       "  </tbody>\n",
       "</table>\n",
       "</div>"
      ],
      "text/plain": [
       "           axis  axis_bin      stat     value       sys  axis_value\n",
       "0  missing_mass         0  0.005593  0.024915  0.010933    1.686556\n",
       "1  missing_mass         1  0.005113  0.024738  0.005877    1.761318\n",
       "2  missing_mass         2  0.007581  0.024717  0.003953    1.838785\n",
       "3  missing_mass         3  0.004329  0.016708  0.003362    1.923762\n",
       "4  missing_mass         4  0.005065  0.012206  0.004821    2.027705"
      ]
     },
     "execution_count": 10,
     "metadata": {},
     "output_type": "execute_result"
    }
   ],
   "source": [
    "kaon_df.head()"
   ]
  },
  {
   "cell_type": "code",
   "execution_count": 11,
   "metadata": {
    "collapsed": true
   },
   "outputs": [],
   "source": [
    "pion_axes = pion_df.axis.unique()\n",
    "kaon_axes = kaon_df.axis.unique()"
   ]
  },
  {
   "cell_type": "code",
   "execution_count": 12,
   "metadata": {},
   "outputs": [
    {
     "ename": "AssertionError",
     "evalue": "",
     "output_type": "error",
     "traceback": [
      "\u001b[0;31m---------------------------------------------------------------------------\u001b[0m",
      "\u001b[0;31mAssertionError\u001b[0m                            Traceback (most recent call last)",
      "\u001b[0;32m<ipython-input-12-6aa46ff5662d>\u001b[0m in \u001b[0;36m<module>\u001b[0;34m()\u001b[0m\n\u001b[1;32m      3\u001b[0m \u001b[0;34m\u001b[0m\u001b[0m\n\u001b[1;32m      4\u001b[0m \u001b[0;32mfor\u001b[0m \u001b[0maxis\u001b[0m \u001b[0;32min\u001b[0m \u001b[0mkaon_axes\u001b[0m\u001b[0;34m:\u001b[0m\u001b[0;34m\u001b[0m\u001b[0m\n\u001b[0;32m----> 5\u001b[0;31m     \u001b[0;32massert\u001b[0m\u001b[0;34m(\u001b[0m\u001b[0maxis\u001b[0m \u001b[0;32min\u001b[0m \u001b[0mpion_axes\u001b[0m\u001b[0;34m)\u001b[0m\u001b[0;34m\u001b[0m\u001b[0m\n\u001b[0m",
      "\u001b[0;31mAssertionError\u001b[0m: "
     ]
    }
   ],
   "source": [
    "for axis in pion_axes:\n",
    "    assert(axis in kaon_axes)\n",
    "    \n",
    "for axis in kaon_axes:\n",
    "    assert(axis in pion_axes)"
   ]
  },
  {
   "cell_type": "markdown",
   "metadata": {},
   "source": [
    "The datasets have the same axes."
   ]
  },
  {
   "cell_type": "code",
   "execution_count": null,
   "metadata": {
    "collapsed": true
   },
   "outputs": [],
   "source": [
    "axes = pion_axes "
   ]
  },
  {
   "cell_type": "code",
   "execution_count": null,
   "metadata": {
    "collapsed": true
   },
   "outputs": [],
   "source": [
    "add_quad = lambda x1, x2: np.sqrt(x1**2 + x2**2)\n",
    "\n",
    "def plot_compare(pion_df, kaon_df, axis_name, ax):\n",
    "    \n",
    "    xlims = {\n",
    "        'x' :[0.0, 0.7],\n",
    "        'q2':[0.5, 5.0],\n",
    "        'z' :[0.0, 1.1],\n",
    "        'pt':[0.0, 1.0]\n",
    "    }\n",
    "    \n",
    "    tex_labels = {\n",
    "        'x': '$x$',\n",
    "        'q2':'$Q^2 \\; [GeV^2/c^2]$',\n",
    "        'z': '$z_h$',\n",
    "        'pt':'$P_T \\; [GeV/c]$'\n",
    "    }\n",
    "    \n",
    "    ax.errorbar(pion_df[pion_df.axis == axis_name].axis_value, \n",
    "                    pion_df[pion_df.axis == axis_name].value,\n",
    "                    add_quad(pion_df[pion_df.axis == axis_name].stat, pion_df[pion_df.axis == axis_name].sys),\n",
    "                   linestyle='', marker='o', label='E1-F $\\pi^+$ (Gohn 2014)',\n",
    "               color='black')\n",
    "    ax.errorbar(kaon_df[kaon_df.axis == axis_name].axis_value, \n",
    "                    kaon_df[kaon_df.axis == axis_name].value,\n",
    "                    add_quad(kaon_df[kaon_df.axis == axis_name].stat, kaon_df[kaon_df.axis == axis_name].sys), \n",
    "                   linestyle='', marker='v', label='E1-F $K^+$',\n",
    "               color='red')\n",
    "    ax.set_ylim([-0.01, 0.08])\n",
    "    ax.set_xlim(xlims[axis_name])\n",
    "    ax.set_xlabel(tex_labels[axis_name])\n",
    "    ax.legend(frameon=False)\n",
    "    \n",
    "def plot_pions(pion_df, axis_name, ax):\n",
    "    \n",
    "    xlims = {\n",
    "        'x' :[0.0, 0.7],\n",
    "        'q2':[0.5, 5.0],\n",
    "        'z' :[0.0, 1.1],\n",
    "        'pt':[0.0, 1.0]\n",
    "    }\n",
    "    \n",
    "    tex_labels = {\n",
    "        'x': '$x$',\n",
    "        'q2':'$Q^2 \\; [GeV^2/c^2]$',\n",
    "        'z': '$z_h$',\n",
    "        'pt':'$P_T \\; [GeV/c]$'\n",
    "    }\n",
    "    \n",
    "    ax.errorbar(pion_df[pion_df.axis == axis_name].axis_value, \n",
    "                    pion_df[pion_df.axis == axis_name].value,\n",
    "                    add_quad(pion_df[pion_df.axis == axis_name].stat, pion_df[pion_df.axis == axis_name].sys),\n",
    "                   linestyle='', marker='o', label='E1-F $\\pi^+$ (Gohn 2014)',\n",
    "               color='black')\n",
    "    ax.axhline(0.0, color='black', linestyle='--', linewidth=1)\n",
    "    ax.set_ylim([-0.01, 0.08])\n",
    "    ax.set_xlim(xlims[axis_name])\n",
    "    ax.set_xlabel(tex_labels[axis_name])\n",
    "    ax.legend(frameon=False)"
   ]
  },
  {
   "cell_type": "code",
   "execution_count": null,
   "metadata": {
    "scrolled": false
   },
   "outputs": [],
   "source": [
    "fig, axs = plt.subplots(1, 2, figsize=(12,4), sharey=True)\n",
    "fig.subplots_adjust(wspace=0)\n",
    "plot_compare(pion_df, kaon_df, 'x', axs[0])\n",
    "plot_compare(pion_df, kaon_df, 'q2', axs[1])\n",
    "\n",
    "fig.savefig('../image/compare-pion-xq2.pdf', bbox_inches='tight')"
   ]
  },
  {
   "cell_type": "code",
   "execution_count": null,
   "metadata": {},
   "outputs": [],
   "source": [
    "fig, axs = plt.subplots(1, 2, figsize=(12,4), sharey=True)\n",
    "fig.subplots_adjust(wspace=0)\n",
    "plot_compare(pion_df, kaon_df, 'z', axs[0])\n",
    "plot_compare(pion_df, kaon_df, 'pt', axs[1])\n",
    "\n",
    "fig.savefig('../image/compare-pion-zpt.pdf', bbox_inches='tight')"
   ]
  },
  {
   "cell_type": "code",
   "execution_count": null,
   "metadata": {},
   "outputs": [],
   "source": [
    "fig, axs = plt.subplots(1, 4, figsize=(18,6), sharey=True)\n",
    "fig.subplots_adjust(wspace=0)\n",
    "\n",
    "plot_pions(pion_df, 'x', axs[0])\n",
    "plot_pions(pion_df, 'q2', axs[1])\n",
    "plot_pions(pion_df, 'z', axs[2])\n",
    "plot_pions(pion_df, 'pt', axs[3])\n",
    "\n",
    "axs[0].set_ylabel('$A_{LU}^{\\sin\\phi}$')\n",
    "\n",
    "fig.savefig('../image/compare-pion-zpt.pdf', bbox_inches='tight')"
   ]
  },
  {
   "cell_type": "code",
   "execution_count": null,
   "metadata": {
    "collapsed": true
   },
   "outputs": [],
   "source": []
  }
 ],
 "metadata": {
  "kernelspec": {
   "display_name": "Python 2",
   "language": "python",
   "name": "python2"
  },
  "language_info": {
   "codemirror_mode": {
    "name": "ipython",
    "version": 2
   },
   "file_extension": ".py",
   "mimetype": "text/x-python",
   "name": "python",
   "nbconvert_exporter": "python",
   "pygments_lexer": "ipython2",
   "version": "2.7.13"
  }
 },
 "nbformat": 4,
 "nbformat_minor": 2
}
