{
 "cells": [
  {
   "cell_type": "markdown",
   "metadata": {},
   "source": [
    "# Overview \n",
    "This notebook uses the final results and the results from Wes Gohn's publication to compare kaon to pion BSAs."
   ]
  },
  {
   "cell_type": "code",
   "execution_count": 1,
   "metadata": {
    "collapsed": true
   },
   "outputs": [],
   "source": [
    "import matplotlib.pyplot as plt \n",
    "import numpy as np \n",
    "import pandas as pd \n",
    "\n",
    "%matplotlib inline"
   ]
  },
  {
   "cell_type": "code",
   "execution_count": 2,
   "metadata": {
    "collapsed": true
   },
   "outputs": [],
   "source": [
    "plt.rc('text', usetex=True)\n",
    "plt.rc('font', family='serif')\n",
    "plt.rc('font', size=16)"
   ]
  },
  {
   "cell_type": "code",
   "execution_count": 3,
   "metadata": {
    "collapsed": true
   },
   "outputs": [],
   "source": [
    "kaon_df = pd.read_csv('../results/fit/sys.csv')\n",
    "pion_df = pd.read_csv('../results/wes/pip.csv')"
   ]
  },
  {
   "cell_type": "code",
   "execution_count": 4,
   "metadata": {},
   "outputs": [
    {
     "data": {
      "text/html": [
       "<div>\n",
       "<style scoped>\n",
       "    .dataframe tbody tr th:only-of-type {\n",
       "        vertical-align: middle;\n",
       "    }\n",
       "\n",
       "    .dataframe tbody tr th {\n",
       "        vertical-align: top;\n",
       "    }\n",
       "\n",
       "    .dataframe thead th {\n",
       "        text-align: right;\n",
       "    }\n",
       "</style>\n",
       "<table border=\"1\" class=\"dataframe\">\n",
       "  <thead>\n",
       "    <tr style=\"text-align: right;\">\n",
       "      <th></th>\n",
       "      <th>axis</th>\n",
       "      <th>axis_bin</th>\n",
       "      <th>axis_max</th>\n",
       "      <th>axis_min</th>\n",
       "      <th>bootstraps_0</th>\n",
       "      <th>bootstraps_1</th>\n",
       "      <th>bootstraps_2</th>\n",
       "      <th>err_0</th>\n",
       "      <th>err_1</th>\n",
       "      <th>err_2</th>\n",
       "      <th>...</th>\n",
       "      <th>sys_9_par2</th>\n",
       "      <th>sys_10_par0</th>\n",
       "      <th>sys_10_par1</th>\n",
       "      <th>sys_10_par2</th>\n",
       "      <th>sys_5_par0</th>\n",
       "      <th>sys_5_par1</th>\n",
       "      <th>sys_5_par2</th>\n",
       "      <th>sys_12_par0</th>\n",
       "      <th>sys_12_par1</th>\n",
       "      <th>sys_12_par2</th>\n",
       "    </tr>\n",
       "  </thead>\n",
       "  <tbody>\n",
       "    <tr>\n",
       "      <th>0</th>\n",
       "      <td>pt</td>\n",
       "      <td>0</td>\n",
       "      <td>0.202108</td>\n",
       "      <td>0.000284</td>\n",
       "      <td>[0.02112577 0.01516629 0.02222966 0.02541861 0...</td>\n",
       "      <td>[-5.66185191e-02  8.10683131e-01 -6.24376833e-...</td>\n",
       "      <td>[-0.70087063 -1.         -1.         -0.126798...</td>\n",
       "      <td>0.004949</td>\n",
       "      <td>0.402440</td>\n",
       "      <td>0.502509</td>\n",
       "      <td>...</td>\n",
       "      <td>0.079055</td>\n",
       "      <td>0.000614</td>\n",
       "      <td>0.009604</td>\n",
       "      <td>0.109146</td>\n",
       "      <td>0.001112</td>\n",
       "      <td>0.034396</td>\n",
       "      <td>0.005009</td>\n",
       "      <td>0.001292</td>\n",
       "      <td>0.056128</td>\n",
       "      <td>0.046611</td>\n",
       "    </tr>\n",
       "    <tr>\n",
       "      <th>1</th>\n",
       "      <td>pt</td>\n",
       "      <td>1</td>\n",
       "      <td>0.274544</td>\n",
       "      <td>0.202108</td>\n",
       "      <td>[0.02149411 0.02956919 0.02537624 0.03226038 0...</td>\n",
       "      <td>[-0.45187283 -0.69847596 -0.43178326 -0.712035...</td>\n",
       "      <td>[ 4.26855534e-01  1.58746868e-01  3.03538024e-...</td>\n",
       "      <td>0.006787</td>\n",
       "      <td>0.419746</td>\n",
       "      <td>0.514578</td>\n",
       "      <td>...</td>\n",
       "      <td>0.063613</td>\n",
       "      <td>0.001927</td>\n",
       "      <td>0.007001</td>\n",
       "      <td>0.099302</td>\n",
       "      <td>0.001162</td>\n",
       "      <td>0.075456</td>\n",
       "      <td>0.024891</td>\n",
       "      <td>0.001204</td>\n",
       "      <td>0.016761</td>\n",
       "      <td>0.018003</td>\n",
       "    </tr>\n",
       "    <tr>\n",
       "      <th>2</th>\n",
       "      <td>pt</td>\n",
       "      <td>2</td>\n",
       "      <td>0.328453</td>\n",
       "      <td>0.274544</td>\n",
       "      <td>[0.03459485 0.02658064 0.03018535 0.03224742 0...</td>\n",
       "      <td>[ 0.02906783  0.2832546  -0.42211398 -0.127548...</td>\n",
       "      <td>[-4.93517935e-01  2.81124841e-02 -1.00000000e+...</td>\n",
       "      <td>0.006886</td>\n",
       "      <td>0.390042</td>\n",
       "      <td>0.414021</td>\n",
       "      <td>...</td>\n",
       "      <td>0.044866</td>\n",
       "      <td>0.000401</td>\n",
       "      <td>0.002370</td>\n",
       "      <td>0.017121</td>\n",
       "      <td>0.000141</td>\n",
       "      <td>0.117196</td>\n",
       "      <td>0.074987</td>\n",
       "      <td>0.000248</td>\n",
       "      <td>0.053016</td>\n",
       "      <td>0.033088</td>\n",
       "    </tr>\n",
       "    <tr>\n",
       "      <th>3</th>\n",
       "      <td>pt</td>\n",
       "      <td>3</td>\n",
       "      <td>0.376169</td>\n",
       "      <td>0.328453</td>\n",
       "      <td>[0.03702559 0.03071916 0.03056136 0.02937304 0...</td>\n",
       "      <td>[ 4.59141918e-02 -2.86247075e-01 -4.26455170e-...</td>\n",
       "      <td>[-9.83478799e-02 -1.88895259e-02  1.51863173e-...</td>\n",
       "      <td>0.004717</td>\n",
       "      <td>0.362808</td>\n",
       "      <td>0.408681</td>\n",
       "      <td>...</td>\n",
       "      <td>0.055764</td>\n",
       "      <td>0.000737</td>\n",
       "      <td>0.040642</td>\n",
       "      <td>0.014913</td>\n",
       "      <td>0.000387</td>\n",
       "      <td>0.090013</td>\n",
       "      <td>0.036260</td>\n",
       "      <td>0.001358</td>\n",
       "      <td>0.042852</td>\n",
       "      <td>0.062470</td>\n",
       "    </tr>\n",
       "    <tr>\n",
       "      <th>4</th>\n",
       "      <td>pt</td>\n",
       "      <td>4</td>\n",
       "      <td>0.422123</td>\n",
       "      <td>0.376169</td>\n",
       "      <td>[0.03950341 0.04135268 0.03663637 0.0404077  0...</td>\n",
       "      <td>[ 1.75664023e-01 -5.14244974e-01  2.53101960e-...</td>\n",
       "      <td>[ 5.89679554e-02 -1.00000000e+00 -1.34876490e-...</td>\n",
       "      <td>0.008116</td>\n",
       "      <td>0.385361</td>\n",
       "      <td>0.453823</td>\n",
       "      <td>...</td>\n",
       "      <td>0.049298</td>\n",
       "      <td>0.003123</td>\n",
       "      <td>0.136573</td>\n",
       "      <td>0.010682</td>\n",
       "      <td>0.000198</td>\n",
       "      <td>0.032894</td>\n",
       "      <td>0.061848</td>\n",
       "      <td>0.001299</td>\n",
       "      <td>0.047579</td>\n",
       "      <td>0.033199</td>\n",
       "    </tr>\n",
       "  </tbody>\n",
       "</table>\n",
       "<p>5 rows × 52 columns</p>\n",
       "</div>"
      ],
      "text/plain": [
       "  axis  axis_bin  axis_max  axis_min  \\\n",
       "0   pt         0  0.202108  0.000284   \n",
       "1   pt         1  0.274544  0.202108   \n",
       "2   pt         2  0.328453  0.274544   \n",
       "3   pt         3  0.376169  0.328453   \n",
       "4   pt         4  0.422123  0.376169   \n",
       "\n",
       "                                        bootstraps_0  \\\n",
       "0  [0.02112577 0.01516629 0.02222966 0.02541861 0...   \n",
       "1  [0.02149411 0.02956919 0.02537624 0.03226038 0...   \n",
       "2  [0.03459485 0.02658064 0.03018535 0.03224742 0...   \n",
       "3  [0.03702559 0.03071916 0.03056136 0.02937304 0...   \n",
       "4  [0.03950341 0.04135268 0.03663637 0.0404077  0...   \n",
       "\n",
       "                                        bootstraps_1  \\\n",
       "0  [-5.66185191e-02  8.10683131e-01 -6.24376833e-...   \n",
       "1  [-0.45187283 -0.69847596 -0.43178326 -0.712035...   \n",
       "2  [ 0.02906783  0.2832546  -0.42211398 -0.127548...   \n",
       "3  [ 4.59141918e-02 -2.86247075e-01 -4.26455170e-...   \n",
       "4  [ 1.75664023e-01 -5.14244974e-01  2.53101960e-...   \n",
       "\n",
       "                                        bootstraps_2     err_0     err_1  \\\n",
       "0  [-0.70087063 -1.         -1.         -0.126798...  0.004949  0.402440   \n",
       "1  [ 4.26855534e-01  1.58746868e-01  3.03538024e-...  0.006787  0.419746   \n",
       "2  [-4.93517935e-01  2.81124841e-02 -1.00000000e+...  0.006886  0.390042   \n",
       "3  [-9.83478799e-02 -1.88895259e-02  1.51863173e-...  0.004717  0.362808   \n",
       "4  [ 5.89679554e-02 -1.00000000e+00 -1.34876490e-...  0.008116  0.385361   \n",
       "\n",
       "      err_2     ...       sys_9_par2  sys_10_par0  sys_10_par1  sys_10_par2  \\\n",
       "0  0.502509     ...         0.079055     0.000614     0.009604     0.109146   \n",
       "1  0.514578     ...         0.063613     0.001927     0.007001     0.099302   \n",
       "2  0.414021     ...         0.044866     0.000401     0.002370     0.017121   \n",
       "3  0.408681     ...         0.055764     0.000737     0.040642     0.014913   \n",
       "4  0.453823     ...         0.049298     0.003123     0.136573     0.010682   \n",
       "\n",
       "   sys_5_par0  sys_5_par1  sys_5_par2  sys_12_par0  sys_12_par1  sys_12_par2  \n",
       "0    0.001112    0.034396    0.005009     0.001292     0.056128     0.046611  \n",
       "1    0.001162    0.075456    0.024891     0.001204     0.016761     0.018003  \n",
       "2    0.000141    0.117196    0.074987     0.000248     0.053016     0.033088  \n",
       "3    0.000387    0.090013    0.036260     0.001358     0.042852     0.062470  \n",
       "4    0.000198    0.032894    0.061848     0.001299     0.047579     0.033199  \n",
       "\n",
       "[5 rows x 52 columns]"
      ]
     },
     "execution_count": 4,
     "metadata": {},
     "output_type": "execute_result"
    }
   ],
   "source": [
    "kaon_df.head() "
   ]
  },
  {
   "cell_type": "code",
   "execution_count": 5,
   "metadata": {},
   "outputs": [
    {
     "data": {
      "text/html": [
       "<div>\n",
       "<style scoped>\n",
       "    .dataframe tbody tr th:only-of-type {\n",
       "        vertical-align: middle;\n",
       "    }\n",
       "\n",
       "    .dataframe tbody tr th {\n",
       "        vertical-align: top;\n",
       "    }\n",
       "\n",
       "    .dataframe thead th {\n",
       "        text-align: right;\n",
       "    }\n",
       "</style>\n",
       "<table border=\"1\" class=\"dataframe\">\n",
       "  <thead>\n",
       "    <tr style=\"text-align: right;\">\n",
       "      <th></th>\n",
       "      <th>axis</th>\n",
       "      <th>axis_bin</th>\n",
       "      <th>axis_value</th>\n",
       "      <th>value</th>\n",
       "      <th>stat</th>\n",
       "      <th>sys</th>\n",
       "    </tr>\n",
       "  </thead>\n",
       "  <tbody>\n",
       "    <tr>\n",
       "      <th>0</th>\n",
       "      <td>z</td>\n",
       "      <td>0</td>\n",
       "      <td>0.05</td>\n",
       "      <td>0.0059</td>\n",
       "      <td>0.0004</td>\n",
       "      <td>0.0004</td>\n",
       "    </tr>\n",
       "    <tr>\n",
       "      <th>1</th>\n",
       "      <td>z</td>\n",
       "      <td>1</td>\n",
       "      <td>0.15</td>\n",
       "      <td>0.0071</td>\n",
       "      <td>0.0009</td>\n",
       "      <td>0.0002</td>\n",
       "    </tr>\n",
       "    <tr>\n",
       "      <th>2</th>\n",
       "      <td>z</td>\n",
       "      <td>2</td>\n",
       "      <td>0.25</td>\n",
       "      <td>0.0070</td>\n",
       "      <td>0.0010</td>\n",
       "      <td>0.0010</td>\n",
       "    </tr>\n",
       "    <tr>\n",
       "      <th>3</th>\n",
       "      <td>z</td>\n",
       "      <td>3</td>\n",
       "      <td>0.35</td>\n",
       "      <td>0.0110</td>\n",
       "      <td>0.0010</td>\n",
       "      <td>0.0010</td>\n",
       "    </tr>\n",
       "    <tr>\n",
       "      <th>4</th>\n",
       "      <td>z</td>\n",
       "      <td>4</td>\n",
       "      <td>0.45</td>\n",
       "      <td>0.0150</td>\n",
       "      <td>0.0010</td>\n",
       "      <td>0.0010</td>\n",
       "    </tr>\n",
       "  </tbody>\n",
       "</table>\n",
       "</div>"
      ],
      "text/plain": [
       "  axis  axis_bin  axis_value   value    stat     sys\n",
       "0    z         0        0.05  0.0059  0.0004  0.0004\n",
       "1    z         1        0.15  0.0071  0.0009  0.0002\n",
       "2    z         2        0.25  0.0070  0.0010  0.0010\n",
       "3    z         3        0.35  0.0110  0.0010  0.0010\n",
       "4    z         4        0.45  0.0150  0.0010  0.0010"
      ]
     },
     "execution_count": 5,
     "metadata": {},
     "output_type": "execute_result"
    }
   ],
   "source": [
    "pion_df.head()"
   ]
  },
  {
   "cell_type": "code",
   "execution_count": 6,
   "metadata": {},
   "outputs": [
    {
     "name": "stdout",
     "output_type": "stream",
     "text": [
      "Index([u'axis', u'axis_bin', u'axis_max', u'axis_min', u'bootstraps_0',\n",
      "       u'bootstraps_1', u'bootstraps_2', u'err_0', u'err_1', u'err_2',\n",
      "       u'par_0', u'par_1', u'par_2', u'sys_total_0', u'sys_total_1',\n",
      "       u'sys_total_2', u'sys_1_par0', u'sys_1_par1', u'sys_1_par2',\n",
      "       u'sys_2_par0', u'sys_2_par1', u'sys_2_par2', u'sys_3_par0',\n",
      "       u'sys_3_par1', u'sys_3_par2', u'sys_11_par0', u'sys_11_par1',\n",
      "       u'sys_11_par2', u'sys_6_par0', u'sys_6_par1', u'sys_6_par2',\n",
      "       u'sys_4_par0', u'sys_4_par1', u'sys_4_par2', u'sys_7_par0',\n",
      "       u'sys_7_par1', u'sys_7_par2', u'sys_8_par0', u'sys_8_par1',\n",
      "       u'sys_8_par2', u'sys_9_par0', u'sys_9_par1', u'sys_9_par2',\n",
      "       u'sys_10_par0', u'sys_10_par1', u'sys_10_par2', u'sys_5_par0',\n",
      "       u'sys_5_par1', u'sys_5_par2', u'sys_12_par0', u'sys_12_par1',\n",
      "       u'sys_12_par2'],\n",
      "      dtype='object')\n"
     ]
    }
   ],
   "source": [
    "print(kaon_df.columns)"
   ]
  },
  {
   "cell_type": "code",
   "execution_count": 7,
   "metadata": {},
   "outputs": [
    {
     "name": "stdout",
     "output_type": "stream",
     "text": [
      "Index([u'axis', u'axis_bin', u'axis_value', u'value', u'stat', u'sys'], dtype='object')\n"
     ]
    }
   ],
   "source": [
    "print(pion_df.columns)"
   ]
  },
  {
   "cell_type": "markdown",
   "metadata": {},
   "source": [
    "Since the kaon dataframe doesn't have the `axis_value` column, i'll quickly add it for plotting."
   ]
  },
  {
   "cell_type": "code",
   "execution_count": 8,
   "metadata": {
    "collapsed": true
   },
   "outputs": [],
   "source": [
    "kaon_df['axis_value'] = kaon_df.axis_min + 0.5 * (kaon_df.axis_max-kaon_df.axis_min)"
   ]
  },
  {
   "cell_type": "markdown",
   "metadata": {},
   "source": [
    "Some of the names in the `kaon_df` are confusing.  I will rename the important columns and drop the rest."
   ]
  },
  {
   "cell_type": "code",
   "execution_count": 9,
   "metadata": {
    "collapsed": true
   },
   "outputs": [],
   "source": [
    "kaon_df.rename(columns={'par_0':'value', \n",
    "                        'err_0':'stat', \n",
    "                        'sys_total_0':'sys'\n",
    "                       }, inplace=True)\n",
    "\n",
    "keep_cols = pion_df.columns\n",
    "drop_cols = [col for col in kaon_df.columns if col not in keep_cols]\n",
    "kaon_df.drop(columns=drop_cols, inplace=True)"
   ]
  },
  {
   "cell_type": "code",
   "execution_count": 10,
   "metadata": {},
   "outputs": [
    {
     "data": {
      "text/html": [
       "<div>\n",
       "<style scoped>\n",
       "    .dataframe tbody tr th:only-of-type {\n",
       "        vertical-align: middle;\n",
       "    }\n",
       "\n",
       "    .dataframe tbody tr th {\n",
       "        vertical-align: top;\n",
       "    }\n",
       "\n",
       "    .dataframe thead th {\n",
       "        text-align: right;\n",
       "    }\n",
       "</style>\n",
       "<table border=\"1\" class=\"dataframe\">\n",
       "  <thead>\n",
       "    <tr style=\"text-align: right;\">\n",
       "      <th></th>\n",
       "      <th>axis</th>\n",
       "      <th>axis_bin</th>\n",
       "      <th>stat</th>\n",
       "      <th>value</th>\n",
       "      <th>sys</th>\n",
       "      <th>axis_value</th>\n",
       "    </tr>\n",
       "  </thead>\n",
       "  <tbody>\n",
       "    <tr>\n",
       "      <th>0</th>\n",
       "      <td>pt</td>\n",
       "      <td>0</td>\n",
       "      <td>0.004949</td>\n",
       "      <td>0.023652</td>\n",
       "      <td>0.003667</td>\n",
       "      <td>0.101196</td>\n",
       "    </tr>\n",
       "    <tr>\n",
       "      <th>1</th>\n",
       "      <td>pt</td>\n",
       "      <td>1</td>\n",
       "      <td>0.006787</td>\n",
       "      <td>0.026010</td>\n",
       "      <td>0.005101</td>\n",
       "      <td>0.238326</td>\n",
       "    </tr>\n",
       "    <tr>\n",
       "      <th>2</th>\n",
       "      <td>pt</td>\n",
       "      <td>2</td>\n",
       "      <td>0.006886</td>\n",
       "      <td>0.029503</td>\n",
       "      <td>0.005290</td>\n",
       "      <td>0.301499</td>\n",
       "    </tr>\n",
       "    <tr>\n",
       "      <th>3</th>\n",
       "      <td>pt</td>\n",
       "      <td>3</td>\n",
       "      <td>0.004717</td>\n",
       "      <td>0.034613</td>\n",
       "      <td>0.003677</td>\n",
       "      <td>0.352311</td>\n",
       "    </tr>\n",
       "    <tr>\n",
       "      <th>4</th>\n",
       "      <td>pt</td>\n",
       "      <td>4</td>\n",
       "      <td>0.008116</td>\n",
       "      <td>0.034932</td>\n",
       "      <td>0.005990</td>\n",
       "      <td>0.399146</td>\n",
       "    </tr>\n",
       "  </tbody>\n",
       "</table>\n",
       "</div>"
      ],
      "text/plain": [
       "  axis  axis_bin      stat     value       sys  axis_value\n",
       "0   pt         0  0.004949  0.023652  0.003667    0.101196\n",
       "1   pt         1  0.006787  0.026010  0.005101    0.238326\n",
       "2   pt         2  0.006886  0.029503  0.005290    0.301499\n",
       "3   pt         3  0.004717  0.034613  0.003677    0.352311\n",
       "4   pt         4  0.008116  0.034932  0.005990    0.399146"
      ]
     },
     "execution_count": 10,
     "metadata": {},
     "output_type": "execute_result"
    }
   ],
   "source": [
    "kaon_df.head()"
   ]
  },
  {
   "cell_type": "code",
   "execution_count": 11,
   "metadata": {
    "collapsed": true
   },
   "outputs": [],
   "source": [
    "pion_axes = pion_df.axis.unique()\n",
    "kaon_axes = kaon_df.axis.unique()"
   ]
  },
  {
   "cell_type": "code",
   "execution_count": 12,
   "metadata": {
    "collapsed": true
   },
   "outputs": [],
   "source": [
    "for axis in pion_axes:\n",
    "    assert(axis in kaon_axes)\n",
    "    \n",
    "for axis in kaon_axes:\n",
    "    assert(axis in pion_axes)"
   ]
  },
  {
   "cell_type": "markdown",
   "metadata": {},
   "source": [
    "The datasets have the same axes."
   ]
  },
  {
   "cell_type": "code",
   "execution_count": 13,
   "metadata": {
    "collapsed": true
   },
   "outputs": [],
   "source": [
    "axes = pion_axes "
   ]
  },
  {
   "cell_type": "code",
   "execution_count": 14,
   "metadata": {
    "collapsed": true
   },
   "outputs": [],
   "source": [
    "add_quad = lambda x1, x2: np.sqrt(x1**2 + x2**2)\n",
    "\n",
    "def plot_compare(pion_df, kaon_df, axis_name, ax):\n",
    "    \n",
    "    xlims = {\n",
    "        'x' :[0.0, 0.7],\n",
    "        'q2':[0.5, 5.0],\n",
    "        'z' :[0.0, 1.1],\n",
    "        'pt':[0.0, 1.0]\n",
    "    }\n",
    "    \n",
    "    tex_labels = {\n",
    "        'x': '$x$',\n",
    "        'q2':'$Q^2 \\; [GeV^2/c^2]$',\n",
    "        'z': '$z_h$',\n",
    "        'pt':'$P_T \\; [GeV/c]$'\n",
    "    }\n",
    "    \n",
    "    ax.errorbar(pion_df[pion_df.axis == axis_name].axis_value, \n",
    "                    pion_df[pion_df.axis == axis_name].value,\n",
    "                    add_quad(pion_df[pion_df.axis == axis_name].stat, pion_df[pion_df.axis == axis_name].sys),\n",
    "                   linestyle='', marker='o', label='E1-F $\\pi^+$ (Gohn 2014)',\n",
    "               color='black')\n",
    "    ax.errorbar(kaon_df[kaon_df.axis == axis_name].axis_value, \n",
    "                    kaon_df[kaon_df.axis == axis_name].value,\n",
    "                    add_quad(kaon_df[kaon_df.axis == axis_name].stat, kaon_df[kaon_df.axis == axis_name].sys), \n",
    "                   linestyle='', marker='v', label='E1-F $K^+$',\n",
    "               color='red')\n",
    "    ax.set_ylim([-0.01, 0.08])\n",
    "    ax.set_xlim(xlims[axis_name])\n",
    "    ax.set_xlabel(tex_labels[axis_name])\n",
    "    ax.legend(frameon=False)\n",
    "    \n",
    "def plot_ce(pion_df, kaon_df, axis_name, ax):\n",
    "    \n",
    "    xlims = {\n",
    "        'x' :[0.0, 0.7],\n",
    "        'q2':[0.5, 5.0],\n",
    "        'z' :[0.0, 1.1],\n",
    "        'pt':[0.0, 1.0]\n",
    "    }\n",
    "    \n",
    "    tex_labels = {\n",
    "        'x': '$x$',\n",
    "        'q2':'$Q^2 \\; [GeV^2/c^2]$',\n",
    "        'z': '$z_h$',\n",
    "        'pt':'$P_T \\; [GeV/c]$'\n",
    "    }\n",
    "    \n",
    "    ax.errorbar(pion_df[pion_df.axis == axis_name].axis_value, \n",
    "                    pion_df[pion_df.axis == axis_name].value,\n",
    "                    add_quad(pion_df[pion_df.axis == axis_name].stat, pion_df[pion_df.axis == axis_name].sys),\n",
    "                   linestyle='', marker='o', label='E1-F $\\pi^+$ (Gohn 2014)',\n",
    "               color='black')\n",
    "    ax.errorbar(kaon_df[kaon_df.axis == axis_name].axis_value, \n",
    "                    kaon_df[kaon_df.axis == axis_name].value,\n",
    "                    add_quad(kaon_df[kaon_df.axis == axis_name].stat, kaon_df[kaon_df.axis == axis_name].sys), \n",
    "                   linestyle='', marker='v', label='E1-F $K^+$',\n",
    "               color='red')\n",
    "    ax.set_ylim([-0.01, 0.08])\n",
    "    ax.set_xlim(xlims[axis_name])\n",
    "    ax.set_xlabel(tex_labels[axis_name])\n",
    "    ax.legend(frameon=False)"
   ]
  },
  {
   "cell_type": "code",
   "execution_count": 16,
   "metadata": {
    "scrolled": false
   },
   "outputs": [
    {
     "data": {
      "image/png": "[encoded data removed]",
      "text/plain": [
       "<Figure size 864x288 with 2 Axes>"
      ]
     },
     "metadata": {},
     "output_type": "display_data"
    }
   ],
   "source": [
    "fig, axs = plt.subplots(1, 2, figsize=(12,4), sharey=True)\n",
    "fig.subplots_adjust(wspace=0)\n",
    "plot_compare(pion_df, kaon_df, 'x', axs[0])\n",
    "plot_compare(pion_df, kaon_df, 'q2', axs[1])\n",
    "\n",
    "fig.savefig('../image/compare-pion-xq2.pdf', bbox_inches='tight')"
   ]
  },
  {
   "cell_type": "code",
   "execution_count": 17,
   "metadata": {},
   "outputs": [
    {
     "data": {
      "image/png": "[encoded data removed]",
      "text/plain": [
       "<Figure size 864x288 with 2 Axes>"
      ]
     },
     "metadata": {},
     "output_type": "display_data"
    }
   ],
   "source": [
    "fig, axs = plt.subplots(1, 2, figsize=(12,4), sharey=True)\n",
    "fig.subplots_adjust(wspace=0)\n",
    "plot_compare(pion_df, kaon_df, 'z', axs[0])\n",
    "plot_compare(pion_df, kaon_df, 'pt', axs[1])\n",
    "\n",
    "fig.savefig('../image/compare-pion-zpt.pdf', bbox_inches='tight')"
   ]
  },
  {
   "cell_type": "code",
   "execution_count": 19,
   "metadata": {},
   "outputs": [
    {
     "ename": "NameError",
     "evalue": "name 'plot_pions' is not defined",
     "output_type": "error",
     "traceback": [
      "\u001b[0;31m---------------------------------------------------------------------------\u001b[0m",
      "\u001b[0;31mNameError\u001b[0m                                 Traceback (most recent call last)",
      "\u001b[0;32m<ipython-input-19-192ee89968ee>\u001b[0m in \u001b[0;36m<module>\u001b[0;34m()\u001b[0m\n\u001b[1;32m      2\u001b[0m \u001b[0mfig\u001b[0m\u001b[0;34m.\u001b[0m\u001b[0msubplots_adjust\u001b[0m\u001b[0;34m(\u001b[0m\u001b[0mwspace\u001b[0m\u001b[0;34m=\u001b[0m\u001b[0;36m0\u001b[0m\u001b[0;34m)\u001b[0m\u001b[0;34m\u001b[0m\u001b[0m\n\u001b[1;32m      3\u001b[0m \u001b[0;34m\u001b[0m\u001b[0m\n\u001b[0;32m----> 4\u001b[0;31m \u001b[0mplot_pions\u001b[0m\u001b[0;34m(\u001b[0m\u001b[0mpion_df\u001b[0m\u001b[0;34m,\u001b[0m \u001b[0;34m'x'\u001b[0m\u001b[0;34m,\u001b[0m \u001b[0maxs\u001b[0m\u001b[0;34m[\u001b[0m\u001b[0;36m0\u001b[0m\u001b[0;34m]\u001b[0m\u001b[0;34m)\u001b[0m\u001b[0;34m\u001b[0m\u001b[0m\n\u001b[0m",
      "\u001b[0;31mNameError\u001b[0m: name 'plot_pions' is not defined"
     ]
    },
    {
     "data": {
      "image/png": "[encoded data removed]",
      "text/plain": [
       "<Figure size 1728x432 with 1 Axes>"
      ]
     },
     "metadata": {},
     "output_type": "display_data"
    }
   ],
   "source": [
    "fig, axs = plt.subplots(figsize=(24,6), sharey=True)\n",
    "fig.subplots_adjust(wspace=0)\n",
    "\n",
    "plot_pions(pion_df, 'x', axs[0])"
   ]
  },
  {
   "cell_type": "code",
   "execution_count": null,
   "metadata": {
    "collapsed": true
   },
   "outputs": [],
   "source": []
  }
 ],
 "metadata": {
  "kernelspec": {
   "display_name": "Python 2",
   "language": "python",
   "name": "python2"
  },
  "language_info": {
   "codemirror_mode": {
    "name": "ipython",
    "version": 2
   },
   "file_extension": ".py",
   "mimetype": "text/x-python",
   "name": "python",
   "nbconvert_exporter": "python",
   "pygments_lexer": "ipython2",
   "version": "2.7.13"
  }
 },
 "nbformat": 4,
 "nbformat_minor": 2
}
