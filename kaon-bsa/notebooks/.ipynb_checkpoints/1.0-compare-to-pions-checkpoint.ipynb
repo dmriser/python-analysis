{
 "cells": [
  {
   "cell_type": "markdown",
   "metadata": {},
   "source": [
    "# Overview \n",
    "This notebook uses the final results and the results from Wes Gohn's publication to compare kaon to pion BSAs."
   ]
  },
  {
   "cell_type": "code",
   "execution_count": 1,
   "metadata": {
    "collapsed": true
   },
   "outputs": [],
   "source": [
    "import matplotlib.pyplot as plt \n",
    "import numpy as np \n",
    "import pandas as pd \n",
    "\n",
    "%matplotlib inline"
   ]
  },
  {
   "cell_type": "code",
   "execution_count": 2,
   "metadata": {
    "collapsed": true
   },
   "outputs": [],
   "source": [
    "plt.rc('text', usetex=True)\n",
    "plt.rc('font', family='serif')\n",
    "plt.rc('font', size=18)"
   ]
  },
  {
   "cell_type": "code",
   "execution_count": 3,
   "metadata": {
    "collapsed": true
   },
   "outputs": [],
   "source": [
    "kaon_df = pd.read_csv('../results/fit/sys.csv')\n",
    "pion_df = pd.read_csv('../results/wes/pip.csv')"
   ]
  },
  {
   "cell_type": "code",
   "execution_count": 4,
   "metadata": {},
   "outputs": [
    {
     "data": {
      "text/html": [
       "<div>\n",
       "<style scoped>\n",
       "    .dataframe tbody tr th:only-of-type {\n",
       "        vertical-align: middle;\n",
       "    }\n",
       "\n",
       "    .dataframe tbody tr th {\n",
       "        vertical-align: top;\n",
       "    }\n",
       "\n",
       "    .dataframe thead th {\n",
       "        text-align: right;\n",
       "    }\n",
       "</style>\n",
       "<table border=\"1\" class=\"dataframe\">\n",
       "  <thead>\n",
       "    <tr style=\"text-align: right;\">\n",
       "      <th></th>\n",
       "      <th>axis</th>\n",
       "      <th>axis_bin</th>\n",
       "      <th>axis_max</th>\n",
       "      <th>axis_min</th>\n",
       "      <th>bootstraps_0</th>\n",
       "      <th>bootstraps_1</th>\n",
       "      <th>bootstraps_2</th>\n",
       "      <th>err_0</th>\n",
       "      <th>err_1</th>\n",
       "      <th>err_2</th>\n",
       "      <th>...</th>\n",
       "      <th>sys_10_par2</th>\n",
       "      <th>sys_11_par0</th>\n",
       "      <th>sys_11_par1</th>\n",
       "      <th>sys_11_par2</th>\n",
       "      <th>sys_5_par0</th>\n",
       "      <th>sys_5_par1</th>\n",
       "      <th>sys_5_par2</th>\n",
       "      <th>sys_13_par0</th>\n",
       "      <th>sys_13_par1</th>\n",
       "      <th>sys_13_par2</th>\n",
       "    </tr>\n",
       "  </thead>\n",
       "  <tbody>\n",
       "    <tr>\n",
       "      <th>0</th>\n",
       "      <td>missing_mass</td>\n",
       "      <td>0</td>\n",
       "      <td>1.510155</td>\n",
       "      <td>1.200002</td>\n",
       "      <td>[0.01366159 0.02182501 0.0178643  0.01249743 0...</td>\n",
       "      <td>[ 0.76271826 -0.53539646 -0.06132226  0.847018...</td>\n",
       "      <td>[-1.         -0.11566047  0.20258816 -1.      ...</td>\n",
       "      <td>0.005055</td>\n",
       "      <td>0.443858</td>\n",
       "      <td>0.437474</td>\n",
       "      <td>...</td>\n",
       "      <td>0.100483</td>\n",
       "      <td>0.000070</td>\n",
       "      <td>0.105506</td>\n",
       "      <td>0.097887</td>\n",
       "      <td>0.000480</td>\n",
       "      <td>0.100099</td>\n",
       "      <td>0.138522</td>\n",
       "      <td>0.000713</td>\n",
       "      <td>0.025094</td>\n",
       "      <td>0.015964</td>\n",
       "    </tr>\n",
       "    <tr>\n",
       "      <th>1</th>\n",
       "      <td>missing_mass</td>\n",
       "      <td>1</td>\n",
       "      <td>1.665859</td>\n",
       "      <td>1.510155</td>\n",
       "      <td>[0.02167565 0.04026756 0.04665247 0.04565859 0...</td>\n",
       "      <td>[ 0.64418274 -0.6159453  -0.6914012  -0.415001...</td>\n",
       "      <td>[-1.         -1.         -0.89570236 -0.187157...</td>\n",
       "      <td>0.007256</td>\n",
       "      <td>0.396816</td>\n",
       "      <td>0.515056</td>\n",
       "      <td>...</td>\n",
       "      <td>0.033045</td>\n",
       "      <td>0.002054</td>\n",
       "      <td>0.007838</td>\n",
       "      <td>0.078959</td>\n",
       "      <td>0.001293</td>\n",
       "      <td>0.088209</td>\n",
       "      <td>0.071463</td>\n",
       "      <td>0.002359</td>\n",
       "      <td>0.048729</td>\n",
       "      <td>0.017967</td>\n",
       "    </tr>\n",
       "    <tr>\n",
       "      <th>2</th>\n",
       "      <td>missing_mass</td>\n",
       "      <td>2</td>\n",
       "      <td>1.830956</td>\n",
       "      <td>1.665859</td>\n",
       "      <td>[0.03157147 0.017839   0.02547376 0.01854351 0...</td>\n",
       "      <td>[-0.5531475   0.6743476  -0.3595048  -0.138468...</td>\n",
       "      <td>[-0.87804514 -1.          0.20927255  0.531170...</td>\n",
       "      <td>0.005346</td>\n",
       "      <td>0.384284</td>\n",
       "      <td>0.564753</td>\n",
       "      <td>...</td>\n",
       "      <td>0.005418</td>\n",
       "      <td>0.001533</td>\n",
       "      <td>0.019769</td>\n",
       "      <td>0.043248</td>\n",
       "      <td>0.001847</td>\n",
       "      <td>0.034999</td>\n",
       "      <td>0.143023</td>\n",
       "      <td>0.001729</td>\n",
       "      <td>0.033420</td>\n",
       "      <td>0.073266</td>\n",
       "    </tr>\n",
       "    <tr>\n",
       "      <th>3</th>\n",
       "      <td>missing_mass</td>\n",
       "      <td>3</td>\n",
       "      <td>2.005970</td>\n",
       "      <td>1.830956</td>\n",
       "      <td>[0.0323621  0.02634896 0.01364422 0.0182718  0...</td>\n",
       "      <td>[-0.30367035 -0.55917746 -0.91862875  0.699444...</td>\n",
       "      <td>[-0.3507193  -0.2713851   0.467974   -1.      ...</td>\n",
       "      <td>0.006830</td>\n",
       "      <td>0.482634</td>\n",
       "      <td>0.493671</td>\n",
       "      <td>...</td>\n",
       "      <td>0.016925</td>\n",
       "      <td>0.003963</td>\n",
       "      <td>0.026196</td>\n",
       "      <td>0.098234</td>\n",
       "      <td>0.000132</td>\n",
       "      <td>0.090365</td>\n",
       "      <td>0.084488</td>\n",
       "      <td>0.002290</td>\n",
       "      <td>0.054497</td>\n",
       "      <td>0.126334</td>\n",
       "    </tr>\n",
       "    <tr>\n",
       "      <th>4</th>\n",
       "      <td>missing_mass</td>\n",
       "      <td>4</td>\n",
       "      <td>2.495670</td>\n",
       "      <td>2.005970</td>\n",
       "      <td>[0.01924505 0.02356177 0.0178251  0.0193935  0...</td>\n",
       "      <td>[-0.78730536 -0.78019166 -0.27961016  0.015303...</td>\n",
       "      <td>[ 0.15794757 -0.578073    0.14397484  0.164991...</td>\n",
       "      <td>0.005205</td>\n",
       "      <td>0.476897</td>\n",
       "      <td>0.506317</td>\n",
       "      <td>...</td>\n",
       "      <td>0.019682</td>\n",
       "      <td>0.000095</td>\n",
       "      <td>0.011904</td>\n",
       "      <td>0.088592</td>\n",
       "      <td>0.000610</td>\n",
       "      <td>0.099567</td>\n",
       "      <td>0.101562</td>\n",
       "      <td>0.001190</td>\n",
       "      <td>0.078302</td>\n",
       "      <td>0.035244</td>\n",
       "    </tr>\n",
       "  </tbody>\n",
       "</table>\n",
       "<p>5 rows × 55 columns</p>\n",
       "</div>"
      ],
      "text/plain": [
       "           axis  axis_bin  axis_max  axis_min  \\\n",
       "0  missing_mass         0  1.510155  1.200002   \n",
       "1  missing_mass         1  1.665859  1.510155   \n",
       "2  missing_mass         2  1.830956  1.665859   \n",
       "3  missing_mass         3  2.005970  1.830956   \n",
       "4  missing_mass         4  2.495670  2.005970   \n",
       "\n",
       "                                        bootstraps_0  \\\n",
       "0  [0.01366159 0.02182501 0.0178643  0.01249743 0...   \n",
       "1  [0.02167565 0.04026756 0.04665247 0.04565859 0...   \n",
       "2  [0.03157147 0.017839   0.02547376 0.01854351 0...   \n",
       "3  [0.0323621  0.02634896 0.01364422 0.0182718  0...   \n",
       "4  [0.01924505 0.02356177 0.0178251  0.0193935  0...   \n",
       "\n",
       "                                        bootstraps_1  \\\n",
       "0  [ 0.76271826 -0.53539646 -0.06132226  0.847018...   \n",
       "1  [ 0.64418274 -0.6159453  -0.6914012  -0.415001...   \n",
       "2  [-0.5531475   0.6743476  -0.3595048  -0.138468...   \n",
       "3  [-0.30367035 -0.55917746 -0.91862875  0.699444...   \n",
       "4  [-0.78730536 -0.78019166 -0.27961016  0.015303...   \n",
       "\n",
       "                                        bootstraps_2     err_0     err_1  \\\n",
       "0  [-1.         -0.11566047  0.20258816 -1.      ...  0.005055  0.443858   \n",
       "1  [-1.         -1.         -0.89570236 -0.187157...  0.007256  0.396816   \n",
       "2  [-0.87804514 -1.          0.20927255  0.531170...  0.005346  0.384284   \n",
       "3  [-0.3507193  -0.2713851   0.467974   -1.      ...  0.006830  0.482634   \n",
       "4  [ 0.15794757 -0.578073    0.14397484  0.164991...  0.005205  0.476897   \n",
       "\n",
       "      err_2     ...       sys_10_par2  sys_11_par0  sys_11_par1  sys_11_par2  \\\n",
       "0  0.437474     ...          0.100483     0.000070     0.105506     0.097887   \n",
       "1  0.515056     ...          0.033045     0.002054     0.007838     0.078959   \n",
       "2  0.564753     ...          0.005418     0.001533     0.019769     0.043248   \n",
       "3  0.493671     ...          0.016925     0.003963     0.026196     0.098234   \n",
       "4  0.506317     ...          0.019682     0.000095     0.011904     0.088592   \n",
       "\n",
       "   sys_5_par0  sys_5_par1  sys_5_par2  sys_13_par0  sys_13_par1  sys_13_par2  \n",
       "0    0.000480    0.100099    0.138522     0.000713     0.025094     0.015964  \n",
       "1    0.001293    0.088209    0.071463     0.002359     0.048729     0.017967  \n",
       "2    0.001847    0.034999    0.143023     0.001729     0.033420     0.073266  \n",
       "3    0.000132    0.090365    0.084488     0.002290     0.054497     0.126334  \n",
       "4    0.000610    0.099567    0.101562     0.001190     0.078302     0.035244  \n",
       "\n",
       "[5 rows x 55 columns]"
      ]
     },
     "execution_count": 4,
     "metadata": {},
     "output_type": "execute_result"
    }
   ],
   "source": [
    "kaon_df.head() "
   ]
  },
  {
   "cell_type": "code",
   "execution_count": 5,
   "metadata": {},
   "outputs": [
    {
     "data": {
      "text/html": [
       "<div>\n",
       "<style scoped>\n",
       "    .dataframe tbody tr th:only-of-type {\n",
       "        vertical-align: middle;\n",
       "    }\n",
       "\n",
       "    .dataframe tbody tr th {\n",
       "        vertical-align: top;\n",
       "    }\n",
       "\n",
       "    .dataframe thead th {\n",
       "        text-align: right;\n",
       "    }\n",
       "</style>\n",
       "<table border=\"1\" class=\"dataframe\">\n",
       "  <thead>\n",
       "    <tr style=\"text-align: right;\">\n",
       "      <th></th>\n",
       "      <th>axis</th>\n",
       "      <th>axis_bin</th>\n",
       "      <th>axis_value</th>\n",
       "      <th>value</th>\n",
       "      <th>stat</th>\n",
       "      <th>sys</th>\n",
       "    </tr>\n",
       "  </thead>\n",
       "  <tbody>\n",
       "    <tr>\n",
       "      <th>0</th>\n",
       "      <td>z</td>\n",
       "      <td>0</td>\n",
       "      <td>0.05</td>\n",
       "      <td>0.0059</td>\n",
       "      <td>0.0004</td>\n",
       "      <td>0.0004</td>\n",
       "    </tr>\n",
       "    <tr>\n",
       "      <th>1</th>\n",
       "      <td>z</td>\n",
       "      <td>1</td>\n",
       "      <td>0.15</td>\n",
       "      <td>0.0071</td>\n",
       "      <td>0.0009</td>\n",
       "      <td>0.0002</td>\n",
       "    </tr>\n",
       "    <tr>\n",
       "      <th>2</th>\n",
       "      <td>z</td>\n",
       "      <td>2</td>\n",
       "      <td>0.25</td>\n",
       "      <td>0.0070</td>\n",
       "      <td>0.0010</td>\n",
       "      <td>0.0010</td>\n",
       "    </tr>\n",
       "    <tr>\n",
       "      <th>3</th>\n",
       "      <td>z</td>\n",
       "      <td>3</td>\n",
       "      <td>0.35</td>\n",
       "      <td>0.0110</td>\n",
       "      <td>0.0010</td>\n",
       "      <td>0.0010</td>\n",
       "    </tr>\n",
       "    <tr>\n",
       "      <th>4</th>\n",
       "      <td>z</td>\n",
       "      <td>4</td>\n",
       "      <td>0.45</td>\n",
       "      <td>0.0150</td>\n",
       "      <td>0.0010</td>\n",
       "      <td>0.0010</td>\n",
       "    </tr>\n",
       "  </tbody>\n",
       "</table>\n",
       "</div>"
      ],
      "text/plain": [
       "  axis  axis_bin  axis_value   value    stat     sys\n",
       "0    z         0        0.05  0.0059  0.0004  0.0004\n",
       "1    z         1        0.15  0.0071  0.0009  0.0002\n",
       "2    z         2        0.25  0.0070  0.0010  0.0010\n",
       "3    z         3        0.35  0.0110  0.0010  0.0010\n",
       "4    z         4        0.45  0.0150  0.0010  0.0010"
      ]
     },
     "execution_count": 5,
     "metadata": {},
     "output_type": "execute_result"
    }
   ],
   "source": [
    "pion_df.head()"
   ]
  },
  {
   "cell_type": "code",
   "execution_count": 6,
   "metadata": {},
   "outputs": [
    {
     "name": "stdout",
     "output_type": "stream",
     "text": [
      "Index([u'axis', u'axis_bin', u'axis_max', u'axis_min', u'bootstraps_0',\n",
      "       u'bootstraps_1', u'bootstraps_2', u'err_0', u'err_1', u'err_2',\n",
      "       u'par_0', u'par_1', u'par_2', u'sys_total_0', u'sys_total_1',\n",
      "       u'sys_total_2', u'sys_1_par0', u'sys_1_par1', u'sys_1_par2',\n",
      "       u'sys_2_par0', u'sys_2_par1', u'sys_2_par2', u'sys_3_par0',\n",
      "       u'sys_3_par1', u'sys_3_par2', u'sys_4_par0', u'sys_4_par1',\n",
      "       u'sys_4_par2', u'sys_12_par0', u'sys_12_par1', u'sys_12_par2',\n",
      "       u'sys_6_par0', u'sys_6_par1', u'sys_6_par2', u'sys_7_par0',\n",
      "       u'sys_7_par1', u'sys_7_par2', u'sys_8_par0', u'sys_8_par1',\n",
      "       u'sys_8_par2', u'sys_9_par0', u'sys_9_par1', u'sys_9_par2',\n",
      "       u'sys_10_par0', u'sys_10_par1', u'sys_10_par2', u'sys_11_par0',\n",
      "       u'sys_11_par1', u'sys_11_par2', u'sys_5_par0', u'sys_5_par1',\n",
      "       u'sys_5_par2', u'sys_13_par0', u'sys_13_par1', u'sys_13_par2'],\n",
      "      dtype='object')\n"
     ]
    }
   ],
   "source": [
    "print(kaon_df.columns)"
   ]
  },
  {
   "cell_type": "code",
   "execution_count": 7,
   "metadata": {},
   "outputs": [
    {
     "name": "stdout",
     "output_type": "stream",
     "text": [
      "Index([u'axis', u'axis_bin', u'axis_value', u'value', u'stat', u'sys'], dtype='object')\n"
     ]
    }
   ],
   "source": [
    "print(pion_df.columns)"
   ]
  },
  {
   "cell_type": "markdown",
   "metadata": {},
   "source": [
    "Since the kaon dataframe doesn't have the `axis_value` column, i'll quickly add it for plotting."
   ]
  },
  {
   "cell_type": "code",
   "execution_count": 8,
   "metadata": {
    "collapsed": true
   },
   "outputs": [],
   "source": [
    "kaon_df['axis_value'] = kaon_df.axis_min + 0.5 * (kaon_df.axis_max-kaon_df.axis_min)"
   ]
  },
  {
   "cell_type": "markdown",
   "metadata": {},
   "source": [
    "Some of the names in the `kaon_df` are confusing.  I will rename the important columns and drop the rest."
   ]
  },
  {
   "cell_type": "code",
   "execution_count": 9,
   "metadata": {
    "collapsed": true
   },
   "outputs": [],
   "source": [
    "kaon_df.rename(columns={'par_0':'value', \n",
    "                        'err_0':'stat', \n",
    "                        'sys_total_0':'sys'\n",
    "                       }, inplace=True)\n",
    "\n",
    "keep_cols = pion_df.columns\n",
    "drop_cols = [col for col in kaon_df.columns if col not in keep_cols]\n",
    "kaon_df.drop(columns=drop_cols, inplace=True)"
   ]
  },
  {
   "cell_type": "code",
   "execution_count": 10,
   "metadata": {},
   "outputs": [
    {
     "data": {
      "text/html": [
       "<div>\n",
       "<style scoped>\n",
       "    .dataframe tbody tr th:only-of-type {\n",
       "        vertical-align: middle;\n",
       "    }\n",
       "\n",
       "    .dataframe tbody tr th {\n",
       "        vertical-align: top;\n",
       "    }\n",
       "\n",
       "    .dataframe thead th {\n",
       "        text-align: right;\n",
       "    }\n",
       "</style>\n",
       "<table border=\"1\" class=\"dataframe\">\n",
       "  <thead>\n",
       "    <tr style=\"text-align: right;\">\n",
       "      <th></th>\n",
       "      <th>axis</th>\n",
       "      <th>axis_bin</th>\n",
       "      <th>stat</th>\n",
       "      <th>value</th>\n",
       "      <th>sys</th>\n",
       "      <th>axis_value</th>\n",
       "    </tr>\n",
       "  </thead>\n",
       "  <tbody>\n",
       "    <tr>\n",
       "      <th>0</th>\n",
       "      <td>missing_mass</td>\n",
       "      <td>0</td>\n",
       "      <td>0.005055</td>\n",
       "      <td>0.021526</td>\n",
       "      <td>0.002652</td>\n",
       "      <td>1.355079</td>\n",
       "    </tr>\n",
       "    <tr>\n",
       "      <th>1</th>\n",
       "      <td>missing_mass</td>\n",
       "      <td>1</td>\n",
       "      <td>0.007256</td>\n",
       "      <td>0.035494</td>\n",
       "      <td>0.005557</td>\n",
       "      <td>1.588007</td>\n",
       "    </tr>\n",
       "    <tr>\n",
       "      <th>2</th>\n",
       "      <td>missing_mass</td>\n",
       "      <td>2</td>\n",
       "      <td>0.005346</td>\n",
       "      <td>0.024796</td>\n",
       "      <td>0.006371</td>\n",
       "      <td>1.748407</td>\n",
       "    </tr>\n",
       "    <tr>\n",
       "      <th>3</th>\n",
       "      <td>missing_mass</td>\n",
       "      <td>3</td>\n",
       "      <td>0.006830</td>\n",
       "      <td>0.022176</td>\n",
       "      <td>0.005265</td>\n",
       "      <td>1.918463</td>\n",
       "    </tr>\n",
       "    <tr>\n",
       "      <th>4</th>\n",
       "      <td>missing_mass</td>\n",
       "      <td>4</td>\n",
       "      <td>0.005205</td>\n",
       "      <td>0.017962</td>\n",
       "      <td>0.005999</td>\n",
       "      <td>2.250820</td>\n",
       "    </tr>\n",
       "  </tbody>\n",
       "</table>\n",
       "</div>"
      ],
      "text/plain": [
       "           axis  axis_bin      stat     value       sys  axis_value\n",
       "0  missing_mass         0  0.005055  0.021526  0.002652    1.355079\n",
       "1  missing_mass         1  0.007256  0.035494  0.005557    1.588007\n",
       "2  missing_mass         2  0.005346  0.024796  0.006371    1.748407\n",
       "3  missing_mass         3  0.006830  0.022176  0.005265    1.918463\n",
       "4  missing_mass         4  0.005205  0.017962  0.005999    2.250820"
      ]
     },
     "execution_count": 10,
     "metadata": {},
     "output_type": "execute_result"
    }
   ],
   "source": [
    "kaon_df.head()"
   ]
  },
  {
   "cell_type": "code",
   "execution_count": 11,
   "metadata": {
    "collapsed": true
   },
   "outputs": [],
   "source": [
    "pion_axes = pion_df.axis.unique()\n",
    "kaon_axes = kaon_df.axis.unique()"
   ]
  },
  {
   "cell_type": "code",
   "execution_count": 12,
   "metadata": {},
   "outputs": [
    {
     "ename": "AssertionError",
     "evalue": "",
     "output_type": "error",
     "traceback": [
      "\u001b[0;31m---------------------------------------------------------------------------\u001b[0m",
      "\u001b[0;31mAssertionError\u001b[0m                            Traceback (most recent call last)",
      "\u001b[0;32m<ipython-input-12-6aa46ff5662d>\u001b[0m in \u001b[0;36m<module>\u001b[0;34m()\u001b[0m\n\u001b[1;32m      3\u001b[0m \u001b[0;34m\u001b[0m\u001b[0m\n\u001b[1;32m      4\u001b[0m \u001b[0;32mfor\u001b[0m \u001b[0maxis\u001b[0m \u001b[0;32min\u001b[0m \u001b[0mkaon_axes\u001b[0m\u001b[0;34m:\u001b[0m\u001b[0;34m\u001b[0m\u001b[0m\n\u001b[0;32m----> 5\u001b[0;31m     \u001b[0;32massert\u001b[0m\u001b[0;34m(\u001b[0m\u001b[0maxis\u001b[0m \u001b[0;32min\u001b[0m \u001b[0mpion_axes\u001b[0m\u001b[0;34m)\u001b[0m\u001b[0;34m\u001b[0m\u001b[0m\n\u001b[0m",
      "\u001b[0;31mAssertionError\u001b[0m: "
     ]
    }
   ],
   "source": [
    "for axis in pion_axes:\n",
    "    assert(axis in kaon_axes)\n",
    "    \n",
    "for axis in kaon_axes:\n",
    "    assert(axis in pion_axes)"
   ]
  },
  {
   "cell_type": "markdown",
   "metadata": {},
   "source": [
    "The datasets have the same axes."
   ]
  },
  {
   "cell_type": "code",
   "execution_count": 13,
   "metadata": {
    "collapsed": true
   },
   "outputs": [],
   "source": [
    "axes = pion_axes "
   ]
  },
  {
   "cell_type": "code",
   "execution_count": 21,
   "metadata": {
    "collapsed": true
   },
   "outputs": [],
   "source": [
    "add_quad = lambda x1, x2: np.sqrt(x1**2 + x2**2)\n",
    "\n",
    "def plot_compare(pion_df, kaon_df, axis_name, ax):\n",
    "    \n",
    "    xlims = {\n",
    "        'x' :[0.0, 0.7],\n",
    "        'q2':[0.5, 5.0],\n",
    "        'z' :[0.0, 1.1],\n",
    "        'pt':[0.0, 1.0]\n",
    "    }\n",
    "    \n",
    "    tex_labels = {\n",
    "        'x': '$x$',\n",
    "        'q2':'$Q^2 \\; [GeV^2/c^2]$',\n",
    "        'z': '$z_h$',\n",
    "        'pt':'$P_T \\; [GeV/c]$'\n",
    "    }\n",
    "    \n",
    "    ax.errorbar(pion_df[pion_df.axis == axis_name].axis_value, \n",
    "                    pion_df[pion_df.axis == axis_name].value,\n",
    "                    add_quad(pion_df[pion_df.axis == axis_name].stat, pion_df[pion_df.axis == axis_name].sys),\n",
    "                   linestyle='', marker='o', label='E1-F $\\pi^+$ (Gohn 2014)',\n",
    "               color='black')\n",
    "    ax.errorbar(kaon_df[kaon_df.axis == axis_name].axis_value, \n",
    "                    kaon_df[kaon_df.axis == axis_name].value,\n",
    "                    add_quad(kaon_df[kaon_df.axis == axis_name].stat, kaon_df[kaon_df.axis == axis_name].sys), \n",
    "                   linestyle='', marker='v', label='E1-F $K^+$',\n",
    "               color='red')\n",
    "    ax.set_ylim([-0.01, 0.08])\n",
    "    ax.set_xlim(xlims[axis_name])\n",
    "    ax.set_xlabel(tex_labels[axis_name])\n",
    "    ax.legend(frameon=False)\n",
    "    \n",
    "def plot_pions(pion_df, axis_name, ax):\n",
    "    \n",
    "    xlims = {\n",
    "        'x' :[0.0, 0.7],\n",
    "        'q2':[0.5, 5.0],\n",
    "        'z' :[0.0, 1.1],\n",
    "        'pt':[0.0, 1.0]\n",
    "    }\n",
    "    \n",
    "    tex_labels = {\n",
    "        'x': '$x$',\n",
    "        'q2':'$Q^2 \\; [GeV^2/c^2]$',\n",
    "        'z': '$z$',\n",
    "        'pt':'$P_T \\; [GeV/c]$'\n",
    "    }\n",
    "    \n",
    "    ax.errorbar(pion_df[pion_df.axis == axis_name].axis_value, \n",
    "                    pion_df[pion_df.axis == axis_name].value,\n",
    "                    add_quad(pion_df[pion_df.axis == axis_name].stat, pion_df[pion_df.axis == axis_name].sys),\n",
    "                   linestyle='', marker='o', label='E1-F $\\pi^+$ (Gohn 2014)',\n",
    "               color='black')\n",
    "    ax.axhline(0.0, color='black', linestyle='--', linewidth=1)\n",
    "    ax.set_ylim([-0.01, 0.08])\n",
    "    ax.set_xlim(xlims[axis_name])\n",
    "    ax.set_xlabel(tex_labels[axis_name])\n",
    "    ax.legend(frameon=False)"
   ]
  },
  {
   "cell_type": "code",
   "execution_count": 22,
   "metadata": {
    "scrolled": false
   },
   "outputs": [
    {
     "data": {
      "image/png": "[encoded data removed]",
      "text/plain": [
       "<Figure size 864x288 with 2 Axes>"
      ]
     },
     "metadata": {},
     "output_type": "display_data"
    }
   ],
   "source": [
    "fig, axs = plt.subplots(1, 2, figsize=(12,4), sharey=True)\n",
    "fig.subplots_adjust(wspace=0)\n",
    "plot_compare(pion_df, kaon_df, 'x', axs[0])\n",
    "plot_compare(pion_df, kaon_df, 'q2', axs[1])\n",
    "\n",
    "fig.savefig('../image/compare-pion-xq2.pdf', bbox_inches='tight')"
   ]
  },
  {
   "cell_type": "code",
   "execution_count": 23,
   "metadata": {},
   "outputs": [
    {
     "data": {
      "image/png": "[encoded data removed]",
      "text/plain": [
       "<Figure size 864x288 with 2 Axes>"
      ]
     },
     "metadata": {},
     "output_type": "display_data"
    }
   ],
   "source": [
    "fig, axs = plt.subplots(1, 2, figsize=(12,4), sharey=True)\n",
    "fig.subplots_adjust(wspace=0)\n",
    "plot_compare(pion_df, kaon_df, 'z', axs[0])\n",
    "plot_compare(pion_df, kaon_df, 'pt', axs[1])\n",
    "\n",
    "fig.savefig('../image/compare-pion-zpt.pdf', bbox_inches='tight')"
   ]
  },
  {
   "cell_type": "code",
   "execution_count": 24,
   "metadata": {},
   "outputs": [
    {
     "data": {
      "image/png": "[encoded data removed]",
      "text/plain": [
       "<Figure size 1296x432 with 4 Axes>"
      ]
     },
     "metadata": {},
     "output_type": "display_data"
    }
   ],
   "source": [
    "fig, axs = plt.subplots(1, 4, figsize=(18,6), sharey=True)\n",
    "fig.subplots_adjust(wspace=0)\n",
    "\n",
    "plot_pions(pion_df, 'x', axs[0])\n",
    "plot_pions(pion_df, 'q2', axs[1])\n",
    "plot_pions(pion_df, 'z', axs[2])\n",
    "plot_pions(pion_df, 'pt', axs[3])\n",
    "\n",
    "axs[0].set_ylabel('$A_{LU}^{\\sin\\phi}$')\n",
    "\n",
    "fig.savefig('../image/compare-pion-zpt.pdf', bbox_inches='tight')"
   ]
  },
  {
   "cell_type": "code",
   "execution_count": null,
   "metadata": {
    "collapsed": true
   },
   "outputs": [],
   "source": []
  },
  {
   "cell_type": "code",
   "execution_count": null,
   "metadata": {
    "collapsed": true
   },
   "outputs": [],
   "source": []
  }
 ],
 "metadata": {
  "kernelspec": {
   "display_name": "Python 2",
   "language": "python",
   "name": "python2"
  },
  "language_info": {
   "codemirror_mode": {
    "name": "ipython",
    "version": 2
   },
   "file_extension": ".py",
   "mimetype": "text/x-python",
   "name": "python",
   "nbconvert_exporter": "python",
   "pygments_lexer": "ipython2",
   "version": "2.7.13"
  }
 },
 "nbformat": 4,
 "nbformat_minor": 2
}
