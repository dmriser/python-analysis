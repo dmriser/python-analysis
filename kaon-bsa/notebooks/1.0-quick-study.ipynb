{
 "cells": [
  {
   "cell_type": "markdown",
   "metadata": {},
   "source": [
    "# Quick Study Notebook\n",
    "Using this notebook, a quick study of the asymmetry can be performed.  "
   ]
  },
  {
   "cell_type": "code",
   "execution_count": 1,
   "metadata": {
    "collapsed": true
   },
   "outputs": [],
   "source": [
    "import matplotlib.pyplot as plt\n",
    "import numpy as np \n",
    "import os\n",
    "import pandas as pd \n",
    "import sys \n",
    "import tempfile\n",
    "\n",
    "%matplotlib inline"
   ]
  },
  {
   "cell_type": "markdown",
   "metadata": {},
   "source": [
    "From our local package, let's import the important machinery.  Doing this makes this notebook shorter, but also more consistent.  After doing so, the configuration file is loaded and the options can be changed.  The data is then loaded.  "
   ]
  },
  {
   "cell_type": "code",
   "execution_count": 2,
   "metadata": {
    "collapsed": true
   },
   "outputs": [],
   "source": [
    "sys.path.append(os.path.normpath(os.getcwd() + '/../src/data'))\n",
    "sys.path.append(os.path.normpath(os.getcwd() + '/../src/fit'))\n",
    "import bsa, utils\n",
    "import fitter "
   ]
  },
  {
   "cell_type": "code",
   "execution_count": 3,
   "metadata": {
    "collapsed": true
   },
   "outputs": [],
   "source": [
    "config_file = '../config-laptop.json'\n",
    "config = utils.load_config(config_file)"
   ]
  },
  {
   "cell_type": "markdown",
   "metadata": {},
   "source": [
    "### Configuration\n",
    "Make any changes here before the data is loaded to test new things."
   ]
  },
  {
   "cell_type": "code",
   "execution_count": 4,
   "metadata": {},
   "outputs": [
    {
     "name": "stdout",
     "output_type": "stream",
     "text": [
      "(u'database_path', u'/Users/davidriser/repos/python-analysis/kaon-bsa/database/')\n",
      "(u'variation_file', u'/Users/davidriser/repos/python-analysis/kaon-bsa/variations-missing-mass.json')\n",
      "(u'file_compression', u'bz2')\n",
      "(u'axes', [u'x', u'z', u'pt', u'q2', u'missing_mass'])\n",
      "(u'output_filename', u'/Users/davidriser/repos/python-analysis/kaon-bsa/database/phi/sys.csv')\n",
      "(u'sample_size', None)\n",
      "(u'n_bins', 6)\n",
      "(u'systematics_file', u'/Users/davidriser/repos/python-analysis/kaon-bsa/systematic_sources.pkl')\n",
      "(u'file_path', u'/Users/davidriser/Data/inclusive/inclusive.csv')\n",
      "(u'z_range', [0.25, 0.75])\n"
     ]
    }
   ],
   "source": [
    "for key, value in config.iteritems():\n",
    "    print(key, value)"
   ]
  },
  {
   "cell_type": "code",
   "execution_count": 5,
   "metadata": {
    "collapsed": true
   },
   "outputs": [],
   "source": [
    "config['sample_size'] = None\n",
    "config['n_bins'] = 8"
   ]
  },
  {
   "cell_type": "code",
   "execution_count": 6,
   "metadata": {},
   "outputs": [
    {
     "name": "stdout",
     "output_type": "stream",
     "text": [
      "<class 'pandas.core.frame.DataFrame'>\n",
      "Int64Index: 13125592 entries, 0 to 13322465\n",
      "Data columns (total 30 columns):\n",
      "Unnamed: 0       int64\n",
      "helicity         int64\n",
      "meson_id         int64\n",
      "missing_mass     float64\n",
      "x                float64\n",
      "q2               float64\n",
      "z                float64\n",
      "pt               float64\n",
      "w                float64\n",
      "eta              float64\n",
      "phi_h            float64\n",
      "theta_h          float64\n",
      "p_ele            float64\n",
      "p_mes            float64\n",
      "phi_ele          float64\n",
      "phi_mes          float64\n",
      "theta_ele        float64\n",
      "theta_mes        float64\n",
      "dvz              float64\n",
      "alpha            float64\n",
      "dist_ecsf        float64\n",
      "dist_ec_edep     float64\n",
      "dist_vz          float64\n",
      "dist_cc_theta    float64\n",
      "dist_dcr1        float64\n",
      "dist_dcr3        float64\n",
      "dist_ecu         float64\n",
      "dist_ecv         float64\n",
      "dist_ecw         float64\n",
      "dist_cc          float64\n",
      "dtypes: float64(27), int64(3)\n",
      "memory usage: 3.0 GB\n"
     ]
    }
   ],
   "source": [
    "# Raw dataset loading\n",
    "data = utils.load_dataset(config)\n",
    "\n",
    "# Filtered data \n",
    "nom_filter = utils.build_filter(data)\n",
    "nom_data = utils.build_dataframe(data, nom_filter)\n",
    "\n",
    "# Bins for axes \n",
    "bins = bsa.setup_binning(config, nom_data)"
   ]
  },
  {
   "cell_type": "markdown",
   "metadata": {},
   "source": [
    "### Perform Calculation\n",
    "Here we simply do the calculation, getting the results in a pandas dataframe.  To make things easier, I just save it to a temp file and use the same fitting routines used in the real analysis."
   ]
  },
  {
   "cell_type": "code",
   "execution_count": 7,
   "metadata": {
    "collapsed": true
   },
   "outputs": [],
   "source": [
    "results = utils.get_results(nom_data, bins, config)\n",
    "results.to_csv('./temp_file.csv')"
   ]
  },
  {
   "cell_type": "code",
   "execution_count": 8,
   "metadata": {},
   "outputs": [
    {
     "name": "stdout",
     "output_type": "stream",
     "text": [
      "Fitting missing_mass\n",
      "Performing single fit - done in 3s\n",
      "Performing single fit - done in 4s\n",
      "Performing single fit - done in 4s\n",
      "Performing single fit - done in 4s\n",
      "Performing single fit - done in 3s\n",
      "Performing single fit - done in 3s\n",
      "Performing single fit - done in 4s\n",
      "Performing single fit - done in 3s\n",
      "Fitting pt\n",
      "Performing single fit - done in 4s\n",
      "Performing single fit - done in 3s\n",
      "Performing single fit - done in 3s\n",
      "Performing single fit - done in 3s\n",
      "Performing single fit - done in 3s\n",
      "Performing single fit - done in 4s\n",
      "Performing single fit - done in 4s\n",
      "Performing single fit - done in 4s\n",
      "Fitting q2\n",
      "Performing single fit - done in 3s\n",
      "Performing single fit - done in 3s\n",
      "Performing single fit - done in 3s\n",
      "Performing single fit - done in 4s\n",
      "Performing single fit - done in 4s\n",
      "Performing single fit - done in 4s\n",
      "Performing single fit - done in 3s\n",
      "Performing single fit - done in 4s\n",
      "Fitting x\n",
      "Performing single fit - done in 3s\n",
      "Performing single fit - done in 4s\n",
      "Performing single fit - done in 3s\n",
      "Performing single fit - done in 4s\n",
      "Performing single fit - done in 4s\n",
      "Performing single fit - done in 3s\n",
      "Performing single fit - done in 4s\n",
      "Performing single fit - done in 3s\n",
      "Fitting z\n",
      "Performing single fit - done in 4s\n",
      "Performing single fit - done in 4s\n",
      "Performing single fit - done in 4s\n",
      "Performing single fit - done in 4s\n",
      "Performing single fit - done in 3s\n",
      "Performing single fit - done in 4s\n",
      "Performing single fit - done in 3s\n",
      "Performing single fit - done in 4s\n"
     ]
    }
   ],
   "source": [
    "fitter.fit(\n",
    "    input_file = 'temp_file.csv', \n",
    "    output_file = 'temp_file_fit.csv', \n",
    "    bounds = [[-1, 1], [-0.1, 0.1], [-0.1, 0.1]], \n",
    "    n_reps = 64, \n",
    "    n_proc = 4\n",
    ")"
   ]
  },
  {
   "cell_type": "code",
   "execution_count": 9,
   "metadata": {
    "collapsed": true
   },
   "outputs": [],
   "source": [
    "fit_results = pd.read_csv('./temp_file_fit.csv')"
   ]
  },
  {
   "cell_type": "markdown",
   "metadata": {},
   "source": [
    "### Simple Plots\n",
    "Let's look at the simple results"
   ]
  },
  {
   "cell_type": "code",
   "execution_count": 10,
   "metadata": {},
   "outputs": [
    {
     "data": {
      "text/html": [
       "<div>\n",
       "<style scoped>\n",
       "    .dataframe tbody tr th:only-of-type {\n",
       "        vertical-align: middle;\n",
       "    }\n",
       "\n",
       "    .dataframe tbody tr th {\n",
       "        vertical-align: top;\n",
       "    }\n",
       "\n",
       "    .dataframe thead th {\n",
       "        text-align: right;\n",
       "    }\n",
       "</style>\n",
       "<table border=\"1\" class=\"dataframe\">\n",
       "  <thead>\n",
       "    <tr style=\"text-align: right;\">\n",
       "      <th></th>\n",
       "      <th>axis</th>\n",
       "      <th>axis_bin</th>\n",
       "      <th>axis_max</th>\n",
       "      <th>axis_min</th>\n",
       "      <th>bootstraps_0</th>\n",
       "      <th>bootstraps_1</th>\n",
       "      <th>bootstraps_2</th>\n",
       "      <th>err_0</th>\n",
       "      <th>err_1</th>\n",
       "      <th>err_2</th>\n",
       "      <th>par_0</th>\n",
       "      <th>par_1</th>\n",
       "      <th>par_2</th>\n",
       "    </tr>\n",
       "  </thead>\n",
       "  <tbody>\n",
       "    <tr>\n",
       "      <th>0</th>\n",
       "      <td>missing_mass</td>\n",
       "      <td>0</td>\n",
       "      <td>1.433891</td>\n",
       "      <td>1.200002</td>\n",
       "      <td>[0.02662495 0.01486706 0.01766343 0.02436841 0...</td>\n",
       "      <td>[-0.1        -0.1        -0.1        -0.1     ...</td>\n",
       "      <td>[ 0.1        -0.1        -0.1        -0.1     ...</td>\n",
       "      <td>0.004187</td>\n",
       "      <td>6.183801e-02</td>\n",
       "      <td>9.325393e-02</td>\n",
       "      <td>0.016891</td>\n",
       "      <td>-0.075288</td>\n",
       "      <td>-0.006959</td>\n",
       "    </tr>\n",
       "    <tr>\n",
       "      <th>1</th>\n",
       "      <td>missing_mass</td>\n",
       "      <td>1</td>\n",
       "      <td>1.540305</td>\n",
       "      <td>1.433891</td>\n",
       "      <td>[0.03566929 0.03967322 0.03532878 0.03717206 0...</td>\n",
       "      <td>[-0.1        -0.1        -0.1        -0.1     ...</td>\n",
       "      <td>[-0.1        -0.1         0.1        -0.1     ...</td>\n",
       "      <td>0.003612</td>\n",
       "      <td>3.759908e-02</td>\n",
       "      <td>8.049023e-02</td>\n",
       "      <td>0.039234</td>\n",
       "      <td>-0.090766</td>\n",
       "      <td>-0.055457</td>\n",
       "    </tr>\n",
       "    <tr>\n",
       "      <th>2</th>\n",
       "      <td>missing_mass</td>\n",
       "      <td>2</td>\n",
       "      <td>1.644617</td>\n",
       "      <td>1.540305</td>\n",
       "      <td>[0.03468973 0.03704122 0.03546629 0.03674074 0...</td>\n",
       "      <td>[-0.1        -0.1        -0.1        -0.1     ...</td>\n",
       "      <td>[ 0.1         0.1         0.1         0.052069...</td>\n",
       "      <td>0.003990</td>\n",
       "      <td>6.790328e-03</td>\n",
       "      <td>8.525982e-02</td>\n",
       "      <td>0.036666</td>\n",
       "      <td>-0.099145</td>\n",
       "      <td>0.029944</td>\n",
       "    </tr>\n",
       "    <tr>\n",
       "      <th>3</th>\n",
       "      <td>missing_mass</td>\n",
       "      <td>3</td>\n",
       "      <td>1.749693</td>\n",
       "      <td>1.644617</td>\n",
       "      <td>[0.0247343  0.02596057 0.03028811 0.02532691 0...</td>\n",
       "      <td>[-0.09988163 -0.1         0.1         0.053475...</td>\n",
       "      <td>[0.1 0.1 0.1 0.1 0.1 0.1 0.1 0.1 0.1 0.1 0.1 0...</td>\n",
       "      <td>0.003848</td>\n",
       "      <td>7.988065e-02</td>\n",
       "      <td>7.450581e-09</td>\n",
       "      <td>0.028194</td>\n",
       "      <td>-0.026881</td>\n",
       "      <td>0.100000</td>\n",
       "    </tr>\n",
       "    <tr>\n",
       "      <th>4</th>\n",
       "      <td>missing_mass</td>\n",
       "      <td>4</td>\n",
       "      <td>1.850798</td>\n",
       "      <td>1.749693</td>\n",
       "      <td>[0.03147547 0.03489709 0.03338293 0.04475906 0...</td>\n",
       "      <td>[-0.1 -0.1 -0.1 -0.1 -0.1 -0.1 -0.1 -0.1 -0.1 ...</td>\n",
       "      <td>[ 0.1        -0.1         0.1        -0.1     ...</td>\n",
       "      <td>0.004410</td>\n",
       "      <td>7.450581e-09</td>\n",
       "      <td>9.320496e-02</td>\n",
       "      <td>0.033303</td>\n",
       "      <td>-0.100000</td>\n",
       "      <td>-0.007105</td>\n",
       "    </tr>\n",
       "  </tbody>\n",
       "</table>\n",
       "</div>"
      ],
      "text/plain": [
       "           axis  axis_bin  axis_max  axis_min  \\\n",
       "0  missing_mass         0  1.433891  1.200002   \n",
       "1  missing_mass         1  1.540305  1.433891   \n",
       "2  missing_mass         2  1.644617  1.540305   \n",
       "3  missing_mass         3  1.749693  1.644617   \n",
       "4  missing_mass         4  1.850798  1.749693   \n",
       "\n",
       "                                        bootstraps_0  \\\n",
       "0  [0.02662495 0.01486706 0.01766343 0.02436841 0...   \n",
       "1  [0.03566929 0.03967322 0.03532878 0.03717206 0...   \n",
       "2  [0.03468973 0.03704122 0.03546629 0.03674074 0...   \n",
       "3  [0.0247343  0.02596057 0.03028811 0.02532691 0...   \n",
       "4  [0.03147547 0.03489709 0.03338293 0.04475906 0...   \n",
       "\n",
       "                                        bootstraps_1  \\\n",
       "0  [-0.1        -0.1        -0.1        -0.1     ...   \n",
       "1  [-0.1        -0.1        -0.1        -0.1     ...   \n",
       "2  [-0.1        -0.1        -0.1        -0.1     ...   \n",
       "3  [-0.09988163 -0.1         0.1         0.053475...   \n",
       "4  [-0.1 -0.1 -0.1 -0.1 -0.1 -0.1 -0.1 -0.1 -0.1 ...   \n",
       "\n",
       "                                        bootstraps_2     err_0         err_1  \\\n",
       "0  [ 0.1        -0.1        -0.1        -0.1     ...  0.004187  6.183801e-02   \n",
       "1  [-0.1        -0.1         0.1        -0.1     ...  0.003612  3.759908e-02   \n",
       "2  [ 0.1         0.1         0.1         0.052069...  0.003990  6.790328e-03   \n",
       "3  [0.1 0.1 0.1 0.1 0.1 0.1 0.1 0.1 0.1 0.1 0.1 0...  0.003848  7.988065e-02   \n",
       "4  [ 0.1        -0.1         0.1        -0.1     ...  0.004410  7.450581e-09   \n",
       "\n",
       "          err_2     par_0     par_1     par_2  \n",
       "0  9.325393e-02  0.016891 -0.075288 -0.006959  \n",
       "1  8.049023e-02  0.039234 -0.090766 -0.055457  \n",
       "2  8.525982e-02  0.036666 -0.099145  0.029944  \n",
       "3  7.450581e-09  0.028194 -0.026881  0.100000  \n",
       "4  9.320496e-02  0.033303 -0.100000 -0.007105  "
      ]
     },
     "execution_count": 10,
     "metadata": {},
     "output_type": "execute_result"
    }
   ],
   "source": [
    "fit_results.head()"
   ]
  },
  {
   "cell_type": "code",
   "execution_count": 11,
   "metadata": {},
   "outputs": [
    {
     "data": {
      "image/png": "[encoded data removed]",
      "text/plain": [
       "<Figure size 576x648 with 5 Axes>"
      ]
     },
     "metadata": {},
     "output_type": "display_data"
    }
   ],
   "source": [
    "n_axes = fit_results['axis'].nunique()\n",
    "n_cols = 2\n",
    "n_rows = np.ceil(n_axes / n_cols) + 1\n",
    "plt.figure( figsize = (n_cols * 4, n_rows * 3) )\n",
    "\n",
    "i = 1\n",
    "for axis in fit_results['axis'].unique():\n",
    "    data_subset = fit_results.query('axis == \"{}\"'.format(axis))\n",
    "\n",
    "    plt.subplot(n_rows, n_cols, i)\n",
    "    plt.errorbar(\n",
    "        data_subset['axis_bin'], \n",
    "        data_subset['par_0'],\n",
    "        data_subset['err_0'],\n",
    "        linestyle = '',\n",
    "        marker = 'o'\n",
    "    )\n",
    "    plt.xlabel(axis)\n",
    "    plt.ylim([-0.01, 0.04])\n",
    "    i += 1\n",
    "    \n",
    "plt.tight_layout()"
   ]
  },
  {
   "cell_type": "code",
   "execution_count": null,
   "metadata": {
    "collapsed": true
   },
   "outputs": [],
   "source": []
  },
  {
   "cell_type": "code",
   "execution_count": null,
   "metadata": {
    "collapsed": true
   },
   "outputs": [],
   "source": []
  }
 ],
 "metadata": {
  "kernelspec": {
   "display_name": "Python 2",
   "language": "python",
   "name": "python2"
  },
  "language_info": {
   "codemirror_mode": {
    "name": "ipython",
    "version": 2
   },
   "file_extension": ".py",
   "mimetype": "text/x-python",
   "name": "python",
   "nbconvert_exporter": "python",
   "pygments_lexer": "ipython2",
   "version": "2.7.13"
  }
 },
 "nbformat": 4,
 "nbformat_minor": 2
}
