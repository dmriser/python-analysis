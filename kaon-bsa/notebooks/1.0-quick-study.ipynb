{
 "cells": [
  {
   "cell_type": "markdown",
   "metadata": {},
   "source": [
    "# Quick Study Notebook\n",
    "Using this notebook, a quick study of the asymmetry can be performed.  "
   ]
  },
  {
   "cell_type": "code",
   "execution_count": 1,
   "metadata": {
    "collapsed": true
   },
   "outputs": [],
   "source": [
    "import matplotlib.pyplot as plt\n",
    "import numpy as np \n",
    "import os\n",
    "import pandas as pd \n",
    "import sys \n",
    "import tempfile\n",
    "\n",
    "%matplotlib inline"
   ]
  },
  {
   "cell_type": "markdown",
   "metadata": {},
   "source": [
    "From our local package, let's import the important machinery.  Doing this makes this notebook shorter, but also more consistent.  After doing so, the configuration file is loaded and the options can be changed.  The data is then loaded.  "
   ]
  },
  {
   "cell_type": "code",
   "execution_count": 2,
   "metadata": {
    "collapsed": true
   },
   "outputs": [],
   "source": [
    "sys.path.append(os.path.normpath(os.getcwd() + '/../src/data'))\n",
    "sys.path.append(os.path.normpath(os.getcwd() + '/../src/fit'))\n",
    "import bsa, utils\n",
    "import fitter "
   ]
  },
  {
   "cell_type": "code",
   "execution_count": 3,
   "metadata": {
    "collapsed": true
   },
   "outputs": [],
   "source": [
    "config_file = '../config-laptop.json'\n",
    "config = utils.load_config(config_file)"
   ]
  },
  {
   "cell_type": "markdown",
   "metadata": {},
   "source": [
    "### Configuration\n",
    "Make any changes here before the data is loaded to test new things."
   ]
  },
  {
   "cell_type": "code",
   "execution_count": 4,
   "metadata": {},
   "outputs": [
    {
     "name": "stdout",
     "output_type": "stream",
     "text": [
      "(u'database_path', u'/Users/davidriser/repos/python-analysis/kaon-bsa/database/')\n",
      "(u'variation_file', u'/Users/davidriser/repos/python-analysis/kaon-bsa/variations-missing-mass.json')\n",
      "(u'file_compression', u'bz2')\n",
      "(u'axes', [u'x', u'z', u'pt', u'q2', u'missing_mass'])\n",
      "(u'output_filename', u'/Users/davidriser/repos/python-analysis/kaon-bsa/database/phi/sys.csv')\n",
      "(u'sample_size', None)\n",
      "(u'n_bins', 8)\n",
      "(u'systematics_file', u'/Users/davidriser/repos/python-analysis/kaon-bsa/systematic_sources.pkl')\n",
      "(u'file_path', u'/Users/davidriser/Data/inclusive/inclusive.csv')\n",
      "(u'z_range', [0.25, 0.75])\n"
     ]
    }
   ],
   "source": [
    "for key, value in config.iteritems():\n",
    "    print(key, value)"
   ]
  },
  {
   "cell_type": "code",
   "execution_count": 5,
   "metadata": {
    "collapsed": true
   },
   "outputs": [],
   "source": [
    "config['sample_size'] = None\n",
    "config['n_bins'] = 5"
   ]
  },
  {
   "cell_type": "code",
   "execution_count": 6,
   "metadata": {},
   "outputs": [
    {
     "name": "stdout",
     "output_type": "stream",
     "text": [
      "<class 'pandas.core.frame.DataFrame'>\n",
      "Int64Index: 13125592 entries, 0 to 13322465\n",
      "Data columns (total 30 columns):\n",
      "Unnamed: 0       int64\n",
      "helicity         int64\n",
      "meson_id         int64\n",
      "missing_mass     float64\n",
      "x                float64\n",
      "q2               float64\n",
      "z                float64\n",
      "pt               float64\n",
      "w                float64\n",
      "eta              float64\n",
      "phi_h            float64\n",
      "theta_h          float64\n",
      "p_ele            float64\n",
      "p_mes            float64\n",
      "phi_ele          float64\n",
      "phi_mes          float64\n",
      "theta_ele        float64\n",
      "theta_mes        float64\n",
      "dvz              float64\n",
      "alpha            float64\n",
      "dist_ecsf        float64\n",
      "dist_ec_edep     float64\n",
      "dist_vz          float64\n",
      "dist_cc_theta    float64\n",
      "dist_dcr1        float64\n",
      "dist_dcr3        float64\n",
      "dist_ecu         float64\n",
      "dist_ecv         float64\n",
      "dist_ecw         float64\n",
      "dist_cc          float64\n",
      "dtypes: float64(27), int64(3)\n",
      "memory usage: 3.0 GB\n"
     ]
    }
   ],
   "source": [
    "# Raw dataset loading\n",
    "data = utils.load_dataset(config)\n",
    "\n",
    "# Filtered data \n",
    "nom_filter = utils.build_filter(data)\n",
    "nom_data = utils.build_dataframe(data, nom_filter)\n",
    "\n",
    "# Bins for axes \n",
    "bins = bsa.setup_binning(config, nom_data)"
   ]
  },
  {
   "cell_type": "markdown",
   "metadata": {},
   "source": [
    "### Perform Calculation\n",
    "Here we simply do the calculation, getting the results in a pandas dataframe.  To make things easier, I just save it to a temp file and use the same fitting routines used in the real analysis."
   ]
  },
  {
   "cell_type": "code",
   "execution_count": 7,
   "metadata": {
    "collapsed": true
   },
   "outputs": [],
   "source": [
    "results = utils.get_results(nom_data, bins, config)\n",
    "results.to_csv('./temp_file.csv')"
   ]
  },
  {
   "cell_type": "code",
   "execution_count": 8,
   "metadata": {},
   "outputs": [
    {
     "name": "stdout",
     "output_type": "stream",
     "text": [
      "Fitting missing_mass\n",
      "Performing single fit - done in 7s\n",
      "Performing single fit - done in 6s\n",
      "Performing single fit - done in 7s\n",
      "Performing single fit - done in 7s\n",
      "Performing single fit - done in 7s\n",
      "Fitting pt\n",
      "Performing single fit - done in 6s\n",
      "Performing single fit - done in 6s\n",
      "Performing single fit - done in 6s\n",
      "Performing single fit - done in 6s\n",
      "Performing single fit - done in 7s\n",
      "Fitting q2\n",
      "Performing single fit - done in 6s\n",
      "Performing single fit - done in 7s\n",
      "Performing single fit - done in 6s\n",
      "Performing single fit - done in 6s\n",
      "Performing single fit - done in 6s\n",
      "Fitting x\n",
      "Performing single fit - done in 8s\n",
      "Performing single fit - done in 6s\n",
      "Performing single fit - done in 6s\n",
      "Performing single fit - done in 6s\n",
      "Performing single fit - done in 6s\n",
      "Fitting z\n",
      "Performing single fit - done in 7s\n",
      "Performing single fit - done in 6s\n",
      "Performing single fit - done in 6s\n",
      "Performing single fit - done in 6s\n",
      "Performing single fit - done in 7s\n"
     ]
    }
   ],
   "source": [
    "fitter.fit(\n",
    "    input_file = 'temp_file.csv', \n",
    "    output_file = 'temp_file_fit.csv', \n",
    "    bounds = [[-1, 1], [-1, 1], [-1, 1]], \n",
    "    n_reps = 64, \n",
    "    n_proc = 4\n",
    ")"
   ]
  },
  {
   "cell_type": "code",
   "execution_count": 9,
   "metadata": {
    "collapsed": true
   },
   "outputs": [],
   "source": [
    "fit_results = pd.read_csv('./temp_file_fit.csv')"
   ]
  },
  {
   "cell_type": "markdown",
   "metadata": {},
   "source": [
    "### Simple Plots\n",
    "Let's look at the simple results"
   ]
  },
  {
   "cell_type": "code",
   "execution_count": 10,
   "metadata": {},
   "outputs": [
    {
     "data": {
      "text/html": [
       "<div>\n",
       "<style scoped>\n",
       "    .dataframe tbody tr th:only-of-type {\n",
       "        vertical-align: middle;\n",
       "    }\n",
       "\n",
       "    .dataframe tbody tr th {\n",
       "        vertical-align: top;\n",
       "    }\n",
       "\n",
       "    .dataframe thead th {\n",
       "        text-align: right;\n",
       "    }\n",
       "</style>\n",
       "<table border=\"1\" class=\"dataframe\">\n",
       "  <thead>\n",
       "    <tr style=\"text-align: right;\">\n",
       "      <th></th>\n",
       "      <th>axis</th>\n",
       "      <th>axis_bin</th>\n",
       "      <th>axis_max</th>\n",
       "      <th>axis_min</th>\n",
       "      <th>bootstraps_0</th>\n",
       "      <th>bootstraps_1</th>\n",
       "      <th>bootstraps_2</th>\n",
       "      <th>err_0</th>\n",
       "      <th>err_1</th>\n",
       "      <th>err_2</th>\n",
       "      <th>par_0</th>\n",
       "      <th>par_1</th>\n",
       "      <th>par_2</th>\n",
       "    </tr>\n",
       "  </thead>\n",
       "  <tbody>\n",
       "    <tr>\n",
       "      <th>0</th>\n",
       "      <td>missing_mass</td>\n",
       "      <td>0</td>\n",
       "      <td>1.510155</td>\n",
       "      <td>1.200002</td>\n",
       "      <td>[0.00909704 0.01726127 0.01405039 0.01460381 0...</td>\n",
       "      <td>[ 0.92318946  0.42118073  0.80496496  0.766418...</td>\n",
       "      <td>[-1.          0.21955906 -1.         -1.      ...</td>\n",
       "      <td>0.005066</td>\n",
       "      <td>0.483373</td>\n",
       "      <td>0.434532</td>\n",
       "      <td>0.021043</td>\n",
       "      <td>-0.149641</td>\n",
       "      <td>-0.349541</td>\n",
       "    </tr>\n",
       "    <tr>\n",
       "      <th>1</th>\n",
       "      <td>missing_mass</td>\n",
       "      <td>1</td>\n",
       "      <td>1.665859</td>\n",
       "      <td>1.510155</td>\n",
       "      <td>[0.03717753 0.0391197  0.0432254  0.03450516 0...</td>\n",
       "      <td>[-0.6393853  -0.5119569  -0.46324748 -0.728496...</td>\n",
       "      <td>[ 1.01437934e-01  1.62675574e-01 -8.97481367e-...</td>\n",
       "      <td>0.007439</td>\n",
       "      <td>0.412618</td>\n",
       "      <td>0.545780</td>\n",
       "      <td>0.035343</td>\n",
       "      <td>-0.443779</td>\n",
       "      <td>-0.206342</td>\n",
       "    </tr>\n",
       "    <tr>\n",
       "      <th>2</th>\n",
       "      <td>missing_mass</td>\n",
       "      <td>2</td>\n",
       "      <td>1.830956</td>\n",
       "      <td>1.665859</td>\n",
       "      <td>[0.02503155 0.02513169 0.02804691 0.02010302 0...</td>\n",
       "      <td>[-0.503483   -0.26139927 -0.2939404  -0.024028...</td>\n",
       "      <td>[ 0.31326404  0.37055543  0.33452585  0.393769...</td>\n",
       "      <td>0.005555</td>\n",
       "      <td>0.379235</td>\n",
       "      <td>0.523848</td>\n",
       "      <td>0.024490</td>\n",
       "      <td>-0.277609</td>\n",
       "      <td>0.049827</td>\n",
       "    </tr>\n",
       "    <tr>\n",
       "      <th>3</th>\n",
       "      <td>missing_mass</td>\n",
       "      <td>3</td>\n",
       "      <td>2.005970</td>\n",
       "      <td>1.830956</td>\n",
       "      <td>[0.01905312 0.02621748 0.01703095 0.01059182 0...</td>\n",
       "      <td>[-0.7865638  -0.60289687  0.6564254  -0.974118...</td>\n",
       "      <td>[-1.         -0.30094838 -1.          0.532172...</td>\n",
       "      <td>0.006442</td>\n",
       "      <td>0.512654</td>\n",
       "      <td>0.499896</td>\n",
       "      <td>0.021174</td>\n",
       "      <td>-0.441691</td>\n",
       "      <td>-0.347196</td>\n",
       "    </tr>\n",
       "    <tr>\n",
       "      <th>4</th>\n",
       "      <td>missing_mass</td>\n",
       "      <td>4</td>\n",
       "      <td>2.495670</td>\n",
       "      <td>2.005970</td>\n",
       "      <td>[0.03137952 0.02510967 0.0268222  0.02037818 0...</td>\n",
       "      <td>[-0.5608635  -0.7605612  -0.2516579  -0.728870...</td>\n",
       "      <td>[-0.95016694 -0.8174113  -0.11829897  0.239884...</td>\n",
       "      <td>0.005480</td>\n",
       "      <td>0.490449</td>\n",
       "      <td>0.551470</td>\n",
       "      <td>0.017320</td>\n",
       "      <td>-0.431428</td>\n",
       "      <td>-0.066528</td>\n",
       "    </tr>\n",
       "  </tbody>\n",
       "</table>\n",
       "</div>"
      ],
      "text/plain": [
       "           axis  axis_bin  axis_max  axis_min  \\\n",
       "0  missing_mass         0  1.510155  1.200002   \n",
       "1  missing_mass         1  1.665859  1.510155   \n",
       "2  missing_mass         2  1.830956  1.665859   \n",
       "3  missing_mass         3  2.005970  1.830956   \n",
       "4  missing_mass         4  2.495670  2.005970   \n",
       "\n",
       "                                        bootstraps_0  \\\n",
       "0  [0.00909704 0.01726127 0.01405039 0.01460381 0...   \n",
       "1  [0.03717753 0.0391197  0.0432254  0.03450516 0...   \n",
       "2  [0.02503155 0.02513169 0.02804691 0.02010302 0...   \n",
       "3  [0.01905312 0.02621748 0.01703095 0.01059182 0...   \n",
       "4  [0.03137952 0.02510967 0.0268222  0.02037818 0...   \n",
       "\n",
       "                                        bootstraps_1  \\\n",
       "0  [ 0.92318946  0.42118073  0.80496496  0.766418...   \n",
       "1  [-0.6393853  -0.5119569  -0.46324748 -0.728496...   \n",
       "2  [-0.503483   -0.26139927 -0.2939404  -0.024028...   \n",
       "3  [-0.7865638  -0.60289687  0.6564254  -0.974118...   \n",
       "4  [-0.5608635  -0.7605612  -0.2516579  -0.728870...   \n",
       "\n",
       "                                        bootstraps_2     err_0     err_1  \\\n",
       "0  [-1.          0.21955906 -1.         -1.      ...  0.005066  0.483373   \n",
       "1  [ 1.01437934e-01  1.62675574e-01 -8.97481367e-...  0.007439  0.412618   \n",
       "2  [ 0.31326404  0.37055543  0.33452585  0.393769...  0.005555  0.379235   \n",
       "3  [-1.         -0.30094838 -1.          0.532172...  0.006442  0.512654   \n",
       "4  [-0.95016694 -0.8174113  -0.11829897  0.239884...  0.005480  0.490449   \n",
       "\n",
       "      err_2     par_0     par_1     par_2  \n",
       "0  0.434532  0.021043 -0.149641 -0.349541  \n",
       "1  0.545780  0.035343 -0.443779 -0.206342  \n",
       "2  0.523848  0.024490 -0.277609  0.049827  \n",
       "3  0.499896  0.021174 -0.441691 -0.347196  \n",
       "4  0.551470  0.017320 -0.431428 -0.066528  "
      ]
     },
     "execution_count": 10,
     "metadata": {},
     "output_type": "execute_result"
    }
   ],
   "source": [
    "fit_results.head()"
   ]
  },
  {
   "cell_type": "code",
   "execution_count": 11,
   "metadata": {},
   "outputs": [
    {
     "data": {
      "image/png": "[encoded data removed]",
      "text/plain": [
       "<Figure size 576x648 with 5 Axes>"
      ]
     },
     "metadata": {},
     "output_type": "display_data"
    }
   ],
   "source": [
    "n_axes = fit_results['axis'].nunique()\n",
    "n_cols = 2\n",
    "n_rows = np.ceil(n_axes / n_cols) + 1\n",
    "plt.figure( figsize = (n_cols * 4, n_rows * 3) )\n",
    "\n",
    "i = 1\n",
    "for axis in fit_results['axis'].unique():\n",
    "    data_subset = fit_results.query('axis == \"{}\"'.format(axis))\n",
    "\n",
    "    plt.subplot(n_rows, n_cols, i)\n",
    "    plt.errorbar(\n",
    "        data_subset['axis_bin'], \n",
    "        data_subset['par_0'],\n",
    "        data_subset['err_0'],\n",
    "        linestyle = '',\n",
    "        marker = 'o'\n",
    "    )\n",
    "    plt.xlabel(axis)\n",
    "    plt.ylim([-0.01, 0.04])\n",
    "    i += 1\n",
    "    \n",
    "plt.tight_layout()"
   ]
  },
  {
   "cell_type": "code",
   "execution_count": null,
   "metadata": {
    "collapsed": true
   },
   "outputs": [],
   "source": []
  },
  {
   "cell_type": "code",
   "execution_count": null,
   "metadata": {
    "collapsed": true
   },
   "outputs": [],
   "source": []
  }
 ],
 "metadata": {
  "kernelspec": {
   "display_name": "Python 2",
   "language": "python",
   "name": "python2"
  },
  "language_info": {
   "codemirror_mode": {
    "name": "ipython",
    "version": 2
   },
   "file_extension": ".py",
   "mimetype": "text/x-python",
   "name": "python",
   "nbconvert_exporter": "python",
   "pygments_lexer": "ipython2",
   "version": "2.7.13"
  }
 },
 "nbformat": 4,
 "nbformat_minor": 2
}
