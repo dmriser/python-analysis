{
 "cells": [
  {
   "cell_type": "markdown",
   "metadata": {},
   "source": [
    "# Quick Study Notebook\n",
    "Using this notebook, a quick study of the asymmetry can be performed.  "
   ]
  },
  {
   "cell_type": "code",
   "execution_count": 1,
   "metadata": {
    "collapsed": true
   },
   "outputs": [],
   "source": [
    "import matplotlib.pyplot as plt\n",
    "import numpy as np \n",
    "import os\n",
    "import pandas as pd \n",
    "import sys \n",
    "import tempfile\n",
    "\n",
    "%matplotlib inline"
   ]
  },
  {
   "cell_type": "markdown",
   "metadata": {},
   "source": [
    "From our local package, let's import the important machinery.  Doing this makes this notebook shorter, but also more consistent.  After doing so, the configuration file is loaded and the options can be changed.  The data is then loaded.  "
   ]
  },
  {
   "cell_type": "code",
   "execution_count": 2,
   "metadata": {
    "collapsed": true
   },
   "outputs": [],
   "source": [
    "sys.path.append(os.path.normpath(os.getcwd() + '/../src/data'))\n",
    "sys.path.append(os.path.normpath(os.getcwd() + '/../src/fit'))\n",
    "import bsa, utils\n",
    "import fitter "
   ]
  },
  {
   "cell_type": "code",
   "execution_count": 3,
   "metadata": {},
   "outputs": [],
   "source": [
    "config_file = '../config-laptop.json'\n",
    "config = utils.load_config(config_file)"
   ]
  },
  {
   "cell_type": "markdown",
   "metadata": {},
   "source": [
    "### Configuration\n",
    "Make any changes here before the data is loaded to test new things."
   ]
  },
  {
   "cell_type": "code",
   "execution_count": 4,
   "metadata": {},
   "outputs": [
    {
     "name": "stdout",
     "output_type": "stream",
     "text": [
      "(u'database_path', u'/Users/davidriser/repos/python-analysis/kaon-bsa/database/')\n",
      "(u'variation_file', u'/Users/davidriser/repos/python-analysis/kaon-bsa/variations-missing-mass.json')\n",
      "(u'file_compression', u'bz2')\n",
      "(u'axes', [u'x', u'z', u'pt', u'q2', u'missing_mass'])\n",
      "(u'output_filename', u'/Users/davidriser/repos/python-analysis/kaon-bsa/database/phi/sys.csv')\n",
      "(u'sample_size', None)\n",
      "(u'n_bins', 6)\n",
      "(u'systematics_file', u'/Users/davidriser/repos/python-analysis/kaon-bsa/systematic_sources.pkl')\n",
      "(u'file_path', u'/Users/davidriser/Data/inclusive/inclusive.csv')\n",
      "(u'z_range', [0.25, 0.75])\n"
     ]
    }
   ],
   "source": [
    "for key, value in config.iteritems():\n",
    "    print(key, value)"
   ]
  },
  {
   "cell_type": "code",
   "execution_count": 5,
   "metadata": {
    "collapsed": true
   },
   "outputs": [],
   "source": [
    "config['sample_size'] = None"
   ]
  },
  {
   "cell_type": "code",
   "execution_count": 6,
   "metadata": {},
   "outputs": [
    {
     "name": "stdout",
     "output_type": "stream",
     "text": [
      "<class 'pandas.core.frame.DataFrame'>\n",
      "Int64Index: 13125592 entries, 0 to 13322465\n",
      "Data columns (total 30 columns):\n",
      "Unnamed: 0       int64\n",
      "helicity         int64\n",
      "meson_id         int64\n",
      "missing_mass     float64\n",
      "x                float64\n",
      "q2               float64\n",
      "z                float64\n",
      "pt               float64\n",
      "w                float64\n",
      "eta              float64\n",
      "phi_h            float64\n",
      "theta_h          float64\n",
      "p_ele            float64\n",
      "p_mes            float64\n",
      "phi_ele          float64\n",
      "phi_mes          float64\n",
      "theta_ele        float64\n",
      "theta_mes        float64\n",
      "dvz              float64\n",
      "alpha            float64\n",
      "dist_ecsf        float64\n",
      "dist_ec_edep     float64\n",
      "dist_vz          float64\n",
      "dist_cc_theta    float64\n",
      "dist_dcr1        float64\n",
      "dist_dcr3        float64\n",
      "dist_ecu         float64\n",
      "dist_ecv         float64\n",
      "dist_ecw         float64\n",
      "dist_cc          float64\n",
      "dtypes: float64(27), int64(3)\n",
      "memory usage: 3.0 GB\n"
     ]
    }
   ],
   "source": [
    "# Raw dataset loading\n",
    "data = utils.load_dataset(config)\n",
    "\n",
    "# Filtered data \n",
    "nom_filter = utils.build_filter(data)\n",
    "nom_data = utils.build_dataframe(data, nom_filter)\n",
    "\n",
    "# Bins for axes \n",
    "bins = bsa.setup_binning(config, nom_data)"
   ]
  },
  {
   "cell_type": "markdown",
   "metadata": {},
   "source": [
    "### Perform Calculation\n",
    "Here we simply do the calculation, getting the results in a pandas dataframe.  To make things easier, I just save it to a temp file and use the same fitting routines used in the real analysis."
   ]
  },
  {
   "cell_type": "code",
   "execution_count": 7,
   "metadata": {
    "collapsed": true
   },
   "outputs": [],
   "source": [
    "results = utils.get_results(nom_data, bins, config)\n",
    "results.to_csv('./temp_file.csv')"
   ]
  },
  {
   "cell_type": "code",
   "execution_count": 8,
   "metadata": {},
   "outputs": [
    {
     "name": "stdout",
     "output_type": "stream",
     "text": [
      "Fitting missing_mass\n",
      "Performing single fit - done in 9s\n",
      "Performing single fit - done in 7s\n",
      "Performing single fit - done in 5s\n",
      "Performing single fit - done in 5s\n",
      "Performing single fit - done in 9s\n",
      "Performing single fit - done in 14s\n",
      "Fitting pt\n",
      "Performing single fit - done in 4s\n",
      "Performing single fit - done in 6s\n",
      "Performing single fit - done in 11s\n",
      "Performing single fit - done in 11s\n",
      "Performing single fit - done in 10s\n",
      "Performing single fit - done in 27s\n",
      "Fitting q2\n",
      "Performing single fit - done in 11s\n"
     ]
    },
    {
     "name": "stderr",
     "output_type": "stream",
     "text": [
      "/usr/local/lib/python2.7/site-packages/scipy/optimize/optimize.py:994: RuntimeWarning: divide by zero encountered in double_scalars\n",
      "  rhok = 1.0 / (numpy.dot(yk, sk))\n"
     ]
    },
    {
     "name": "stdout",
     "output_type": "stream",
     "text": [
      "Performing single fit - done in 11s\n",
      "Performing single fit - done in 9s\n",
      "Performing single fit - done in 8s\n",
      "Performing single fit - done in 19s\n",
      "Performing single fit - done in 8s\n",
      "Fitting x\n",
      "Performing single fit - done in 11s\n",
      "Performing single fit - done in 8s\n",
      "Performing single fit - done in 10s\n",
      "Performing single fit - done in 7s\n",
      "Performing single fit - done in 7s\n",
      "Performing single fit - done in 7s\n",
      "Fitting z\n",
      "Performing single fit - done in 47s\n",
      "Performing single fit - done in 5s\n",
      "Performing single fit - done in 5s\n",
      "Performing single fit - done in 8s\n",
      "Performing single fit - done in 8s\n",
      "Performing single fit - done in 7s\n"
     ]
    }
   ],
   "source": [
    "fitter.fit(\n",
    "    input_file = 'temp_file.csv', \n",
    "    output_file = 'temp_file_fit.csv', \n",
    "    bounds = None, \n",
    "    n_reps = 8, \n",
    "    n_proc = 4\n",
    ")"
   ]
  },
  {
   "cell_type": "code",
   "execution_count": 9,
   "metadata": {
    "collapsed": true
   },
   "outputs": [],
   "source": [
    "fit_results = pd.read_csv('./temp_file_fit.csv')"
   ]
  },
  {
   "cell_type": "markdown",
   "metadata": {},
   "source": [
    "### Simple Plots\n",
    "Let's look at the simple results"
   ]
  },
  {
   "cell_type": "code",
   "execution_count": 11,
   "metadata": {},
   "outputs": [
    {
     "data": {
      "text/html": [
       "<div>\n",
       "<style scoped>\n",
       "    .dataframe tbody tr th:only-of-type {\n",
       "        vertical-align: middle;\n",
       "    }\n",
       "\n",
       "    .dataframe tbody tr th {\n",
       "        vertical-align: top;\n",
       "    }\n",
       "\n",
       "    .dataframe thead th {\n",
       "        text-align: right;\n",
       "    }\n",
       "</style>\n",
       "<table border=\"1\" class=\"dataframe\">\n",
       "  <thead>\n",
       "    <tr style=\"text-align: right;\">\n",
       "      <th></th>\n",
       "      <th>axis</th>\n",
       "      <th>axis_bin</th>\n",
       "      <th>axis_max</th>\n",
       "      <th>axis_min</th>\n",
       "      <th>bootstraps_0</th>\n",
       "      <th>bootstraps_1</th>\n",
       "      <th>bootstraps_2</th>\n",
       "      <th>err_0</th>\n",
       "      <th>err_1</th>\n",
       "      <th>err_2</th>\n",
       "      <th>par_0</th>\n",
       "      <th>par_1</th>\n",
       "      <th>par_2</th>\n",
       "    </tr>\n",
       "  </thead>\n",
       "  <tbody>\n",
       "    <tr>\n",
       "      <th>0</th>\n",
       "      <td>missing_mass</td>\n",
       "      <td>0</td>\n",
       "      <td>1.723112</td>\n",
       "      <td>1.650000</td>\n",
       "      <td>[0.0330035  0.02157412 0.02314499 0.02477843 0...</td>\n",
       "      <td>[-0.5196415   0.26152733  0.32869676 -0.158736...</td>\n",
       "      <td>[-0.84555626  0.11639243  0.1511861   0.301482...</td>\n",
       "      <td>0.003700</td>\n",
       "      <td>0.328585</td>\n",
       "      <td>0.690185</td>\n",
       "      <td>0.024246</td>\n",
       "      <td>0.107299</td>\n",
       "      <td>-0.197893</td>\n",
       "    </tr>\n",
       "    <tr>\n",
       "      <th>1</th>\n",
       "      <td>missing_mass</td>\n",
       "      <td>1</td>\n",
       "      <td>1.799525</td>\n",
       "      <td>1.723112</td>\n",
       "      <td>[0.02707617 0.02653919 0.02478146 0.02937692 0...</td>\n",
       "      <td>[ 0.30764008  0.10234445 -0.5523889  -0.085891...</td>\n",
       "      <td>[-2.5300195  -0.42189598 -1.1075488  -0.177184...</td>\n",
       "      <td>0.002526</td>\n",
       "      <td>0.265644</td>\n",
       "      <td>0.818430</td>\n",
       "      <td>0.026602</td>\n",
       "      <td>-0.091401</td>\n",
       "      <td>-0.576006</td>\n",
       "    </tr>\n",
       "    <tr>\n",
       "      <th>2</th>\n",
       "      <td>missing_mass</td>\n",
       "      <td>2</td>\n",
       "      <td>1.878045</td>\n",
       "      <td>1.799525</td>\n",
       "      <td>[0.03644619 0.01065277 0.03445892 0.01477564 0...</td>\n",
       "      <td>[-0.16881195 -0.9738653  -0.22283755 -0.854117...</td>\n",
       "      <td>[-0.5905613   0.6230058  -0.41680133  0.396422...</td>\n",
       "      <td>0.008494</td>\n",
       "      <td>0.298767</td>\n",
       "      <td>0.492236</td>\n",
       "      <td>0.026323</td>\n",
       "      <td>-0.460667</td>\n",
       "      <td>-0.183986</td>\n",
       "    </tr>\n",
       "    <tr>\n",
       "      <th>3</th>\n",
       "      <td>missing_mass</td>\n",
       "      <td>3</td>\n",
       "      <td>1.969478</td>\n",
       "      <td>1.878045</td>\n",
       "      <td>[0.0184691  0.01979938 0.01767969 0.01859679 0...</td>\n",
       "      <td>[-0.60178155 -0.611155    0.6056239   0.245987...</td>\n",
       "      <td>[-1.04279    -0.93173456 -1.5103719   0.076657...</td>\n",
       "      <td>0.003020</td>\n",
       "      <td>0.436526</td>\n",
       "      <td>0.592427</td>\n",
       "      <td>0.018823</td>\n",
       "      <td>0.052060</td>\n",
       "      <td>-0.447227</td>\n",
       "    </tr>\n",
       "    <tr>\n",
       "      <th>4</th>\n",
       "      <td>missing_mass</td>\n",
       "      <td>4</td>\n",
       "      <td>2.085932</td>\n",
       "      <td>1.969478</td>\n",
       "      <td>[0.01166685 0.02172811 0.01014465 0.01937837 0...</td>\n",
       "      <td>[-0.49679315 -0.01069598 -0.26655918 -0.108176...</td>\n",
       "      <td>[ 0.532467   -3.134995    0.71063304  0.168283...</td>\n",
       "      <td>0.004419</td>\n",
       "      <td>0.306858</td>\n",
       "      <td>1.176318</td>\n",
       "      <td>0.016321</td>\n",
       "      <td>-0.010982</td>\n",
       "      <td>-0.102199</td>\n",
       "    </tr>\n",
       "  </tbody>\n",
       "</table>\n",
       "</div>"
      ],
      "text/plain": [
       "           axis  axis_bin  axis_max  axis_min  \\\n",
       "0  missing_mass         0  1.723112  1.650000   \n",
       "1  missing_mass         1  1.799525  1.723112   \n",
       "2  missing_mass         2  1.878045  1.799525   \n",
       "3  missing_mass         3  1.969478  1.878045   \n",
       "4  missing_mass         4  2.085932  1.969478   \n",
       "\n",
       "                                        bootstraps_0  \\\n",
       "0  [0.0330035  0.02157412 0.02314499 0.02477843 0...   \n",
       "1  [0.02707617 0.02653919 0.02478146 0.02937692 0...   \n",
       "2  [0.03644619 0.01065277 0.03445892 0.01477564 0...   \n",
       "3  [0.0184691  0.01979938 0.01767969 0.01859679 0...   \n",
       "4  [0.01166685 0.02172811 0.01014465 0.01937837 0...   \n",
       "\n",
       "                                        bootstraps_1  \\\n",
       "0  [-0.5196415   0.26152733  0.32869676 -0.158736...   \n",
       "1  [ 0.30764008  0.10234445 -0.5523889  -0.085891...   \n",
       "2  [-0.16881195 -0.9738653  -0.22283755 -0.854117...   \n",
       "3  [-0.60178155 -0.611155    0.6056239   0.245987...   \n",
       "4  [-0.49679315 -0.01069598 -0.26655918 -0.108176...   \n",
       "\n",
       "                                        bootstraps_2     err_0     err_1  \\\n",
       "0  [-0.84555626  0.11639243  0.1511861   0.301482...  0.003700  0.328585   \n",
       "1  [-2.5300195  -0.42189598 -1.1075488  -0.177184...  0.002526  0.265644   \n",
       "2  [-0.5905613   0.6230058  -0.41680133  0.396422...  0.008494  0.298767   \n",
       "3  [-1.04279    -0.93173456 -1.5103719   0.076657...  0.003020  0.436526   \n",
       "4  [ 0.532467   -3.134995    0.71063304  0.168283...  0.004419  0.306858   \n",
       "\n",
       "      err_2     par_0     par_1     par_2  \n",
       "0  0.690185  0.024246  0.107299 -0.197893  \n",
       "1  0.818430  0.026602 -0.091401 -0.576006  \n",
       "2  0.492236  0.026323 -0.460667 -0.183986  \n",
       "3  0.592427  0.018823  0.052060 -0.447227  \n",
       "4  1.176318  0.016321 -0.010982 -0.102199  "
      ]
     },
     "execution_count": 11,
     "metadata": {},
     "output_type": "execute_result"
    }
   ],
   "source": [
    "fit_results.head()"
   ]
  },
  {
   "cell_type": "code",
   "execution_count": 18,
   "metadata": {},
   "outputs": [
    {
     "data": {
      "image/png": "[encoded data removed]",
      "text/plain": [
       "<Figure size 576x648 with 5 Axes>"
      ]
     },
     "metadata": {},
     "output_type": "display_data"
    }
   ],
   "source": [
    "n_axes = fit_results['axis'].nunique()\n",
    "n_cols = 2\n",
    "n_rows = np.ceil(n_axes / n_cols) + 1\n",
    "plt.figure( figsize = (n_cols * 4, n_rows * 3) )\n",
    "\n",
    "i = 1\n",
    "for axis in fit_results['axis'].unique():\n",
    "    data_subset = fit_results.query('axis == \"{}\"'.format(axis))\n",
    "\n",
    "    plt.subplot(n_rows, n_cols, i)\n",
    "    plt.errorbar(\n",
    "        data_subset['axis_bin'], \n",
    "        data_subset['par_0'],\n",
    "        data_subset['err_0'],\n",
    "        linestyle = '',\n",
    "        marker = 'o'\n",
    "    )\n",
    "    plt.xlabel(axis)\n",
    "    plt.ylim([-0.01, 0.04])\n",
    "    i += 1\n",
    "    \n",
    "plt.tight_layout()"
   ]
  },
  {
   "cell_type": "code",
   "execution_count": null,
   "metadata": {
    "collapsed": true
   },
   "outputs": [],
   "source": []
  }
 ],
 "metadata": {
  "kernelspec": {
   "display_name": "Python 2",
   "language": "python",
   "name": "python2"
  },
  "language_info": {
   "codemirror_mode": {
    "name": "ipython",
    "version": 2
   },
   "file_extension": ".py",
   "mimetype": "text/x-python",
   "name": "python",
   "nbconvert_exporter": "python",
   "pygments_lexer": "ipython2",
   "version": "2.7.13"
  }
 },
 "nbformat": 4,
 "nbformat_minor": 2
}
