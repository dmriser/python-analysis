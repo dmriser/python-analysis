{
 "cells": [
  {
   "cell_type": "markdown",
   "metadata": {},
   "source": [
    "# About \n",
    "In this notebook the dataset is plotted before and after making cuts.  Start by loading standard imports."
   ]
  },
  {
   "cell_type": "code",
   "execution_count": 1,
   "metadata": {
    "collapsed": true
   },
   "outputs": [],
   "source": [
    "import matplotlib.pyplot as plt \n",
    "import numpy as np \n",
    "import os \n",
    "import pandas as pd \n",
    "import sys \n",
    "\n",
    "%matplotlib inline "
   ]
  },
  {
   "cell_type": "markdown",
   "metadata": {},
   "source": [
    "### Import utilities\n",
    "The utilities used in the source directory for `bsa.py` are imported here by adding that directory to the system path."
   ]
  },
  {
   "cell_type": "code",
   "execution_count": null,
   "metadata": {
    "collapsed": true
   },
   "outputs": [],
   "source": [
    "sys.path.append(os.path.normpath(os.getcwd() + '/../src/data'))\n",
    "import bsa, utils"
   ]
  },
  {
   "cell_type": "code",
   "execution_count": null,
   "metadata": {},
   "outputs": [],
   "source": [
    "config_file = '../config-laptop.json'\n",
    "config = utils.load_config(config_file)\n",
    "\n",
    "# This will ensure all data is loaded.\n",
    "config['sample_size'] = None\n",
    "\n",
    "# Raw dataset loading\n",
    "data = utils.load_dataset(config)\n",
    "\n",
    "# Filtered data \n",
    "nom_filter = utils.build_filter(data)\n",
    "nom_data = utils.build_dataframe(data, nom_filter)\n",
    "\n",
    "# Bins for axes \n",
    "bins = bsa.setup_binning(config, nom_data)"
   ]
  },
  {
   "cell_type": "markdown",
   "metadata": {},
   "source": [
    "### Plotting Options \n",
    "Here some basic options and customizations are defined.  Using latex for the axes labels takes a long time, so that option should be false until the final plots are drawn."
   ]
  },
  {
   "cell_type": "code",
   "execution_count": null,
   "metadata": {
    "collapsed": true
   },
   "outputs": [],
   "source": [
    "plt.rc('font', family='serif')\n",
    "plt.rc('font', size=20)\n",
    "plt.rc('text', usetex=True)\n",
    "\n",
    "basic_histo = {\n",
    "    'alpha':0.6,\n",
    "    'histtype':'step'\n",
    "}\n",
    "\n",
    "filled_histo = {\n",
    "    'alpha':0.4,\n",
    "    'edgecolor':'k'\n",
    "}"
   ]
  },
  {
   "cell_type": "code",
   "execution_count": null,
   "metadata": {
    "scrolled": false
   },
   "outputs": [],
   "source": [
    "pos = np.where((nom_data['helicity'].values > 0) & (nom_data['x'].values > 0.12) & (nom_data['x'].values < 0.20))\n",
    "neg = np.where((nom_data['helicity'].values < 0) & (nom_data['x'].values > 0.12) & (nom_data['x'].values < 0.20))\n",
    "\n",
    "phi_bins = np.linspace(-180, 180, 12)\n",
    "\n",
    "fig = plt.figure(figsize=(8, 6))\n",
    "ax = fig.add_subplot(1,1,1)\n",
    "ax.hist(nom_data.iloc[pos]['phi_h'], color='red', bins=phi_bins, label='helicity +1', **filled_histo);\n",
    "ax.hist(nom_data.iloc[neg]['phi_h'], color='blue', bins=phi_bins, label='helicity -1', **filled_histo);\n",
    "ax.legend(frameon=False, loc='best')\n",
    "ax.set_xlabel('$\\phi_h$ (Degrees)')\n",
    "ax.set_ylabel('Counts')\n",
    "ax.text(-45, 87500, '$x \\in [0.12, 0.2]$')\n",
    "fig.savefig('../image/xcounts.pdf', bbox_inches='tight')"
   ]
  },
  {
   "cell_type": "code",
   "execution_count": null,
   "metadata": {},
   "outputs": [],
   "source": [
    "axis = 'z'    \n",
    "n_bins = len(bins[axis])\n",
    "n_cols = 3\n",
    "n_rows = 1 + np.ceil(n_bins/n_cols)\n",
    "\n",
    "print('Using %d rows.' % n_rows)\n",
    "fig = plt.figure(figsize=(4*n_cols, 3*n_rows))\n",
    "\n",
    "for i in range(n_bins-1):\n",
    "    pos = np.where((nom_data[axis].values > bins[axis][i]) & (nom_data[axis].values < bins[axis][i+1]) & (nom_data['helicity'].values > 0))\n",
    "    neg = np.where((nom_data[axis].values > bins[axis][i]) & (nom_data[axis].values < bins[axis][i+1]) & (nom_data['helicity'].values < 0))\n",
    "\n",
    "    ax = fig.add_subplot(n_rows, n_cols, i+1)\n",
    "    ax.hist(nom_data.iloc[pos]['phi_h'], \n",
    "            color='blue', \n",
    "            bins=phi_bins, \n",
    "            **filled_histo);\n",
    "    ax.hist(nom_data.iloc[neg]['phi_h'], \n",
    "            color='red', \n",
    "            bins=phi_bins, \n",
    "            **filled_histo);\n",
    "    \n",
    "    ax.set_xlabel('$\\phi_h$ (degrees)')\n",
    "    ax.set_ylabel('Counts')\n",
    "    \n",
    "    bin_string = '$%s \\in [%.2f, %.2f]$' % (axis, bins[axis][i], bins[axis][i+1])\n",
    "    ax.set_title(bin_string)\n",
    "    \n",
    "fig.tight_layout()\n",
    "fig.savefig('../image/z-phi-counts.pdf', bbox_inches='tight')"
   ]
  },
  {
   "cell_type": "code",
   "execution_count": null,
   "metadata": {
    "collapsed": true
   },
   "outputs": [],
   "source": [
    "from matplotlib.colors import LogNorm"
   ]
  },
  {
   "cell_type": "code",
   "execution_count": null,
   "metadata": {
    "scrolled": false
   },
   "outputs": [],
   "source": [
    "hbins = (np.linspace(0, 1, 200), \n",
    "        np.linspace(0, 1.3, 200))\n",
    "\n",
    "fig = plt.figure(figsize=(8, 6))\n",
    "ax = fig.add_subplot(1,1,1)\n",
    "ax.hist2d(nom_data['z'], \n",
    "          nom_data['pt'], \n",
    "         bins=hbins,\n",
    "         norm=LogNorm());\n",
    "ax.set_xlabel('$z_h$')\n",
    "ax.set_ylabel('$P_{T} \\; [GeV/c]$')\n",
    "fig.savefig('../image/z-pt.pdf', bbox_inches='tight')"
   ]
  },
  {
   "cell_type": "code",
   "execution_count": null,
   "metadata": {
    "collapsed": true
   },
   "outputs": [],
   "source": [
    "filt = {'missing_mass':[0.0, 5.0]}\n",
    "nom_filter = utils.build_filter(data, filt)\n",
    "nom_data = utils.build_dataframe(data, nom_filter)"
   ]
  },
  {
   "cell_type": "code",
   "execution_count": null,
   "metadata": {},
   "outputs": [],
   "source": [
    "mx_bins = np.linspace(0.5, 2.5, 200)\n",
    "\n",
    "fig = plt.figure(figsize=(8, 6))\n",
    "ax = fig.add_subplot(1,1,1)\n",
    "ax.hist(nom_data['missing_mass'], color='red', hatch='///', bins=mx_bins, **basic_histo);\n",
    "#ax.legend(frameon=False)\n",
    "ax.set_xlabel('$M_X (ep \\\\rightarrow eK^+X) \\; [GeV/c^2]$')\n",
    "ax.set_ylabel('Counts')\n",
    "ax.axvline(1.25, color='k', linewidth=1, linestyle='-.')\n",
    "fig.savefig('../image/mx.pdf', bbox_inches='tight')"
   ]
  },
  {
   "cell_type": "code",
   "execution_count": null,
   "metadata": {
    "collapsed": true
   },
   "outputs": [],
   "source": [
    "nom_filter = utils.build_filter(data)\n",
    "nom_data = utils.build_dataframe(data, nom_filter)"
   ]
  },
  {
   "cell_type": "code",
   "execution_count": null,
   "metadata": {
    "scrolled": false
   },
   "outputs": [],
   "source": [
    "fig = plt.figure(figsize=(8,6))\n",
    "ax = fig.add_subplot(1,1,1)\n",
    "ax.hist(nom_data['z'], bins=60, alpha=0.85, edgecolor='k');\n",
    "ax.set_title('Binning Scheme')\n",
    "ax.set_xlabel('$z$')\n",
    "\n",
    "for bin_edge in bins['z']:\n",
    "    ax.axvline(bin_edge, linestyle='-.', \n",
    "                    color='black', linewidth=1.25)\n",
    "\n",
    "plt.savefig('../image/binning_z.pdf', bbox_inches='tight')"
   ]
  },
  {
   "cell_type": "code",
   "execution_count": null,
   "metadata": {},
   "outputs": [],
   "source": [
    "plt.figure(figsize=(8,6))\n",
    "plt.hist2d(nom_data['phi_h'], nom_data['z'], \n",
    "           bins=50, norm=LogNorm());\n",
    "\n",
    "for bin_edge in bins['z']:\n",
    "    plt.axhline(bin_edge, linestyle='-.', \n",
    "                    color='black', linewidth=1.25)\n",
    "\n",
    "for bin_edge in np.linspace(-180, 180, 13):\n",
    "    plt.axvline(bin_edge, linestyle='-.', \n",
    "                    color='black', linewidth=1.25)  \n",
    "    \n",
    "plt.xlabel('$\\phi_h$')\n",
    "plt.ylabel('$z$')\n",
    "plt.savefig('../image/binning_z_phi.pdf', bbox_inches='tight')"
   ]
  },
  {
   "cell_type": "code",
   "execution_count": null,
   "metadata": {},
   "outputs": [],
   "source": [
    "fig = plt.figure(figsize=(8,6))\n",
    "ax = fig.add_subplot(1,1,1)\n",
    "ax.hist2d(nom_data['x'], nom_data['q2'], \n",
    "          bins=100, norm=LogNorm());"
   ]
  },
  {
   "cell_type": "code",
   "execution_count": null,
   "metadata": {},
   "outputs": [],
   "source": [
    "fig = plt.figure(figsize=(8,6))\n",
    "ax = fig.add_subplot(1,1,1)\n",
    "ax.hist2d(nom_data['x'], nom_data['dist_ecw'], \n",
    "          bins=100);"
   ]
  },
  {
   "cell_type": "code",
   "execution_count": null,
   "metadata": {
    "collapsed": true
   },
   "outputs": [],
   "source": [
    "var_corrs = nom_data.corr()[['x', 'q2', 'z', 'pt']]"
   ]
  },
  {
   "cell_type": "code",
   "execution_count": null,
   "metadata": {
    "collapsed": true
   },
   "outputs": [],
   "source": [
    "def inverse_d_transform(d, mini, maxi):\n",
    "    return (d * (maxi-mini) + (maxi+mini)) / 2.0"
   ]
  },
  {
   "cell_type": "code",
   "execution_count": null,
   "metadata": {},
   "outputs": [],
   "source": [
    "plt.hist(\n",
    "    inverse_d_transform(data['dist_vz'], -27, -21.85),\n",
    "        histtype='step', color='black', bins=200\n",
    ");"
   ]
  },
  {
   "cell_type": "code",
   "execution_count": null,
   "metadata": {},
   "outputs": [],
   "source": [
    "plt.figure( figsize=(16,9) )\n",
    "plt.hist2d(\n",
    "    data['p_mes'],\n",
    "    data['missing_mass'],\n",
    "    bins = 100,\n",
    "    norm = LogNorm(),\n",
    "    cmap = 'plasma'\n",
    ");\n",
    "\n",
    "plt.colorbar()\n",
    "plt.xlim([0.1, 4.5])\n",
    "plt.ylim([0.5, 2.5])\n",
    "\n",
    "plt.axhline(1.65, linestyle='-.', linewidth=1, color='k')\n",
    "plt.axvline(2.00, linestyle='-.', linewidth=1, color='k')\n",
    "\n",
    "plt.xlabel('$p_{K} \\; [GeV/c]$')\n",
    "plt.ylabel('$M_X (ep \\\\rightarrow e\\'K^+X) \\; [GeV/c^2]$')\n",
    "\n",
    "plt.text(3.25, 2.3, 'Analysis region \\n excluded in systematics')\n",
    "plt.savefig('../image/p_missing_mass.pdf', bbox_inches='tight')"
   ]
  },
  {
   "cell_type": "code",
   "execution_count": null,
   "metadata": {
    "collapsed": true
   },
   "outputs": [],
   "source": [
    "left_data = data.query('missing_mass < 1.65')\n",
    "right_data = data.query('missing_mass > 1.65')"
   ]
  },
  {
   "cell_type": "code",
   "execution_count": null,
   "metadata": {},
   "outputs": [],
   "source": [
    "plt.figure( figsize = (16,9) )\n",
    "plt.hist(\n",
    "    left_data['p_mes'], \n",
    "    bins = np.linspace(0, 4.5, 30),\n",
    "    alpha = 0.8,\n",
    "    density = True,\n",
    "    label = '$M_X < 1.65$',\n",
    "    edgecolor = 'k',\n",
    "    color = 'r'\n",
    ");\n",
    "\n",
    "plt.hist(\n",
    "    right_data['p_mes'], \n",
    "    bins = np.linspace(0, 4.5, 30),\n",
    "    alpha = 0.8,\n",
    "    density = True,\n",
    "    label = '$M_X > 1.65$',\n",
    "    edgecolor = 'k'\n",
    ");\n",
    "\n",
    "plt.legend(frameon = False)\n",
    "plt.xlabel('$p_{K^+} \\; [GeV/c]$')\n",
    "plt.ylabel('Normalized Density')\n",
    "plt.savefig('../image/p_with_missing_mass_cuts.pdf', bbox_inches = 'tight')"
   ]
  },
  {
   "cell_type": "code",
   "execution_count": null,
   "metadata": {},
   "outputs": [],
   "source": [
    "plt.hist(\n",
    "    nom_data['x'],\n",
    "    bins = np.linspace(0,1,30), \n",
    "    edgecolor = 'k',\n",
    "    color = 'red',\n",
    "    alpha = 0.6\n",
    ");\n",
    "plt.hist(\n",
    "    nom_data.query('p_mes > 0.5')['x'],\n",
    "    bins = np.linspace(0,1,30), \n",
    "    edgecolor = 'k',\n",
    "    color = 'blue',\n",
    "    alpha = 0.6\n",
    ");"
   ]
  },
  {
   "cell_type": "code",
   "execution_count": null,
   "metadata": {},
   "outputs": [],
   "source": [
    "plt.hist(\n",
    "    nom_data['z'],\n",
    "    bins = np.linspace(0,1,30), \n",
    "    edgecolor = 'k',\n",
    "    color = 'red',\n",
    "    alpha = 0.6\n",
    ");\n",
    "plt.hist(\n",
    "    nom_data.query('p_mes > 0.5')['z'],\n",
    "    bins = np.linspace(0,1,30), \n",
    "    edgecolor = 'k',\n",
    "    color = 'blue',\n",
    "    alpha = 0.6\n",
    ");"
   ]
  },
  {
   "cell_type": "code",
   "execution_count": null,
   "metadata": {
    "collapsed": true
   },
   "outputs": [],
   "source": []
  }
 ],
 "metadata": {
  "kernelspec": {
   "display_name": "Python 2",
   "language": "python",
   "name": "python2"
  },
  "language_info": {
   "codemirror_mode": {
    "name": "ipython",
    "version": 2
   },
   "file_extension": ".py",
   "mimetype": "text/x-python",
   "name": "python",
   "nbconvert_exporter": "python",
   "pygments_lexer": "ipython2",
   "version": "2.7.13"
  }
 },
 "nbformat": 4,
 "nbformat_minor": 2
}
