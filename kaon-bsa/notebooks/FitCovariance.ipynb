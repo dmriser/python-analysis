{
 "cells": [
  {
   "cell_type": "code",
   "execution_count": 1,
   "metadata": {},
   "outputs": [],
   "source": [
    "import matplotlib.pyplot as plt\n",
    "import numpy as np\n",
    "import pandas as pd\n",
    "import os\n",
    "\n",
    "%matplotlib inline"
   ]
  },
  {
   "cell_type": "code",
   "execution_count": 7,
   "metadata": {},
   "outputs": [
    {
     "data": {
      "text/plain": [
       "['variation_dist_ecv_1.csv',\n",
       " 'variation_alpha_1.csv',\n",
       " 'variation_dist_dcr3_1.csv',\n",
       " 'variation_dist_dcr1_1.csv',\n",
       " 'variation_alpha_-1.csv',\n",
       " 'variation_dvz_1.csv',\n",
       " 'variation_dist_dcr3_-1.csv',\n",
       " 'sector_4_sin.csv',\n",
       " 'variation_dist_dcr1_-1.csv',\n",
       " 'sector_5_sin.csv',\n",
       " 'variation_dist_ec_edep_1.csv',\n",
       " 'variation_dist_ecu_1.csv',\n",
       " 'sector_systematics.csv',\n",
       " 'variation_dist_ecsf_1.csv',\n",
       " 'variation_dist_ecu_-1.csv',\n",
       " 'variation_dist_vz_1.csv',\n",
       " 'variation_dist_ecw_1.csv',\n",
       " 'variation_dist_cc_-1.csv',\n",
       " 'sector_6_sin.csv',\n",
       " 'variation_dvz_-1.csv',\n",
       " 'variation_dist_ecw_-1.csv',\n",
       " 'sector_3_sin.csv',\n",
       " 'variation_p_mes_0.csv',\n",
       " 'README.md',\n",
       " 'sector_3.csv',\n",
       " 'bootstrap_est_sector_1.csv',\n",
       " 'sector_2.csv',\n",
       " 'variation_missing_mass_-1.csv',\n",
       " 'variation_p_mes_1.csv',\n",
       " 'bootstrap_est_sector_2.csv',\n",
       " 'monte_carlo.csv',\n",
       " 'bootstrap_est_sector_3.csv',\n",
       " 'sector_1.csv',\n",
       " 'sector_5.csv',\n",
       " 'bootstrap_est_sector_6.csv',\n",
       " 'sector_4.csv',\n",
       " 'sector_2_sin.csv',\n",
       " 'sector_6.csv',\n",
       " 'bootstrap_est_sector_4.csv',\n",
       " 'variation_dist_ecsf_-1.csv',\n",
       " 'variation_dist_ec_edep_-1.csv',\n",
       " 'bootstrap_est_sector_5.csv',\n",
       " 'variation_p_mes_-1.csv',\n",
       " 'sys.csv',\n",
       " 'variation_dist_cc_0.csv',\n",
       " 'variation_dist_vz_-1.csv',\n",
       " 'sector_1_sin.csv',\n",
       " 'variation_dist_ecv_-1.csv',\n",
       " 'variation_missing_mass_1.csv']"
      ]
     },
     "execution_count": 7,
     "metadata": {},
     "output_type": "execute_result"
    }
   ],
   "source": [
    "os.listdir('../database/fit/')"
   ]
  },
  {
   "cell_type": "code",
   "execution_count": 8,
   "metadata": {},
   "outputs": [],
   "source": [
    "data = pd.read_csv('../database/fit/bootstrap_est_sector_1.csv')"
   ]
  },
  {
   "cell_type": "code",
   "execution_count": 12,
   "metadata": {},
   "outputs": [],
   "source": [
    "par1 = data['bootstraps_0'].iloc[0]\n",
    "par2 = data['bootstraps_1'].iloc[0]\n",
    "par3 = data['bootstraps_2'].iloc[0]"
   ]
  },
  {
   "cell_type": "code",
   "execution_count": 18,
   "metadata": {},
   "outputs": [
    {
     "name": "stdout",
     "output_type": "stream",
     "text": [
      "0.03124897\n",
      "0.02829139\n",
      "0.00833879\n",
      "0.02242729\n",
      "0.01501301\n",
      "0.01809298\n",
      "0.03393473\n",
      "0.0080097\n",
      "0.00661319\n",
      "0.01104078\n",
      "0.03147077\n",
      "0.02143242\n",
      "0.03431795\n",
      "0.02044981\n",
      "0.01964931\n",
      "-0.00378475\n",
      "0.01346118\n",
      "0.01385243\n",
      "0.01688687\n",
      "0.01033595\n",
      "0.02792692\n",
      "0.00536962\n",
      "0.00813814\n",
      "0.01344624\n",
      "0.02000818\n",
      "0.01427216\n",
      "0.02023809\n",
      "-0.00503068\n",
      "0.00078091\n",
      "0.01585325\n",
      "0.00315732\n",
      "0.01642055\n",
      "0.0152594\n",
      "0.01729316\n",
      "0.01887265\n",
      "0.03538287\n",
      "0.02165372\n",
      "0.0090565\n",
      "0.01297844\n",
      "0.04110297\n",
      "0.00048542\n",
      "0.01359142\n",
      "0.01549584\n",
      "0.01431051\n",
      "0.01449492\n",
      "0.02004068\n",
      "0.0197526\n",
      "0.0028431\n",
      "0.01100055\n",
      "0.02339589\n",
      "0.0398907\n",
      "0.01860212\n",
      "0.03234788\n",
      "0.01164184\n",
      "0.00179718\n",
      "0.01260454\n",
      "0.02787996\n",
      "0.02192549\n",
      "-0.00638913\n",
      "0.02325573\n",
      "0.00899978\n",
      "0.03012937\n",
      "-0.0056832\n",
      "0.00542809\n",
      "0.00059595\n",
      "0.00862254\n",
      "0.05718854\n",
      "0.01726761\n",
      "0.01733471\n",
      "0.01827978\n",
      "-0.00070579\n",
      "0.00163621\n",
      "0.03615141\n",
      "0.0084118\n",
      "0.01548893\n",
      "0.01049489\n",
      "0.02353233\n",
      "0.01303757\n",
      "0.0195606\n",
      "0.01454599\n",
      "0.00463471\n",
      "0.03595762\n",
      "0.02784053\n",
      "0.00180832\n",
      "0.01650795\n",
      "0.01684558\n",
      "0.01742146\n",
      "0.04251536\n",
      "0.03143543\n",
      "-0.01065428\n",
      "-0.00060391\n",
      "0.01605966\n",
      "-0.00827097\n",
      "0.0223476\n",
      "0.01930287\n",
      "0.02022732\n",
      "0.00791742\n",
      "0.03083893\n",
      "0.01975918\n",
      "0.0046792\n",
      "0.03403976\n",
      "0.01204553\n",
      "0.01463264\n",
      "0.03747663\n",
      "0.00542994\n",
      "0.01972594\n",
      "0.01713478\n",
      "0.01480368\n",
      "0.01015017\n",
      "0.02232186\n",
      "0.01340454\n",
      "0.02501213\n",
      "0.02177154\n",
      "0.01175525\n",
      "0.02532933\n",
      "-0.0031752\n",
      "0.01661175\n",
      "0.00990152\n",
      "0.01335634\n",
      "0.00122058\n",
      "-0.01319672\n",
      "0.03397419\n",
      "0.02649989\n",
      "0.02740387\n",
      "0.01151166\n",
      "-0.00092438\n",
      "0.02158708\n",
      "-0.00549659\n",
      "0.02686674\n",
      "0.02660711\n",
      "0.00553852\n",
      "0.0404484\n",
      "0.01450581\n",
      "0.02267764\n",
      "-0.00954977\n",
      "0.01127495\n",
      "0.02720105\n",
      "0.01177126\n",
      "0.0025642\n",
      "-0.00428866\n",
      "0.01593567\n",
      "0.02533349\n",
      "0.03334746\n",
      "0.01506209\n",
      "0.03426274\n",
      "0.00219755\n",
      "0.01298131\n",
      "0.01120885\n",
      "0.02307901\n",
      "0.03618743\n",
      "0.03779883\n",
      "-0.00345939\n",
      "0.0086718\n",
      "0.0243321\n",
      "0.01682688\n",
      "0.03313582\n",
      "0.00145168\n",
      "-0.00677076\n",
      "0.01471113\n",
      "0.01913112\n",
      "0.01885463\n",
      "0.01451588\n",
      "0.01850242\n",
      "0.02661562\n",
      "0.01929568\n",
      "0.02299386\n",
      "-0.00258948\n",
      "0.01452901\n",
      "0.02195573\n",
      "0.00766754\n",
      "-0.01508256\n",
      "0.0112759\n",
      "0.01001494\n",
      "0.03408853\n",
      "0.01023047\n",
      "0.01111857\n",
      "0.00429615\n",
      "0.02911352\n",
      "0.04118736\n",
      "0.02452066\n",
      "0.01245156\n",
      "0.0078989\n",
      "0.01088973\n",
      "0.01844338\n",
      "0.00304345\n",
      "0.01346217\n",
      "0.01363841\n",
      "0.00025137\n",
      "0.00570737\n",
      "0.02407086\n",
      "0.01865632\n",
      "0.03669725\n",
      "0.0150229\n",
      "0.00948032\n",
      "-0.00499122\n",
      "0.02265779\n",
      "0.00886552\n",
      "0.01328535\n",
      "0.01031017\n",
      "0.04195675\n",
      "-0.00595053\n",
      "0.00940344\n",
      "0.0114201\n",
      "0.02683744\n",
      "0.02056428\n",
      "0.00479224\n",
      "0.03742028\n",
      "0.02290764\n",
      "0.01031129\n",
      "0.02589576\n",
      "0.00721205\n",
      "0.00041592\n",
      "0.02622448\n",
      "0.01808907\n",
      "0.01987863\n",
      "0.0259515\n",
      "-0.00651946\n",
      "0.00069432\n",
      "0.03070988\n",
      "0.00224136\n",
      "0.01928388\n",
      "0.0174435\n",
      "0.00526141\n",
      "0.02311261\n",
      "0.00585119\n",
      "0.01732135\n",
      "0.0086492\n",
      "0.01129224\n",
      "0.00609253\n",
      "0.00890516\n",
      "0.02507014\n",
      "0.03551759\n",
      "0.00306303\n",
      "0.01937577\n",
      "-0.00937796\n",
      "0.02809223\n",
      "0.02165334\n",
      "0.02663815\n",
      "0.00665392\n",
      "0.01783736\n",
      "0.00082755\n",
      "0.0158853\n",
      "0.02167913\n",
      "0.01061133\n",
      "0.04177226\n",
      "0.02028634\n",
      "0.02870466\n",
      "0.03067858\n",
      "0.02620298\n",
      "-0.02526864\n",
      "0.00882263\n",
      "0.01136566\n",
      "-0.00320826\n",
      "0.02665156\n",
      "0.01868949\n",
      "0.03016349]\n"
     ]
    }
   ],
   "source": [
    "for s in par1.strip().split():\n",
    "    if s not in [\"[\", \"]\"]:\n",
    "        print(s)"
   ]
  },
  {
   "cell_type": "code",
   "execution_count": 28,
   "metadata": {},
   "outputs": [],
   "source": [
    "def clean_array(x):\n",
    "    \"\"\" Remove the bad stuff. \"\"\"\n",
    "    forbidden_chars = ['[',']','{','}']\n",
    "    \n",
    "    clean = [] \n",
    "    for s in x.strip().split():\n",
    "        \n",
    "        cleaned_string = []\n",
    "        if s not in forbidden_chars:        \n",
    "            clean.append(s.strip(']'))\n",
    "        \n",
    "    clean = [float(s) for s in clean]\n",
    "    return np.array(clean)\n",
    "            "
   ]
  },
  {
   "cell_type": "code",
   "execution_count": 30,
   "metadata": {},
   "outputs": [],
   "source": [
    "par1 = clean_array(par1)\n",
    "par2 = clean_array(par2)\n",
    "par3 = clean_array(par3)"
   ]
  },
  {
   "cell_type": "code",
   "execution_count": 37,
   "metadata": {},
   "outputs": [
    {
     "data": {
      "text/plain": [
       "(-1, 1)"
      ]
     },
     "execution_count": 37,
     "metadata": {},
     "output_type": "execute_result"
    },
    {
     "data": {
      "image/png": "[encoded data removed]",
      "text/plain": [
       "<Figure size 432x288 with 1 Axes>"
      ]
     },
     "metadata": {
      "needs_background": "light"
     },
     "output_type": "display_data"
    }
   ],
   "source": [
    "plt.scatter(par1, par2, edgecolor='k', color='w', marker='o')\n",
    "plt.grid(alpha=0.2)\n",
    "plt.xlim([-0.1, 0.1])\n",
    "plt.ylim([-1, 1])"
   ]
  },
  {
   "cell_type": "code",
   "execution_count": 38,
   "metadata": {},
   "outputs": [
    {
     "data": {
      "text/plain": [
       "(-1, 1)"
      ]
     },
     "execution_count": 38,
     "metadata": {},
     "output_type": "execute_result"
    },
    {
     "data": {
      "image/png": "[encoded data removed]",
      "text/plain": [
       "<Figure size 432x288 with 1 Axes>"
      ]
     },
     "metadata": {
      "needs_background": "light"
     },
     "output_type": "display_data"
    }
   ],
   "source": [
    "plt.scatter(par2, par3, edgecolor='k', color='w', marker='o')\n",
    "plt.grid(alpha=0.2)\n",
    "plt.xlim([-1, 1])\n",
    "plt.ylim([-1, 1])"
   ]
  },
  {
   "cell_type": "code",
   "execution_count": 40,
   "metadata": {},
   "outputs": [],
   "source": [
    "pars = np.empty(shape=(len(par1),3))"
   ]
  },
  {
   "cell_type": "code",
   "execution_count": 41,
   "metadata": {},
   "outputs": [],
   "source": [
    "pars[:,0] = par1\n",
    "pars[:,1] = par2\n",
    "pars[:,2] = par3"
   ]
  },
  {
   "cell_type": "code",
   "execution_count": 58,
   "metadata": {},
   "outputs": [],
   "source": [
    "mu_matrix = np.zeros(shape=(len(par1),3))\n",
    "mu_matrix[:,0] = pars.mean(axis=1)\n",
    "mu_matrix[:,1] = pars.mean(axis=1)\n",
    "mu_matrix[:,2] = pars.mean(axis=1)"
   ]
  },
  {
   "cell_type": "code",
   "execution_count": 65,
   "metadata": {},
   "outputs": [
    {
     "data": {
      "text/plain": [
       "array([[ 5.90322831, -4.71541097, -1.18781735],\n",
       "       [-4.71541097,  6.47559602, -1.76018505],\n",
       "       [-1.18781735, -1.76018505,  2.9480024 ]])"
      ]
     },
     "execution_count": 65,
     "metadata": {},
     "output_type": "execute_result"
    }
   ],
   "source": [
    "np.matmul((pars - mu_matrix).transpose(),(pars - mu_matrix))         "
   ]
  },
  {
   "cell_type": "code",
   "execution_count": null,
   "metadata": {},
   "outputs": [],
   "source": []
  }
 ],
 "metadata": {
  "kernelspec": {
   "display_name": "Python 3",
   "language": "python",
   "name": "python3"
  },
  "language_info": {
   "codemirror_mode": {
    "name": "ipython",
    "version": 3
   },
   "file_extension": ".py",
   "mimetype": "text/x-python",
   "name": "python",
   "nbconvert_exporter": "python",
   "pygments_lexer": "ipython3",
   "version": "3.7.4"
  }
 },
 "nbformat": 4,
 "nbformat_minor": 2
}
