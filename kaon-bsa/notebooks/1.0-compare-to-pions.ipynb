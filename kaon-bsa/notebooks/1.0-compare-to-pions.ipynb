{
 "cells": [
  {
   "cell_type": "markdown",
   "metadata": {},
   "source": [
    "# Overview \n",
    "This notebook uses the final results and the results from Wes Gohn's publication to compare kaon to pion BSAs."
   ]
  },
  {
   "cell_type": "code",
   "execution_count": 1,
   "metadata": {
    "collapsed": true
   },
   "outputs": [],
   "source": [
    "import matplotlib.pyplot as plt \n",
    "import numpy as np \n",
    "import pandas as pd \n",
    "\n",
    "%matplotlib inline"
   ]
  },
  {
   "cell_type": "code",
   "execution_count": 2,
   "metadata": {
    "collapsed": true
   },
   "outputs": [],
   "source": [
    "plt.rc('text', usetex=True)\n",
    "plt.rc('font', family='serif')\n",
    "plt.rc('font', size=18)"
   ]
  },
  {
   "cell_type": "code",
   "execution_count": 3,
   "metadata": {
    "collapsed": true
   },
   "outputs": [],
   "source": [
    "kaon_df = pd.read_csv('../results/fit/sys.csv')\n",
    "pion_df = pd.read_csv('../results/wes/pip.csv')"
   ]
  },
  {
   "cell_type": "code",
   "execution_count": 4,
   "metadata": {},
   "outputs": [
    {
     "data": {
      "text/html": [
       "<div>\n",
       "<style scoped>\n",
       "    .dataframe tbody tr th:only-of-type {\n",
       "        vertical-align: middle;\n",
       "    }\n",
       "\n",
       "    .dataframe tbody tr th {\n",
       "        vertical-align: top;\n",
       "    }\n",
       "\n",
       "    .dataframe thead th {\n",
       "        text-align: right;\n",
       "    }\n",
       "</style>\n",
       "<table border=\"1\" class=\"dataframe\">\n",
       "  <thead>\n",
       "    <tr style=\"text-align: right;\">\n",
       "      <th></th>\n",
       "      <th>axis</th>\n",
       "      <th>axis_bin</th>\n",
       "      <th>axis_max</th>\n",
       "      <th>axis_min</th>\n",
       "      <th>bootstraps_0</th>\n",
       "      <th>bootstraps_1</th>\n",
       "      <th>bootstraps_2</th>\n",
       "      <th>err_0</th>\n",
       "      <th>err_1</th>\n",
       "      <th>err_2</th>\n",
       "      <th>...</th>\n",
       "      <th>sys_10_par2</th>\n",
       "      <th>sys_11_par0</th>\n",
       "      <th>sys_11_par1</th>\n",
       "      <th>sys_11_par2</th>\n",
       "      <th>sys_5_par0</th>\n",
       "      <th>sys_5_par1</th>\n",
       "      <th>sys_5_par2</th>\n",
       "      <th>sys_13_par0</th>\n",
       "      <th>sys_13_par1</th>\n",
       "      <th>sys_13_par2</th>\n",
       "    </tr>\n",
       "  </thead>\n",
       "  <tbody>\n",
       "    <tr>\n",
       "      <th>0</th>\n",
       "      <td>missing_mass</td>\n",
       "      <td>0</td>\n",
       "      <td>1.510155</td>\n",
       "      <td>1.200002</td>\n",
       "      <td>[0.02225417 0.01868085 0.02430717 0.01575848 0...</td>\n",
       "      <td>[-0.20593838 -0.6251733  -0.14924845  0.701034...</td>\n",
       "      <td>[-0.00546303  0.29879084 -0.07955831 -1.      ...</td>\n",
       "      <td>0.005068</td>\n",
       "      <td>0.417107</td>\n",
       "      <td>0.415341</td>\n",
       "      <td>...</td>\n",
       "      <td>0.095727</td>\n",
       "      <td>0.000345</td>\n",
       "      <td>0.122739</td>\n",
       "      <td>0.084732</td>\n",
       "      <td>0.000261</td>\n",
       "      <td>0.081840</td>\n",
       "      <td>0.031163</td>\n",
       "      <td>0.000530</td>\n",
       "      <td>0.031641</td>\n",
       "      <td>0.027360</td>\n",
       "    </tr>\n",
       "    <tr>\n",
       "      <th>1</th>\n",
       "      <td>missing_mass</td>\n",
       "      <td>1</td>\n",
       "      <td>1.665859</td>\n",
       "      <td>1.510155</td>\n",
       "      <td>[0.03776505 0.0436645  0.02406418 0.03907096 0...</td>\n",
       "      <td>[-0.71551317 -0.22400042  0.7214608  -0.566917...</td>\n",
       "      <td>[ 0.1075915   0.10739436 -1.          0.122527...</td>\n",
       "      <td>0.007821</td>\n",
       "      <td>0.465271</td>\n",
       "      <td>0.530635</td>\n",
       "      <td>...</td>\n",
       "      <td>0.071746</td>\n",
       "      <td>0.001366</td>\n",
       "      <td>0.051893</td>\n",
       "      <td>0.087805</td>\n",
       "      <td>0.001436</td>\n",
       "      <td>0.054398</td>\n",
       "      <td>0.046528</td>\n",
       "      <td>0.001260</td>\n",
       "      <td>0.034409</td>\n",
       "      <td>0.068812</td>\n",
       "    </tr>\n",
       "    <tr>\n",
       "      <th>2</th>\n",
       "      <td>missing_mass</td>\n",
       "      <td>2</td>\n",
       "      <td>1.830956</td>\n",
       "      <td>1.665859</td>\n",
       "      <td>[0.03101197 0.02944994 0.02324346 0.03308088 0...</td>\n",
       "      <td>[-1.08128265e-01 -5.35562098e-01 -5.72108090e-...</td>\n",
       "      <td>[-0.03885911 -0.9521305   0.31993136 -0.052995...</td>\n",
       "      <td>0.005587</td>\n",
       "      <td>0.409944</td>\n",
       "      <td>0.586307</td>\n",
       "      <td>...</td>\n",
       "      <td>0.016564</td>\n",
       "      <td>0.001277</td>\n",
       "      <td>0.022554</td>\n",
       "      <td>0.098250</td>\n",
       "      <td>0.000959</td>\n",
       "      <td>0.025283</td>\n",
       "      <td>0.115873</td>\n",
       "      <td>0.001376</td>\n",
       "      <td>0.015058</td>\n",
       "      <td>0.051217</td>\n",
       "    </tr>\n",
       "    <tr>\n",
       "      <th>3</th>\n",
       "      <td>missing_mass</td>\n",
       "      <td>3</td>\n",
       "      <td>2.005970</td>\n",
       "      <td>1.830956</td>\n",
       "      <td>[0.02259868 0.02790317 0.01437908 0.02406591 0...</td>\n",
       "      <td>[-0.62269145 -0.65569043 -0.69016474 -0.456321...</td>\n",
       "      <td>[-0.1976166  -1.          0.5478301  -0.091414...</td>\n",
       "      <td>0.006617</td>\n",
       "      <td>0.519003</td>\n",
       "      <td>0.486510</td>\n",
       "      <td>...</td>\n",
       "      <td>0.084617</td>\n",
       "      <td>0.002939</td>\n",
       "      <td>0.182898</td>\n",
       "      <td>0.186247</td>\n",
       "      <td>0.001364</td>\n",
       "      <td>0.107271</td>\n",
       "      <td>0.048370</td>\n",
       "      <td>0.001085</td>\n",
       "      <td>0.017738</td>\n",
       "      <td>0.036881</td>\n",
       "    </tr>\n",
       "    <tr>\n",
       "      <th>4</th>\n",
       "      <td>missing_mass</td>\n",
       "      <td>4</td>\n",
       "      <td>2.495670</td>\n",
       "      <td>2.005970</td>\n",
       "      <td>[0.01692972 0.01338771 0.022899   0.00839217 0...</td>\n",
       "      <td>[-3.2300177e-01 -7.0230949e-01 -5.7871330e-01 ...</td>\n",
       "      <td>[ 0.15275206  0.52411085  0.20496316  0.373486...</td>\n",
       "      <td>0.005037</td>\n",
       "      <td>0.496410</td>\n",
       "      <td>0.519936</td>\n",
       "      <td>...</td>\n",
       "      <td>0.008491</td>\n",
       "      <td>0.000579</td>\n",
       "      <td>0.056927</td>\n",
       "      <td>0.164260</td>\n",
       "      <td>0.000245</td>\n",
       "      <td>0.008949</td>\n",
       "      <td>0.013617</td>\n",
       "      <td>0.000686</td>\n",
       "      <td>0.094528</td>\n",
       "      <td>0.037351</td>\n",
       "    </tr>\n",
       "  </tbody>\n",
       "</table>\n",
       "<p>5 rows × 55 columns</p>\n",
       "</div>"
      ],
      "text/plain": [
       "           axis  axis_bin  axis_max  axis_min  \\\n",
       "0  missing_mass         0  1.510155  1.200002   \n",
       "1  missing_mass         1  1.665859  1.510155   \n",
       "2  missing_mass         2  1.830956  1.665859   \n",
       "3  missing_mass         3  2.005970  1.830956   \n",
       "4  missing_mass         4  2.495670  2.005970   \n",
       "\n",
       "                                        bootstraps_0  \\\n",
       "0  [0.02225417 0.01868085 0.02430717 0.01575848 0...   \n",
       "1  [0.03776505 0.0436645  0.02406418 0.03907096 0...   \n",
       "2  [0.03101197 0.02944994 0.02324346 0.03308088 0...   \n",
       "3  [0.02259868 0.02790317 0.01437908 0.02406591 0...   \n",
       "4  [0.01692972 0.01338771 0.022899   0.00839217 0...   \n",
       "\n",
       "                                        bootstraps_1  \\\n",
       "0  [-0.20593838 -0.6251733  -0.14924845  0.701034...   \n",
       "1  [-0.71551317 -0.22400042  0.7214608  -0.566917...   \n",
       "2  [-1.08128265e-01 -5.35562098e-01 -5.72108090e-...   \n",
       "3  [-0.62269145 -0.65569043 -0.69016474 -0.456321...   \n",
       "4  [-3.2300177e-01 -7.0230949e-01 -5.7871330e-01 ...   \n",
       "\n",
       "                                        bootstraps_2     err_0     err_1  \\\n",
       "0  [-0.00546303  0.29879084 -0.07955831 -1.      ...  0.005068  0.417107   \n",
       "1  [ 0.1075915   0.10739436 -1.          0.122527...  0.007821  0.465271   \n",
       "2  [-0.03885911 -0.9521305   0.31993136 -0.052995...  0.005587  0.409944   \n",
       "3  [-0.1976166  -1.          0.5478301  -0.091414...  0.006617  0.519003   \n",
       "4  [ 0.15275206  0.52411085  0.20496316  0.373486...  0.005037  0.496410   \n",
       "\n",
       "      err_2     ...       sys_10_par2  sys_11_par0  sys_11_par1  sys_11_par2  \\\n",
       "0  0.415341     ...          0.095727     0.000345     0.122739     0.084732   \n",
       "1  0.530635     ...          0.071746     0.001366     0.051893     0.087805   \n",
       "2  0.586307     ...          0.016564     0.001277     0.022554     0.098250   \n",
       "3  0.486510     ...          0.084617     0.002939     0.182898     0.186247   \n",
       "4  0.519936     ...          0.008491     0.000579     0.056927     0.164260   \n",
       "\n",
       "   sys_5_par0  sys_5_par1  sys_5_par2  sys_13_par0  sys_13_par1  sys_13_par2  \n",
       "0    0.000261    0.081840    0.031163     0.000530     0.031641     0.027360  \n",
       "1    0.001436    0.054398    0.046528     0.001260     0.034409     0.068812  \n",
       "2    0.000959    0.025283    0.115873     0.001376     0.015058     0.051217  \n",
       "3    0.001364    0.107271    0.048370     0.001085     0.017738     0.036881  \n",
       "4    0.000245    0.008949    0.013617     0.000686     0.094528     0.037351  \n",
       "\n",
       "[5 rows x 55 columns]"
      ]
     },
     "execution_count": 4,
     "metadata": {},
     "output_type": "execute_result"
    }
   ],
   "source": [
    "kaon_df.head() "
   ]
  },
  {
   "cell_type": "code",
   "execution_count": 5,
   "metadata": {},
   "outputs": [
    {
     "data": {
      "text/html": [
       "<div>\n",
       "<style scoped>\n",
       "    .dataframe tbody tr th:only-of-type {\n",
       "        vertical-align: middle;\n",
       "    }\n",
       "\n",
       "    .dataframe tbody tr th {\n",
       "        vertical-align: top;\n",
       "    }\n",
       "\n",
       "    .dataframe thead th {\n",
       "        text-align: right;\n",
       "    }\n",
       "</style>\n",
       "<table border=\"1\" class=\"dataframe\">\n",
       "  <thead>\n",
       "    <tr style=\"text-align: right;\">\n",
       "      <th></th>\n",
       "      <th>axis</th>\n",
       "      <th>axis_bin</th>\n",
       "      <th>axis_value</th>\n",
       "      <th>value</th>\n",
       "      <th>stat</th>\n",
       "      <th>sys</th>\n",
       "    </tr>\n",
       "  </thead>\n",
       "  <tbody>\n",
       "    <tr>\n",
       "      <th>0</th>\n",
       "      <td>z</td>\n",
       "      <td>0</td>\n",
       "      <td>0.05</td>\n",
       "      <td>0.0059</td>\n",
       "      <td>0.0004</td>\n",
       "      <td>0.0004</td>\n",
       "    </tr>\n",
       "    <tr>\n",
       "      <th>1</th>\n",
       "      <td>z</td>\n",
       "      <td>1</td>\n",
       "      <td>0.15</td>\n",
       "      <td>0.0071</td>\n",
       "      <td>0.0009</td>\n",
       "      <td>0.0002</td>\n",
       "    </tr>\n",
       "    <tr>\n",
       "      <th>2</th>\n",
       "      <td>z</td>\n",
       "      <td>2</td>\n",
       "      <td>0.25</td>\n",
       "      <td>0.0070</td>\n",
       "      <td>0.0010</td>\n",
       "      <td>0.0010</td>\n",
       "    </tr>\n",
       "    <tr>\n",
       "      <th>3</th>\n",
       "      <td>z</td>\n",
       "      <td>3</td>\n",
       "      <td>0.35</td>\n",
       "      <td>0.0110</td>\n",
       "      <td>0.0010</td>\n",
       "      <td>0.0010</td>\n",
       "    </tr>\n",
       "    <tr>\n",
       "      <th>4</th>\n",
       "      <td>z</td>\n",
       "      <td>4</td>\n",
       "      <td>0.45</td>\n",
       "      <td>0.0150</td>\n",
       "      <td>0.0010</td>\n",
       "      <td>0.0010</td>\n",
       "    </tr>\n",
       "  </tbody>\n",
       "</table>\n",
       "</div>"
      ],
      "text/plain": [
       "  axis  axis_bin  axis_value   value    stat     sys\n",
       "0    z         0        0.05  0.0059  0.0004  0.0004\n",
       "1    z         1        0.15  0.0071  0.0009  0.0002\n",
       "2    z         2        0.25  0.0070  0.0010  0.0010\n",
       "3    z         3        0.35  0.0110  0.0010  0.0010\n",
       "4    z         4        0.45  0.0150  0.0010  0.0010"
      ]
     },
     "execution_count": 5,
     "metadata": {},
     "output_type": "execute_result"
    }
   ],
   "source": [
    "pion_df.head()"
   ]
  },
  {
   "cell_type": "code",
   "execution_count": 6,
   "metadata": {},
   "outputs": [
    {
     "name": "stdout",
     "output_type": "stream",
     "text": [
      "Index([u'axis', u'axis_bin', u'axis_max', u'axis_min', u'bootstraps_0',\n",
      "       u'bootstraps_1', u'bootstraps_2', u'err_0', u'err_1', u'err_2',\n",
      "       u'par_0', u'par_1', u'par_2', u'sys_total_0', u'sys_total_1',\n",
      "       u'sys_total_2', u'sys_1_par0', u'sys_1_par1', u'sys_1_par2',\n",
      "       u'sys_2_par0', u'sys_2_par1', u'sys_2_par2', u'sys_3_par0',\n",
      "       u'sys_3_par1', u'sys_3_par2', u'sys_4_par0', u'sys_4_par1',\n",
      "       u'sys_4_par2', u'sys_12_par0', u'sys_12_par1', u'sys_12_par2',\n",
      "       u'sys_6_par0', u'sys_6_par1', u'sys_6_par2', u'sys_7_par0',\n",
      "       u'sys_7_par1', u'sys_7_par2', u'sys_8_par0', u'sys_8_par1',\n",
      "       u'sys_8_par2', u'sys_9_par0', u'sys_9_par1', u'sys_9_par2',\n",
      "       u'sys_10_par0', u'sys_10_par1', u'sys_10_par2', u'sys_11_par0',\n",
      "       u'sys_11_par1', u'sys_11_par2', u'sys_5_par0', u'sys_5_par1',\n",
      "       u'sys_5_par2', u'sys_13_par0', u'sys_13_par1', u'sys_13_par2'],\n",
      "      dtype='object')\n"
     ]
    }
   ],
   "source": [
    "print(kaon_df.columns)"
   ]
  },
  {
   "cell_type": "code",
   "execution_count": 7,
   "metadata": {},
   "outputs": [
    {
     "name": "stdout",
     "output_type": "stream",
     "text": [
      "Index([u'axis', u'axis_bin', u'axis_value', u'value', u'stat', u'sys'], dtype='object')\n"
     ]
    }
   ],
   "source": [
    "print(pion_df.columns)"
   ]
  },
  {
   "cell_type": "markdown",
   "metadata": {},
   "source": [
    "Since the kaon dataframe doesn't have the `axis_value` column, i'll quickly add it for plotting."
   ]
  },
  {
   "cell_type": "code",
   "execution_count": 8,
   "metadata": {
    "collapsed": true
   },
   "outputs": [],
   "source": [
    "kaon_df['axis_value'] = kaon_df.axis_min + 0.5 * (kaon_df.axis_max-kaon_df.axis_min)"
   ]
  },
  {
   "cell_type": "markdown",
   "metadata": {},
   "source": [
    "Some of the names in the `kaon_df` are confusing.  I will rename the important columns and drop the rest."
   ]
  },
  {
   "cell_type": "code",
   "execution_count": 9,
   "metadata": {
    "collapsed": true
   },
   "outputs": [],
   "source": [
    "kaon_df.rename(columns={'par_0':'value', \n",
    "                        'err_0':'stat', \n",
    "                        'sys_total_0':'sys'\n",
    "                       }, inplace=True)\n",
    "\n",
    "keep_cols = pion_df.columns\n",
    "drop_cols = [col for col in kaon_df.columns if col not in keep_cols]\n",
    "kaon_df.drop(columns=drop_cols, inplace=True)"
   ]
  },
  {
   "cell_type": "code",
   "execution_count": 10,
   "metadata": {},
   "outputs": [
    {
     "data": {
      "text/html": [
       "<div>\n",
       "<style scoped>\n",
       "    .dataframe tbody tr th:only-of-type {\n",
       "        vertical-align: middle;\n",
       "    }\n",
       "\n",
       "    .dataframe tbody tr th {\n",
       "        vertical-align: top;\n",
       "    }\n",
       "\n",
       "    .dataframe thead th {\n",
       "        text-align: right;\n",
       "    }\n",
       "</style>\n",
       "<table border=\"1\" class=\"dataframe\">\n",
       "  <thead>\n",
       "    <tr style=\"text-align: right;\">\n",
       "      <th></th>\n",
       "      <th>axis</th>\n",
       "      <th>axis_bin</th>\n",
       "      <th>stat</th>\n",
       "      <th>value</th>\n",
       "      <th>sys</th>\n",
       "      <th>axis_value</th>\n",
       "    </tr>\n",
       "  </thead>\n",
       "  <tbody>\n",
       "    <tr>\n",
       "      <th>0</th>\n",
       "      <td>missing_mass</td>\n",
       "      <td>0</td>\n",
       "      <td>0.005068</td>\n",
       "      <td>0.021892</td>\n",
       "      <td>0.003459</td>\n",
       "      <td>1.355079</td>\n",
       "    </tr>\n",
       "    <tr>\n",
       "      <th>1</th>\n",
       "      <td>missing_mass</td>\n",
       "      <td>1</td>\n",
       "      <td>0.007821</td>\n",
       "      <td>0.035554</td>\n",
       "      <td>0.004464</td>\n",
       "      <td>1.588007</td>\n",
       "    </tr>\n",
       "    <tr>\n",
       "      <th>2</th>\n",
       "      <td>missing_mass</td>\n",
       "      <td>2</td>\n",
       "      <td>0.005587</td>\n",
       "      <td>0.024029</td>\n",
       "      <td>0.005866</td>\n",
       "      <td>1.748407</td>\n",
       "    </tr>\n",
       "    <tr>\n",
       "      <th>3</th>\n",
       "      <td>missing_mass</td>\n",
       "      <td>3</td>\n",
       "      <td>0.006617</td>\n",
       "      <td>0.021874</td>\n",
       "      <td>0.005050</td>\n",
       "      <td>1.918463</td>\n",
       "    </tr>\n",
       "    <tr>\n",
       "      <th>4</th>\n",
       "      <td>missing_mass</td>\n",
       "      <td>4</td>\n",
       "      <td>0.005037</td>\n",
       "      <td>0.017098</td>\n",
       "      <td>0.005970</td>\n",
       "      <td>2.250820</td>\n",
       "    </tr>\n",
       "  </tbody>\n",
       "</table>\n",
       "</div>"
      ],
      "text/plain": [
       "           axis  axis_bin      stat     value       sys  axis_value\n",
       "0  missing_mass         0  0.005068  0.021892  0.003459    1.355079\n",
       "1  missing_mass         1  0.007821  0.035554  0.004464    1.588007\n",
       "2  missing_mass         2  0.005587  0.024029  0.005866    1.748407\n",
       "3  missing_mass         3  0.006617  0.021874  0.005050    1.918463\n",
       "4  missing_mass         4  0.005037  0.017098  0.005970    2.250820"
      ]
     },
     "execution_count": 10,
     "metadata": {},
     "output_type": "execute_result"
    }
   ],
   "source": [
    "kaon_df.head()"
   ]
  },
  {
   "cell_type": "code",
   "execution_count": 11,
   "metadata": {
    "collapsed": true
   },
   "outputs": [],
   "source": [
    "pion_axes = pion_df.axis.unique()\n",
    "kaon_axes = kaon_df.axis.unique()"
   ]
  },
  {
   "cell_type": "code",
   "execution_count": 12,
   "metadata": {},
   "outputs": [
    {
     "ename": "AssertionError",
     "evalue": "",
     "output_type": "error",
     "traceback": [
      "\u001b[0;31m---------------------------------------------------------------------------\u001b[0m",
      "\u001b[0;31mAssertionError\u001b[0m                            Traceback (most recent call last)",
      "\u001b[0;32m<ipython-input-12-6aa46ff5662d>\u001b[0m in \u001b[0;36m<module>\u001b[0;34m()\u001b[0m\n\u001b[1;32m      3\u001b[0m \u001b[0;34m\u001b[0m\u001b[0m\n\u001b[1;32m      4\u001b[0m \u001b[0;32mfor\u001b[0m \u001b[0maxis\u001b[0m \u001b[0;32min\u001b[0m \u001b[0mkaon_axes\u001b[0m\u001b[0;34m:\u001b[0m\u001b[0;34m\u001b[0m\u001b[0m\n\u001b[0;32m----> 5\u001b[0;31m     \u001b[0;32massert\u001b[0m\u001b[0;34m(\u001b[0m\u001b[0maxis\u001b[0m \u001b[0;32min\u001b[0m \u001b[0mpion_axes\u001b[0m\u001b[0;34m)\u001b[0m\u001b[0;34m\u001b[0m\u001b[0m\n\u001b[0m",
      "\u001b[0;31mAssertionError\u001b[0m: "
     ]
    }
   ],
   "source": [
    "for axis in pion_axes:\n",
    "    assert(axis in kaon_axes)\n",
    "    \n",
    "for axis in kaon_axes:\n",
    "    assert(axis in pion_axes)"
   ]
  },
  {
   "cell_type": "markdown",
   "metadata": {},
   "source": [
    "The datasets have the same axes."
   ]
  },
  {
   "cell_type": "code",
   "execution_count": 13,
   "metadata": {
    "collapsed": true
   },
   "outputs": [],
   "source": [
    "axes = pion_axes "
   ]
  },
  {
   "cell_type": "code",
   "execution_count": 14,
   "metadata": {
    "collapsed": true
   },
   "outputs": [],
   "source": [
    "add_quad = lambda x1, x2: np.sqrt(x1**2 + x2**2)\n",
    "\n",
    "def plot_compare(pion_df, kaon_df, axis_name, ax):\n",
    "    \n",
    "    xlims = {\n",
    "        'x' :[0.0, 0.7],\n",
    "        'q2':[0.5, 5.0],\n",
    "        'z' :[0.0, 1.1],\n",
    "        'pt':[0.0, 1.0]\n",
    "    }\n",
    "    \n",
    "    tex_labels = {\n",
    "        'x': '$x$',\n",
    "        'q2':'$Q^2 \\; [GeV^2/c^2]$',\n",
    "        'z': '$z_h$',\n",
    "        'pt':'$P_T \\; [GeV/c]$'\n",
    "    }\n",
    "    \n",
    "    ax.errorbar(pion_df[pion_df.axis == axis_name].axis_value, \n",
    "                    pion_df[pion_df.axis == axis_name].value,\n",
    "                    add_quad(pion_df[pion_df.axis == axis_name].stat, pion_df[pion_df.axis == axis_name].sys),\n",
    "                   linestyle='', marker='o', label='E1-F $\\pi^+$ (Gohn 2014)',\n",
    "               color='black')\n",
    "    ax.errorbar(kaon_df[kaon_df.axis == axis_name].axis_value, \n",
    "                    kaon_df[kaon_df.axis == axis_name].value,\n",
    "                    add_quad(kaon_df[kaon_df.axis == axis_name].stat, kaon_df[kaon_df.axis == axis_name].sys), \n",
    "                   linestyle='', marker='v', label='E1-F $K^+$',\n",
    "               color='red')\n",
    "    ax.set_ylim([-0.01, 0.08])\n",
    "    ax.set_xlim(xlims[axis_name])\n",
    "    ax.set_xlabel(tex_labels[axis_name])\n",
    "    ax.legend(frameon=False)\n",
    "    \n",
    "def plot_pions(pion_df, axis_name, ax):\n",
    "    \n",
    "    xlims = {\n",
    "        'x' :[0.0, 0.7],\n",
    "        'q2':[0.5, 5.0],\n",
    "        'z' :[0.0, 1.1],\n",
    "        'pt':[0.0, 1.0]\n",
    "    }\n",
    "    \n",
    "    tex_labels = {\n",
    "        'x': '$x$',\n",
    "        'q2':'$Q^2 \\; [GeV^2/c^2]$',\n",
    "        'z': '$z$',\n",
    "        'pt':'$P_T \\; [GeV/c]$'\n",
    "    }\n",
    "    \n",
    "    ax.errorbar(pion_df[pion_df.axis == axis_name].axis_value, \n",
    "                    pion_df[pion_df.axis == axis_name].value,\n",
    "                    add_quad(pion_df[pion_df.axis == axis_name].stat, pion_df[pion_df.axis == axis_name].sys),\n",
    "                   linestyle='', marker='o', label='E1-F $\\pi^+$ (Gohn 2014)',\n",
    "               color='black')\n",
    "    ax.axhline(0.0, color='black', linestyle='--', linewidth=1)\n",
    "    ax.set_ylim([-0.01, 0.08])\n",
    "    ax.set_xlim(xlims[axis_name])\n",
    "    ax.set_xlabel(tex_labels[axis_name])\n",
    "    ax.legend(frameon=False)"
   ]
  },
  {
   "cell_type": "code",
   "execution_count": 15,
   "metadata": {
    "scrolled": false
   },
   "outputs": [
    {
     "data": {
      "image/png": "[encoded data removed]",
      "text/plain": [
       "<Figure size 864x288 with 2 Axes>"
      ]
     },
     "metadata": {},
     "output_type": "display_data"
    }
   ],
   "source": [
    "fig, axs = plt.subplots(1, 2, figsize=(12,4), sharey=True)\n",
    "fig.subplots_adjust(wspace=0)\n",
    "plot_compare(pion_df, kaon_df, 'x', axs[0])\n",
    "plot_compare(pion_df, kaon_df, 'q2', axs[1])\n",
    "\n",
    "fig.savefig('../image/compare-pion-xq2.pdf', bbox_inches='tight')"
   ]
  },
  {
   "cell_type": "code",
   "execution_count": 16,
   "metadata": {},
   "outputs": [
    {
     "data": {
      "image/png": "[encoded data removed]",
      "text/plain": [
       "<Figure size 864x288 with 2 Axes>"
      ]
     },
     "metadata": {},
     "output_type": "display_data"
    }
   ],
   "source": [
    "fig, axs = plt.subplots(1, 2, figsize=(12,4), sharey=True)\n",
    "fig.subplots_adjust(wspace=0)\n",
    "plot_compare(pion_df, kaon_df, 'z', axs[0])\n",
    "plot_compare(pion_df, kaon_df, 'pt', axs[1])\n",
    "\n",
    "fig.savefig('../image/compare-pion-zpt.pdf', bbox_inches='tight')"
   ]
  },
  {
   "cell_type": "code",
   "execution_count": 17,
   "metadata": {},
   "outputs": [
    {
     "data": {
      "image/png": "[encoded data removed]",
      "text/plain": [
       "<Figure size 1296x432 with 4 Axes>"
      ]
     },
     "metadata": {},
     "output_type": "display_data"
    }
   ],
   "source": [
    "fig, axs = plt.subplots(1, 4, figsize=(18,6), sharey=True)\n",
    "fig.subplots_adjust(wspace=0)\n",
    "\n",
    "plot_pions(pion_df, 'x', axs[0])\n",
    "plot_pions(pion_df, 'q2', axs[1])\n",
    "plot_pions(pion_df, 'z', axs[2])\n",
    "plot_pions(pion_df, 'pt', axs[3])\n",
    "\n",
    "axs[0].set_ylabel('$A_{LU}^{\\sin\\phi}$')\n",
    "\n",
    "fig.savefig('../image/compare-pion-zpt.pdf', bbox_inches='tight')"
   ]
  },
  {
   "cell_type": "code",
   "execution_count": null,
   "metadata": {
    "collapsed": true
   },
   "outputs": [],
   "source": []
  },
  {
   "cell_type": "code",
   "execution_count": null,
   "metadata": {
    "collapsed": true
   },
   "outputs": [],
   "source": []
  }
 ],
 "metadata": {
  "kernelspec": {
   "display_name": "Python 2",
   "language": "python",
   "name": "python2"
  },
  "language_info": {
   "codemirror_mode": {
    "name": "ipython",
    "version": 2
   },
   "file_extension": ".py",
   "mimetype": "text/x-python",
   "name": "python",
   "nbconvert_exporter": "python",
   "pygments_lexer": "ipython2",
   "version": "2.7.13"
  }
 },
 "nbformat": 4,
 "nbformat_minor": 2
}
