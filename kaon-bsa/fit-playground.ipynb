{
 "cells": [
  {
   "cell_type": "markdown",
   "metadata": {},
   "source": [
    "# Fitting Playground \n",
    "Place to try things out."
   ]
  },
  {
   "cell_type": "code",
   "execution_count": 1,
   "metadata": {
    "collapsed": true
   },
   "outputs": [],
   "source": [
    "import numpy as np \n",
    "import pandas as pd\n",
    "import matplotlib.pyplot as plt\n",
    "import tqdm \n",
    "import vegas \n",
    "\n",
    "%matplotlib inline"
   ]
  },
  {
   "cell_type": "code",
   "execution_count": 2,
   "metadata": {
    "collapsed": true
   },
   "outputs": [],
   "source": [
    "plt.rc('font', family='serif')\n",
    "plt.rc('font', size=16)"
   ]
  },
  {
   "cell_type": "markdown",
   "metadata": {},
   "source": [
    "Define some constants."
   ]
  },
  {
   "cell_type": "code",
   "execution_count": 3,
   "metadata": {},
   "outputs": [],
   "source": [
    "TO_RADIANS = np.pi/180.0\n",
    "TO_DEGREES = 1/TO_RADIANS"
   ]
  },
  {
   "cell_type": "code",
   "execution_count": 4,
   "metadata": {
    "collapsed": true
   },
   "outputs": [],
   "source": [
    "dataset = pd.read_csv('https://userweb.jlab.org/~dmriser/lfs/phi-dist.csv')"
   ]
  },
  {
   "cell_type": "code",
   "execution_count": 5,
   "metadata": {
    "collapsed": true
   },
   "outputs": [],
   "source": [
    "AXIS     = 'z'\n",
    "AXIS_BIN = 5"
   ]
  },
  {
   "cell_type": "code",
   "execution_count": 6,
   "metadata": {
    "collapsed": true
   },
   "outputs": [],
   "source": [
    "data = dataset.query('axis == \"%s\" and axis_bin == %d' % (AXIS, AXIS_BIN))"
   ]
  },
  {
   "cell_type": "markdown",
   "metadata": {},
   "source": [
    "Look at the distribution that we are trying to fit."
   ]
  },
  {
   "cell_type": "code",
   "execution_count": 7,
   "metadata": {},
   "outputs": [
    {
     "data": {
      "text/plain": [
       "<matplotlib.lines.Line2D at 0x10de2d4d0>"
      ]
     },
     "execution_count": 7,
     "metadata": {},
     "output_type": "execute_result"
    },
    {
     "data": {
      "image/png": "[encoded data removed]",
      "text/plain": [
       "<matplotlib.figure.Figure at 0x10d5ce4d0>"
      ]
     },
     "metadata": {},
     "output_type": "display_data"
    }
   ],
   "source": [
    "plt.errorbar(x=data.phi, y=data.value, yerr=data.stat,\n",
    "            linestyle='', marker='.', color='black')\n",
    "plt.ylim([-0.06, 0.06])\n",
    "plt.xlabel('$\\phi$')\n",
    "plt.ylabel('BSA')\n",
    "plt.axhline(0.0, linestyle='--', color='black', alpha=0.15)"
   ]
  },
  {
   "cell_type": "code",
   "execution_count": 8,
   "metadata": {
    "collapsed": true
   },
   "outputs": [],
   "source": [
    "def physics_model(phi, a):\n",
    "    return a[0]*np.sin(phi*TO_RADIANS)/(1+a[1]*np.cos(phi*TO_RADIANS)+a[2]*np.cos(2*phi*TO_RADIANS))"
   ]
  },
  {
   "cell_type": "code",
   "execution_count": 9,
   "metadata": {
    "collapsed": true
   },
   "outputs": [],
   "source": [
    "def likelihood(data, theory, error):\n",
    "    return np.exp(-0.5*np.sum(((data-theory)/error)**2))"
   ]
  },
  {
   "cell_type": "code",
   "execution_count": 10,
   "metadata": {
    "collapsed": true
   },
   "outputs": [],
   "source": [
    "def integrand(phi, data, error, model, a):\n",
    "    theory = model(phi, a)\n",
    "    f = likelihood(data, theory, error)\n",
    "    return [f, f*a[0], f*a[1], f*a[2], \n",
    "            f*a[0]**2, f*a[1]**2, f*a[2]**2] "
   ]
  },
  {
   "cell_type": "code",
   "execution_count": null,
   "metadata": {
    "collapsed": true
   },
   "outputs": [],
   "source": [
    "def perform_vegas(integrand, bounds, phi, data, error, model, n_iter, n_eval):\n",
    "    vegas_integrator = vegas.Integrator(bounds)\n",
    "    \n",
    "    # burning some \n",
    "    vegas_integrator(lambda p: integrand(phi, data, error, model, p), \n",
    "                    nitn=4, \n",
    "                    neval=1000)\n",
    "    \n",
    "    result = vegas_integrator(lambda p: integrand(phi, data, error, model, p), \n",
    "                    nitn=n_iter, \n",
    "                    neval=n_eval)\n",
    "    \n",
    "    print(result.summary())\n",
    "    \n",
    "    results = {}\n",
    "    results['z'] = result[0].mean\n",
    "    results['Q'] = result.Q\n",
    "    results['exp_par1'] = result[1].mean/results['z']\n",
    "    results['exp_par2'] = result[2].mean/results['z']\n",
    "    results['exp_par3'] = result[3].mean/results['z']\n",
    "    results['var_par1'] = result[4].mean/results['z']-results['exp_par1']**2\n",
    "    results['var_par2'] = result[5].mean/results['z']-results['exp_par2']**2\n",
    "    results['var_par3'] = result[6].mean/results['z']-results['exp_par3']**2\n",
    "    return results"
   ]
  },
  {
   "cell_type": "code",
   "execution_count": null,
   "metadata": {},
   "outputs": [],
   "source": [
    "bounds = [[-1,1],[-1,1],[-1,1]]\n",
    "result = perform_vegas(integrand, bounds, data.phi, data.value, data.stat, physics_model, 12, 4000)"
   ]
  },
  {
   "cell_type": "code",
   "execution_count": null,
   "metadata": {},
   "outputs": [],
   "source": [
    "result"
   ]
  },
  {
   "cell_type": "code",
   "execution_count": null,
   "metadata": {},
   "outputs": [],
   "source": [
    "print('%.3f +/- %.3f' % (result['exp_par1'], np.sqrt(result['var_par1'])))"
   ]
  },
  {
   "cell_type": "code",
   "execution_count": null,
   "metadata": {},
   "outputs": [],
   "source": [
    "print('%.3f +/- %.3f' % (result['exp_par2'], np.sqrt(result['var_par2'])))"
   ]
  },
  {
   "cell_type": "code",
   "execution_count": null,
   "metadata": {},
   "outputs": [],
   "source": [
    "print('%.3f +/- %.3f' % (result['exp_par3'], np.sqrt(result['var_par3'])))"
   ]
  },
  {
   "cell_type": "code",
   "execution_count": null,
   "metadata": {
    "collapsed": true
   },
   "outputs": [],
   "source": []
  }
 ],
 "metadata": {
  "kernelspec": {
   "display_name": "Python 2",
   "language": "python",
   "name": "python2"
  },
  "language_info": {
   "codemirror_mode": {
    "name": "ipython",
    "version": 2
   },
   "file_extension": ".py",
   "mimetype": "text/x-python",
   "name": "python",
   "nbconvert_exporter": "python",
   "pygments_lexer": "ipython2",
   "version": "2.7.13"
  }
 },
 "nbformat": 4,
 "nbformat_minor": 2
}
